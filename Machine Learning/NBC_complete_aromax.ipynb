{
  "cells": [
    {
      "cell_type": "markdown",
      "metadata": {
        "id": "DGPXQvvMlIGD"
      },
      "source": [
        "# Naive Bayes alogorithm\n",
        "\n",
        "1.  this model is a classifier \n",
        "\n",
        "**P(output|input)∝ P(input|output)p(output)**"
      ]
    },
    {
      "cell_type": "code",
      "execution_count": 2,
      "metadata": {
        "id": "byG949Ho0HZ4"
      },
      "outputs": [],
      "source": [
        "from sklearn.naive_bayes import GaussianNB, CategoricalNB"
      ]
    },
    {
      "cell_type": "markdown",
      "metadata": {
        "id": "ejs27-g5dVQv"
      },
      "source": [
        "#Example 1:\n",
        "\n",
        "Use **winequality-red** dataset, apply logistic regression to predict **quality** variable. to do so,\n",
        "\n",
        "\n",
        "4. model evaluation: split the dataset into 70/30%\n",
        "evaluate the model using accurary. \n",
        "\n",
        "5. model validation : validate the result using MC sampling with mc=100 runs. \n",
        "\n",
        "6. deploy the model for the last row in the dataset. "
      ]
    },
    {
      "cell_type": "code",
      "execution_count": 2,
      "metadata": {
        "id": "haGoOsppdU-h"
      },
      "outputs": [],
      "source": [
        "from sklearn.linear_model import LogisticRegression\n",
        "from pandas import read_csv, DataFrame\n",
        "from sklearn.model_selection import train_test_split\n",
        "from sklearn.metrics import accuracy_score, recall_score, confusion_matrix"
      ]
    },
    {
      "attachments": {},
      "cell_type": "markdown",
      "metadata": {},
      "source": [
        "# Data Preparation"
      ]
    },
    {
      "cell_type": "code",
      "execution_count": 5,
      "metadata": {
        "id": "Dc_JcrEshNyK"
      },
      "outputs": [],
      "source": [
        "data = read_csv('dataset/winequality-red.csv')\n",
        "data.head()\n",
        "y = data['quality']  # Output\n",
        "X = data.drop('quality', axis=1)  # Inputs"
      ]
    },
    {
      "cell_type": "code",
      "execution_count": 1,
      "metadata": {
        "colab": {
          "base_uri": "https://localhost:8080/",
          "height": 173
        },
        "id": "eLQIdlQoZK3v",
        "outputId": "a3a87c03-4082-4cb4-e1da-5bc271d4578e"
      },
      "outputs": [
        {
          "ename": "NameError",
          "evalue": "name 'y' is not defined",
          "output_type": "error",
          "traceback": [
            "\u001b[1;31m---------------------------------------------------------------------------\u001b[0m",
            "\u001b[1;31mNameError\u001b[0m                                 Traceback (most recent call last)",
            "Cell \u001b[1;32mIn[1], line 1\u001b[0m\n\u001b[1;32m----> 1\u001b[0m y\u001b[39m.\u001b[39munique()\n\u001b[0;32m      2\u001b[0m X\u001b[39m.\u001b[39mshape  \u001b[39m# row - col\u001b[39;00m\n\u001b[0;32m      3\u001b[0m y\u001b[39m.\u001b[39mshape\n",
            "\u001b[1;31mNameError\u001b[0m: name 'y' is not defined"
          ]
        }
      ],
      "source": [
        "y.unique()\n",
        "X.shape  # row - col\n",
        "y.shape\n",
        "len(y)\n",
        "X.head(2)\n"
      ]
    },
    {
      "cell_type": "code",
      "execution_count": null,
      "metadata": {
        "id": "R2vRWZjciQhk"
      },
      "outputs": [],
      "source": [
        "import warnings\n",
        "warnings.filterwarnings('ignore')"
      ]
    },
    {
      "cell_type": "code",
      "execution_count": 4,
      "metadata": {
        "id": "cOcqdxM9aPTF"
      },
      "outputs": [
        {
          "data": {
            "text/plain": [
              "array([[ 1.21356585e-01,  2.44370309e+00, -2.06631721e-01,\n",
              "         1.21314473e-01,  3.53883784e-01,  6.05187173e-02,\n",
              "        -5.81273301e-02,  2.79817840e-02,  8.05886413e-01,\n",
              "        -4.43025274e-01, -8.79801484e-01],\n",
              "       [-1.60594354e-01,  2.19674061e+00, -8.89145185e-02,\n",
              "         1.14301212e-01,  1.82888557e-01, -4.57042477e-02,\n",
              "         1.30563837e-02, -2.29873844e-02,  6.95302338e-01,\n",
              "        -8.91200751e-01, -4.27239731e-01],\n",
              "       [-8.78876055e-02,  6.22556233e-01,  2.46624372e-01,\n",
              "        -7.94735814e-02,  7.80749064e-01, -2.14594113e-02,\n",
              "         2.84660221e-02,  1.36511346e-02, -1.91093237e-01,\n",
              "        -1.73655443e+00, -7.87831204e-01],\n",
              "       [ 9.10993811e-03, -1.52011526e+00, -6.79442326e-01,\n",
              "        -5.31530150e-02, -9.21280392e-02,  9.98375989e-04,\n",
              "         1.19075878e-02,  3.09154474e-02, -1.21220048e-01,\n",
              "         3.69570361e-02,  3.57795746e-02],\n",
              "       [ 7.35598383e-02, -3.11506633e+00,  1.50323144e-02,\n",
              "         5.43849716e-02, -1.02676417e+00,  3.97652666e-03,\n",
              "         3.41260805e-03, -4.65485769e-02, -2.81338620e-01,\n",
              "         1.85485068e+00,  7.56173626e-01],\n",
              "       [ 4.44555976e-02, -6.27818337e-01,  7.13331879e-01,\n",
              "        -1.57374060e-01, -1.98629197e-01,  1.67003911e-03,\n",
              "         1.28472846e-03, -3.01240468e-03, -9.07536846e-01,\n",
              "         1.17897274e+00,  1.30291922e+00]])"
            ]
          },
          "execution_count": 4,
          "metadata": {},
          "output_type": "execute_result"
        }
      ],
      "source": [
        "# data modelling for parameter estimation\n",
        "model1 = LogisticRegression(max_iter=10000)\n",
        "m1 = model1.fit(X, y)\n",
        "model1.coef_\n"
      ]
    },
    {
      "cell_type": "code",
      "execution_count": null,
      "metadata": {
        "id": "4cs7ULGAb55p"
      },
      "outputs": [],
      "source": [
        "# naive Bayes model : only for classification \n",
        "from sklearn.naive_bayes import GaussianNB, CategoricalNB\n",
        "#GaussianNB: if we have at least one continuous input varible otherwise categorical NB \n",
        "gnb=GaussianNB()\n"
      ]
    },
    {
      "cell_type": "code",
      "execution_count": null,
      "metadata": {
        "colab": {
          "base_uri": "https://localhost:8080/"
        },
        "id": "scGwgYumib5c",
        "outputId": "add06ce9-9eb4-4d68-e053-9db5b75f5d1c"
      },
      "outputs": [
        {
          "data": {
            "text/plain": [
              "[0.5645833333333333, 0.5895833333333333]"
            ]
          },
          "execution_count": 27,
          "metadata": {},
          "output_type": "execute_result"
        }
      ],
      "source": [
        "\n",
        "###########################################################################################\n",
        "# 4. model evaluation \n",
        "X_train, X_test,y_train,y_test=train_test_split(X,y,test_size=0.3)\n",
        "m1=model1.fit(X_train,y_train) \n",
        "pred1=model1.predict(X_test)\n",
        "# accuracy\n",
        "acc1=accuracy_score(pred1,y_test) # for logistic regression \n",
        "\n",
        "# Naive bayes algorithm\n",
        "m2=gnb.fit(X_train,y_train) \n",
        "pred2=gnb.predict(X_test)\n",
        "# accuracy\n",
        "acc2=accuracy_score(pred2,y_test) # for Naive Bayes \n",
        "[acc1,acc2]"
      ]
    },
    {
      "cell_type": "code",
      "execution_count": null,
      "metadata": {
        "colab": {
          "base_uri": "https://localhost:8080/"
        },
        "id": "r11RfJiKmepq",
        "outputId": "266adaee-a5ac-4db6-fb69-3a6b61f65fe4"
      },
      "outputs": [
        {
          "data": {
            "text/plain": [
              "[0.576, 0.5415625]"
            ]
          },
          "execution_count": 29,
          "metadata": {},
          "output_type": "execute_result"
        }
      ],
      "source": [
        "#5 model validation using mc runs\n",
        "from statistics import mean\n",
        "acc_log=[]\n",
        "acc_gnb=[]\n",
        "for i in range(100):\n",
        "  X_train, X_test,y_train,y_test=train_test_split(X,y,test_size=0.3, random_state=i)\n",
        "  m=model1.fit(X_train,y_train) \n",
        "  pred1=model1.predict(X_test)\n",
        "  # accuracy\n",
        "  a1=accuracy_score(pred1,y_test)\n",
        "  acc_log.append(a1)\n",
        "  #NB algoritm\n",
        "  m2=gnb.fit(X_train,y_train) \n",
        "  pred2=gnb.predict(X_test)\n",
        "  # accuracy\n",
        "  a2=accuracy_score(pred2,y_test)\n",
        "  acc_gnb.append(a2)\n",
        "\n",
        "valid_acc=[mean(acc_log),mean(acc_gnb)]\n",
        "valid_acc"
      ]
    },
    {
      "cell_type": "code",
      "execution_count": null,
      "metadata": {
        "colab": {
          "base_uri": "https://localhost:8080/"
        },
        "id": "Ndkr3zVPn544",
        "outputId": "3f88c218-2f7a-4986-82d2-906e7d2d09ae"
      },
      "outputs": [
        {
          "data": {
            "text/plain": [
              "array([6])"
            ]
          },
          "execution_count": 32,
          "metadata": {},
          "output_type": "execute_result"
        }
      ],
      "source": [
        "#6 deploy the model \n",
        "m=model1.fit(X,y)\n",
        "X_new=X.tail(1)\n",
        "m.predict(X_new)\n"
      ]
    },
    {
      "cell_type": "markdown",
      "metadata": {
        "id": "GzCquK8bryhO"
      },
      "source": [
        "#Example 2:\n",
        "Use **iris** dataset, \n",
        "1. Fit the logistic regression classifiers to predict **Species** of the flowers. \n",
        "\n",
        "2. Evaluate the accuracy of the model in 100 mc runs. use 80% as the trainset and 20% testset. \n",
        "\n",
        "3. Recommend the type of flower for the following sample: X=[4,1,2,3]."
      ]
    },
    {
      "cell_type": "code",
      "execution_count": null,
      "metadata": {
        "colab": {
          "base_uri": "https://localhost:8080/"
        },
        "id": "ixfwd4XAsjKR",
        "outputId": "2c3441d2-3c9d-4f1a-e808-2f825e801c0c"
      },
      "outputs": [
        {
          "data": {
            "text/plain": [
              "Counter({'Iris-setosa': 50, 'Iris-versicolor': 50, 'Iris-virginica': 50})"
            ]
          },
          "execution_count": 4,
          "metadata": {},
          "output_type": "execute_result"
        }
      ],
      "source": [
        "# data prepration \n",
        "from pandas import read_csv\n",
        "data2=read_csv('Iris.csv')\n",
        "data2.head()\n",
        "y=data2['Species']\n",
        "X=data2.drop('Species',axis=1)\n",
        "from collections import Counter\n",
        "Counter(y)\n"
      ]
    },
    {
      "cell_type": "code",
      "execution_count": null,
      "metadata": {
        "colab": {
          "base_uri": "https://localhost:8080/"
        },
        "id": "LHFBuEHjsD7h",
        "outputId": "760101ff-eb39-4fab-fa21-bcae9d0cf80f"
      },
      "outputs": [
        {
          "data": {
            "text/plain": [
              "0.96"
            ]
          },
          "execution_count": 34,
          "metadata": {},
          "output_type": "execute_result"
        }
      ],
      "source": [
        "# data modelling \n",
        "model1=LogisticRegression()\n",
        " \n",
        "\n",
        " \n",
        "acc=[]\n",
        "for i in range(10):\n",
        "  X_train, X_test,y_train,y_test=train_test_split(X,y,test_size=0.2, random_state=i)\n",
        "  m2=model1.fit(X_train,y_train) \n",
        "  pred=model1.predict(X_test)\n",
        "  # accuracy\n",
        "  a=accuracy_score(pred,y_test)\n",
        "  acc.append(a)\n",
        "valid_acc=mean(acc)\n",
        "valid_acc "
      ]
    },
    {
      "cell_type": "code",
      "execution_count": null,
      "metadata": {
        "colab": {
          "base_uri": "https://localhost:8080/"
        },
        "id": "dvpl-ZBOvMUN",
        "outputId": "782b5732-2628-4c63-c902-4ec13c0fdb5e"
      },
      "outputs": [
        {
          "data": {
            "text/plain": [
              "array(['Iris-setosa'], dtype=object)"
            ]
          },
          "execution_count": 43,
          "metadata": {},
          "output_type": "execute_result"
        }
      ],
      "source": [
        "#Recommend the type of flower for the following sample: X=[4,1,2,3].\n",
        "m=model1.fit(X,y)\n",
        "input=[[4,1,2,3]]\n",
        "m.predict(input)"
      ]
    },
    {
      "cell_type": "markdown",
      "metadata": {
        "id": "ooMDLkLH9a9h"
      },
      "source": [
        "#Example 3:\n",
        "Use iris dataset,\n",
        "\n",
        " \n",
        "\n",
        "1.  Fit the Naive Bayes classifier  and evaluate the accuracy of the model in 100 mc runs. use 80% as the trainset and 20% testset.\n",
        "\n",
        "2.  Recommend the type of flower for the following sample: X=[4,1,2,3]."
      ]
    },
    {
      "cell_type": "code",
      "execution_count": null,
      "metadata": {
        "id": "_pr-kEGgiopM"
      },
      "outputs": [],
      "source": [
        "data2.head()\n",
        "from sklearn.model_selection import train_test_split\n",
        "from sklearn.metrics import accuracy_score, recall_score, confusion_matrix\n",
        "from statistics import mean, stdev"
      ]
    },
    {
      "cell_type": "code",
      "execution_count": null,
      "metadata": {
        "colab": {
          "base_uri": "https://localhost:8080/"
        },
        "id": "68MJq4Eq9eTX",
        "outputId": "10aa18f8-62cd-4a2d-c463-20c27e9b3345"
      },
      "outputs": [
        {
          "data": {
            "text/plain": [
              "0.9538666666666666"
            ]
          },
          "execution_count": 25,
          "metadata": {},
          "output_type": "execute_result"
        }
      ],
      "source": [
        "#1\n",
        "from sklearn.naive_bayes import GaussianNB\n",
        "gnb=GaussianNB()\n",
        "#evaluation\n",
        " \n",
        "acc=[]\n",
        "for i in range(1000):\n",
        "  X_train, X_test,y_train,y_test=train_test_split(X,y,test_size=0.2, random_state=i)\n",
        "  m3=gnb.fit(X_train,y_train) \n",
        "  pred=gnb.predict(X_test)\n",
        "  # accuracy\n",
        "  a=accuracy_score(pred,y_test)\n",
        "  acc.append(a)\n",
        "valid_acc=mean(acc)\n",
        "valid_acc "
      ]
    },
    {
      "cell_type": "markdown",
      "metadata": {
        "id": "l5R8B3ZuqBUs"
      },
      "source": [
        "# 3-fold cross-validtion \n",
        "validate the accuracy of GNB using 3 fold cross validation technique. "
      ]
    },
    {
      "cell_type": "code",
      "execution_count": null,
      "metadata": {
        "colab": {
          "base_uri": "https://localhost:8080/"
        },
        "id": "9NG1VXUHqP-C",
        "outputId": "0087399d-8a8c-4509-887b-925ca20299f0"
      },
      "outputs": [
        {
          "data": {
            "text/plain": [
              "0.9533333333333334"
            ]
          },
          "execution_count": 24,
          "metadata": {},
          "output_type": "execute_result"
        }
      ],
      "source": [
        "from sklearn.model_selection import cross_val_score\n",
        "cv=cross_val_score(gnb,X,y,cv=50)\n",
        "mean(cv)"
      ]
    },
    {
      "cell_type": "code",
      "execution_count": null,
      "metadata": {
        "id": "NaKriFzqtHH1"
      },
      "outputs": [],
      "source": [
        "import warnings\n",
        "warnings.filterwarnings('ignore')"
      ]
    },
    {
      "cell_type": "code",
      "execution_count": null,
      "metadata": {
        "colab": {
          "base_uri": "https://localhost:8080/"
        },
        "id": "kl75Unrc-U_d",
        "outputId": "1b8ca5d7-f035-433d-d7c2-c4ed93bf42e6"
      },
      "outputs": [
        {
          "data": {
            "text/plain": [
              "array(['Iris-virginica'], dtype='<U15')"
            ]
          },
          "execution_count": 30,
          "metadata": {},
          "output_type": "execute_result"
        }
      ],
      "source": [
        "#Recommend the type of flower for the following sample: X=[4,1,2,3].\n",
        "m=gnb.fit(X,y)\n",
        "input=[[4,1,2,3]]\n",
        "m.predict(input)"
      ]
    },
    {
      "cell_type": "markdown",
      "metadata": {
        "id": "L5vZi_0i-s0h"
      },
      "source": [
        "# Comparative analysis\n",
        "Gaussian Naive Bayes versus Logistic regression\n",
        "\n",
        "which model is outpeforming? "
      ]
    },
    {
      "cell_type": "code",
      "execution_count": null,
      "metadata": {
        "colab": {
          "base_uri": "https://localhost:8080/"
        },
        "id": "bY3y_HTI_A8C",
        "outputId": "15b3eb08-a937-4067-c92b-9d06dd318989"
      },
      "outputs": [
        {
          "data": {
            "text/plain": [
              "[0.9536666666666667, 0.964]"
            ]
          },
          "execution_count": 48,
          "metadata": {},
          "output_type": "execute_result"
        }
      ],
      "source": [
        " \n",
        "gnb=GaussianNB()\n",
        "#evaluation\n",
        " \n",
        "acc_gnb=[]\n",
        "acc_lr=[]\n",
        "for i in range(100):\n",
        "  X_train, X_test,y_train,y_test=train_test_split(X,y,test_size=0.2, random_state=i)\n",
        "  m3=gnb.fit(X_train,y_train) \n",
        "  pred_gnb=gnb.predict(X_test)\n",
        "  # accuracy\n",
        "  a_gnb=accuracy_score(pred_gnb,y_test)\n",
        "  acc_gnb.append(a_gnb)\n",
        "\n",
        "  # logistic regression\n",
        "  lr=LogisticRegression()\n",
        "  m4=lr.fit(X_train,y_train) \n",
        "  pred_lr=lr.predict(X_test)\n",
        "  # accuracy\n",
        "  a_lr=accuracy_score(pred_lr,y_test)\n",
        "  acc_lr.append(a_lr)\n",
        "\n",
        "\n",
        "\n",
        "valid_acc_gnb=mean(acc_gnb)\n",
        "valid_acc_lr=mean(acc_lr) \n",
        "[valid_acc_gnb,valid_acc_lr]"
      ]
    },
    {
      "cell_type": "markdown",
      "metadata": {
        "id": "8pVvTcQoTLMf"
      },
      "source": [
        "#Example\n",
        "\n",
        "Use **winequality-red** dataset, apply NB classifier to predict **quality** variable. to do so, \n",
        "\n",
        "1. split the dataset into 70/30%\n",
        "\n",
        "2. evaluate the model using **accurary** and **recall**.\n",
        "\n",
        "3. validate the result using MC sampling with mc=100. \n",
        "\n",
        "4. predict the quality for a give set of input variables. \n",
        "\n",
        "5. redo the classification task using logistic regression and compare the result versus Naive Bayes classifier in 100 MC runs. Specify the best classifier\n"
      ]
    },
    {
      "cell_type": "code",
      "execution_count": null,
      "metadata": {
        "id": "CpalgmPqTOdv"
      },
      "outputs": [],
      "source": [
        "import pandas as pd\n",
        "from pandas import read_csv\n",
        "dataset=pd.read_csv('winequality-red.csv')\n",
        "\n",
        "dataset.head()\n",
        "#dataset['quality'].value_counts()\n"
      ]
    },
    {
      "cell_type": "code",
      "execution_count": null,
      "metadata": {
        "id": "qNUx6Hfoxri1"
      },
      "outputs": [],
      "source": [
        "# In supervised learning we need to specify the input and output variables\n",
        "X=dataset.drop('quality',axis=1) # input variables\n",
        "y=dataset['quality']  #output variable\n",
        "y.value_counts()\n",
        " "
      ]
    },
    {
      "cell_type": "code",
      "execution_count": null,
      "metadata": {
        "colab": {
          "base_uri": "https://localhost:8080/"
        },
        "id": "UQ_X9j4qtfQt",
        "outputId": "beca9db7-ce53-41b0-cf14-b31d1d1f32a3"
      },
      "outputs": [
        {
          "data": {
            "text/plain": [
              "RandomForestClassifier()"
            ]
          },
          "execution_count": 3,
          "metadata": {},
          "output_type": "execute_result"
        }
      ],
      "source": [
        "from sklearn.ensemble import RandomForestClassifier\n",
        "rf=RandomForestClassifier\n"
      ]
    },
    {
      "cell_type": "markdown",
      "metadata": {
        "id": "mE22XveV5lfM"
      },
      "source": [
        "(1599, 12)=(#of rows, #of columns)"
      ]
    },
    {
      "cell_type": "markdown",
      "metadata": {
        "id": "k7a3W9oO3Smx"
      },
      "source": []
    },
    {
      "cell_type": "code",
      "execution_count": null,
      "metadata": {
        "id": "Dyu3xXrQT7cg"
      },
      "outputs": [],
      "source": [
        "from sklearn.model_selection import train_test_split\n",
        "\n",
        "# Split dataset into training set and test set\n",
        "X_train, X_test, y_train, y_test = train_test_split(X,y, test_size=0.3,random_state=1) # 70% training and 30% test"
      ]
    },
    {
      "cell_type": "code",
      "execution_count": null,
      "metadata": {
        "colab": {
          "base_uri": "https://localhost:8080/"
        },
        "id": "lRPNI0EhUNky",
        "outputId": "b3f6a82e-848c-4652-dbb8-d7685b4b37fc"
      },
      "outputs": [
        {
          "data": {
            "text/plain": [
              "[0.5416666666666666, 0.5416666666666666]"
            ]
          },
          "execution_count": 10,
          "metadata": {},
          "output_type": "execute_result"
        }
      ],
      "source": [
        "#Import Gaussian Naive Bayes model\n",
        "from sklearn.naive_bayes import  GaussianNB\n",
        " \n",
        "gnb = GaussianNB()\n",
        "\n",
        "#Train the model using the training sets\n",
        "gnb.fit(X_train, y_train)\n",
        "\n",
        "#Predict the response for test dataset\n",
        "y_pred = gnb.predict(X_test)\n",
        "#Import scikit-learn metrics module for accuracy calculation\n",
        "from sklearn.metrics import confusion_matrix, classification_report, accuracy_score, recall_score\n",
        "actual=y_test\n",
        "prediction=y_pred\n",
        " \n",
        "acc=accuracy_score(actual,prediction) \n",
        "re=recall_score(actual,prediction, average='micro')\n",
        "[acc,re]"
      ]
    },
    {
      "cell_type": "markdown",
      "metadata": {
        "id": "k0MWyEnKNkcd"
      },
      "source": []
    },
    {
      "cell_type": "code",
      "execution_count": null,
      "metadata": {
        "id": "NWizEdxSHfuj"
      },
      "outputs": [],
      "source": []
    },
    {
      "cell_type": "markdown",
      "metadata": {
        "id": "5scgqUwUGdUe"
      },
      "source": [
        "# model validation \n",
        "\n",
        "1. Monte Carlo sampling \n",
        "\n",
        "2. Cross validation technique "
      ]
    },
    {
      "cell_type": "code",
      "execution_count": null,
      "metadata": {
        "colab": {
          "base_uri": "https://localhost:8080/"
        },
        "id": "bLC-mfiwFzli",
        "outputId": "1192f0dc-e65c-47f9-db11-be94c458a1ae"
      },
      "outputs": [
        {
          "data": {
            "text/plain": [
              "0.5416833333333334"
            ]
          },
          "execution_count": 18,
          "metadata": {},
          "output_type": "execute_result"
        }
      ],
      "source": [
        "# model validation using Monte Calro sampling \n",
        "acc=[]\n",
        "for r in range(1000):\n",
        "  X_train, X_test, y_train, y_test = train_test_split(X,y, test_size=0.3)\n",
        "\n",
        "  gnb = GaussianNB()\n",
        "  #Train the model using the training sets\n",
        "  gnb.fit(X_train, y_train)\n",
        "\n",
        "  #Predict the response for test dataset\n",
        "  y_pred = gnb.predict(X_test)\n",
        "  #Import scikit-learn metrics module for accuracy calculation\n",
        "  from sklearn.metrics import confusion_matrix, classification_report, accuracy_score, recall_score\n",
        "  actual=y_test\n",
        "  prediction=y_pred\n",
        "  \n",
        "  accuracy=accuracy_score(actual,prediction) \n",
        "  acc.append(accuracy)\n",
        "from numpy import mean\n",
        "mean(acc)"
      ]
    },
    {
      "cell_type": "code",
      "execution_count": null,
      "metadata": {
        "colab": {
          "base_uri": "https://localhost:8080/"
        },
        "id": "-DpnnH7ZWa2E",
        "outputId": "dcd1958d-b6b5-4e2b-b2ad-3bb768350f43"
      },
      "outputs": [
        {
          "data": {
            "text/plain": [
              "(1599, 11)"
            ]
          },
          "execution_count": 19,
          "metadata": {},
          "output_type": "execute_result"
        }
      ],
      "source": [
        "X.shape"
      ]
    },
    {
      "cell_type": "code",
      "execution_count": null,
      "metadata": {
        "colab": {
          "base_uri": "https://localhost:8080/"
        },
        "id": "eTXQxIZhLl3Y",
        "outputId": "56aa6705-49a2-4e51-e9f4-617d0de05d88"
      },
      "outputs": [
        {
          "data": {
            "text/plain": [
              "0.5278293178973718"
            ]
          },
          "execution_count": 20,
          "metadata": {},
          "output_type": "execute_result"
        }
      ],
      "source": [
        "# model validation based on cross validation score \n",
        "from sklearn.model_selection import cross_val_score\n",
        "gnb = GaussianNB() \n",
        "scores = cross_val_score(gnb, X, y, cv=2)\n",
        "mean(scores)"
      ]
    },
    {
      "cell_type": "markdown",
      "metadata": {
        "id": "GsuLoMctXQ37"
      },
      "source": [
        "how many samples we have for the test set if cv=2. "
      ]
    },
    {
      "cell_type": "markdown",
      "metadata": {
        "id": "3qFyAiWHNmkS"
      },
      "source": [
        "# prediction: for the last sample in the dataset"
      ]
    },
    {
      "cell_type": "code",
      "execution_count": null,
      "metadata": {
        "colab": {
          "base_uri": "https://localhost:8080/"
        },
        "id": "lpSdqpCVNtms",
        "outputId": "ca27c8d7-fcb1-43dc-878c-9abaf7cdad34"
      },
      "outputs": [
        {
          "data": {
            "text/plain": [
              "array([6])"
            ]
          },
          "execution_count": 68,
          "metadata": {},
          "output_type": "execute_result"
        }
      ],
      "source": [
        "X_input=X.tail(1)\n",
        "gnb.fit(X,y)\n",
        "gnb.predict(X_input)"
      ]
    },
    {
      "cell_type": "markdown",
      "metadata": {
        "id": "a_7taqnJOtUL"
      },
      "source": [
        "# classification using logistic regression "
      ]
    },
    {
      "cell_type": "code",
      "execution_count": null,
      "metadata": {
        "id": "V1AnyebxPeXN"
      },
      "outputs": [],
      "source": [
        "import warnings\n",
        "warnings.simplefilter(\"ignore\")"
      ]
    },
    {
      "cell_type": "code",
      "execution_count": null,
      "metadata": {
        "colab": {
          "base_uri": "https://localhost:8080/"
        },
        "id": "Ce64ilUoOsxg",
        "outputId": "23fca3f0-f63f-4069-e786-a06dd5741410"
      },
      "outputs": [
        {
          "data": {
            "text/plain": [
              "0.5854166666666667"
            ]
          },
          "execution_count": 22,
          "metadata": {},
          "output_type": "execute_result"
        }
      ],
      "source": [
        "#Import logisitic regression model\n",
        "from sklearn.linear_model import  LogisticRegression \n",
        " \n",
        "LR = LogisticRegression()\n",
        "\n",
        "#Train the model using the training sets\n",
        "LR.fit(X_train, y_train)\n",
        "\n",
        "#Predict the response for test dataset\n",
        "y_pred_lr = LR.predict(X_test)\n",
        "#Import scikit-learn metrics module for accuracy calculation\n",
        "from sklearn.metrics import confusion_matrix, classification_report, accuracy_score, recall_score\n",
        "actual=y_test\n",
        "prediction=y_pred_lr\n",
        "confusion_matrix(actual,prediction)\n",
        "accuracy_score(actual,prediction) \n",
        " "
      ]
    },
    {
      "cell_type": "code",
      "execution_count": null,
      "metadata": {
        "colab": {
          "base_uri": "https://localhost:8080/"
        },
        "id": "SlczN9uSZM7w",
        "outputId": "4da5b944-ad06-432d-c97d-405672cdc090"
      },
      "outputs": [
        {
          "data": {
            "text/plain": [
              "[0.3484166666666667, 0.4159374999999999]"
            ]
          },
          "execution_count": 25,
          "metadata": {},
          "output_type": "execute_result"
        }
      ],
      "source": [
        "# model validation using Monte Calro sampling \n",
        "acc_gnb=[]\n",
        "acc_lr=[]\n",
        "for r in range(100):\n",
        "  X_train, X_test, y_train, y_test = train_test_split(X,y, test_size=0.3)\n",
        "\n",
        "  gnb = GaussianNB()\n",
        "  LR = LogisticRegression()\n",
        "  #Train the model using the training sets\n",
        "  gnb.fit(X_train, y_train)\n",
        "  LR.fit(X_train, y_train)\n",
        "\n",
        "  #Predict the response for test dataset\n",
        "  y_predgnb = gnb.predict(X_test)\n",
        "  y_predlr = LR.predict(X_test)\n",
        "  #Import scikit-learn metrics module for accuracy calculation\n",
        "  from sklearn.metrics import confusion_matrix, classification_report, accuracy_score, recall_score\n",
        "    \n",
        "  accuracy_gnb=accuracy_score(actual,y_predgnb) \n",
        "  accuracy_lr=accuracy_score(actual,y_predlr) \n",
        "  acc_gnb.append(accuracy_gnb)\n",
        "  acc_lr.append(accuracy_lr)\n",
        " \n",
        "[mean(acc_gnb),mean(acc_lr)]\n"
      ]
    },
    {
      "cell_type": "code",
      "execution_count": null,
      "metadata": {
        "id": "Uc056CakVnX6"
      },
      "outputs": [],
      "source": [
        "y_test.unique()\n",
        "y_test.value_counts()"
      ]
    },
    {
      "cell_type": "code",
      "execution_count": null,
      "metadata": {
        "id": "eN4B1pTdp46c"
      },
      "outputs": [],
      "source": [
        "#Import scikit-learn metrics module for accuracy calculation\n",
        "from sklearn.metrics import confusion_matrix, classification_report\n",
        "\n",
        "# Model Accuracy, how often is the classifier correct?\n",
        "print(y.unique())\n",
        "cm=confusion_matrix(y_test, y_pred) \n",
        "print(cm)\n",
        "classification_report(y_test, y_pred) \n"
      ]
    },
    {
      "cell_type": "code",
      "execution_count": null,
      "metadata": {
        "colab": {
          "base_uri": "https://localhost:8080/"
        },
        "id": "8d1VOJbCUbAB",
        "outputId": "82790930-4580-4b38-a1f2-625c0522fbc4"
      },
      "outputs": [
        {
          "name": "stdout",
          "output_type": "stream",
          "text": [
            "Accuracy: 0.5625\n"
          ]
        }
      ],
      "source": [
        "#Import scikit-learn metrics module for accuracy calculation\n",
        "from sklearn.metrics import accuracy_score, recall_score\n",
        "\n",
        "# Model Accuracy, how often is the classifier correct?\n",
        "print(\"Accuracy:\",accuracy_score(y_test, y_pred))\n",
        "# we will use recall metric to check whether data is balanced\n",
        "#print(\"Recall:\",recall_score(y_test, y_pred, average='weighted'))\n",
        " "
      ]
    },
    {
      "cell_type": "markdown",
      "metadata": {
        "id": "FLUI2QaE2iHx"
      },
      "source": [
        "# if you model the data using multinomail distribution, how to make prediction and what is the accuracy of the model. compare NB classifier vs multinomial distribution. \n",
        "\n"
      ]
    },
    {
      "cell_type": "code",
      "execution_count": null,
      "metadata": {
        "colab": {
          "base_uri": "https://localhost:8080/"
        },
        "id": "yJrkyGqW4jBt",
        "outputId": "b3f47699-1741-4a7a-d772-9a1dccae08c3"
      },
      "outputs": [
        {
          "data": {
            "text/plain": [
              "0.42083333333333334"
            ]
          },
          "execution_count": 23,
          "metadata": {},
          "output_type": "execute_result"
        }
      ],
      "source": [
        "from statistics import mode\n",
        "pred=mode(y_train) \n",
        "y_test.value_counts()\n",
        "acc=202/len(y_test)\n",
        "acc"
      ]
    },
    {
      "cell_type": "code",
      "execution_count": null,
      "metadata": {
        "colab": {
          "base_uri": "https://localhost:8080/"
        },
        "id": "ueCmWyuy57EK",
        "outputId": "7de15559-b9cb-4de0-ce66-607f20ab1ef4"
      },
      "outputs": [
        {
          "name": "stdout",
          "output_type": "stream",
          "text": [
            "Accuracy: 0.55\n"
          ]
        }
      ],
      "source": [
        "X_train, X_test, y_train, y_test = train_test_split(X,y, test_size=0.3)\n",
        "gnb = GaussianNB()\n",
        " \n",
        "gnb.fit(X_train, y_train)\n",
        " \n",
        "y_pred = gnb.predict(X_test)\n",
        "print(\"Accuracy:\",accuracy_score(y_test, y_pred)) "
      ]
    },
    {
      "cell_type": "markdown",
      "metadata": {
        "id": "V__WoJtpQfUI"
      },
      "source": [
        "# the solution for the second part is as follows:"
      ]
    },
    {
      "cell_type": "code",
      "execution_count": null,
      "metadata": {
        "id": "Jeu4NtTINHHb"
      },
      "outputs": [],
      "source": [
        "# 100 mc runs for NB classifier validation \n",
        "Acc=[]\n",
        "for i in range(100):\n",
        "  X_train, X_test, y_train, y_test = train_test_split(X,y, test_size=0.3) \n",
        "  gnb = GaussianNB()\n",
        "  gnb.fit(X_train, y_train)\n",
        "  y_pred = gnb.predict(X_test) \n",
        "  acc=accuracy_score(y_test, y_pred)\n",
        "  Acc.append(acc)\n"
      ]
    },
    {
      "cell_type": "code",
      "execution_count": null,
      "metadata": {
        "id": "ZeOdEFt93Vcu"
      },
      "outputs": [],
      "source": [
        "Acc"
      ]
    },
    {
      "cell_type": "code",
      "execution_count": null,
      "metadata": {
        "colab": {
          "base_uri": "https://localhost:8080/"
        },
        "id": "4hXTIkNzOw6W",
        "outputId": "c3bbbd2d-e7c4-4178-d258-80c12c170cc5"
      },
      "outputs": [
        {
          "data": {
            "text/plain": [
              "0.5407708333333333"
            ]
          },
          "execution_count": 8,
          "metadata": {},
          "output_type": "execute_result"
        }
      ],
      "source": [
        "import numpy as np\n",
        "np.std(Acc)\n",
        "final_acc=np.mean(Acc)\n",
        "final_acc"
      ]
    },
    {
      "cell_type": "markdown",
      "metadata": {
        "id": "gB09k-yqUhUi"
      },
      "source": []
    },
    {
      "cell_type": "markdown",
      "metadata": {
        "id": "XDbwfMzRQ4l9"
      },
      "source": [
        "# solution: Example 1 part 3"
      ]
    },
    {
      "cell_type": "code",
      "execution_count": null,
      "metadata": {
        "id": "Qu7dPVr9Q_mJ"
      },
      "outputs": [],
      "source": [
        "import warnings\n",
        "warnings.simplefilter(\"ignore\")\n",
        "# 100 mc runs for NB classifier validation \n",
        "from sklearn.linear_model import LogisticRegression\n",
        "Acc1=[]\n",
        "Acc2=[]\n",
        "for i in range(100):\n",
        "  X_train, X_test, y_train, y_test = train_test_split(X,y, test_size=0.3) \n",
        "  gnb = GaussianNB()\n",
        "  gnb.fit(X_train, y_train)\n",
        "  y_pred = gnb.predict(X_test) \n",
        "  acc_gnb=accuracy_score(y_test, y_pred)\n",
        "  Acc1.append(acc_gnb)\n",
        "  \n",
        "  # apply LogisticRegression \n",
        "  LR=LogisticRegression()\n",
        "  LR.fit(X_train, y_train)\n",
        "  y_pred_lr = LR.predict(X_test) \n",
        "  acc_lr=accuracy_score(y_test, y_pred_lr)\n",
        "  Acc2.append(acc_lr)\n",
        "  \n",
        "  "
      ]
    },
    {
      "cell_type": "code",
      "execution_count": null,
      "metadata": {
        "id": "OtXQ4N9X-CIe"
      },
      "outputs": [],
      "source": []
    },
    {
      "cell_type": "code",
      "execution_count": null,
      "metadata": {
        "colab": {
          "base_uri": "https://localhost:8080/"
        },
        "id": "V6KbUt2ETAWL",
        "outputId": "1737013c-84f4-414b-94f2-ebbf61c5cc8e"
      },
      "outputs": [
        {
          "data": {
            "text/plain": [
              "[0.5373333333333333, 0.5777291666666666]"
            ]
          },
          "execution_count": 11,
          "metadata": {},
          "output_type": "execute_result"
        }
      ],
      "source": [
        "final_acc_gnb=np.mean(Acc1)\n",
        "final_acc_lr=np.mean(Acc2)\n",
        "[final_acc_gnb,final_acc_lr] "
      ]
    },
    {
      "cell_type": "markdown",
      "metadata": {
        "id": "qdcfmH5fUjPH"
      },
      "source": [
        "**conclusion**: the best model is logistic regression since it has the highest value of accuracy in 1000 mc runs. "
      ]
    },
    {
      "cell_type": "code",
      "execution_count": null,
      "metadata": {
        "colab": {
          "base_uri": "https://localhost:8080/"
        },
        "id": "2B1xWRvkWjQA",
        "outputId": "8f15a1dd-8488-445c-b6fd-37a4f49b13c6"
      },
      "outputs": [
        {
          "name": "stdout",
          "output_type": "stream",
          "text": [
            "prediction: [5]\n",
            "actual label: 5\n"
          ]
        }
      ],
      "source": [
        "#recommendation: recommend the value of quality for the first wine sample: \n",
        "X_new=X.head(1)\n",
        "LR.fit(X, y)\n",
        "recom=LR.predict(X_new)\n",
        "\n",
        "print('prediction:',recom)\n",
        "X_new\n",
        "print('actual label:',y[1])"
      ]
    },
    {
      "cell_type": "markdown",
      "metadata": {
        "id": "74GusRt8VGtm"
      },
      "source": [
        "#Example 2: \n",
        "1. Use iris dataset, predict the 'Species' of the flowers using Naive Bayes and logistic regression classifiers. Evaluate the accuracy of the each model in 100 mc runs. \n",
        " \n",
        "2. recommend the type of flower for the following sample: **X=[4,1,2,3]**."
      ]
    },
    {
      "cell_type": "code",
      "execution_count": null,
      "metadata": {
        "colab": {
          "base_uri": "https://localhost:8080/",
          "height": 236
        },
        "id": "x9yKWE87F6R3",
        "outputId": "303d4f94-ad28-44ac-a276-fdd57dc69d7f"
      },
      "outputs": [
        {
          "data": {
            "text/html": [
              "<div>\n",
              "<style scoped>\n",
              "    .dataframe tbody tr th:only-of-type {\n",
              "        vertical-align: middle;\n",
              "    }\n",
              "\n",
              "    .dataframe tbody tr th {\n",
              "        vertical-align: top;\n",
              "    }\n",
              "\n",
              "    .dataframe thead th {\n",
              "        text-align: right;\n",
              "    }\n",
              "</style>\n",
              "<table border=\"1\" class=\"dataframe\">\n",
              "  <thead>\n",
              "    <tr style=\"text-align: right;\">\n",
              "      <th></th>\n",
              "      <th>SepalLengthCm</th>\n",
              "      <th>SepalWidthCm</th>\n",
              "      <th>PetalLengthCm</th>\n",
              "      <th>PetalWidthCm</th>\n",
              "      <th>Species</th>\n",
              "    </tr>\n",
              "  </thead>\n",
              "  <tbody>\n",
              "    <tr>\n",
              "      <th>0</th>\n",
              "      <td>5.1</td>\n",
              "      <td>3.5</td>\n",
              "      <td>1.4</td>\n",
              "      <td>0.2</td>\n",
              "      <td>Iris-setosa</td>\n",
              "    </tr>\n",
              "    <tr>\n",
              "      <th>1</th>\n",
              "      <td>4.9</td>\n",
              "      <td>3.0</td>\n",
              "      <td>1.4</td>\n",
              "      <td>0.2</td>\n",
              "      <td>Iris-setosa</td>\n",
              "    </tr>\n",
              "    <tr>\n",
              "      <th>2</th>\n",
              "      <td>4.7</td>\n",
              "      <td>3.2</td>\n",
              "      <td>1.3</td>\n",
              "      <td>0.2</td>\n",
              "      <td>Iris-setosa</td>\n",
              "    </tr>\n",
              "    <tr>\n",
              "      <th>3</th>\n",
              "      <td>4.6</td>\n",
              "      <td>3.1</td>\n",
              "      <td>1.5</td>\n",
              "      <td>0.2</td>\n",
              "      <td>Iris-setosa</td>\n",
              "    </tr>\n",
              "    <tr>\n",
              "      <th>4</th>\n",
              "      <td>5.0</td>\n",
              "      <td>3.6</td>\n",
              "      <td>1.4</td>\n",
              "      <td>0.2</td>\n",
              "      <td>Iris-setosa</td>\n",
              "    </tr>\n",
              "    <tr>\n",
              "      <th>5</th>\n",
              "      <td>5.4</td>\n",
              "      <td>3.9</td>\n",
              "      <td>1.7</td>\n",
              "      <td>0.4</td>\n",
              "      <td>Iris-setosa</td>\n",
              "    </tr>\n",
              "  </tbody>\n",
              "</table>\n",
              "</div>"
            ],
            "text/plain": [
              "   SepalLengthCm  SepalWidthCm  PetalLengthCm  PetalWidthCm      Species\n",
              "0            5.1           3.5            1.4           0.2  Iris-setosa\n",
              "1            4.9           3.0            1.4           0.2  Iris-setosa\n",
              "2            4.7           3.2            1.3           0.2  Iris-setosa\n",
              "3            4.6           3.1            1.5           0.2  Iris-setosa\n",
              "4            5.0           3.6            1.4           0.2  Iris-setosa\n",
              "5            5.4           3.9            1.7           0.4  Iris-setosa"
            ]
          },
          "execution_count": 4,
          "metadata": {},
          "output_type": "execute_result"
        }
      ],
      "source": [
        "import pandas as pd\n",
        "from sklearn.model_selection import train_test_split\n",
        "from pandas import read_csv\n",
        "dataset=pd.read_csv('Iris.csv')\n",
        "dataset.head(6)\n"
      ]
    },
    {
      "cell_type": "code",
      "execution_count": null,
      "metadata": {
        "colab": {
          "base_uri": "https://localhost:8080/"
        },
        "id": "PhJntUlQGCUt",
        "outputId": "dc4bcd89-f32c-4acf-c8c2-fc0ec0e1c32b"
      },
      "outputs": [
        {
          "data": {
            "text/plain": [
              "Iris-setosa        50\n",
              "Iris-virginica     50\n",
              "Iris-versicolor    50\n",
              "Name: Species, dtype: int64"
            ]
          },
          "execution_count": 2,
          "metadata": {},
          "output_type": "execute_result"
        }
      ],
      "source": [
        "# In supervised learning we need to specify the input and output variables\n",
        "X=dataset.drop('Species',axis=1) # input variables\n",
        "y=dataset['Species']  #output variable\n",
        "f=y.value_counts()\n",
        "f"
      ]
    },
    {
      "cell_type": "code",
      "execution_count": null,
      "metadata": {
        "id": "PF0q2zgjGa_F"
      },
      "outputs": [],
      "source": [
        "import warnings\n",
        "warnings.simplefilter(\"ignore\")\n",
        "# 100 mc runs for NB classifier validation \n",
        "from sklearn.linear_model import LogisticRegression\n",
        "from sklearn.naive_bayes import GaussianNB \n",
        "from sklearn.metrics import accuracy_score\n",
        "Acc1=[]\n",
        "Acc2=[]\n",
        "for i in range(100):\n",
        "  X_train, X_test, y_train, y_test = train_test_split(X,y, test_size=0.3) \n",
        "  #NB classifier\n",
        "  gnb = GaussianNB()\n",
        "  gnb.fit(X_train, y_train)\n",
        "  y_pred = gnb.predict(X_test) \n",
        "  acc_gnb=accuracy_score(y_test, y_pred)\n",
        "  Acc1.append(acc_gnb)\n",
        "  \n",
        "  # LogisticRegression classifier\n",
        "  LR=LogisticRegression()\n",
        "  LR.fit(X_train, y_train)\n",
        "  y_pred_lr = LR.predict(X_test) \n",
        "  acc_lr=accuracy_score(y_test, y_pred_lr)\n",
        "  Acc2.append(acc_lr)"
      ]
    },
    {
      "cell_type": "code",
      "execution_count": null,
      "metadata": {
        "id": "mLYYJXpSQ1fj"
      },
      "outputs": [],
      "source": [
        "Acc2"
      ]
    },
    {
      "cell_type": "code",
      "execution_count": null,
      "metadata": {
        "colab": {
          "base_uri": "https://localhost:8080/"
        },
        "id": "6-5AIRlQGmiU",
        "outputId": "183b1dbf-fc39-4236-c5ba-5789f0a4d0b0"
      },
      "outputs": [
        {
          "data": {
            "text/plain": [
              "[0.9504444444444445, 0.9591111111111111]"
            ]
          },
          "execution_count": 10,
          "metadata": {},
          "output_type": "execute_result"
        }
      ],
      "source": [
        "from numpy import mean \n",
        "final_acc_gnb=mean(Acc1)\n",
        "final_acc_lr=mean(Acc2)\n",
        "[final_acc_gnb,final_acc_lr] "
      ]
    },
    {
      "cell_type": "markdown",
      "metadata": {
        "id": "AYHU24OXGysr"
      },
      "source": [
        "#since the best model is logistic regression, therefore we use this model for deployment phase"
      ]
    },
    {
      "cell_type": "code",
      "execution_count": null,
      "metadata": {
        "colab": {
          "base_uri": "https://localhost:8080/"
        },
        "id": "69xNuO8IG9Hk",
        "outputId": "ba67dddb-d9a4-482c-8fe8-37428fb8c5d8"
      },
      "outputs": [
        {
          "name": "stdout",
          "output_type": "stream",
          "text": [
            "prediction: ['Iris-versicolor']\n"
          ]
        }
      ],
      "source": [
        "#recommendation: recommend the value of quality for the first wine sample: \n",
        "X_new=np.array([4,1,2,3])\n",
        "X_new=X_new.reshape(1,-1)\n",
        "recom=LR.predict(X_new)\n",
        "\n",
        "print('prediction:',recom)\n"
      ]
    },
    {
      "cell_type": "markdown",
      "metadata": {
        "id": "NMbaBPsHTY6G"
      },
      "source": [
        "#Example 3: \n",
        "1. Use Seed_Data dataset, predict the 'target' using Naive Bayes and logistic regression classifiers. \n",
        "\n",
        "Evaluate the accuracy of the each model in 100 mc runs. \n",
        " \n",
        "2. recommend the class of the target variable for the following sample: **X=[16.14,\t14.99,\t0.9034,\t5.658,\t3.562,\t1.355,\t5.175]**."
      ]
    },
    {
      "cell_type": "markdown",
      "metadata": {
        "id": "O6z5A0IJZpK_"
      },
      "source": [
        "#Example\n",
        "\n",
        "Use **paly tennis** dataset, apply NB classifier to predict **paly** variable. to do so, \n",
        "\n",
        "1. prepare the dataset and split it into 70/30%\n",
        "\n",
        "2. evaluate the model using **accurary** \n",
        "\n",
        "3. validate the result using MC sampling with mc=100. \n",
        "\n",
        "4. predict the play for a give day =[Overcast,hot,normal, weak]    \n",
        " "
      ]
    },
    {
      "cell_type": "code",
      "execution_count": null,
      "metadata": {
        "colab": {
          "base_uri": "https://localhost:8080/",
          "height": 73,
          "resources": {
            "http://localhost:8080/nbextensions/google.colab/files.js": {
              "data": "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",
              "headers": [
                [
                  "content-type",
                  "application/javascript"
                ]
              ],
              "ok": true,
              "status": 200,
              "status_text": ""
            }
          }
        },
        "id": "EpIun1uLCVoT",
        "outputId": "bf8646d0-64fa-4b37-966e-cb0dc34e0b83"
      },
      "outputs": [
        {
          "data": {
            "text/html": [
              "\n",
              "     <input type=\"file\" id=\"files-771250b9-74c7-469a-ae0f-08721f3fa267\" name=\"files[]\" multiple disabled\n",
              "        style=\"border:none\" />\n",
              "     <output id=\"result-771250b9-74c7-469a-ae0f-08721f3fa267\">\n",
              "      Upload widget is only available when the cell has been executed in the\n",
              "      current browser session. Please rerun this cell to enable.\n",
              "      </output>\n",
              "      <script src=\"/nbextensions/google.colab/files.js\"></script> "
            ],
            "text/plain": [
              "<IPython.core.display.HTML object>"
            ]
          },
          "metadata": {
            "tags": []
          },
          "output_type": "display_data"
        },
        {
          "name": "stdout",
          "output_type": "stream",
          "text": [
            "Saving play_tennis.csv to play_tennis.csv\n"
          ]
        }
      ],
      "source": [
        "from google.colab import files\n",
        "uploaded = files.upload()"
      ]
    },
    {
      "cell_type": "code",
      "execution_count": null,
      "metadata": {
        "colab": {
          "base_uri": "https://localhost:8080/",
          "height": 237
        },
        "id": "LX_Wsx6RDSps",
        "outputId": "3702dd1f-a695-40c0-8758-45553332f756"
      },
      "outputs": [
        {
          "data": {
            "text/html": [
              "\n",
              "  <div id=\"df-94f93cea-876c-4047-9415-2294cf1f495f\">\n",
              "    <div class=\"colab-df-container\">\n",
              "      <div>\n",
              "<style scoped>\n",
              "    .dataframe tbody tr th:only-of-type {\n",
              "        vertical-align: middle;\n",
              "    }\n",
              "\n",
              "    .dataframe tbody tr th {\n",
              "        vertical-align: top;\n",
              "    }\n",
              "\n",
              "    .dataframe thead th {\n",
              "        text-align: right;\n",
              "    }\n",
              "</style>\n",
              "<table border=\"1\" class=\"dataframe\">\n",
              "  <thead>\n",
              "    <tr style=\"text-align: right;\">\n",
              "      <th></th>\n",
              "      <th>day</th>\n",
              "      <th>outlook</th>\n",
              "      <th>temp</th>\n",
              "      <th>humidity</th>\n",
              "      <th>wind</th>\n",
              "      <th>play</th>\n",
              "    </tr>\n",
              "  </thead>\n",
              "  <tbody>\n",
              "    <tr>\n",
              "      <th>0</th>\n",
              "      <td>D1</td>\n",
              "      <td>Sunny</td>\n",
              "      <td>Hot</td>\n",
              "      <td>High</td>\n",
              "      <td>Weak</td>\n",
              "      <td>No</td>\n",
              "    </tr>\n",
              "    <tr>\n",
              "      <th>1</th>\n",
              "      <td>D2</td>\n",
              "      <td>Sunny</td>\n",
              "      <td>Hot</td>\n",
              "      <td>High</td>\n",
              "      <td>Strong</td>\n",
              "      <td>No</td>\n",
              "    </tr>\n",
              "    <tr>\n",
              "      <th>2</th>\n",
              "      <td>D3</td>\n",
              "      <td>Overcast</td>\n",
              "      <td>Hot</td>\n",
              "      <td>High</td>\n",
              "      <td>Weak</td>\n",
              "      <td>Yes</td>\n",
              "    </tr>\n",
              "    <tr>\n",
              "      <th>3</th>\n",
              "      <td>D4</td>\n",
              "      <td>Rain</td>\n",
              "      <td>Mild</td>\n",
              "      <td>High</td>\n",
              "      <td>Weak</td>\n",
              "      <td>Yes</td>\n",
              "    </tr>\n",
              "    <tr>\n",
              "      <th>4</th>\n",
              "      <td>D5</td>\n",
              "      <td>Rain</td>\n",
              "      <td>Cool</td>\n",
              "      <td>Normal</td>\n",
              "      <td>Weak</td>\n",
              "      <td>Yes</td>\n",
              "    </tr>\n",
              "    <tr>\n",
              "      <th>5</th>\n",
              "      <td>D6</td>\n",
              "      <td>Rain</td>\n",
              "      <td>Cool</td>\n",
              "      <td>Normal</td>\n",
              "      <td>Strong</td>\n",
              "      <td>No</td>\n",
              "    </tr>\n",
              "  </tbody>\n",
              "</table>\n",
              "</div>\n",
              "      <button class=\"colab-df-convert\" onclick=\"convertToInteractive('df-94f93cea-876c-4047-9415-2294cf1f495f')\"\n",
              "              title=\"Convert this dataframe to an interactive table.\"\n",
              "              style=\"display:none;\">\n",
              "        \n",
              "  <svg xmlns=\"http://www.w3.org/2000/svg\" height=\"24px\"viewBox=\"0 0 24 24\"\n",
              "       width=\"24px\">\n",
              "    <path d=\"M0 0h24v24H0V0z\" fill=\"none\"/>\n",
              "    <path d=\"M18.56 5.44l.94 2.06.94-2.06 2.06-.94-2.06-.94-.94-2.06-.94 2.06-2.06.94zm-11 1L8.5 8.5l.94-2.06 2.06-.94-2.06-.94L8.5 2.5l-.94 2.06-2.06.94zm10 10l.94 2.06.94-2.06 2.06-.94-2.06-.94-.94-2.06-.94 2.06-2.06.94z\"/><path d=\"M17.41 7.96l-1.37-1.37c-.4-.4-.92-.59-1.43-.59-.52 0-1.04.2-1.43.59L10.3 9.45l-7.72 7.72c-.78.78-.78 2.05 0 2.83L4 21.41c.39.39.9.59 1.41.59.51 0 1.02-.2 1.41-.59l7.78-7.78 2.81-2.81c.8-.78.8-2.07 0-2.86zM5.41 20L4 18.59l7.72-7.72 1.47 1.35L5.41 20z\"/>\n",
              "  </svg>\n",
              "      </button>\n",
              "      \n",
              "  <style>\n",
              "    .colab-df-container {\n",
              "      display:flex;\n",
              "      flex-wrap:wrap;\n",
              "      gap: 12px;\n",
              "    }\n",
              "\n",
              "    .colab-df-convert {\n",
              "      background-color: #E8F0FE;\n",
              "      border: none;\n",
              "      border-radius: 50%;\n",
              "      cursor: pointer;\n",
              "      display: none;\n",
              "      fill: #1967D2;\n",
              "      height: 32px;\n",
              "      padding: 0 0 0 0;\n",
              "      width: 32px;\n",
              "    }\n",
              "\n",
              "    .colab-df-convert:hover {\n",
              "      background-color: #E2EBFA;\n",
              "      box-shadow: 0px 1px 2px rgba(60, 64, 67, 0.3), 0px 1px 3px 1px rgba(60, 64, 67, 0.15);\n",
              "      fill: #174EA6;\n",
              "    }\n",
              "\n",
              "    [theme=dark] .colab-df-convert {\n",
              "      background-color: #3B4455;\n",
              "      fill: #D2E3FC;\n",
              "    }\n",
              "\n",
              "    [theme=dark] .colab-df-convert:hover {\n",
              "      background-color: #434B5C;\n",
              "      box-shadow: 0px 1px 3px 1px rgba(0, 0, 0, 0.15);\n",
              "      filter: drop-shadow(0px 1px 2px rgba(0, 0, 0, 0.3));\n",
              "      fill: #FFFFFF;\n",
              "    }\n",
              "  </style>\n",
              "\n",
              "      <script>\n",
              "        const buttonEl =\n",
              "          document.querySelector('#df-94f93cea-876c-4047-9415-2294cf1f495f button.colab-df-convert');\n",
              "        buttonEl.style.display =\n",
              "          google.colab.kernel.accessAllowed ? 'block' : 'none';\n",
              "\n",
              "        async function convertToInteractive(key) {\n",
              "          const element = document.querySelector('#df-94f93cea-876c-4047-9415-2294cf1f495f');\n",
              "          const dataTable =\n",
              "            await google.colab.kernel.invokeFunction('convertToInteractive',\n",
              "                                                     [key], {});\n",
              "          if (!dataTable) return;\n",
              "\n",
              "          const docLinkHtml = 'Like what you see? Visit the ' +\n",
              "            '<a target=\"_blank\" href=https://colab.research.google.com/notebooks/data_table.ipynb>data table notebook</a>'\n",
              "            + ' to learn more about interactive tables.';\n",
              "          element.innerHTML = '';\n",
              "          dataTable['output_type'] = 'display_data';\n",
              "          await google.colab.output.renderOutput(dataTable, element);\n",
              "          const docLink = document.createElement('div');\n",
              "          docLink.innerHTML = docLinkHtml;\n",
              "          element.appendChild(docLink);\n",
              "        }\n",
              "      </script>\n",
              "    </div>\n",
              "  </div>\n",
              "  "
            ],
            "text/plain": [
              "  day   outlook  temp humidity    wind play\n",
              "0  D1     Sunny   Hot     High    Weak   No\n",
              "1  D2     Sunny   Hot     High  Strong   No\n",
              "2  D3  Overcast   Hot     High    Weak  Yes\n",
              "3  D4      Rain  Mild     High    Weak  Yes\n",
              "4  D5      Rain  Cool   Normal    Weak  Yes\n",
              "5  D6      Rain  Cool   Normal  Strong   No"
            ]
          },
          "execution_count": 28,
          "metadata": {},
          "output_type": "execute_result"
        }
      ],
      "source": [
        "import pandas as pd\n",
        "df= pd.read_csv('play_tennis.csv')\n",
        "df.head(6)"
      ]
    },
    {
      "cell_type": "code",
      "execution_count": null,
      "metadata": {
        "id": "tyKDggpkDsD0"
      },
      "outputs": [],
      "source": []
    },
    {
      "cell_type": "code",
      "execution_count": null,
      "metadata": {
        "colab": {
          "base_uri": "https://localhost:8080/",
          "height": 488
        },
        "id": "QNPcSSzGDseU",
        "outputId": "9bfebf31-2c91-4b9d-8fcf-a990cd658019"
      },
      "outputs": [
        {
          "data": {
            "text/html": [
              "\n",
              "  <div id=\"df-4a4b8419-aa3f-46d4-b465-8174e8767e2a\">\n",
              "    <div class=\"colab-df-container\">\n",
              "      <div>\n",
              "<style scoped>\n",
              "    .dataframe tbody tr th:only-of-type {\n",
              "        vertical-align: middle;\n",
              "    }\n",
              "\n",
              "    .dataframe tbody tr th {\n",
              "        vertical-align: top;\n",
              "    }\n",
              "\n",
              "    .dataframe thead th {\n",
              "        text-align: right;\n",
              "    }\n",
              "</style>\n",
              "<table border=\"1\" class=\"dataframe\">\n",
              "  <thead>\n",
              "    <tr style=\"text-align: right;\">\n",
              "      <th></th>\n",
              "      <th>outlook</th>\n",
              "      <th>temp</th>\n",
              "      <th>humidity</th>\n",
              "      <th>wind</th>\n",
              "    </tr>\n",
              "  </thead>\n",
              "  <tbody>\n",
              "    <tr>\n",
              "      <th>0</th>\n",
              "      <td>Sunny</td>\n",
              "      <td>Hot</td>\n",
              "      <td>High</td>\n",
              "      <td>Weak</td>\n",
              "    </tr>\n",
              "    <tr>\n",
              "      <th>1</th>\n",
              "      <td>Sunny</td>\n",
              "      <td>Hot</td>\n",
              "      <td>High</td>\n",
              "      <td>Strong</td>\n",
              "    </tr>\n",
              "    <tr>\n",
              "      <th>2</th>\n",
              "      <td>Overcast</td>\n",
              "      <td>Hot</td>\n",
              "      <td>High</td>\n",
              "      <td>Weak</td>\n",
              "    </tr>\n",
              "    <tr>\n",
              "      <th>3</th>\n",
              "      <td>Rain</td>\n",
              "      <td>Mild</td>\n",
              "      <td>High</td>\n",
              "      <td>Weak</td>\n",
              "    </tr>\n",
              "    <tr>\n",
              "      <th>4</th>\n",
              "      <td>Rain</td>\n",
              "      <td>Cool</td>\n",
              "      <td>Normal</td>\n",
              "      <td>Weak</td>\n",
              "    </tr>\n",
              "    <tr>\n",
              "      <th>5</th>\n",
              "      <td>Rain</td>\n",
              "      <td>Cool</td>\n",
              "      <td>Normal</td>\n",
              "      <td>Strong</td>\n",
              "    </tr>\n",
              "    <tr>\n",
              "      <th>6</th>\n",
              "      <td>Overcast</td>\n",
              "      <td>Cool</td>\n",
              "      <td>Normal</td>\n",
              "      <td>Strong</td>\n",
              "    </tr>\n",
              "    <tr>\n",
              "      <th>7</th>\n",
              "      <td>Sunny</td>\n",
              "      <td>Mild</td>\n",
              "      <td>High</td>\n",
              "      <td>Weak</td>\n",
              "    </tr>\n",
              "    <tr>\n",
              "      <th>8</th>\n",
              "      <td>Sunny</td>\n",
              "      <td>Cool</td>\n",
              "      <td>Normal</td>\n",
              "      <td>Weak</td>\n",
              "    </tr>\n",
              "    <tr>\n",
              "      <th>9</th>\n",
              "      <td>Rain</td>\n",
              "      <td>Mild</td>\n",
              "      <td>Normal</td>\n",
              "      <td>Weak</td>\n",
              "    </tr>\n",
              "    <tr>\n",
              "      <th>10</th>\n",
              "      <td>Sunny</td>\n",
              "      <td>Mild</td>\n",
              "      <td>Normal</td>\n",
              "      <td>Strong</td>\n",
              "    </tr>\n",
              "    <tr>\n",
              "      <th>11</th>\n",
              "      <td>Overcast</td>\n",
              "      <td>Mild</td>\n",
              "      <td>High</td>\n",
              "      <td>Strong</td>\n",
              "    </tr>\n",
              "    <tr>\n",
              "      <th>12</th>\n",
              "      <td>Overcast</td>\n",
              "      <td>Hot</td>\n",
              "      <td>Normal</td>\n",
              "      <td>Weak</td>\n",
              "    </tr>\n",
              "    <tr>\n",
              "      <th>13</th>\n",
              "      <td>Rain</td>\n",
              "      <td>Mild</td>\n",
              "      <td>High</td>\n",
              "      <td>Strong</td>\n",
              "    </tr>\n",
              "  </tbody>\n",
              "</table>\n",
              "</div>\n",
              "      <button class=\"colab-df-convert\" onclick=\"convertToInteractive('df-4a4b8419-aa3f-46d4-b465-8174e8767e2a')\"\n",
              "              title=\"Convert this dataframe to an interactive table.\"\n",
              "              style=\"display:none;\">\n",
              "        \n",
              "  <svg xmlns=\"http://www.w3.org/2000/svg\" height=\"24px\"viewBox=\"0 0 24 24\"\n",
              "       width=\"24px\">\n",
              "    <path d=\"M0 0h24v24H0V0z\" fill=\"none\"/>\n",
              "    <path d=\"M18.56 5.44l.94 2.06.94-2.06 2.06-.94-2.06-.94-.94-2.06-.94 2.06-2.06.94zm-11 1L8.5 8.5l.94-2.06 2.06-.94-2.06-.94L8.5 2.5l-.94 2.06-2.06.94zm10 10l.94 2.06.94-2.06 2.06-.94-2.06-.94-.94-2.06-.94 2.06-2.06.94z\"/><path d=\"M17.41 7.96l-1.37-1.37c-.4-.4-.92-.59-1.43-.59-.52 0-1.04.2-1.43.59L10.3 9.45l-7.72 7.72c-.78.78-.78 2.05 0 2.83L4 21.41c.39.39.9.59 1.41.59.51 0 1.02-.2 1.41-.59l7.78-7.78 2.81-2.81c.8-.78.8-2.07 0-2.86zM5.41 20L4 18.59l7.72-7.72 1.47 1.35L5.41 20z\"/>\n",
              "  </svg>\n",
              "      </button>\n",
              "      \n",
              "  <style>\n",
              "    .colab-df-container {\n",
              "      display:flex;\n",
              "      flex-wrap:wrap;\n",
              "      gap: 12px;\n",
              "    }\n",
              "\n",
              "    .colab-df-convert {\n",
              "      background-color: #E8F0FE;\n",
              "      border: none;\n",
              "      border-radius: 50%;\n",
              "      cursor: pointer;\n",
              "      display: none;\n",
              "      fill: #1967D2;\n",
              "      height: 32px;\n",
              "      padding: 0 0 0 0;\n",
              "      width: 32px;\n",
              "    }\n",
              "\n",
              "    .colab-df-convert:hover {\n",
              "      background-color: #E2EBFA;\n",
              "      box-shadow: 0px 1px 2px rgba(60, 64, 67, 0.3), 0px 1px 3px 1px rgba(60, 64, 67, 0.15);\n",
              "      fill: #174EA6;\n",
              "    }\n",
              "\n",
              "    [theme=dark] .colab-df-convert {\n",
              "      background-color: #3B4455;\n",
              "      fill: #D2E3FC;\n",
              "    }\n",
              "\n",
              "    [theme=dark] .colab-df-convert:hover {\n",
              "      background-color: #434B5C;\n",
              "      box-shadow: 0px 1px 3px 1px rgba(0, 0, 0, 0.15);\n",
              "      filter: drop-shadow(0px 1px 2px rgba(0, 0, 0, 0.3));\n",
              "      fill: #FFFFFF;\n",
              "    }\n",
              "  </style>\n",
              "\n",
              "      <script>\n",
              "        const buttonEl =\n",
              "          document.querySelector('#df-4a4b8419-aa3f-46d4-b465-8174e8767e2a button.colab-df-convert');\n",
              "        buttonEl.style.display =\n",
              "          google.colab.kernel.accessAllowed ? 'block' : 'none';\n",
              "\n",
              "        async function convertToInteractive(key) {\n",
              "          const element = document.querySelector('#df-4a4b8419-aa3f-46d4-b465-8174e8767e2a');\n",
              "          const dataTable =\n",
              "            await google.colab.kernel.invokeFunction('convertToInteractive',\n",
              "                                                     [key], {});\n",
              "          if (!dataTable) return;\n",
              "\n",
              "          const docLinkHtml = 'Like what you see? Visit the ' +\n",
              "            '<a target=\"_blank\" href=https://colab.research.google.com/notebooks/data_table.ipynb>data table notebook</a>'\n",
              "            + ' to learn more about interactive tables.';\n",
              "          element.innerHTML = '';\n",
              "          dataTable['output_type'] = 'display_data';\n",
              "          await google.colab.output.renderOutput(dataTable, element);\n",
              "          const docLink = document.createElement('div');\n",
              "          docLink.innerHTML = docLinkHtml;\n",
              "          element.appendChild(docLink);\n",
              "        }\n",
              "      </script>\n",
              "    </div>\n",
              "  </div>\n",
              "  "
            ],
            "text/plain": [
              "     outlook  temp humidity    wind\n",
              "0      Sunny   Hot     High    Weak\n",
              "1      Sunny   Hot     High  Strong\n",
              "2   Overcast   Hot     High    Weak\n",
              "3       Rain  Mild     High    Weak\n",
              "4       Rain  Cool   Normal    Weak\n",
              "5       Rain  Cool   Normal  Strong\n",
              "6   Overcast  Cool   Normal  Strong\n",
              "7      Sunny  Mild     High    Weak\n",
              "8      Sunny  Cool   Normal    Weak\n",
              "9       Rain  Mild   Normal    Weak\n",
              "10     Sunny  Mild   Normal  Strong\n",
              "11  Overcast  Mild     High  Strong\n",
              "12  Overcast   Hot   Normal    Weak\n",
              "13      Rain  Mild     High  Strong"
            ]
          },
          "execution_count": 29,
          "metadata": {},
          "output_type": "execute_result"
        }
      ],
      "source": [
        "\n",
        "from sklearn.model_selection import train_test_split\n",
        "from sklearn.metrics import *\n",
        "from sklearn import metrics\n",
        "from sklearn.naive_bayes import CategoricalNB\n",
        "x= df.iloc[:,1:5] # X is the features in our dataset\n",
        "y = df.iloc[:,5]   # y is the Labels in our dataset\n",
        "x\n",
        " "
      ]
    },
    {
      "cell_type": "code",
      "execution_count": null,
      "metadata": {
        "id": "7CPfeHqWGuFy"
      },
      "outputs": [],
      "source": [
        "X_train, X_test, y_train, y_test = train_test_split(x, y, test_size=0.33, random_state=42)"
      ]
    },
    {
      "cell_type": "code",
      "execution_count": null,
      "metadata": {
        "colab": {
          "base_uri": "https://localhost:8080/"
        },
        "id": "Ng2BmELyTkJm",
        "outputId": "8628c82c-28cc-47d2-cf7b-9e583378c9ff"
      },
      "outputs": [
        {
          "data": {
            "text/plain": [
              "(14, 6)"
            ]
          },
          "execution_count": 45,
          "metadata": {},
          "output_type": "execute_result"
        }
      ],
      "source": [
        "# make the inputs readable\n",
        "from sklearn.preprocessing import LabelEncoder, OneHotEncoder\n",
        "from pandas import DataFrame\n",
        "LE = LabelEncoder()\n",
        "OE=OneHotEncoder()\n",
        "\n",
        "OE = OneHotEncoder(handle_unknown='ignore')\n",
        "\n",
        "enc=OE.fit_transform(df[['outlook']])\n",
        "oe_df = DataFrame(enc.toarray())\n",
        " \n",
        "df['temp'] = LE.fit_transform(df['temp'])\n",
        "df['humidity'] = LE.fit_transform(df['humidity'])\n",
        "df['wind'] = LE.fit_transform(df['wind'])\n",
        "new_df=df.join(oe_df)\n",
        "X=new_df.drop(['day','outlook','play'],axis=1)\n",
        "y=new_df['play']\n",
        "X.shape"
      ]
    },
    {
      "cell_type": "code",
      "execution_count": null,
      "metadata": {
        "colab": {
          "base_uri": "https://localhost:8080/"
        },
        "id": "Irk9d4rJUk53",
        "outputId": "fb14f403-6ba6-4553-a51b-1a6e74b531f5"
      },
      "outputs": [
        {
          "data": {
            "text/plain": [
              "(9, 6)"
            ]
          },
          "execution_count": 46,
          "metadata": {},
          "output_type": "execute_result"
        }
      ],
      "source": [
        "X_train, X_test, y_train, y_test = train_test_split(X,y,test_size = 0.33,random_state = 54)\n",
        "X_train.shape "
      ]
    },
    {
      "cell_type": "code",
      "execution_count": null,
      "metadata": {
        "colab": {
          "base_uri": "https://localhost:8080/"
        },
        "id": "CQ8dQqeaPrrX",
        "outputId": "07d313aa-60ff-4ee5-f03d-2df68dad1fe1"
      },
      "outputs": [
        {
          "data": {
            "text/plain": [
              "0.4"
            ]
          },
          "execution_count": 44,
          "metadata": {},
          "output_type": "execute_result"
        }
      ],
      "source": [
        "#Gaussian NB\n",
        "from sklearn.naive_bayes import CategoricalNB\n",
        "model = CategoricalNB()\n",
        "model.fit(X_train, y_train)\n",
        "pred = model.predict(X_test)\n",
        "accuracy = accuracy_score(y_test, pred)\n",
        "accuracy \n"
      ]
    },
    {
      "cell_type": "markdown",
      "metadata": {
        "id": "YmzqxKLOn_ff"
      },
      "source": [
        "# model validation\n",
        "apply cross validation technique with 3 folds to validate the accuracy of NB classifier. "
      ]
    },
    {
      "cell_type": "code",
      "execution_count": null,
      "metadata": {
        "colab": {
          "base_uri": "https://localhost:8080/"
        },
        "id": "1eU0SlNsoNbE",
        "outputId": "617b0f66-bddf-49df-f709-7044b69a5d68"
      },
      "outputs": [
        {
          "data": {
            "text/plain": [
              "0.5666666666666668"
            ]
          },
          "execution_count": 48,
          "metadata": {},
          "output_type": "execute_result"
        }
      ],
      "source": [
        "# model validation based on cross validation score \n",
        "from sklearn.model_selection import cross_val_score \n",
        "scores = cross_val_score(model, X, y, cv=3)\n",
        "mean(scores)"
      ]
    },
    {
      "cell_type": "markdown",
      "metadata": {
        "id": "fp3dbd1wLiPV"
      },
      "source": [
        "**Example 4**: \n",
        "Use boston_price dataset, consider CHAS as the target variable. Apply NB classifier to predict target variable. to do so;\n",
        "1.  Check whether the data is balanced using an well-known metric. Use an appropriate technique to balance the data if required.  \n",
        "\n",
        "2.  Apply the NB model on the balanced dataset. then evaluate the perforamance of the model in 100 MC runs. "
      ]
    },
    {
      "cell_type": "code",
      "execution_count": null,
      "metadata": {
        "colab": {
          "base_uri": "https://localhost:8080/"
        },
        "id": "GOd-Te_zMgBJ",
        "outputId": "c4f7a484-a056-435f-e515-ab77bac0cf21"
      },
      "outputs": [
        {
          "data": {
            "text/plain": [
              "(506, 14)"
            ]
          },
          "execution_count": 42,
          "metadata": {
            "tags": []
          },
          "output_type": "execute_result"
        }
      ],
      "source": [
        "import pandas as pd\n",
        "dataset= pd.read_csv('boston_house_prices.csv')\n",
        "dataset.head(6)\n",
        "dataset.shape"
      ]
    },
    {
      "cell_type": "code",
      "execution_count": null,
      "metadata": {
        "colab": {
          "base_uri": "https://localhost:8080/"
        },
        "id": "TOmOksuRMsdU",
        "outputId": "38aadbb7-de3a-4fe7-9125-9628c5058398"
      },
      "outputs": [
        {
          "data": {
            "text/plain": [
              "0    471\n",
              "1     35\n",
              "Name: CHAS, dtype: int64"
            ]
          },
          "execution_count": 44,
          "metadata": {
            "tags": []
          },
          "output_type": "execute_result"
        }
      ],
      "source": [
        "X=dataset.drop('CHAS',axis=1)\n",
        "y=dataset['CHAS']\n",
        "y.value_counts()"
      ]
    },
    {
      "cell_type": "code",
      "execution_count": null,
      "metadata": {
        "colab": {
          "base_uri": "https://localhost:8080/"
        },
        "id": "UH0yRyTiNjVk",
        "outputId": "3e4a3e52-e9ba-4dce-f718-57533cd2db4a"
      },
      "outputs": [
        {
          "name": "stdout",
          "output_type": "stream",
          "text": [
            "Accuracy: 0.7697368421052632\n",
            "Recall: 0.1111111111111111\n"
          ]
        }
      ],
      "source": [
        "from sklearn.model_selection import train_test_split\n",
        "\n",
        "# Split dataset into training set and test set\n",
        "X_train, X_test, y_train, y_test = train_test_split(X,y, test_size=0.3,random_state=3) # 70% training and 30% test\n",
        "\n",
        "#Import Gaussian Naive Bayes model\n",
        "from sklearn.naive_bayes import GaussianNB  \n",
        "\n",
        "#Create a Gaussian NB Classifier\n",
        "gnb = GaussianNB()\n",
        "\n",
        "#Train the model using the training sets\n",
        "gnb.fit(X_train, y_train)\n",
        "\n",
        "#Predict the response for test dataset\n",
        "y_pred = gnb.predict(X_test)\n",
        "#df=pd.DataFrame({'Actual': y_test, 'Prediction': y_pred})\n",
        "\n",
        "#Import scikit-learn metrics module for accuracy calculation\n",
        "from sklearn.metrics import accuracy_score, recall_score\n",
        "\n",
        "# Model Accuracy, how often is the classifier correct?\n",
        "print(\"Accuracy:\",accuracy_score(y_test, y_pred))\n",
        "# we will use recall metric to check whether data is balanced\n",
        "print(\"Recall:\",recall_score(y_test, y_pred))"
      ]
    },
    {
      "cell_type": "markdown",
      "metadata": {
        "id": "XW1jmoCcOZ6h"
      },
      "source": [
        "#Techniques of imbalanced data\n",
        "\n",
        "1.  oversampling \n",
        "2.  undersampling "
      ]
    },
    {
      "cell_type": "code",
      "execution_count": null,
      "metadata": {
        "colab": {
          "base_uri": "https://localhost:8080/"
        },
        "id": "vCkox0eOPJGh",
        "outputId": "a2981810-62ef-43ef-bf1a-347fbc908a6c"
      },
      "outputs": [
        {
          "name": "stdout",
          "output_type": "stream",
          "text": [
            "0.4.3\n"
          ]
        }
      ],
      "source": [
        "# oversampling\n",
        "\n",
        "# check version number\n",
        "import imblearn\n",
        "print(imblearn.__version__)"
      ]
    },
    {
      "cell_type": "code",
      "execution_count": null,
      "metadata": {
        "colab": {
          "base_uri": "https://localhost:8080/"
        },
        "id": "-Q4yu8zePOgE",
        "outputId": "84634f73-54ce-4fe3-de6b-06ed608aa7d7"
      },
      "outputs": [
        {
          "name": "stdout",
          "output_type": "stream",
          "text": [
            "Counter({0: 471, 1: 35})\n",
            "Counter({0: 471, 1: 471})\n"
          ]
        }
      ],
      "source": [
        "# define oversampling strategy\n",
        "from imblearn.over_sampling import RandomOverSampler\n",
        "from collections import Counter\n",
        "oversample = RandomOverSampler(sampling_strategy='minority')\n",
        "\n",
        " \n",
        "# fit and apply the transform\n",
        "X_over, y_over = oversample.fit_resample(X, y)\n",
        "print(Counter(y))\n",
        "X_over.shape\n",
        "print(Counter(y_over))"
      ]
    },
    {
      "cell_type": "markdown",
      "metadata": {
        "id": "3IMTpjbPQVcF"
      },
      "source": [
        "# redo NB classifier on the balanced data"
      ]
    },
    {
      "cell_type": "code",
      "execution_count": null,
      "metadata": {
        "colab": {
          "base_uri": "https://localhost:8080/"
        },
        "id": "KO2YILYWQZIs",
        "outputId": "11dd23b9-7aa6-4d34-de0a-0f4e2d33728e"
      },
      "outputs": [
        {
          "name": "stdout",
          "output_type": "stream",
          "text": [
            "Accuracy: 0.6996466431095406\n",
            "Recall: 0.8787878787878788\n"
          ]
        }
      ],
      "source": [
        "# Split dataset into training set and test set\n",
        "X_train, X_test, y_train, y_test = train_test_split(X_over,y_over, test_size=0.3,random_state=3) # 70% training and 30% test\n",
        "\n",
        "#Import Gaussian Naive Bayes model\n",
        "from sklearn.naive_bayes import GaussianNB  \n",
        "\n",
        "#Create a Gaussian NB Classifier\n",
        "gnb = GaussianNB()\n",
        "\n",
        "#Train the model using the training sets\n",
        "gnb.fit(X_train, y_train)\n",
        "\n",
        "#Predict the response for test dataset\n",
        "y_pred = gnb.predict(X_test)\n",
        "#df=pd.DataFrame({'Actual': y_test, 'Prediction': y_pred})\n",
        "\n",
        "#Import scikit-learn metrics module for accuracy calculation\n",
        "from sklearn.metrics import accuracy_score, recall_score\n",
        "\n",
        "# Model Accuracy, how often is the classifier correct?\n",
        "print(\"Accuracy:\",accuracy_score(y_test, y_pred))\n",
        "# we will use recall metric to check whether data is balanced\n",
        "print(\"Recall:\",recall_score(y_test, y_pred))"
      ]
    },
    {
      "cell_type": "markdown",
      "metadata": {
        "id": "zn9vKLLrRFn1"
      },
      "source": [
        "# under sampling "
      ]
    },
    {
      "cell_type": "code",
      "execution_count": null,
      "metadata": {
        "colab": {
          "base_uri": "https://localhost:8080/"
        },
        "id": "tY6Oh4hyRH5P",
        "outputId": "117b838b-b80a-47ae-c9d7-3dbc1030cfc4"
      },
      "outputs": [
        {
          "name": "stdout",
          "output_type": "stream",
          "text": [
            "Counter({0: 471, 1: 35})\n",
            "Counter({0: 35, 1: 35})\n"
          ]
        }
      ],
      "source": [
        "from imblearn.under_sampling import RandomUnderSampler\n",
        "undersample = RandomUnderSampler(sampling_strategy='majority')\n",
        " \n",
        "# fit and apply the transform\n",
        "X_under, y_under = undersample.fit_resample(X, y)\n",
        "print(Counter(y))\n",
        " \n",
        "print(Counter(y_under))"
      ]
    },
    {
      "cell_type": "code",
      "execution_count": null,
      "metadata": {
        "colab": {
          "base_uri": "https://localhost:8080/"
        },
        "id": "ak4HffhQRn7m",
        "outputId": "daa9ac57-3094-4386-9116-5d7178b1679a"
      },
      "outputs": [
        {
          "name": "stdout",
          "output_type": "stream",
          "text": [
            "Accuracy: 0.47619047619047616\n",
            "Recall: 0.5454545454545454\n"
          ]
        }
      ],
      "source": [
        "# Split dataset into training set and test set\n",
        "X_train, X_test, y_train, y_test = train_test_split(X_under,y_under, test_size=0.3,random_state=3) # 70% training and 30% test\n",
        "\n",
        "#Import Gaussian Naive Bayes model\n",
        "from sklearn.naive_bayes import GaussianNB  \n",
        "\n",
        "#Create a Gaussian NB Classifier\n",
        "gnb = GaussianNB()\n",
        "\n",
        "#Train the model using the training sets\n",
        "gnb.fit(X_train, y_train)\n",
        "\n",
        "#Predict the response for test dataset\n",
        "y_pred = gnb.predict(X_test)\n",
        "#df=pd.DataFrame({'Actual': y_test, 'Prediction': y_pred})\n",
        "\n",
        "#Import scikit-learn metrics module for accuracy calculation\n",
        "from sklearn.metrics import accuracy_score, recall_score\n",
        "\n",
        "# Model Accuracy, how often is the classifier correct?\n",
        "print(\"Accuracy:\",accuracy_score(y_test, y_pred))\n",
        "# we will use recall metric to check whether data is balanced\n",
        "print(\"Recall:\",recall_score(y_test, y_pred))"
      ]
    }
  ],
  "metadata": {
    "colab": {
      "provenance": []
    },
    "kernelspec": {
      "display_name": "Python 3",
      "language": "python",
      "name": "python3"
    },
    "language_info": {
      "codemirror_mode": {
        "name": "ipython",
        "version": 3
      },
      "file_extension": ".py",
      "mimetype": "text/x-python",
      "name": "python",
      "nbconvert_exporter": "python",
      "pygments_lexer": "ipython3",
      "version": "3.10.9"
    }
  },
  "nbformat": 4,
  "nbformat_minor": 0
}
