{
  "nbformat": 4,
  "nbformat_minor": 0,
  "metadata": {
    "colab": {
      "provenance": []
    },
    "kernelspec": {
      "name": "python3",
      "display_name": "Python 3"
    },
    "language_info": {
      "name": "python"
    }
  },
  "cells": [
    {
      "cell_type": "markdown",
      "source": [],
      "metadata": {
        "id": "9jBukdimL9hJ"
      }
    },
    {
      "cell_type": "markdown",
      "source": [
        "# Illustrative example (logistic regression ): \n",
        "\n",
        "\n",
        "Use **Boston_house price** dataset, \n",
        "1.   Consider **CHAS** as the output variable \n",
        "2.   the remaining variables are inputs \n",
        "apply logistic regression to do the following tasks:\n",
        "\n",
        "*  parameter estimation \n",
        "\n",
        "*   attribute selection \n",
        "\n",
        "*   prediction \n",
        "\n",
        " "
      ],
      "metadata": {
        "id": "lytGFTFtL9Pp"
      }
    },
    {
      "cell_type": "code",
      "execution_count": null,
      "metadata": {
        "id": "LDpxvQ8ALhiB"
      },
      "outputs": [],
      "source": [
        "from sklearn.linear_model import LogisticRegression \n",
        "import statsmodels.api as sm"
      ]
    },
    {
      "cell_type": "code",
      "source": [
        "from pandas import read_csv\n",
        "boston_df=read_csv('boston_house_prices.csv')\n",
        "boston_df.head()\n",
        "X=boston_df.drop('CHAS',axis=1) # input \n",
        "y=boston_df['CHAS']   # output\n",
        "X=sm.add_constant(X) # add intercept\n",
        "X.head()\n",
        "y.unique()\n",
        "X.shape"
      ],
      "metadata": {
        "colab": {
          "base_uri": "https://localhost:8080/"
        },
        "id": "7oJjMPKCPD-L",
        "outputId": "21085e43-4752-4f34-fdac-2a9cb078f54b"
      },
      "execution_count": null,
      "outputs": [
        {
          "output_type": "stream",
          "name": "stderr",
          "text": [
            "/usr/local/lib/python3.8/dist-packages/statsmodels/tsa/tsatools.py:142: FutureWarning: In a future version of pandas all arguments of concat except for the argument 'objs' will be keyword-only\n",
            "  x = pd.concat(x[::order], 1)\n"
          ]
        },
        {
          "output_type": "execute_result",
          "data": {
            "text/plain": [
              "(506, 14)"
            ]
          },
          "metadata": {},
          "execution_count": 4
        }
      ]
    },
    {
      "cell_type": "code",
      "source": [
        "#modelling \n",
        "\n",
        "model_logistic= sm.GLM(y,X, family=sm.families.Binomial()) # logistic regression\n",
        "res = model_logistic.fit()\n",
        "res.summary()\n",
        "res.params\n",
        "res.pvalues"
      ],
      "metadata": {
        "id": "2eg7JdOzP1QL",
        "colab": {
          "base_uri": "https://localhost:8080/"
        },
        "outputId": "4704ca02-ea25-46df-ea33-46d9c3517cf5"
      },
      "execution_count": null,
      "outputs": [
        {
          "output_type": "execute_result",
          "data": {
            "text/plain": [
              "const      0.468430\n",
              "CRIM       0.073171\n",
              "ZN         0.897521\n",
              "INDUS      0.023906\n",
              "NOX        0.319097\n",
              "RM         0.733817\n",
              "AGE        0.506008\n",
              "DIS        0.918476\n",
              "RAD        0.005129\n",
              "TAX        0.023495\n",
              "PTRATIO    0.255767\n",
              "B          0.524645\n",
              "LSTAT      0.623604\n",
              "MEDV       0.032476\n",
              "dtype: float64"
            ]
          },
          "metadata": {},
          "execution_count": 10
        }
      ]
    },
    {
      "cell_type": "markdown",
      "source": [
        "# use the above predictive model to predict the CHAS in the last row of the dataset\n",
        "\n"
      ],
      "metadata": {
        "id": "DDwKCQjgS-I2"
      }
    },
    {
      "cell_type": "code",
      "source": [
        "subset_X=X[['INDUS','RAD','TAX','MEDV']]\n",
        "input=subset_X.tail(1)\n",
        "coef=[0.0952,0.2191,-0.0087,0.0693]\n",
        "from numpy import inner\n",
        "from math import exp\n",
        " \n",
        "t=inner(input,coef)\n",
        "p=1/(1+exp(-t))\n",
        "p\n"
      ],
      "metadata": {
        "colab": {
          "base_uri": "https://localhost:8080/"
        },
        "id": "lPc5mrFDTMTb",
        "outputId": "a0b870b9-3c51-4f7d-92f0-13b66ddf6060"
      },
      "execution_count": null,
      "outputs": [
        {
          "output_type": "execute_result",
          "data": {
            "text/plain": [
              "0.4512567984467605"
            ]
          },
          "metadata": {},
          "execution_count": 26
        }
      ]
    },
    {
      "cell_type": "code",
      "source": [
        "boston_df.tail(1)"
      ],
      "metadata": {
        "colab": {
          "base_uri": "https://localhost:8080/",
          "height": 81
        },
        "id": "t5CwwAvaWhym",
        "outputId": "6e118afb-9cc2-41c2-fdfb-2f600d7198b4"
      },
      "execution_count": null,
      "outputs": [
        {
          "output_type": "execute_result",
          "data": {
            "text/plain": [
              "        CRIM   ZN  INDUS  CHAS    NOX    RM   AGE    DIS  RAD  TAX  PTRATIO  \\\n",
              "505  0.04741  0.0  11.93     0  0.573  6.03  80.8  2.505    1  273     21.0   \n",
              "\n",
              "         B  LSTAT  MEDV  \n",
              "505  396.9   7.88  11.9  "
            ],
            "text/html": [
              "\n",
              "  <div id=\"df-78dee907-114c-4c25-b534-03b9af50acb5\">\n",
              "    <div class=\"colab-df-container\">\n",
              "      <div>\n",
              "<style scoped>\n",
              "    .dataframe tbody tr th:only-of-type {\n",
              "        vertical-align: middle;\n",
              "    }\n",
              "\n",
              "    .dataframe tbody tr th {\n",
              "        vertical-align: top;\n",
              "    }\n",
              "\n",
              "    .dataframe thead th {\n",
              "        text-align: right;\n",
              "    }\n",
              "</style>\n",
              "<table border=\"1\" class=\"dataframe\">\n",
              "  <thead>\n",
              "    <tr style=\"text-align: right;\">\n",
              "      <th></th>\n",
              "      <th>CRIM</th>\n",
              "      <th>ZN</th>\n",
              "      <th>INDUS</th>\n",
              "      <th>CHAS</th>\n",
              "      <th>NOX</th>\n",
              "      <th>RM</th>\n",
              "      <th>AGE</th>\n",
              "      <th>DIS</th>\n",
              "      <th>RAD</th>\n",
              "      <th>TAX</th>\n",
              "      <th>PTRATIO</th>\n",
              "      <th>B</th>\n",
              "      <th>LSTAT</th>\n",
              "      <th>MEDV</th>\n",
              "    </tr>\n",
              "  </thead>\n",
              "  <tbody>\n",
              "    <tr>\n",
              "      <th>505</th>\n",
              "      <td>0.04741</td>\n",
              "      <td>0.0</td>\n",
              "      <td>11.93</td>\n",
              "      <td>0</td>\n",
              "      <td>0.573</td>\n",
              "      <td>6.03</td>\n",
              "      <td>80.8</td>\n",
              "      <td>2.505</td>\n",
              "      <td>1</td>\n",
              "      <td>273</td>\n",
              "      <td>21.0</td>\n",
              "      <td>396.9</td>\n",
              "      <td>7.88</td>\n",
              "      <td>11.9</td>\n",
              "    </tr>\n",
              "  </tbody>\n",
              "</table>\n",
              "</div>\n",
              "      <button class=\"colab-df-convert\" onclick=\"convertToInteractive('df-78dee907-114c-4c25-b534-03b9af50acb5')\"\n",
              "              title=\"Convert this dataframe to an interactive table.\"\n",
              "              style=\"display:none;\">\n",
              "        \n",
              "  <svg xmlns=\"http://www.w3.org/2000/svg\" height=\"24px\"viewBox=\"0 0 24 24\"\n",
              "       width=\"24px\">\n",
              "    <path d=\"M0 0h24v24H0V0z\" fill=\"none\"/>\n",
              "    <path d=\"M18.56 5.44l.94 2.06.94-2.06 2.06-.94-2.06-.94-.94-2.06-.94 2.06-2.06.94zm-11 1L8.5 8.5l.94-2.06 2.06-.94-2.06-.94L8.5 2.5l-.94 2.06-2.06.94zm10 10l.94 2.06.94-2.06 2.06-.94-2.06-.94-.94-2.06-.94 2.06-2.06.94z\"/><path d=\"M17.41 7.96l-1.37-1.37c-.4-.4-.92-.59-1.43-.59-.52 0-1.04.2-1.43.59L10.3 9.45l-7.72 7.72c-.78.78-.78 2.05 0 2.83L4 21.41c.39.39.9.59 1.41.59.51 0 1.02-.2 1.41-.59l7.78-7.78 2.81-2.81c.8-.78.8-2.07 0-2.86zM5.41 20L4 18.59l7.72-7.72 1.47 1.35L5.41 20z\"/>\n",
              "  </svg>\n",
              "      </button>\n",
              "      \n",
              "  <style>\n",
              "    .colab-df-container {\n",
              "      display:flex;\n",
              "      flex-wrap:wrap;\n",
              "      gap: 12px;\n",
              "    }\n",
              "\n",
              "    .colab-df-convert {\n",
              "      background-color: #E8F0FE;\n",
              "      border: none;\n",
              "      border-radius: 50%;\n",
              "      cursor: pointer;\n",
              "      display: none;\n",
              "      fill: #1967D2;\n",
              "      height: 32px;\n",
              "      padding: 0 0 0 0;\n",
              "      width: 32px;\n",
              "    }\n",
              "\n",
              "    .colab-df-convert:hover {\n",
              "      background-color: #E2EBFA;\n",
              "      box-shadow: 0px 1px 2px rgba(60, 64, 67, 0.3), 0px 1px 3px 1px rgba(60, 64, 67, 0.15);\n",
              "      fill: #174EA6;\n",
              "    }\n",
              "\n",
              "    [theme=dark] .colab-df-convert {\n",
              "      background-color: #3B4455;\n",
              "      fill: #D2E3FC;\n",
              "    }\n",
              "\n",
              "    [theme=dark] .colab-df-convert:hover {\n",
              "      background-color: #434B5C;\n",
              "      box-shadow: 0px 1px 3px 1px rgba(0, 0, 0, 0.15);\n",
              "      filter: drop-shadow(0px 1px 2px rgba(0, 0, 0, 0.3));\n",
              "      fill: #FFFFFF;\n",
              "    }\n",
              "  </style>\n",
              "\n",
              "      <script>\n",
              "        const buttonEl =\n",
              "          document.querySelector('#df-78dee907-114c-4c25-b534-03b9af50acb5 button.colab-df-convert');\n",
              "        buttonEl.style.display =\n",
              "          google.colab.kernel.accessAllowed ? 'block' : 'none';\n",
              "\n",
              "        async function convertToInteractive(key) {\n",
              "          const element = document.querySelector('#df-78dee907-114c-4c25-b534-03b9af50acb5');\n",
              "          const dataTable =\n",
              "            await google.colab.kernel.invokeFunction('convertToInteractive',\n",
              "                                                     [key], {});\n",
              "          if (!dataTable) return;\n",
              "\n",
              "          const docLinkHtml = 'Like what you see? Visit the ' +\n",
              "            '<a target=\"_blank\" href=https://colab.research.google.com/notebooks/data_table.ipynb>data table notebook</a>'\n",
              "            + ' to learn more about interactive tables.';\n",
              "          element.innerHTML = '';\n",
              "          dataTable['output_type'] = 'display_data';\n",
              "          await google.colab.output.renderOutput(dataTable, element);\n",
              "          const docLink = document.createElement('div');\n",
              "          docLink.innerHTML = docLinkHtml;\n",
              "          element.appendChild(docLink);\n",
              "        }\n",
              "      </script>\n",
              "    </div>\n",
              "  </div>\n",
              "  "
            ]
          },
          "metadata": {},
          "execution_count": 28
        }
      ]
    },
    {
      "cell_type": "code",
      "source": [
        "input=X.tail(1)\n",
        "res.predict(input)\n"
      ],
      "metadata": {
        "colab": {
          "base_uri": "https://localhost:8080/"
        },
        "id": "67gDpROcR1ML",
        "outputId": "92e53603-d1d1-437e-e8ca-3445553b3360"
      },
      "execution_count": null,
      "outputs": [
        {
          "output_type": "execute_result",
          "data": {
            "text/plain": [
              "505    0.018329\n",
              "dtype: float64"
            ]
          },
          "metadata": {},
          "execution_count": 39
        }
      ]
    },
    {
      "cell_type": "code",
      "source": [
        "#model evaluation \n",
        "from sklearn.model_selection import train_test_split\n",
        "X_train,X_test,y_train,y_test=train_test_split(X,y,test_size=0.2,random_state=3)\n",
        " \n",
        "model_logistic= sm.GLM(y_train,X_train, family=sm.families.Binomial()) # logistic regression\n",
        "res = model_logistic.fit()\n",
        "pred=res.predict(X_test)\n",
        "pred\n"
      ],
      "metadata": {
        "id": "OgGw2gYob-bE",
        "colab": {
          "base_uri": "https://localhost:8080/"
        },
        "outputId": "2df8d8a2-f38d-4068-ea48-9d016b64ec58"
      },
      "execution_count": null,
      "outputs": [
        {
          "output_type": "execute_result",
          "data": {
            "text/plain": [
              "224    0.291797\n",
              "137    0.057849\n",
              "453    0.074672\n",
              "303    0.085236\n",
              "254    0.006147\n",
              "         ...   \n",
              "434    0.004107\n",
              "294    0.071799\n",
              "306    0.114948\n",
              "463    0.139679\n",
              "332    0.008881\n",
              "Length: 102, dtype: float64"
            ]
          },
          "metadata": {},
          "execution_count": 6
        }
      ]
    },
    {
      "cell_type": "code",
      "source": [
        "pred_bin = [] \n",
        "for x in pred:\n",
        "  if x > 0.5:\n",
        "    pred_bin.append(1)\n",
        "  else:\n",
        "      pred_bin.append(0) \n",
        " \n",
        "pred_bin"
      ],
      "metadata": {
        "id": "Z7uTuvW1dAMA",
        "colab": {
          "base_uri": "https://localhost:8080/"
        },
        "outputId": "81f0156a-84c3-4011-809f-e473df4e25a6"
      },
      "execution_count": null,
      "outputs": [
        {
          "output_type": "execute_result",
          "data": {
            "text/plain": [
              "[0,\n",
              " 0,\n",
              " 0,\n",
              " 0,\n",
              " 0,\n",
              " 0,\n",
              " 0,\n",
              " 0,\n",
              " 0,\n",
              " 0,\n",
              " 0,\n",
              " 0,\n",
              " 0,\n",
              " 0,\n",
              " 0,\n",
              " 0,\n",
              " 0,\n",
              " 0,\n",
              " 0,\n",
              " 0,\n",
              " 0,\n",
              " 1,\n",
              " 0,\n",
              " 0,\n",
              " 0,\n",
              " 0,\n",
              " 0,\n",
              " 0,\n",
              " 0,\n",
              " 0,\n",
              " 0,\n",
              " 0,\n",
              " 0,\n",
              " 0,\n",
              " 0,\n",
              " 0,\n",
              " 0,\n",
              " 0,\n",
              " 0,\n",
              " 0,\n",
              " 0,\n",
              " 0,\n",
              " 0,\n",
              " 0,\n",
              " 0,\n",
              " 0,\n",
              " 0,\n",
              " 0,\n",
              " 0,\n",
              " 0,\n",
              " 0,\n",
              " 0,\n",
              " 0,\n",
              " 0,\n",
              " 0,\n",
              " 0,\n",
              " 1,\n",
              " 0,\n",
              " 0,\n",
              " 0,\n",
              " 0,\n",
              " 0,\n",
              " 0,\n",
              " 0,\n",
              " 0,\n",
              " 0,\n",
              " 0,\n",
              " 0,\n",
              " 0,\n",
              " 0,\n",
              " 0,\n",
              " 0,\n",
              " 0,\n",
              " 0,\n",
              " 0,\n",
              " 0,\n",
              " 0,\n",
              " 0,\n",
              " 0,\n",
              " 0,\n",
              " 0,\n",
              " 0,\n",
              " 0,\n",
              " 0,\n",
              " 0,\n",
              " 0,\n",
              " 0,\n",
              " 0,\n",
              " 0,\n",
              " 0,\n",
              " 0,\n",
              " 0,\n",
              " 0,\n",
              " 0,\n",
              " 0,\n",
              " 0,\n",
              " 0,\n",
              " 0,\n",
              " 0,\n",
              " 0,\n",
              " 0,\n",
              " 0]"
            ]
          },
          "metadata": {},
          "execution_count": 13
        }
      ]
    },
    {
      "cell_type": "code",
      "source": [
        " \n",
        "from pandas import DataFrame\n",
        "from sklearn.metrics import confusion_matrix\n",
        "confusion_matrix(pred_bin,y_test)"
      ],
      "metadata": {
        "colab": {
          "base_uri": "https://localhost:8080/"
        },
        "id": "hUF7TTE-dcWb",
        "outputId": "4eee2203-be74-4453-833a-636dfeb87b5c"
      },
      "execution_count": null,
      "outputs": [
        {
          "output_type": "execute_result",
          "data": {
            "text/plain": [
              "array([[92,  8],\n",
              "       [ 2,  0]])"
            ]
          },
          "metadata": {},
          "execution_count": 54
        }
      ]
    },
    {
      "cell_type": "markdown",
      "source": [
        "# Logistic regression using sklearn"
      ],
      "metadata": {
        "id": "WnMQ0y88wHuz"
      }
    },
    {
      "cell_type": "code",
      "source": [
        "from sklearn.linear_model import LogisticRegression\n",
        "model=LogisticRegression()\n",
        "model.fit(X_train,y_train)\n",
        "\n",
        "#And then prediction: \n",
        "pred=model.predict(X_test)\n",
        "pred"
      ],
      "metadata": {
        "colab": {
          "base_uri": "https://localhost:8080/"
        },
        "id": "EUfQVPOUwHSr",
        "outputId": "1e1c55bd-e8a7-4fbc-b092-54ee3e149edd"
      },
      "execution_count": null,
      "outputs": [
        {
          "output_type": "stream",
          "name": "stderr",
          "text": [
            "/usr/local/lib/python3.8/dist-packages/sklearn/linear_model/_logistic.py:814: ConvergenceWarning: lbfgs failed to converge (status=1):\n",
            "STOP: TOTAL NO. of ITERATIONS REACHED LIMIT.\n",
            "\n",
            "Increase the number of iterations (max_iter) or scale the data as shown in:\n",
            "    https://scikit-learn.org/stable/modules/preprocessing.html\n",
            "Please also refer to the documentation for alternative solver options:\n",
            "    https://scikit-learn.org/stable/modules/linear_model.html#logistic-regression\n",
            "  n_iter_i = _check_optimize_result(\n"
          ]
        },
        {
          "output_type": "execute_result",
          "data": {
            "text/plain": [
              "array([0, 0, 0, 0, 0, 0, 0, 0, 0, 0, 0, 0, 0, 0, 0, 0, 0, 0, 0, 0, 0, 1,\n",
              "       0, 0, 0, 0, 0, 0, 0, 0, 0, 0, 0, 0, 0, 0, 0, 0, 0, 0, 0, 0, 0, 0,\n",
              "       0, 0, 0, 0, 0, 0, 0, 0, 0, 0, 0, 0, 1, 0, 0, 0, 0, 0, 0, 0, 0, 0,\n",
              "       0, 0, 0, 0, 0, 0, 0, 0, 0, 0, 0, 0, 0, 0, 0, 0, 0, 0, 0, 0, 0, 0,\n",
              "       0, 0, 0, 0, 0, 0, 0, 0, 0, 0, 0, 0, 0, 0])"
            ]
          },
          "metadata": {},
          "execution_count": 12
        }
      ]
    },
    {
      "cell_type": "markdown",
      "source": [
        "# Illustrative example (Naive Bayes): \n",
        "\n",
        "\n",
        "Use **Boston_house price** dataset, \n",
        "1.   Consider **CHAS** as the output variable \n",
        "2.   the remaining variables are inputs \n",
        "apply logistic regression to do the following tasks:\n",
        "\n",
        "\n",
        "\n",
        "*  model evaluation andd validation using accuracy score\n",
        "\n",
        "* deployment for the last row in the original dataset."
      ],
      "metadata": {
        "id": "Ar2M7X_g0hH6"
      }
    },
    {
      "cell_type": "code",
      "source": [
        "from sklearn.naive_bayes import GaussianNB, CategoricalNB, MultinomialNB\n",
        "from sklearn.model_selection import cross_val_score\n",
        "from statistics import mean"
      ],
      "metadata": {
        "id": "Zdie6_4h1B23"
      },
      "execution_count": null,
      "outputs": []
    },
    {
      "cell_type": "code",
      "source": [
        "from pandas import read_csv\n",
        "boston_df=read_csv('boston_house_prices.csv')\n",
        "boston_df.head()\n",
        "X=boston_df.drop('CHAS',axis=1) # input \n",
        "y=boston_df['CHAS']   # output\n",
        "\n",
        "gnb=GaussianNB()\n",
        "c=cross_val_score(gnb,X,y,scoring='accuracy', cv=10)\n",
        "mean(c)"
      ],
      "metadata": {
        "colab": {
          "base_uri": "https://localhost:8080/"
        },
        "id": "eek9uoEj0ptg",
        "outputId": "529eb947-de17-4935-f7b0-adf743c9d651"
      },
      "execution_count": null,
      "outputs": [
        {
          "output_type": "execute_result",
          "data": {
            "text/plain": [
              "0.7833333333333333"
            ]
          },
          "metadata": {},
          "execution_count": 2
        }
      ]
    },
    {
      "cell_type": "code",
      "source": [
        "y.value_counts( )"
      ],
      "metadata": {
        "colab": {
          "base_uri": "https://localhost:8080/"
        },
        "id": "bAc9nSXBOTvJ",
        "outputId": "fa4634d1-afcb-4215-830b-cdffce8b4b24"
      },
      "execution_count": null,
      "outputs": [
        {
          "output_type": "execute_result",
          "data": {
            "text/plain": [
              "0    471\n",
              "1     35\n",
              "Name: CHAS, dtype: int64"
            ]
          },
          "metadata": {},
          "execution_count": 8
        }
      ]
    },
    {
      "cell_type": "markdown",
      "source": [
        "# what is the best value of k?\n"
      ],
      "metadata": {
        "id": "wLF9VLRy_3Dx"
      }
    },
    {
      "cell_type": "code",
      "source": [
        "import warnings\n",
        "warnings.filterwarnings('ignore')"
      ],
      "metadata": {
        "id": "DddsjYdADIJe"
      },
      "execution_count": null,
      "outputs": []
    },
    {
      "cell_type": "code",
      "source": [
        "score=[]\n",
        "for i in range(2,50):\n",
        "  c=cross_val_score(gnb,X,y,scoring='recall', cv=i)\n",
        "  score.append(mean(c))\n"
      ],
      "metadata": {
        "id": "IynjiZ8lC2Qv"
      },
      "execution_count": null,
      "outputs": []
    },
    {
      "cell_type": "code",
      "source": [
        "from matplotlib.pyplot import title, show \n",
        "from seaborn import lineplot\n",
        "from numpy import transpose\n",
        "k=range(2,50)\n",
        "from pandas import DataFrame\n",
        "data = DataFrame([k,score])\n",
        "data=transpose(data)\n",
        "\n",
        "data.columns=['fold', 'accuracy']\n",
        "data.head()\n",
        "\n",
        "lineplot(x=\"fold\", y=\"accuracy\", data=data)\n",
        " \n",
        "# setting the title using Matplotlib\n",
        "title('deep insight visualization')\n",
        " \n",
        "show()\n",
        " "
      ],
      "metadata": {
        "colab": {
          "base_uri": "https://localhost:8080/",
          "height": 295
        },
        "id": "vkfVNISEDWKl",
        "outputId": "f51427e9-e545-4d11-e8e7-85ebecbb7fbd"
      },
      "execution_count": null,
      "outputs": [
        {
          "output_type": "display_data",
          "data": {
            "text/plain": [
              "<Figure size 432x288 with 1 Axes>"
            ],
            "image/png": "[encoded data removed]"
          },
          "metadata": {
            "needs_background": "light"
          }
        }
      ]
    },
    {
      "cell_type": "markdown",
      "source": [
        "Note: there is a significant difference btw accuracy and recall. this is because the dataset is not balanced. In order to make the data balanced, we can apply at least two techniques\n",
        "\n",
        "1.  oversampling \n",
        "2. undersampling \n"
      ],
      "metadata": {
        "id": "cagRW-wpOy25"
      }
    },
    {
      "cell_type": "code",
      "source": [
        "!pip install imbalanced-learn"
      ],
      "metadata": {
        "id": "6PPAtyZRPIOk"
      },
      "execution_count": null,
      "outputs": []
    },
    {
      "cell_type": "code",
      "source": [
        "import imblearn"
      ],
      "metadata": {
        "id": "1VG5zREtPRUV"
      },
      "execution_count": null,
      "outputs": []
    },
    {
      "cell_type": "code",
      "source": [
        " \n",
        "# define oversampling strategy\n",
        "from sklearn.model_selection import train_test_split\n",
        "from imblearn.over_sampling import RandomOverSampler\n",
        "from collections import Counter\n",
        "from sklearn.metrics import recall_score\n",
        "oversample = RandomOverSampler(sampling_strategy='minority')\n",
        "\n",
        "X_train,X_test, y_train, y_test=train_test_split(X,y,test_size=0.3)\n",
        "# fit and apply the transform\n",
        "X_over, y_over = oversample.fit_resample(X_train, y_train)\n",
        "#print(Counter(y_train))\n",
        "#print(Counter(y_over))\n",
        "gnb.fit(X_over,y_over)\n",
        "pred=gnb.predict(X_test)\n",
        "re_b=recall_score(y_test,pred)\n",
        "\n",
        "#original trainset\n",
        "gnb.fit(X_train,y_train)\n",
        "pred=gnb.predict(X_test)\n",
        "re=recall_score(y_test,pred)\n",
        "[re_b,re]"
      ],
      "metadata": {
        "colab": {
          "base_uri": "https://localhost:8080/"
        },
        "id": "4CyX3ELdPUYS",
        "outputId": "1d9b24cc-25e9-4e4b-8545-5ea11610a3e6"
      },
      "execution_count": null,
      "outputs": [
        {
          "output_type": "execute_result",
          "data": {
            "text/plain": [
              "[0.7777777777777778, 0.2222222222222222]"
            ]
          },
          "metadata": {},
          "execution_count": 27
        }
      ]
    },
    {
      "cell_type": "markdown",
      "source": [
        "# how to deal with the imbalanced data using cross-validation technique ?  (5marks)\n",
        "\n"
      ],
      "metadata": {
        "id": "p3q3hC1oYp3J"
      }
    },
    {
      "cell_type": "markdown",
      "source": [
        "#Apply MC sampling to validate the results of GNB and Logistic regression after data balancing in terms of recall for 20 runs. "
      ],
      "metadata": {
        "id": "n-NFrHFSY7yK"
      }
    },
    {
      "cell_type": "code",
      "source": [],
      "metadata": {
        "id": "W2fHYxx9ZUWy"
      },
      "execution_count": null,
      "outputs": []
    },
    {
      "cell_type": "markdown",
      "source": [
        "for loop\n",
        "1. define the models \n",
        "2. split the dataset 80/20\n",
        "3. apply oversampling on the trainset\n",
        "4. make a prediction based on both models \n",
        "5. compute recall for both models\n",
        "6. take the average of the recall for each model "
      ],
      "metadata": {
        "id": "AY4jCMX4arWw"
      }
    },
    {
      "cell_type": "markdown",
      "source": [
        "# model evaluation and validation "
      ],
      "metadata": {
        "id": "DHdFkZTee65f"
      }
    },
    {
      "cell_type": "code",
      "source": [
        "from sklearn.linear_model import LogisticRegression\n",
        "lr=LogisticRegression() ; gnb=GaussianNB()\n",
        "re_lr=[]\n",
        "re_gnb=[]\n",
        "for i in range(100):\n",
        "  X_train,X_test, y_train, y_test=train_test_split(X,y,test_size=0.2)\n",
        "  X_over, y_over = oversample.fit_resample(X_train, y_train)\n",
        "  gnb.fit(X_over,y_over)\n",
        "  pred_gnb=gnb.predict(X_test)\n",
        "  re_b=recall_score(y_test,pred_gnb)\n",
        "  re_gnb.append(re_b)\n",
        "  #redo it for LR\n",
        "  lr.fit(X_over,y_over)\n",
        "  pred_lr=lr.predict(X_test)\n",
        "  re=recall_score(y_test,pred_lr)\n",
        "  re_lr.append(re)\n",
        "\n",
        "\n",
        "from numpy import mean\n",
        "result=[mean(re_lr), mean(re_gnb)]\n",
        "result"
      ],
      "metadata": {
        "colab": {
          "base_uri": "https://localhost:8080/"
        },
        "id": "PaaYj2ipbEp-",
        "outputId": "bf936184-7915-4048-cf78-d7b1f6d90bd5"
      },
      "execution_count": null,
      "outputs": [
        {
          "output_type": "execute_result",
          "data": {
            "text/plain": [
              "[0.7449090909090907, 0.7888874458874459]"
            ]
          },
          "metadata": {},
          "execution_count": 39
        }
      ]
    },
    {
      "cell_type": "code",
      "source": [
        "result"
      ],
      "metadata": {
        "colab": {
          "base_uri": "https://localhost:8080/"
        },
        "id": "wQ6ZDPGLeYxK",
        "outputId": "939e03b7-1a17-460b-e979-80d9a9dd4308"
      },
      "execution_count": null,
      "outputs": [
        {
          "output_type": "execute_result",
          "data": {
            "text/plain": [
              "[0.7342099567099566, 0.8792027417027418]"
            ]
          },
          "metadata": {},
          "execution_count": 33
        }
      ]
    },
    {
      "cell_type": "markdown",
      "source": [
        "# deploy the best model for the last row in the dataset. "
      ],
      "metadata": {
        "id": "x9H615c4ZOMl"
      }
    },
    {
      "cell_type": "code",
      "source": [
        "\n",
        "X_over, y_over = oversample.fit_resample(X, y)\n",
        "model=gnb.fit(X_over, y_over)\n",
        "\n",
        "\n",
        " \n",
        "pred=model.predict(input)\n",
        "\n"
      ],
      "metadata": {
        "id": "zJuyeasVZThz"
      },
      "execution_count": null,
      "outputs": []
    },
    {
      "cell_type": "code",
      "source": [
        "from pandas import DataFrame\n",
        "import numpy as np\n",
        "from pandas import DataFrame\n",
        "x1=input('CRIM:')   \n",
        "x2=input('ZN:')\n",
        "x3=input('INDUS:')\n",
        "x4=input('TAX:')\n",
        "x5=input('NOX:')\n",
        "x6=input('RM:')\n",
        "x7=input('AGE:')\n",
        "x8=input('DIS:')\n",
        "x9=input('RAD:')\n",
        "x10=input('PTRATIO:')\n",
        "x11=input('B:')\n",
        "x12=input('LSTAT:')\n",
        "x13=input('MEDV:')\n",
        "x=np.array([x1,x2,x3,x4,x5,x6,x7,x8,x9,x10,x11,x12,x13])\n",
        "y=gnb.predict(x.reshape(1,-1))\n",
        "print('CHAS:',y)"
      ],
      "metadata": {
        "colab": {
          "base_uri": "https://localhost:8080/",
          "height": 246
        },
        "id": "iDWJm2oMjDan",
        "outputId": "5a5134b2-57f3-4d29-c33b-23540a4a7098"
      },
      "execution_count": null,
      "outputs": [
        {
          "output_type": "error",
          "ename": "TypeError",
          "evalue": "ignored",
          "traceback": [
            "\u001b[0;31m---------------------------------------------------------------------------\u001b[0m",
            "\u001b[0;31mTypeError\u001b[0m                                 Traceback (most recent call last)",
            "\u001b[0;32m<ipython-input-56-06feb21846f8>\u001b[0m in \u001b[0;36m<module>\u001b[0;34m\u001b[0m\n\u001b[1;32m      2\u001b[0m \u001b[0;32mimport\u001b[0m \u001b[0mnumpy\u001b[0m \u001b[0;32mas\u001b[0m \u001b[0mnp\u001b[0m\u001b[0;34m\u001b[0m\u001b[0;34m\u001b[0m\u001b[0m\n\u001b[1;32m      3\u001b[0m \u001b[0;32mfrom\u001b[0m \u001b[0mpandas\u001b[0m \u001b[0;32mimport\u001b[0m \u001b[0mDataFrame\u001b[0m\u001b[0;34m\u001b[0m\u001b[0;34m\u001b[0m\u001b[0m\n\u001b[0;32m----> 4\u001b[0;31m \u001b[0mx1\u001b[0m\u001b[0;34m=\u001b[0m\u001b[0minput\u001b[0m\u001b[0;34m(\u001b[0m\u001b[0;34m'CRIM:'\u001b[0m\u001b[0;34m)\u001b[0m\u001b[0;34m\u001b[0m\u001b[0;34m\u001b[0m\u001b[0m\n\u001b[0m\u001b[1;32m      5\u001b[0m \u001b[0mx2\u001b[0m\u001b[0;34m=\u001b[0m\u001b[0minput\u001b[0m\u001b[0;34m(\u001b[0m\u001b[0;34m'ZN:'\u001b[0m\u001b[0;34m)\u001b[0m\u001b[0;34m\u001b[0m\u001b[0;34m\u001b[0m\u001b[0m\n\u001b[1;32m      6\u001b[0m \u001b[0mx3\u001b[0m\u001b[0;34m=\u001b[0m\u001b[0minput\u001b[0m\u001b[0;34m(\u001b[0m\u001b[0;34m'INDUS:'\u001b[0m\u001b[0;34m)\u001b[0m\u001b[0;34m\u001b[0m\u001b[0;34m\u001b[0m\u001b[0m\n",
            "\u001b[0;31mTypeError\u001b[0m: 'DataFrame' object is not callable"
          ]
        }
      ]
    },
    {
      "cell_type": "code",
      "source": [],
      "metadata": {
        "id": "ohGuYsNVZKX7"
      },
      "execution_count": null,
      "outputs": []
    }
  ]
}