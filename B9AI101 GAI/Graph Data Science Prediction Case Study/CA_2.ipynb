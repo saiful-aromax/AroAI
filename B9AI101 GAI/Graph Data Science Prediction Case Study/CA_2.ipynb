{
 "cells": [
  {
   "cell_type": "markdown",
   "metadata": {
    "colab_type": "text",
    "id": "Q_0aJMr3L851"
   },
   "source": [
    "# Citation Dataset Loading\n",
    "\n",
    "In this notebook we're going to load the citation dataset into Neo4j.\n",
    "\n",
    "First let's import a couple of Python libraries that will help us with this process."
   ]
  },
  {
   "cell_type": "code",
   "execution_count": 2,
   "metadata": {
    "colab": {},
    "colab_type": "code",
    "id": "xFNyJW5QL856",
    "outputId": "156d3775-ad0c-460c-f8a1-2e6c4395ce86"
   },
   "outputs": [
    {
     "name": "stdout",
     "output_type": "stream",
     "text": [
      "Requirement already satisfied: py2neo in c:\\users\\aromax\\appdata\\local\\programs\\python\\python310\\lib\\site-packages (2021.2.3)\n",
      "Requirement already satisfied: pandas in c:\\users\\aromax\\appdata\\local\\programs\\python\\python310\\lib\\site-packages (1.5.3)\n",
      "Requirement already satisfied: pygments>=2.0.0 in c:\\users\\aromax\\appdata\\roaming\\python\\python310\\site-packages (from py2neo) (2.14.0)\n",
      "Requirement already satisfied: monotonic in c:\\users\\aromax\\appdata\\local\\programs\\python\\python310\\lib\\site-packages (from py2neo) (1.6)\n",
      "Requirement already satisfied: certifi in c:\\users\\aromax\\appdata\\local\\programs\\python\\python310\\lib\\site-packages (from py2neo) (2022.12.7)\n",
      "Requirement already satisfied: packaging in c:\\users\\aromax\\appdata\\local\\programs\\python\\python310\\lib\\site-packages (from py2neo) (22.0)\n",
      "Requirement already satisfied: six>=1.15.0 in c:\\users\\aromax\\appdata\\local\\programs\\python\\python310\\lib\\site-packages (from py2neo) (1.16.0)\n",
      "Requirement already satisfied: interchange~=2021.0.4 in c:\\users\\aromax\\appdata\\local\\programs\\python\\python310\\lib\\site-packages (from py2neo) (2021.0.4)\n",
      "Requirement already satisfied: urllib3 in c:\\users\\aromax\\appdata\\local\\programs\\python\\python310\\lib\\site-packages (from py2neo) (1.26.13)\n",
      "Requirement already satisfied: pansi>=2020.7.3 in c:\\users\\aromax\\appdata\\local\\programs\\python\\python310\\lib\\site-packages (from py2neo) (2020.7.3)\n",
      "Requirement already satisfied: numpy>=1.21.0 in c:\\users\\aromax\\appdata\\local\\programs\\python\\python310\\lib\\site-packages (from pandas) (1.23.5)\n",
      "Requirement already satisfied: pytz>=2020.1 in c:\\users\\aromax\\appdata\\local\\programs\\python\\python310\\lib\\site-packages (from pandas) (2022.7.1)\n",
      "Requirement already satisfied: python-dateutil>=2.8.1 in c:\\users\\aromax\\appdata\\local\\programs\\python\\python310\\lib\\site-packages (from pandas) (2.8.2)\n"
     ]
    }
   ],
   "source": [
    "!pip install py2neo pandas"
   ]
  },
  {
   "cell_type": "markdown",
   "metadata": {
    "colab_type": "text",
    "id": "mhPO4sQPL86D"
   },
   "source": [
    "We'll start by importing py2neo library which we'll use to import the data into Neo4j. py2neo is a client library and toolkit for working with Neo4j from within Python applications. It is well suited for Data Science workflows and has great integration with other Python Data Science tools."
   ]
  },
  {
   "cell_type": "code",
   "execution_count": 1,
   "metadata": {
    "colab": {
     "base_uri": "https://localhost:8080/",
     "height": 296
    },
    "colab_type": "code",
    "id": "b3nhBHIgL86E",
    "outputId": "2271d80c-296b-4d25-ad1e-2590cebde4c1"
   },
   "outputs": [],
   "source": [
    "from py2neo import Graph"
   ]
  },
  {
   "cell_type": "markdown",
   "metadata": {
    "colab_type": "text",
    "id": "A6q_MVLlL86H"
   },
   "source": [
    "Create a [Neo4j 3.4 Sandbox](https://neo4j.com/sandbox-v2/) and paste the credentials into the cell below.\n",
    "\n",
    "\n",
    "<div align=\"left\">\n",
    "    <img src=\"https://github.com/mneedham/data-science-training/blob/master/images/sandbox.png?raw=1\" alt=\"Neo4j 3.4 Sandbox\"/>\n",
    "</div>\n"
   ]
  },
  {
   "cell_type": "code",
   "execution_count": 7,
   "metadata": {
    "colab": {},
    "colab_type": "code",
    "id": "Ran4mP5PL86J"
   },
   "outputs": [],
   "source": [
    "# Change the line of code below to use the IP Address, Bolt Port, and Password of your Sandbox.\n",
    "# graph = Graph(\"bolt://<IP Address>:<Bolt Port>\", auth=(\"neo4j\", \"<Password>\")) \n",
    "\n",
    "# graph = Graph(\"bolt://18.234.168.45:33679\", auth=(\"neo4j\", \"daybreak-cosal-rumbles\")) \n",
    "graph = Graph(\"bolt://localhost:7687\", auth=(\"neo4j\", \"87651234\")) "
   ]
  },
  {
   "attachments": {},
   "cell_type": "markdown",
   "metadata": {
    "colab_type": "text",
    "id": "q8FxPFvmL86M"
   },
   "source": [
    "## Loading the data\n",
    "\n",
    "Now let's load the data into the database. We'll create nodes for Articles, Venues, and Authors.\n"
   ]
  },
  {
   "cell_type": "code",
   "execution_count": 8,
   "metadata": {},
   "outputs": [
    {
     "data": {
      "text/html": [
       "<div>\n",
       "<style scoped>\n",
       "    .dataframe tbody tr th:only-of-type {\n",
       "        vertical-align: middle;\n",
       "    }\n",
       "\n",
       "    .dataframe tbody tr th {\n",
       "        vertical-align: top;\n",
       "    }\n",
       "\n",
       "    .dataframe thead th {\n",
       "        text-align: right;\n",
       "    }\n",
       "</style>\n",
       "<table border=\"1\" class=\"dataframe\">\n",
       "  <thead>\n",
       "    <tr style=\"text-align: right;\">\n",
       "      <th></th>\n",
       "    </tr>\n",
       "  </thead>\n",
       "  <tbody>\n",
       "  </tbody>\n",
       "</table>\n",
       "</div>"
      ],
      "text/plain": [
       "Empty DataFrame\n",
       "Columns: []\n",
       "Index: []"
      ]
     },
     "execution_count": 8,
     "metadata": {},
     "output_type": "execute_result"
    }
   ],
   "source": [
    "query = \"\"\"\n",
    "WITH \"https://api.stackexchange.com/2.2/questions?pagesize=100&order=desc&sort=creation&tagged=neo4j&site=stackoverflow&filter=!5-i6Zw8Y)4W7vpy91PMYsKM-k9yzEsSC1_Uxlf\" AS url\n",
    "CALL apoc.load.json(url) YIELD value\n",
    "\n",
    "UNWIND value.items AS q\n",
    "\n",
    "MERGE (question:Question {id:q.question_id})\n",
    "  ON CREATE SET question.title = q.title, question.share_link = q.share_link, question.favorite_count = q.favorite_count, question.creation_date = q.creation_date\n",
    "\"\"\"\n",
    "graph.run(query).to_data_frame()"
   ]
  },
  {
   "cell_type": "code",
   "execution_count": 9,
   "metadata": {},
   "outputs": [
    {
     "data": {
      "text/html": [
       "<div>\n",
       "<style scoped>\n",
       "    .dataframe tbody tr th:only-of-type {\n",
       "        vertical-align: middle;\n",
       "    }\n",
       "\n",
       "    .dataframe tbody tr th {\n",
       "        vertical-align: top;\n",
       "    }\n",
       "\n",
       "    .dataframe thead th {\n",
       "        text-align: right;\n",
       "    }\n",
       "</style>\n",
       "<table border=\"1\" class=\"dataframe\">\n",
       "  <thead>\n",
       "    <tr style=\"text-align: right;\">\n",
       "      <th></th>\n",
       "    </tr>\n",
       "  </thead>\n",
       "  <tbody>\n",
       "  </tbody>\n",
       "</table>\n",
       "</div>"
      ],
      "text/plain": [
       "Empty DataFrame\n",
       "Columns: []\n",
       "Index: []"
      ]
     },
     "execution_count": 9,
     "metadata": {},
     "output_type": "execute_result"
    }
   ],
   "source": [
    "query = \"\"\"\n",
    "WITH \"https://api.stackexchange.com/2.2/questions?pagesize=100&order=desc&sort=creation&tagged=neo4j&site=stackoverflow&filter=!5-i6Zw8Y)4W7vpy91PMYsKM-k9yzEsSC1_Uxlf\" AS url\n",
    "CALL apoc.load.json(url) YIELD value\n",
    "\n",
    "UNWIND value.items AS q\n",
    "MATCH (question:Question {id: q.question_id})\n",
    "MERGE (owner:User {id:q.owner.user_id})\n",
    "  ON CREATE SET owner.display_name = q.owner.display_name\n",
    "MERGE (owner)-[:ASKED]->(question)\n",
    "\"\"\"\n",
    "graph.run(query).to_data_frame()"
   ]
  },
  {
   "cell_type": "code",
   "execution_count": 10,
   "metadata": {},
   "outputs": [
    {
     "data": {
      "text/html": [
       "<div>\n",
       "<style scoped>\n",
       "    .dataframe tbody tr th:only-of-type {\n",
       "        vertical-align: middle;\n",
       "    }\n",
       "\n",
       "    .dataframe tbody tr th {\n",
       "        vertical-align: top;\n",
       "    }\n",
       "\n",
       "    .dataframe thead th {\n",
       "        text-align: right;\n",
       "    }\n",
       "</style>\n",
       "<table border=\"1\" class=\"dataframe\">\n",
       "  <thead>\n",
       "    <tr style=\"text-align: right;\">\n",
       "      <th></th>\n",
       "    </tr>\n",
       "  </thead>\n",
       "  <tbody>\n",
       "  </tbody>\n",
       "</table>\n",
       "</div>"
      ],
      "text/plain": [
       "Empty DataFrame\n",
       "Columns: []\n",
       "Index: []"
      ]
     },
     "execution_count": 10,
     "metadata": {},
     "output_type": "execute_result"
    }
   ],
   "source": [
    "query = \"\"\"\n",
    "WITH \"https://api.stackexchange.com/2.2/questions?pagesize=100&order=desc&sort=creation&tagged=neo4j&site=stackoverflow&filter=!5-i6Zw8Y)4W7vpy91PMYsKM-k9yzEsSC1_Uxlf\" AS url\n",
    "CALL apoc.load.json(url) YIELD value\n",
    "\n",
    "UNWIND value.items AS q\n",
    "MATCH (question:Question {id: q.question_id})\n",
    "\n",
    "FOREACH (tagName IN q.tags | MERGE (tag:Tag {name:tagName}) MERGE (question)-[:TAGGED]->(tag))\n",
    "FOREACH (a IN q.answers |\n",
    "   MERGE (question)<-[:ANSWERED]-(answer:Answer {id:a.answer_id})\n",
    "   MERGE (answerer:User {id:a.owner.user_id}) ON CREATE SET answerer.display_name = a.owner.display_name\n",
    "   MERGE (answer)<-[:PROVIDED]-(answerer)\n",
    ")\n",
    "\"\"\"\n",
    "graph.run(query).to_data_frame()"
   ]
  },
  {
   "attachments": {},
   "cell_type": "markdown",
   "metadata": {},
   "source": [
    "## Create Constraints\n",
    "\n",
    "First let's create some constraints to make sure we don't import duplicate data:"
   ]
  },
  {
   "cell_type": "code",
   "execution_count": 11,
   "metadata": {},
   "outputs": [
    {
     "data": {
      "text/plain": [
       "{'constraints_added': 1}"
      ]
     },
     "metadata": {},
     "output_type": "display_data"
    },
    {
     "data": {
      "text/plain": [
       "{'constraints_added': 1}"
      ]
     },
     "metadata": {},
     "output_type": "display_data"
    },
    {
     "data": {
      "text/plain": [
       "{'constraints_added': 1}"
      ]
     },
     "metadata": {},
     "output_type": "display_data"
    }
   ],
   "source": [
    "display(graph.run(\"CREATE CONSTRAINT on (q:Question) ASSERT q.id IS UNIQUE;\").stats())\n",
    "display(graph.run(\"CREATE CONSTRAINT on (t:Tag) ASSERT t.name IS UNIQUE;\").stats())\n",
    "display(graph.run(\"CREATE CONSTRAINT on (u:User) ASSERT u.id IS UNIQUE;\").stats())"
   ]
  },
  {
   "attachments": {},
   "cell_type": "markdown",
   "metadata": {},
   "source": [
    "# Larger import (10 Pages)"
   ]
  },
  {
   "cell_type": "code",
   "execution_count": null,
   "metadata": {},
   "outputs": [],
   "source": [
    "query = \"\"\"\n",
    "UNWIND range(1,10) as page\n",
    "WITH \"https://api.stackexchange.com/2.2/questions?page=\"+page+\"&pagesize=100&order=desc&sort=creation&tagged=neo4j&site=stackoverflow&filter=!5-i6Zw8Y)4W7vpy91PMYsKM-k9yzEsSC1_Uxlf\" AS url\n",
    "CALL apoc.load.json(url) YIELD value\n",
    "\n",
    "UNWIND value.items AS q\n",
    "\n",
    "MERGE (question:Question {id:q.question_id})\n",
    "  ON CREATE SET question.title = q.title, question.share_link = q.share_link, question.favorite_count = q.favorite_count, question.creation_date = q.creation_date\n",
    "\"\"\"\n",
    "graph.run(query).to_data_frame()"
   ]
  },
  {
   "cell_type": "code",
   "execution_count": null,
   "metadata": {},
   "outputs": [],
   "source": [
    "query = \"\"\"\n",
    "UNWIND range(1,10) as page\n",
    "WITH \"https://api.stackexchange.com/2.2/questions?page=\"+page+\"&pagesize=100&order=desc&sort=creation&tagged=neo4j&site=stackoverflow&filter=!5-i6Zw8Y)4W7vpy91PMYsKM-k9yzEsSC1_Uxlf\" AS url\n",
    "CALL apoc.load.json(url) YIELD value\n",
    "\n",
    "UNWIND value.items AS q\n",
    "MATCH (question:Question {id:q.question_id})\n",
    "\n",
    "MERGE (owner:User {id:coalesce(q.owner.user_id,'deleted')})\n",
    "  ON CREATE SET owner.display_name = q.owner.display_name\n",
    "MERGE (owner)-[:ASKED]->(question)\n",
    "\"\"\"\n",
    "graph.run(query).to_data_frame()"
   ]
  },
  {
   "cell_type": "code",
   "execution_count": null,
   "metadata": {},
   "outputs": [],
   "source": [
    "query = \"\"\"\n",
    "UNWIND range(1,10) as page\n",
    "WITH \"https://api.stackexchange.com/2.2/questions?page=\"+page+\"&pagesize=100&order=desc&sort=creation&tagged=neo4j&site=stackoverflow&filter=!5-i6Zw8Y)4W7vpy91PMYsKM-k9yzEsSC1_Uxlf\" AS url\n",
    "CALL apoc.load.json(url) YIELD value\n",
    "\n",
    "UNWIND value.items AS q\n",
    "MATCH (question:Question {id:q.question_id})\n",
    "\n",
    "FOREACH (tagName IN q.tags | MERGE (tag:Tag {name:tagName}) MERGE (question)-[:TAGGED]->(tag))\n",
    "FOREACH (a IN q.answers |\n",
    "   MERGE (question)<-[:ANSWERED]-(answer:Answer {id:a.answer_id})\n",
    "   MERGE (answerer:User {id:coalesce(a.owner.user_id,'deleted')}) ON CREATE SET answerer.display_name = a.owner.display_name\n",
    "   MERGE (answer)<-[:PROVIDED]-(answerer)\n",
    ")\n",
    "\"\"\"\n",
    "graph.run(query).to_data_frame()"
   ]
  },
  {
   "cell_type": "markdown",
   "metadata": {
    "colab_type": "text",
    "id": "fM9kp06ML86X"
   },
   "source": [
    "In the next notebook we'll explore the data that we've imported. "
   ]
  }
 ],
 "metadata": {
  "colab": {
   "name": "01_DataLoading.ipynb",
   "provenance": [],
   "version": "0.3.2"
  },
  "kernelspec": {
   "display_name": "Python 3",
   "language": "python",
   "name": "python3"
  },
  "language_info": {
   "codemirror_mode": {
    "name": "ipython",
    "version": 3
   },
   "file_extension": ".py",
   "mimetype": "text/x-python",
   "name": "python",
   "nbconvert_exporter": "python",
   "pygments_lexer": "ipython3",
   "version": "3.10.9"
  }
 },
 "nbformat": 4,
 "nbformat_minor": 1
}
