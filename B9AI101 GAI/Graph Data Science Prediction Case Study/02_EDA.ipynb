{
 "cells": [
  {
   "cell_type": "markdown",
   "metadata": {
    "colab_type": "text",
    "id": "puVyd8N9Ia7o"
   },
   "source": [
    "# Exploratory Data Analysis\n",
    "\n",
    "In this notebook we're going to explore the citation dataset that we we imported in the previous notebook. As with the previous notebook let's install and import py2neo and pandas. We'll also install matplotlib to create some charts showing us the shape of the data."
   ]
  },
  {
   "cell_type": "code",
   "execution_count": 1,
   "metadata": {
    "colab": {},
    "colab_type": "code",
    "id": "7IPLJCJ0Ia7w"
   },
   "outputs": [
    {
     "name": "stdout",
     "output_type": "stream",
     "text": [
      "Requirement already satisfied: py2neo in c:\\users\\terhoare\\anaconda3\\lib\\site-packages (2021.0.1)\n",
      "Requirement already satisfied: pandas in c:\\users\\terhoare\\anaconda3\\lib\\site-packages (1.1.3)\n",
      "Requirement already satisfied: matplotlib in c:\\users\\terhoare\\anaconda3\\lib\\site-packages (3.3.2)\n",
      "Requirement already satisfied: cryptography in c:\\users\\terhoare\\anaconda3\\lib\\site-packages (from py2neo) (3.1.1)\n",
      "Requirement already satisfied: monotonic in c:\\users\\terhoare\\anaconda3\\lib\\site-packages (from py2neo) (1.5)\n",
      "Requirement already satisfied: english in c:\\users\\terhoare\\anaconda3\\lib\\site-packages (from py2neo) (2020.7.0)\n",
      "Requirement already satisfied: certifi in c:\\users\\terhoare\\anaconda3\\lib\\site-packages (from py2neo) (2020.6.20)\n",
      "Requirement already satisfied: pytz in c:\\users\\terhoare\\anaconda3\\lib\\site-packages (from py2neo) (2020.1)\n",
      "Requirement already satisfied: packaging in c:\\users\\terhoare\\anaconda3\\lib\\site-packages (from py2neo) (20.4)\n",
      "Requirement already satisfied: docker in c:\\users\\terhoare\\anaconda3\\lib\\site-packages (from py2neo) (4.4.4)\n",
      "Requirement already satisfied: six>=1.15.0 in c:\\users\\terhoare\\anaconda3\\lib\\site-packages (from py2neo) (1.15.0)\n",
      "Requirement already satisfied: pansi>=2020.7.3 in c:\\users\\terhoare\\anaconda3\\lib\\site-packages (from py2neo) (2020.7.3)\n",
      "Requirement already satisfied: urllib3 in c:\\users\\terhoare\\anaconda3\\lib\\site-packages (from py2neo) (1.25.11)\n",
      "Requirement already satisfied: pygments>=2.0.0 in c:\\users\\terhoare\\anaconda3\\lib\\site-packages (from py2neo) (2.7.2)\n",
      "Requirement already satisfied: neotime~=1.7.4 in c:\\users\\terhoare\\anaconda3\\lib\\site-packages (from py2neo) (1.7.4)\n",
      "Requirement already satisfied: prompt-toolkit~=2.0.7 in c:\\users\\terhoare\\anaconda3\\lib\\site-packages (from py2neo) (2.0.10)\n",
      "Requirement already satisfied: python-dateutil>=2.7.3 in c:\\users\\terhoare\\anaconda3\\lib\\site-packages (from pandas) (2.8.1)\n",
      "Requirement already satisfied: numpy>=1.15.4 in c:\\users\\terhoare\\anaconda3\\lib\\site-packages (from pandas) (1.19.2)\n",
      "Requirement already satisfied: cycler>=0.10 in c:\\users\\terhoare\\anaconda3\\lib\\site-packages (from matplotlib) (0.10.0)\n",
      "Requirement already satisfied: kiwisolver>=1.0.1 in c:\\users\\terhoare\\anaconda3\\lib\\site-packages (from matplotlib) (1.3.0)\n",
      "Requirement already satisfied: pyparsing!=2.0.4,!=2.1.2,!=2.1.6,>=2.0.3 in c:\\users\\terhoare\\anaconda3\\lib\\site-packages (from matplotlib) (2.4.7)\n",
      "Requirement already satisfied: pillow>=6.2.0 in c:\\users\\terhoare\\anaconda3\\lib\\site-packages (from matplotlib) (8.0.1)\n",
      "Requirement already satisfied: cffi!=1.11.3,>=1.8 in c:\\users\\terhoare\\anaconda3\\lib\\site-packages (from cryptography->py2neo) (1.14.3)\n",
      "Requirement already satisfied: requests!=2.18.0,>=2.14.2 in c:\\users\\terhoare\\anaconda3\\lib\\site-packages (from docker->py2neo) (2.24.0)\n",
      "Requirement already satisfied: websocket-client>=0.32.0 in c:\\users\\terhoare\\anaconda3\\lib\\site-packages (from docker->py2neo) (0.58.0)\n",
      "Requirement already satisfied: pywin32==227; sys_platform == \"win32\" in c:\\users\\terhoare\\anaconda3\\lib\\site-packages (from docker->py2neo) (227)\n",
      "Requirement already satisfied: wcwidth in c:\\users\\terhoare\\anaconda3\\lib\\site-packages (from prompt-toolkit~=2.0.7->py2neo) (0.2.5)\n",
      "Requirement already satisfied: pycparser in c:\\users\\terhoare\\anaconda3\\lib\\site-packages (from cffi!=1.11.3,>=1.8->cryptography->py2neo) (2.20)\n",
      "Requirement already satisfied: idna<3,>=2.5 in c:\\users\\terhoare\\anaconda3\\lib\\site-packages (from requests!=2.18.0,>=2.14.2->docker->py2neo) (2.10)\n",
      "Requirement already satisfied: chardet<4,>=3.0.2 in c:\\users\\terhoare\\anaconda3\\lib\\site-packages (from requests!=2.18.0,>=2.14.2->docker->py2neo) (3.0.4)\n"
     ]
    }
   ],
   "source": [
    "!pip install py2neo pandas matplotlib"
   ]
  },
  {
   "cell_type": "markdown",
   "metadata": {
    "colab_type": "text",
    "id": "NhXqyMs-Ia70"
   },
   "source": [
    "And let's import those libraries:"
   ]
  },
  {
   "cell_type": "code",
   "execution_count": 2,
   "metadata": {
    "colab": {},
    "colab_type": "code",
    "id": "xSA_HV0DIa71"
   },
   "outputs": [],
   "source": [
    "from py2neo import Graph\n",
    "import pandas as pd\n",
    "\n",
    "import matplotlib \n",
    "import matplotlib.pyplot as plt\n",
    "\n",
    "plt.style.use('fivethirtyeight')\n",
    "pd.set_option('display.float_format', lambda x: '%.3f' % x)"
   ]
  },
  {
   "cell_type": "markdown",
   "metadata": {
    "colab_type": "text",
    "id": "Wls3Fs7pIa75"
   },
   "source": [
    "\n",
    "Update the cell below with the same Sandbox credentials that you used in the first notebook:"
   ]
  },
  {
   "cell_type": "code",
   "execution_count": 3,
   "metadata": {
    "colab": {},
    "colab_type": "code",
    "id": "mIGPSDEKIa76"
   },
   "outputs": [],
   "source": [
    "# Change the line of code below to use the IP Address, Bolt Port, and Password of your Sandbox.\n",
    "# graph = Graph(\"bolt://<IP Address>:<Bolt Port>\", auth=(\"neo4j\", \"<Password>\")) \n",
    "\n",
    "# graph = Graph(\"bolt://18.234.168.45:33679\", auth=(\"neo4j\", \"daybreak-cosal-rumbles\")) \n",
    "# graph = Graph(\"bolt://localhost\", auth=(\"neo4j\", \"neo\")) \n",
    "graph = Graph(\"bolt://localhost:7687\", auth=(\"neo4j\", \"87651234\")) "
   ]
  },
  {
   "cell_type": "markdown",
   "metadata": {
    "colab_type": "text",
    "id": "65EGO8yuIa7-"
   },
   "source": [
    "## What's in our database?\n",
    "\n",
    "Now we can run the following query to check how many nodes our database contains:"
   ]
  },
  {
   "cell_type": "code",
   "execution_count": 4,
   "metadata": {
    "colab": {},
    "colab_type": "code",
    "id": "-AbQJHn7Ia7_",
    "outputId": "5b0c90ea-1523-4cc8-bc24-f0e5fdfd8ba1"
   },
   "outputs": [
    {
     "data": {
      "text/plain": [
       "[{'nodes': [Node('Answer', constraints=[], indexes=[], name='Answer'),\n",
       "   Node('User', constraints=[\"Constraint( id=6, name='constraint_47e7f15d', type='UNIQUENESS', schema=(:User {id}), ownedIndex=5 )\"], indexes=[], name='User'),\n",
       "   Node('Question', constraints=[\"Constraint( id=2, name='constraint_f06c84a5', type='UNIQUENESS', schema=(:Question {id}), ownedIndex=1 )\"], indexes=[], name='Question'),\n",
       "   Node('Tag', constraints=[\"Constraint( id=4, name='constraint_64b1b1cf', type='UNIQUENESS', schema=(:Tag {name}), ownedIndex=3 )\"], indexes=[], name='Tag')],\n",
       "  'relationships': [TAGGED(Node(), Node()),\n",
       "   ASKED(Node(), Node()),\n",
       "   ANSWERED(Node(), Node()),\n",
       "   PROVIDED(Node(), Node())]}]"
      ]
     },
     "execution_count": 4,
     "metadata": {},
     "output_type": "execute_result"
    }
   ],
   "source": [
    "graph.run(\"CALL db.schema.visualization()\").data()"
   ]
  },
  {
   "cell_type": "markdown",
   "metadata": {
    "colab_type": "text",
    "id": "_OS2SBaPIa8G"
   },
   "source": [
    "If we run that query in the Neo4j Browser, we'll see the following visualisation:\n",
    "\n",
    "<img src=\"https://github.com/mneedham/data-science-training/blob/master/images/data-science-training.png?raw=1\" alt=\"Graph Data Model\"/>\n"
   ]
  },
  {
   "cell_type": "markdown",
   "metadata": {
    "colab_type": "text",
    "id": "wUFE6npjIa8H"
   },
   "source": [
    "Let's drill down a bit. How many nodes do we have for each of these labels?"
   ]
  },
  {
   "cell_type": "code",
   "execution_count": 5,
   "metadata": {
    "colab": {},
    "colab_type": "code",
    "id": "zBew9RbLIa8I",
    "outputId": "d974582d-a95f-4d4e-ef14-d7f4df8d14b7"
   },
   "outputs": [
    {
     "data": {
      "text/html": [
       "<div>\n",
       "<style scoped>\n",
       "    .dataframe tbody tr th:only-of-type {\n",
       "        vertical-align: middle;\n",
       "    }\n",
       "\n",
       "    .dataframe tbody tr th {\n",
       "        vertical-align: top;\n",
       "    }\n",
       "\n",
       "    .dataframe thead th {\n",
       "        text-align: right;\n",
       "    }\n",
       "</style>\n",
       "<table border=\"1\" class=\"dataframe\">\n",
       "  <thead>\n",
       "    <tr style=\"text-align: right;\">\n",
       "      <th></th>\n",
       "      <th>label</th>\n",
       "      <th>count</th>\n",
       "    </tr>\n",
       "  </thead>\n",
       "  <tbody>\n",
       "    <tr>\n",
       "      <th>2</th>\n",
       "      <td>Tag</td>\n",
       "      <td>395</td>\n",
       "    </tr>\n",
       "    <tr>\n",
       "      <th>1</th>\n",
       "      <td>User</td>\n",
       "      <td>795</td>\n",
       "    </tr>\n",
       "    <tr>\n",
       "      <th>3</th>\n",
       "      <td>Answer</td>\n",
       "      <td>883</td>\n",
       "    </tr>\n",
       "    <tr>\n",
       "      <th>0</th>\n",
       "      <td>Question</td>\n",
       "      <td>998</td>\n",
       "    </tr>\n",
       "  </tbody>\n",
       "</table>\n",
       "</div>"
      ],
      "text/plain": [
       "      label  count\n",
       "2       Tag    395\n",
       "1      User    795\n",
       "3    Answer    883\n",
       "0  Question    998"
      ]
     },
     "execution_count": 5,
     "metadata": {},
     "output_type": "execute_result"
    }
   ],
   "source": [
    "result = {\"label\": [], \"count\": []}\n",
    "for label in graph.run(\"CALL db.labels()\").to_series():\n",
    "    query = f\"MATCH (:`{label}`) RETURN count(*) as count\"\n",
    "    count = graph.run(query).to_data_frame().iloc[0]['count']\n",
    "    result[\"label\"].append(label)\n",
    "    result[\"count\"].append(count)\n",
    "nodes_df = pd.DataFrame(data=result)\n",
    "nodes_df.sort_values(\"count\")"
   ]
  },
  {
   "cell_type": "markdown",
   "metadata": {
    "colab_type": "text",
    "id": "Bi1DDoF3Ia8M"
   },
   "source": [
    "We can visualize this counts using matplotlib with the following code:"
   ]
  },
  {
   "cell_type": "code",
   "execution_count": 6,
   "metadata": {
    "colab": {},
    "colab_type": "code",
    "id": "yJNt43buIa8N",
    "outputId": "c8277628-8481-48d5-8464-93a3f9b49058"
   },
   "outputs": [
    {
     "data": {
      "image/png": "[encoded data removed]",
      "text/plain": [
       "<Figure size 640x480 with 1 Axes>"
      ]
     },
     "metadata": {},
     "output_type": "display_data"
    }
   ],
   "source": [
    "nodes_df.plot(kind='bar', x='label', y='count', legend=None, title=\"Node Cardinalities\")\n",
    "plt.yscale(\"log\")\n",
    "plt.xticks(rotation=45)\n",
    "plt.tight_layout()\n",
    "plt.show()"
   ]
  },
  {
   "cell_type": "markdown",
   "metadata": {
    "colab_type": "text",
    "id": "qK5W8mVhIa8R"
   },
   "source": [
    "And what types of relationships do we have?"
   ]
  },
  {
   "cell_type": "code",
   "execution_count": 7,
   "metadata": {
    "colab": {},
    "colab_type": "code",
    "id": "DROzh6dMIa8S",
    "outputId": "9a26904a-b163-47f3-a60f-c7352a9faf4e"
   },
   "outputs": [
    {
     "data": {
      "text/html": [
       "<div>\n",
       "<style scoped>\n",
       "    .dataframe tbody tr th:only-of-type {\n",
       "        vertical-align: middle;\n",
       "    }\n",
       "\n",
       "    .dataframe tbody tr th {\n",
       "        vertical-align: top;\n",
       "    }\n",
       "\n",
       "    .dataframe thead th {\n",
       "        text-align: right;\n",
       "    }\n",
       "</style>\n",
       "<table border=\"1\" class=\"dataframe\">\n",
       "  <thead>\n",
       "    <tr style=\"text-align: right;\">\n",
       "      <th></th>\n",
       "      <th>relType</th>\n",
       "      <th>count</th>\n",
       "    </tr>\n",
       "  </thead>\n",
       "  <tbody>\n",
       "    <tr>\n",
       "      <th>2</th>\n",
       "      <td>ANSWERED</td>\n",
       "      <td>883</td>\n",
       "    </tr>\n",
       "    <tr>\n",
       "      <th>3</th>\n",
       "      <td>PROVIDED</td>\n",
       "      <td>883</td>\n",
       "    </tr>\n",
       "    <tr>\n",
       "      <th>0</th>\n",
       "      <td>ASKED</td>\n",
       "      <td>995</td>\n",
       "    </tr>\n",
       "    <tr>\n",
       "      <th>1</th>\n",
       "      <td>TAGGED</td>\n",
       "      <td>2836</td>\n",
       "    </tr>\n",
       "  </tbody>\n",
       "</table>\n",
       "</div>"
      ],
      "text/plain": [
       "    relType  count\n",
       "2  ANSWERED    883\n",
       "3  PROVIDED    883\n",
       "0     ASKED    995\n",
       "1    TAGGED   2836"
      ]
     },
     "execution_count": 7,
     "metadata": {},
     "output_type": "execute_result"
    }
   ],
   "source": [
    "result = {\"relType\": [], \"count\": []}\n",
    "for relationship_type in graph.run(\"CALL db.relationshipTypes()\").to_series():\n",
    "    query = f\"MATCH ()-[:`{relationship_type}`]->() RETURN count(*) as count\"\n",
    "    count = graph.run(query).to_data_frame().iloc[0]['count']\n",
    "    result[\"relType\"].append(relationship_type)\n",
    "    result[\"count\"].append(count)\n",
    "rels_df = pd.DataFrame(data=result)\n",
    "rels_df.sort_values(\"count\")"
   ]
  },
  {
   "cell_type": "markdown",
   "metadata": {
    "colab_type": "text",
    "id": "cQhmtp7MIa8W"
   },
   "source": [
    "We can visualize this counts using matplotlib with the following code:"
   ]
  },
  {
   "cell_type": "code",
   "execution_count": 8,
   "metadata": {
    "colab": {},
    "colab_type": "code",
    "id": "oPLkcusBIa8e",
    "outputId": "e49890b8-fcc5-495d-b283-e0462da5bc6f"
   },
   "outputs": [
    {
     "data": {
      "image/png": "[encoded data removed]",
      "text/plain": [
       "<Figure size 640x480 with 1 Axes>"
      ]
     },
     "metadata": {},
     "output_type": "display_data"
    }
   ],
   "source": [
    "rels_df.plot(kind='bar', x='relType', y='count', legend=None, title=\"Relationship Cardinalities\")\n",
    "plt.xticks(rotation=45)\n",
    "plt.tight_layout()\n",
    "plt.show()"
   ]
  },
  {
   "cell_type": "markdown",
   "metadata": {
    "colab_type": "text",
    "id": "3pcy2WusIa8u"
   },
   "source": [
    "Now let's explore the citation data. The following query finds 25 authors, articles, venues, and also shows the number of articles that article has cited, as well as the number of articles that it's been cited by."
   ]
  },
  {
   "cell_type": "code",
   "execution_count": 9,
   "metadata": {
    "colab": {},
    "colab_type": "code",
    "id": "CYhvaiKZIa8w",
    "outputId": "5ca8ca4f-51e7-4429-8e59-dbea1b06fccf"
   },
   "outputs": [
    {
     "data": {
      "text/html": [
       "<div>\n",
       "<style scoped>\n",
       "    .dataframe tbody tr th:only-of-type {\n",
       "        vertical-align: middle;\n",
       "    }\n",
       "\n",
       "    .dataframe tbody tr th {\n",
       "        vertical-align: top;\n",
       "    }\n",
       "\n",
       "    .dataframe thead th {\n",
       "        text-align: right;\n",
       "    }\n",
       "</style>\n",
       "<table border=\"1\" class=\"dataframe\">\n",
       "  <thead>\n",
       "    <tr style=\"text-align: right;\">\n",
       "      <th></th>\n",
       "      <th>article</th>\n",
       "      <th>author</th>\n",
       "      <th>venue</th>\n",
       "      <th>citationsGiven</th>\n",
       "      <th>citationsReceived</th>\n",
       "    </tr>\n",
       "  </thead>\n",
       "  <tbody>\n",
       "    <tr>\n",
       "      <th>0</th>\n",
       "      <td>FT-Java: A Java-Based Framework for Fault-Tole...</td>\n",
       "      <td>Andrew McMullen</td>\n",
       "      <td>Lecture Notes in Computer Science</td>\n",
       "      <td>7</td>\n",
       "      <td>0</td>\n",
       "    </tr>\n",
       "    <tr>\n",
       "      <th>1</th>\n",
       "      <td>A Technique for Upgrading Database Machines On...</td>\n",
       "      <td>Jiahong Wang</td>\n",
       "      <td>Lecture Notes in Computer Science</td>\n",
       "      <td>5</td>\n",
       "      <td>0</td>\n",
       "    </tr>\n",
       "    <tr>\n",
       "      <th>2</th>\n",
       "      <td>On the morphological processing of objects wit...</td>\n",
       "      <td>Pierre Soille</td>\n",
       "      <td>Lecture Notes in Computer Science</td>\n",
       "      <td>0</td>\n",
       "      <td>0</td>\n",
       "    </tr>\n",
       "    <tr>\n",
       "      <th>3</th>\n",
       "      <td>Cryptanalysis of Vortex</td>\n",
       "      <td>Søren S. Thomsen</td>\n",
       "      <td>Lecture Notes in Computer Science</td>\n",
       "      <td>0</td>\n",
       "      <td>0</td>\n",
       "    </tr>\n",
       "    <tr>\n",
       "      <th>4</th>\n",
       "      <td>Railway track breakage detection method using ...</td>\n",
       "      <td>Kalpana Sharma</td>\n",
       "      <td>advances in computing and communications</td>\n",
       "      <td>4</td>\n",
       "      <td>0</td>\n",
       "    </tr>\n",
       "    <tr>\n",
       "      <th>5</th>\n",
       "      <td>Transforming Fundamental Set of Patterns to a ...</td>\n",
       "      <td>Roberto Antonio Vázquez</td>\n",
       "      <td>Lecture Notes in Computer Science</td>\n",
       "      <td>4</td>\n",
       "      <td>0</td>\n",
       "    </tr>\n",
       "    <tr>\n",
       "      <th>6</th>\n",
       "      <td>The Uniformity Conjecture</td>\n",
       "      <td>Daniel Richardson</td>\n",
       "      <td>Lecture Notes in Computer Science</td>\n",
       "      <td>0</td>\n",
       "      <td>0</td>\n",
       "    </tr>\n",
       "    <tr>\n",
       "      <th>7</th>\n",
       "      <td>Autonomous gossiping of information in a p2p n...</td>\n",
       "      <td>Nicolas Monmarché</td>\n",
       "      <td>Lecture Notes in Computer Science</td>\n",
       "      <td>14</td>\n",
       "      <td>0</td>\n",
       "    </tr>\n",
       "    <tr>\n",
       "      <th>8</th>\n",
       "      <td>Managerial IT unconsciousness</td>\n",
       "      <td>David W. Wilson</td>\n",
       "      <td>Communications of The ACM</td>\n",
       "      <td>2</td>\n",
       "      <td>0</td>\n",
       "    </tr>\n",
       "    <tr>\n",
       "      <th>9</th>\n",
       "      <td>Testing Made Palatable.</td>\n",
       "      <td>Marc Rettig</td>\n",
       "      <td>Communications of The ACM</td>\n",
       "      <td>0</td>\n",
       "      <td>0</td>\n",
       "    </tr>\n",
       "    <tr>\n",
       "      <th>10</th>\n",
       "      <td>Using artificial intelligence in wireless sens...</td>\n",
       "      <td>Carlos León</td>\n",
       "      <td>Lecture Notes in Computer Science</td>\n",
       "      <td>7</td>\n",
       "      <td>0</td>\n",
       "    </tr>\n",
       "    <tr>\n",
       "      <th>11</th>\n",
       "      <td>How Amazon web services uses formal methods</td>\n",
       "      <td>Michael Deardeuff</td>\n",
       "      <td>Communications of The ACM</td>\n",
       "      <td>9</td>\n",
       "      <td>2</td>\n",
       "    </tr>\n",
       "    <tr>\n",
       "      <th>12</th>\n",
       "      <td>H.323 Videoconference over Native ATM</td>\n",
       "      <td>Mário Serafim Nunes</td>\n",
       "      <td>Lecture Notes in Computer Science</td>\n",
       "      <td>1</td>\n",
       "      <td>0</td>\n",
       "    </tr>\n",
       "    <tr>\n",
       "      <th>13</th>\n",
       "      <td>ECN marking for congestion control in multihop...</td>\n",
       "      <td>Vasilios A. Siris</td>\n",
       "      <td>Lecture Notes in Computer Science</td>\n",
       "      <td>0</td>\n",
       "      <td>0</td>\n",
       "    </tr>\n",
       "    <tr>\n",
       "      <th>14</th>\n",
       "      <td>Emerging information technologies: developing ...</td>\n",
       "      <td>Brian J. Reithel</td>\n",
       "      <td>Communications of The ACM</td>\n",
       "      <td>3</td>\n",
       "      <td>0</td>\n",
       "    </tr>\n",
       "    <tr>\n",
       "      <th>15</th>\n",
       "      <td>Post-process feedback with and without attribu...</td>\n",
       "      <td>Norman Roth</td>\n",
       "      <td>international conference on software engineering</td>\n",
       "      <td>12</td>\n",
       "      <td>0</td>\n",
       "    </tr>\n",
       "    <tr>\n",
       "      <th>16</th>\n",
       "      <td>Optimal parallel I/O for range queries through...</td>\n",
       "      <td>Mikhail Atallah</td>\n",
       "      <td>Lecture Notes in Computer Science</td>\n",
       "      <td>0</td>\n",
       "      <td>0</td>\n",
       "    </tr>\n",
       "    <tr>\n",
       "      <th>17</th>\n",
       "      <td>Intelligent information retrieval for Tsunami ...</td>\n",
       "      <td>Nikita Jain</td>\n",
       "      <td>advances in computing and communications</td>\n",
       "      <td>2</td>\n",
       "      <td>0</td>\n",
       "    </tr>\n",
       "    <tr>\n",
       "      <th>18</th>\n",
       "      <td>FolksoViz: A Semantic Relation-Based Folksonom...</td>\n",
       "      <td>Hyun-Woo Kim</td>\n",
       "      <td>international conference on software engineering</td>\n",
       "      <td>4</td>\n",
       "      <td>0</td>\n",
       "    </tr>\n",
       "    <tr>\n",
       "      <th>19</th>\n",
       "      <td>Relevance ranking metrics for learning objects</td>\n",
       "      <td>Erik Duval</td>\n",
       "      <td>Lecture Notes in Computer Science</td>\n",
       "      <td>0</td>\n",
       "      <td>0</td>\n",
       "    </tr>\n",
       "    <tr>\n",
       "      <th>20</th>\n",
       "      <td>A Proposal for Inter-domain QoS Routing Based ...</td>\n",
       "      <td>Xavier Masip-Bruin</td>\n",
       "      <td>Lecture Notes in Computer Science</td>\n",
       "      <td>4</td>\n",
       "      <td>0</td>\n",
       "    </tr>\n",
       "    <tr>\n",
       "      <th>21</th>\n",
       "      <td>The Hybrid Guaranteed Capture Basin Algorithm ...</td>\n",
       "      <td>Noël Bonneuil</td>\n",
       "      <td>Lecture Notes in Computer Science</td>\n",
       "      <td>2</td>\n",
       "      <td>0</td>\n",
       "    </tr>\n",
       "    <tr>\n",
       "      <th>22</th>\n",
       "      <td>Palmprint Authentication by Phase Congruency F...</td>\n",
       "      <td>Ratna Dahiya</td>\n",
       "      <td>advances in computing and communications</td>\n",
       "      <td>15</td>\n",
       "      <td>0</td>\n",
       "    </tr>\n",
       "    <tr>\n",
       "      <th>23</th>\n",
       "      <td>The Implementation of One-Sided Communications...</td>\n",
       "      <td>João Gabriel Silva</td>\n",
       "      <td>Lecture Notes in Computer Science</td>\n",
       "      <td>7</td>\n",
       "      <td>0</td>\n",
       "    </tr>\n",
       "    <tr>\n",
       "      <th>24</th>\n",
       "      <td>Sound transaction-based reduction without cycl...</td>\n",
       "      <td>Shaz Qadeer</td>\n",
       "      <td>Lecture Notes in Computer Science</td>\n",
       "      <td>22</td>\n",
       "      <td>1</td>\n",
       "    </tr>\n",
       "  </tbody>\n",
       "</table>\n",
       "</div>"
      ],
      "text/plain": [
       "                                              article  \\\n",
       "0   FT-Java: A Java-Based Framework for Fault-Tole...   \n",
       "1   A Technique for Upgrading Database Machines On...   \n",
       "2   On the morphological processing of objects wit...   \n",
       "3                             Cryptanalysis of Vortex   \n",
       "4   Railway track breakage detection method using ...   \n",
       "5   Transforming Fundamental Set of Patterns to a ...   \n",
       "6                           The Uniformity Conjecture   \n",
       "7   Autonomous gossiping of information in a p2p n...   \n",
       "8                       Managerial IT unconsciousness   \n",
       "9                             Testing Made Palatable.   \n",
       "10  Using artificial intelligence in wireless sens...   \n",
       "11        How Amazon web services uses formal methods   \n",
       "12              H.323 Videoconference over Native ATM   \n",
       "13  ECN marking for congestion control in multihop...   \n",
       "14  Emerging information technologies: developing ...   \n",
       "15  Post-process feedback with and without attribu...   \n",
       "16  Optimal parallel I/O for range queries through...   \n",
       "17  Intelligent information retrieval for Tsunami ...   \n",
       "18  FolksoViz: A Semantic Relation-Based Folksonom...   \n",
       "19     Relevance ranking metrics for learning objects   \n",
       "20  A Proposal for Inter-domain QoS Routing Based ...   \n",
       "21  The Hybrid Guaranteed Capture Basin Algorithm ...   \n",
       "22  Palmprint Authentication by Phase Congruency F...   \n",
       "23  The Implementation of One-Sided Communications...   \n",
       "24  Sound transaction-based reduction without cycl...   \n",
       "\n",
       "                     author                                             venue  \\\n",
       "0           Andrew McMullen                 Lecture Notes in Computer Science   \n",
       "1              Jiahong Wang                 Lecture Notes in Computer Science   \n",
       "2             Pierre Soille                 Lecture Notes in Computer Science   \n",
       "3          Søren S. Thomsen                 Lecture Notes in Computer Science   \n",
       "4            Kalpana Sharma          advances in computing and communications   \n",
       "5   Roberto Antonio Vázquez                 Lecture Notes in Computer Science   \n",
       "6         Daniel Richardson                 Lecture Notes in Computer Science   \n",
       "7         Nicolas Monmarché                 Lecture Notes in Computer Science   \n",
       "8           David W. Wilson                         Communications of The ACM   \n",
       "9               Marc Rettig                         Communications of The ACM   \n",
       "10              Carlos León                 Lecture Notes in Computer Science   \n",
       "11        Michael Deardeuff                         Communications of The ACM   \n",
       "12      Mário Serafim Nunes                 Lecture Notes in Computer Science   \n",
       "13        Vasilios A. Siris                 Lecture Notes in Computer Science   \n",
       "14         Brian J. Reithel                         Communications of The ACM   \n",
       "15              Norman Roth  international conference on software engineering   \n",
       "16          Mikhail Atallah                 Lecture Notes in Computer Science   \n",
       "17              Nikita Jain          advances in computing and communications   \n",
       "18             Hyun-Woo Kim  international conference on software engineering   \n",
       "19               Erik Duval                 Lecture Notes in Computer Science   \n",
       "20       Xavier Masip-Bruin                 Lecture Notes in Computer Science   \n",
       "21            Noël Bonneuil                 Lecture Notes in Computer Science   \n",
       "22             Ratna Dahiya          advances in computing and communications   \n",
       "23       João Gabriel Silva                 Lecture Notes in Computer Science   \n",
       "24              Shaz Qadeer                 Lecture Notes in Computer Science   \n",
       "\n",
       "    citationsGiven  citationsReceived  \n",
       "0                7                  0  \n",
       "1                5                  0  \n",
       "2                0                  0  \n",
       "3                0                  0  \n",
       "4                4                  0  \n",
       "5                4                  0  \n",
       "6                0                  0  \n",
       "7               14                  0  \n",
       "8                2                  0  \n",
       "9                0                  0  \n",
       "10               7                  0  \n",
       "11               9                  2  \n",
       "12               1                  0  \n",
       "13               0                  0  \n",
       "14               3                  0  \n",
       "15              12                  0  \n",
       "16               0                  0  \n",
       "17               2                  0  \n",
       "18               4                  0  \n",
       "19               0                  0  \n",
       "20               4                  0  \n",
       "21               2                  0  \n",
       "22              15                  0  \n",
       "23               7                  0  \n",
       "24              22                  1  "
      ]
     },
     "execution_count": 9,
     "metadata": {},
     "output_type": "execute_result"
    }
   ],
   "source": [
    "exploratory_query = \"\"\"\n",
    "MATCH (author:Author)<-[:AUTHOR]-(article:Article)-[:VENUE]->(venue)\n",
    "RETURN article.title AS article, author.name AS author, venue.name AS venue, \n",
    "       size((article)-[:CITED]->()) AS citationsGiven, size((article)<-[:CITED]-()) AS citationsReceived\n",
    "ORDER BY rand()\n",
    "LIMIT 25\n",
    "\"\"\"\n",
    "\n",
    "graph.run(exploratory_query).to_data_frame()"
   ]
  },
  {
   "cell_type": "markdown",
   "metadata": {
    "colab_type": "text",
    "id": "ZSMnz__hIa87"
   },
   "source": [
    "Let's look into the citation data more closely."
   ]
  },
  {
   "cell_type": "code",
   "execution_count": 10,
   "metadata": {
    "colab": {},
    "colab_type": "code",
    "id": "dXGEMqnpIa8-",
    "outputId": "a783557f-3bcf-4a41-8cb1-c243dba97cbf"
   },
   "outputs": [
    {
     "data": {
      "text/html": [
       "<div>\n",
       "<style scoped>\n",
       "    .dataframe tbody tr th:only-of-type {\n",
       "        vertical-align: middle;\n",
       "    }\n",
       "\n",
       "    .dataframe tbody tr th {\n",
       "        vertical-align: top;\n",
       "    }\n",
       "\n",
       "    .dataframe thead th {\n",
       "        text-align: right;\n",
       "    }\n",
       "</style>\n",
       "<table border=\"1\" class=\"dataframe\">\n",
       "  <thead>\n",
       "    <tr style=\"text-align: right;\">\n",
       "      <th></th>\n",
       "      <th>citations</th>\n",
       "    </tr>\n",
       "  </thead>\n",
       "  <tbody>\n",
       "    <tr>\n",
       "      <th>count</th>\n",
       "      <td>184313.000</td>\n",
       "    </tr>\n",
       "    <tr>\n",
       "      <th>mean</th>\n",
       "      <td>1.573</td>\n",
       "    </tr>\n",
       "    <tr>\n",
       "      <th>std</th>\n",
       "      <td>3.386</td>\n",
       "    </tr>\n",
       "    <tr>\n",
       "      <th>min</th>\n",
       "      <td>0.000</td>\n",
       "    </tr>\n",
       "    <tr>\n",
       "      <th>25%</th>\n",
       "      <td>1.000</td>\n",
       "    </tr>\n",
       "    <tr>\n",
       "      <th>50%</th>\n",
       "      <td>1.000</td>\n",
       "    </tr>\n",
       "    <tr>\n",
       "      <th>75%</th>\n",
       "      <td>2.000</td>\n",
       "    </tr>\n",
       "    <tr>\n",
       "      <th>90%</th>\n",
       "      <td>3.000</td>\n",
       "    </tr>\n",
       "    <tr>\n",
       "      <th>99%</th>\n",
       "      <td>12.000</td>\n",
       "    </tr>\n",
       "    <tr>\n",
       "      <th>max</th>\n",
       "      <td>276.000</td>\n",
       "    </tr>\n",
       "  </tbody>\n",
       "</table>\n",
       "</div>"
      ],
      "text/plain": [
       "       citations\n",
       "count 184313.000\n",
       "mean       1.573\n",
       "std        3.386\n",
       "min        0.000\n",
       "25%        1.000\n",
       "50%        1.000\n",
       "75%        2.000\n",
       "90%        3.000\n",
       "99%       12.000\n",
       "max      276.000"
      ]
     },
     "execution_count": 10,
     "metadata": {},
     "output_type": "execute_result"
    }
   ],
   "source": [
    "query = \"\"\"\n",
    "MATCH (a:Article)\n",
    "RETURN size((a)<-[:CITED]-()) AS citations\n",
    "\"\"\"\n",
    "\n",
    "citation_df = graph.run(query).to_data_frame()\n",
    "citation_df.describe([.25, .5, .75, .9, .99])"
   ]
  },
  {
   "cell_type": "markdown",
   "metadata": {
    "colab_type": "text",
    "id": "37RCc6XGIa9J"
   },
   "source": [
    "Most articles are being cited very few times. 75% of articles have 3 citations or less. We do, however, have one article that's been cited more than 1,000 times. We'll use a log scale histogram to visualise the data;"
   ]
  },
  {
   "cell_type": "code",
   "execution_count": 10,
   "metadata": {
    "colab": {},
    "colab_type": "code",
    "id": "uUYOoWBzIa9L",
    "outputId": "a2acf61c-10af-4f0c-d881-d5addf4b31e2"
   },
   "outputs": [
    {
     "data": {
      "image/png": "[encoded data removed]",
      "text/plain": [
       "<Figure size 640x480 with 1 Axes>"
      ]
     },
     "metadata": {},
     "output_type": "display_data"
    }
   ],
   "source": [
    "fig1, ax1 = plt.subplots()\n",
    "ax1.hist(pd.Series(citation_df['citations'].dropna()), 1250, density=True, facecolor='g', alpha=0.75)\n",
    "ax1.set_xscale(\"log\")\n",
    "plt.tight_layout()\n",
    "plt.show()"
   ]
  },
  {
   "cell_type": "markdown",
   "metadata": {
    "colab_type": "text",
    "id": "NoPYqJdHIa9Z"
   },
   "source": [
    "## Exercise\n",
    "\n",
    "* Can you create a similar chart showing the articles that cite the most other papers?\n",
    "* What about a distribution of the number of articles published by authors?"
   ]
  }
 ],
 "metadata": {
  "colab": {
   "name": "02_EDA.ipynb",
   "provenance": [],
   "version": "0.3.2"
  },
  "kernelspec": {
   "display_name": "Python 3",
   "language": "python",
   "name": "python3"
  },
  "language_info": {
   "codemirror_mode": {
    "name": "ipython",
    "version": 3
   },
   "file_extension": ".py",
   "mimetype": "text/x-python",
   "name": "python",
   "nbconvert_exporter": "python",
   "pygments_lexer": "ipython3",
   "version": "3.10.9"
  }
 },
 "nbformat": 4,
 "nbformat_minor": 1
}
