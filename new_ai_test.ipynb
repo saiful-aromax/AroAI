{
 "cells": [
  {
   "cell_type": "code",
   "execution_count": 25,
   "metadata": {},
   "outputs": [
    {
     "ename": "ValueError",
     "evalue": "invalid literal for int() with base 10: ''",
     "output_type": "error",
     "traceback": [
      "\u001b[1;31m---------------------------------------------------------------------------\u001b[0m",
      "\u001b[1;31mValueError\u001b[0m                                Traceback (most recent call last)",
      "Cell \u001b[1;32mIn[25], line 3\u001b[0m\n\u001b[0;32m      1\u001b[0m weight \u001b[39m=\u001b[39m \u001b[39minput\u001b[39m(\u001b[39m'\u001b[39m\u001b[39mEnter baggage weight: \u001b[39m\u001b[39m'\u001b[39m)\n\u001b[1;32m----> 3\u001b[0m weight \u001b[39m=\u001b[39m \u001b[39mint\u001b[39;49m(weight)\n\u001b[0;32m      4\u001b[0m \u001b[39mif\u001b[39;00m (weight \u001b[39m>\u001b[39m \u001b[39m15\u001b[39m):\n\u001b[0;32m      5\u001b[0m     \u001b[39mprint\u001b[39m(\u001b[39m'\u001b[39m\u001b[39mLimit Exceeds!\u001b[39m\u001b[39m'\u001b[39m)\n",
      "\u001b[1;31mValueError\u001b[0m: invalid literal for int() with base 10: ''"
     ]
    }
   ],
   "source": [
    "weight = input('Enter baggage weight: ')\n",
    "\n",
    "weight = int(weight)\n",
    "if (weight > 15):\n",
    "    print('Limit Exceeds!')\n"
   ]
  },
  {
   "cell_type": "code",
   "execution_count": null,
   "metadata": {},
   "outputs": [],
   "source": [
    "\n",
    "initial_weight = int(input(\"what is the intial weight? \"))\n",
    "while (initial_weight > 15):\n",
    "    print('Too much weight!')\n",
    "    reduced_weight = int(input(\"how much redued?: \"))\n",
    "    initial_weight = initial_weight - reduced_weight\n"
   ]
  },
  {
   "cell_type": "code",
   "execution_count": null,
   "metadata": {},
   "outputs": [
    {
     "name": "stdout",
     "output_type": "stream",
     "text": [
      "<numpy.nditer object at 0x0000020BC22DDC50>\n",
      "hello 0\n",
      "hello 1\n",
      "hello 2\n",
      "hello 3\n",
      "hello 4\n",
      "hello 5\n",
      "hello 6\n",
      "hello 7\n",
      "hello 8\n",
      "hello 9\n",
      "hello 10\n",
      "hello 11\n",
      "hello 12\n",
      "hello 13\n",
      "hello 14\n",
      "hello 15\n",
      "hello 16\n",
      "hello 17\n",
      "hello 18\n",
      "hello 19\n",
      "hello 20\n",
      "hello 21\n",
      "hello 22\n",
      "hello 23\n",
      "hello 24\n",
      "hello 25\n",
      "hello 26\n",
      "hello 27\n",
      "hello 28\n",
      "hello 29\n"
     ]
    }
   ],
   "source": [
    "import numpy as np\n",
    "my_var = np.arange(30).reshape(3, 5, 2)\n",
    "dist = np.nditer(my_var)\n",
    "print(dist)\n",
    "\n",
    "for sigma in np.nditer(my_var):\n",
    "    print('hello' , sigma)"
   ]
  },
  {
   "cell_type": "code",
   "execution_count": null,
   "metadata": {},
   "outputs": [],
   "source": [
    "#Ex. 3.1\n",
    "#Function to sum first n numbers\n",
    "def sum_of_first(n):\n",
    "  i = 0;\n",
    "  for x in range(n+1):\n",
    "    # print(x)\n",
    "    i = i + x\n",
    "  return i\n",
    "\n",
    "new_var = sum_of_first(3)\n",
    "print(new_var)"
   ]
  },
  {
   "cell_type": "code",
   "execution_count": null,
   "metadata": {},
   "outputs": [],
   "source": [
    "#Ex. 3.2\n",
    "#If we list all the natural numbers below 10 that are multiples of 3 or 5, we get 3, 5, 6 and 9. The sum of these multiples is 23.\n",
    "#Create a function to find the sum of all the multiples of a or b below n.\n",
    "# (a,b,n) are function parameters\n",
    "def sum_of_multiple(a,b,n):\n",
    "  sum = 0\n",
    "  for x in range(n):\n",
    "    if (x%a == 0) or (x%b == 0):\n",
    "      sum = sum + x\n",
    "  return sum\n",
    "\n",
    "\n",
    "new_var = sum_of_multiple(3,5,10)\n",
    "print(new_var)"
   ]
  },
  {
   "cell_type": "code",
   "execution_count": null,
   "metadata": {},
   "outputs": [
    {
     "name": "stdout",
     "output_type": "stream",
     "text": [
      "0\n"
     ]
    }
   ],
   "source": [
    "print(2 % 2)"
   ]
  },
  {
   "cell_type": "code",
   "execution_count": null,
   "metadata": {},
   "outputs": [
    {
     "name": "stdout",
     "output_type": "stream",
     "text": [
      "(140, {0, 2, 3, 4, 5, 6, 7, 8, 9, 10, 11, 12, 14, 15, 16, 18})\n"
     ]
    }
   ],
   "source": [
    "def sum_of_multiples(a, l):\n",
    "    multiples = set()\n",
    "    for factor in a:\n",
    "        for number in l:\n",
    "            if number % factor == 0:\n",
    "                multiples.add(number)\n",
    "    return sum(multiples), multiples\n",
    "\n",
    "my_var = sum_of_multiples([2, 3, 5, 7, 11], list(range(20)))\n",
    "\n",
    "print(my_var)"
   ]
  },
  {
   "cell_type": "code",
   "execution_count": 34,
   "metadata": {},
   "outputs": [
    {
     "name": "stdout",
     "output_type": "stream",
     "text": [
      "0\n",
      "2\n",
      "4\n",
      "6\n",
      "8\n",
      "10\n",
      "12\n",
      "14\n",
      "16\n",
      "18\n",
      "90\n"
     ]
    }
   ],
   "source": [
    "def sum_of_multiples(a, l):\n",
    "    result = 0\n",
    "    for num in l:\n",
    "        for factor in a:\n",
    "            # print(factor)\n",
    "            if num % factor == 0:\n",
    "                result += num\n",
    "                print(num)\n",
    "                break\n",
    "    return result\n",
    "my_var = sum_of_multiples([2], list(range(20)))\n",
    "\n",
    "print(my_var)"
   ]
  },
  {
   "cell_type": "code",
   "execution_count": 35,
   "metadata": {},
   "outputs": [
    {
     "name": "stdout",
     "output_type": "stream",
     "text": [
      "90\n"
     ]
    }
   ],
   "source": [
    "def sum_of_multiples(a, l):\n",
    "    multiples = [x for x in l if any(x % factor == 0 for factor in a)]\n",
    "    return sum(multiples)\n",
    "my_var = sum_of_multiples([2], list(range(20)))\n",
    "\n",
    "print(my_var)"
   ]
  }
 ],
 "metadata": {
  "kernelspec": {
   "display_name": "Python 3",
   "language": "python",
   "name": "python3"
  },
  "language_info": {
   "codemirror_mode": {
    "name": "ipython",
    "version": 3
   },
   "file_extension": ".py",
   "mimetype": "text/x-python",
   "name": "python",
   "nbconvert_exporter": "python",
   "pygments_lexer": "ipython3",
   "version": "3.10.9"
  },
  "orig_nbformat": 4,
  "vscode": {
   "interpreter": {
    "hash": "f585781dd7d736710d676918f70cb1c14a5bbf46d26bce6628e8497fa7390e36"
   }
  }
 },
 "nbformat": 4,
 "nbformat_minor": 2
}
