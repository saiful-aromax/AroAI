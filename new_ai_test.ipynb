{
 "cells": [
  {
   "cell_type": "code",
   "execution_count": null,
   "metadata": {},
   "outputs": [],
   "source": [
    "weight = input('Enter baggage weight: ')\n",
    "\n",
    "weight = int(weight)\n",
    "if (weight > 15):\n",
    "    print('Limit Exceeds!')\n"
   ]
  },
  {
   "cell_type": "code",
   "execution_count": 1,
   "metadata": {},
   "outputs": [],
   "source": [
    "\n",
    "initial_weight = int(input(\"what is the intial weight? \"))\n",
    "while (initial_weight > 15):\n",
    "    print('Too much weight!')\n",
    "    reduced_weight = int(input(\"how much redued?: \"))\n",
    "    initial_weight = initial_weight - reduced_weight\n"
   ]
  }
 ],
 "metadata": {
  "kernelspec": {
   "display_name": "Python 3",
   "language": "python",
   "name": "python3"
  },
  "language_info": {
   "codemirror_mode": {
    "name": "ipython",
    "version": 3
   },
   "file_extension": ".py",
   "mimetype": "text/x-python",
   "name": "python",
   "nbconvert_exporter": "python",
   "pygments_lexer": "ipython3",
   "version": "3.10.9 (tags/v3.10.9:1dd9be6, Dec  6 2022, 20:01:21) [MSC v.1934 64 bit (AMD64)]"
  },
  "orig_nbformat": 4,
  "vscode": {
   "interpreter": {
    "hash": "f585781dd7d736710d676918f70cb1c14a5bbf46d26bce6628e8497fa7390e36"
   }
  }
 },
 "nbformat": 4,
 "nbformat_minor": 2
}
