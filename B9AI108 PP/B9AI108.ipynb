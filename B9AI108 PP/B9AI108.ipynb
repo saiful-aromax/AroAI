{
 "cells": [
  {
   "cell_type": "code",
   "execution_count": null,
   "metadata": {},
   "outputs": [],
   "source": [
    "#Ex. 3.1\n",
    "#Function to sum first n numbers\n",
    "def sum_of_first(n):\n",
    "  i = 0;\n",
    "  for x in range(n+1):\n",
    "    # print(x)\n",
    "    i = i + x\n",
    "  return i\n",
    "\n",
    "new_var = sum_of_first(3)\n",
    "print(new_var)"
   ]
  },
  {
   "cell_type": "code",
   "execution_count": 2,
   "metadata": {},
   "outputs": [
    {
     "name": "stdout",
     "output_type": "stream",
     "text": [
      "23\n"
     ]
    }
   ],
   "source": [
    "# Ex. 3.2\n",
    "# If we list all the natural numbers below 10 that are multiples of 3 or 5, we get 3, 5, 6 and 9. The sum of these multiples is 23.\n",
    "# Create a function to find the sum of all the multiples of a or b below n.\n",
    "# (a,b,n) are function parameters\n",
    "def sum_of_multiple(a, b, n):\n",
    "    sum_value = 0\n",
    "    for x in range(n):\n",
    "        if (x % a == 0) or (x % b == 0):\n",
    "            sum_value += x\n",
    "    return sum_value\n",
    "\n",
    "\n",
    "new_var = sum_of_multiple(3, 5, 10)\n",
    "print(new_var)\n"
   ]
  },
  {
   "cell_type": "code",
   "execution_count": 13,
   "metadata": {},
   "outputs": [
    {
     "name": "stdout",
     "output_type": "stream",
     "text": [
      "(78, [0, 3, 5, 6, 9, 10, 12, 15, 18])\n"
     ]
    }
   ],
   "source": [
    "# Ex 3.3\n",
    "# Create a function to find the sum of all the multiples of a or b in list l.\n",
    "# (a,b,l) are function parameters\n",
    "\n",
    "def sum_of_multiple(a, b, l):\n",
    "    my_list = []\n",
    "    sum_value = 0\n",
    "    for x in l:\n",
    "        if (x % a == 0) or (x % b == 0):\n",
    "            my_list.append(x)\n",
    "            sum_value += x\n",
    "\n",
    "    return sum_value, my_list\n",
    "\n",
    "\n",
    "l = list(range(20))\n",
    "var_test = sum_of_multiple(3, 5, l)\n",
    "print(var_test)\n"
   ]
  },
  {
   "cell_type": "code",
   "execution_count": 4,
   "metadata": {},
   "outputs": [
    {
     "name": "stdout",
     "output_type": "stream",
     "text": [
      "5\n"
     ]
    }
   ],
   "source": [
    "# Ex 3.4\n",
    "# Create a function to find the sum of all\n",
    "# the multiples of factors in list a  contained in list l.\n",
    "# (a,l) are function parameters and len(a) == 2\n",
    "\n",
    "def sum_of_multiple(a, l):\n",
    "    sum_value = 0\n",
    "    if len(a) == 2:\n",
    "        for x in l:\n",
    "            for y in a:\n",
    "                if y % x == 0:\n",
    "                    sum_value = sum_value + x\n",
    "\n",
    "    return sum_value\n",
    "\n",
    "\n",
    "l = [3, 5, 6, 9]\n",
    "a = [1, 5]\n",
    "var_test = sum_of_multiple(a, l)\n",
    "print(var_test)\n"
   ]
  },
  {
   "cell_type": "code",
   "execution_count": 8,
   "metadata": {},
   "outputs": [
    {
     "name": "stdout",
     "output_type": "stream",
     "text": [
      "396205\n"
     ]
    }
   ],
   "source": [
    "# Ex 3.5\n",
    "# Create a function to find the sum of all\n",
    "# the multiples of factors in list a contained in list l.\n",
    "# (a,l) are function parameters\n",
    "\n",
    "def sum_of_multiples(a, l):\n",
    "    multiples = set()\n",
    "    for factor in a:\n",
    "        for number in l:\n",
    "            if number % factor == 0:\n",
    "                multiples.add(number)\n",
    "    return sum(multiples)\n",
    "\n",
    "my_var = sum_of_multiples([2, 3, 5, 7, 11], list(range(1000)))\n",
    "\n",
    "print(my_var)\n"
   ]
  },
  {
   "cell_type": "code",
   "execution_count": 15,
   "metadata": {},
   "outputs": [
    {
     "name": "stdout",
     "output_type": "stream",
     "text": [
      "140\n"
     ]
    }
   ],
   "source": [
    "# Ex 3.5\n",
    "# Create a function to find the sum of all\n",
    "# the multiples of factors in list a contained in list l.\n",
    "# (a,l) are function parameters\n",
    "def sum_of_multiples(a, l):\n",
    "    result = 0\n",
    "    for num in l:\n",
    "        for factor in a:\n",
    "            # print(factor)\n",
    "            if num % factor == 0:\n",
    "                result += num\n",
    "                print(num, factor)\n",
    "                break\n",
    "    return result\n",
    "my_var = sum_of_multiples([2, 3, 5, 7, 11], list(range(20)))\n",
    "\n",
    "print(my_var)"
   ]
  },
  {
   "cell_type": "code",
   "execution_count": 1,
   "metadata": {},
   "outputs": [
    {
     "name": "stdout",
     "output_type": "stream",
     "text": [
      "12\n"
     ]
    }
   ],
   "source": [
    "# Ex 3.5\n",
    "# Create a function to find the sum of all\n",
    "# the multiples of factors in list a contained in list l.\n",
    "# (a,l) are function parameters\n",
    "def sum_of_multiples(a, l):\n",
    "    multiples = [x for x in l if any(x % factor == 0 for factor in a)]\n",
    "    return sum(multiples)\n",
    "\n",
    "\n",
    "my_var = sum_of_multiples([2, 3, 5, 7, 11], list(range(20)))\n",
    "\n",
    "print(my_var)"
   ]
  },
  {
   "cell_type": "code",
   "execution_count": 75,
   "metadata": {},
   "outputs": [
    {
     "name": "stdout",
     "output_type": "stream",
     "text": [
      "140\n"
     ]
    }
   ],
   "source": [
    "# Ex 4.1\n",
    "# Create a function to find the sum of all\n",
    "# the multiples of factors in file with filename a\n",
    "# contained in list file with filename b, each one number per line.\n",
    "# (a,b) are function parameters\n",
    "\n",
    "# Ex 4.2\n",
    "# Be efficient\n",
    "\n",
    "# Ex 4.3\n",
    "# Keep your code DRY (No repetition of previous code)\n",
    "\n",
    "a_file = open(\"a.txt\", \"w\")\n",
    "\n",
    "a = [2, 3, 5, 7, 11]  # multiples of factors\n",
    "\n",
    "# a_file.write(\"2\\n3\\n5\\n7\\n11\")\n",
    "for a_each in a:\n",
    "    a_file.write(str(a_each) + \"\\n\")\n",
    "\n",
    "a_file.close()\n",
    "\n",
    "b = list(range(20))  # list l\n",
    "b_file = open(\"b.txt\", \"w\")\n",
    "for b_each in b:\n",
    "    b_file.write(str(b_each) + \"\\n\")\n",
    "\n",
    "a_file.close()\n",
    "\n",
    "a_read_file = open(\"a.txt\")\n",
    "a_from_file = [int(line) for line in a_read_file]\n",
    "a_read_file.close()\n",
    "\n",
    "\n",
    "b_read_file = open(\"b.txt\")\n",
    "b_from_file = [int(line) for line in b_read_file]\n",
    "b_read_file.close()\n",
    "\n",
    "\n",
    "def sum_of_multiples(a, l):\n",
    "    multiples = [x for x in l if any(x % factor == 0 for factor in a)]\n",
    "    return sum(multiples)\n",
    "\n",
    "\n",
    "my_var = sum_of_multiples(a_from_file, b_from_file)\n",
    "\n",
    "print(my_var)\n"
   ]
  },
  {
   "cell_type": "code",
   "execution_count": 12,
   "metadata": {},
   "outputs": [],
   "source": [
    "# Ex 5.1\n",
    "# Create a function which takes an input filename and an output filename, and writes the output as follows:\n",
    "\n",
    "# for input file with each line formatted as follows:\n",
    "# n a1 a2 ...\n",
    "# eg\n",
    "# 1000 3 5\n",
    "\n",
    "# the output file should contain a line which is the same, prepended by the result of f35([a1,a2...],range(n))\n",
    "# eg\n",
    "# 233168 1000 3 5\n",
    "\n",
    "# DRY\n",
    "\n",
    "\n",
    "def sum_of_multiples(a, l):\n",
    "    multiples = [x for x in l if any(x % factor == 0 for factor in a)]\n",
    "    return sum(multiples)\n",
    "\n",
    "def f51(ifn, ofn):\n",
    "    input_file_read = open(ifn, \"r\")\n",
    "    output_file = open(ofn, \"w\")\n",
    "    \n",
    "    for line in input_file_read:\n",
    "        read_params = line.split(\" \")\n",
    "        n = int(read_params[0]) # n parameter\n",
    "        a = [int(i) for i in read_params] # a perameter\n",
    "        \n",
    "        # # getting the result\n",
    "        sum_of_multiples_result = sum_of_multiples(a,  list(range(n)))\n",
    "    \n",
    "        output_file.write(str(sum_of_multiples_result) + \" \")\n",
    "        for a_each in a:\n",
    "            output_file.write(str(a_each) + \" \")\n",
    "        output_file.write(\"\\n\")\n",
    "        \n",
    "    input_file_read.close()\n",
    " \n",
    "    \n",
    "    \n",
    "    output_file.close()\n",
    "\n",
    "\n",
    "def runf51():\n",
    "    with open('input', 'w') as f:\n",
    "        f.write('''10 3 5\n",
    "1000 3 5\n",
    "1000 2 3 5''')\n",
    "    f51('input', 'output')\n",
    "    \n",
    "runf51()\n"
   ]
  },
  {
   "cell_type": "code",
   "execution_count": null,
   "metadata": {},
   "outputs": [],
   "source": [
    "# Ex 5.1\n",
    "# Create a function which takes an input filename and an output filename, and writes the output as follows:\n",
    "\n",
    "# for input file with each line formatted as follows:\n",
    "# n a1 a2 ...\n",
    "# eg\n",
    "# 1000 3 5\n",
    "\n",
    "# the output file should contain a line which is the same, prepended by the result of f35([a1,a2...],range(n))\n",
    "# eg\n",
    "# 233168 1000 3 5\n",
    "\n",
    "# DRY\n",
    "\n",
    "\n",
    "def f51(ifn, ofn):\n",
    "    input_file = open(ifn)\n",
    "    output_file = open(ofn, 'w')\n",
    "    input_list = []\n",
    "    for line in input_file:\n",
    "        input_parameter = line.split()\n",
    "        input_parameter = [int(i) for i in input_parameter]\n",
    "        result = sum_of_multiples(\n",
    "            input_parameter[1:], list(range(input_parameter[0])))\n",
    "        output_file.write(str(result) + ' ' + line)\n",
    "\n",
    "        print(result)\n",
    "    input_file.close()\n",
    "    output_file.close()\n",
    "    print(input_list[1:])\n",
    "\n",
    "\n",
    "def runf51():\n",
    "    with open('input', 'w') as f:\n",
    "        f.write('''10 3 5\n",
    "1000 3 5\n",
    "1000 2 3 5''')\n",
    "    f51('input', 'output')\n",
    "\n",
    "\n",
    "def sum_of_multiples(a, l):\n",
    "    sum = 0\n",
    "    for i in l:\n",
    "        for j in a:\n",
    "            if (i % j == 0):\n",
    "                sum += i\n",
    "                break\n",
    "    return sum\n",
    "\n",
    "\n",
    "runf51()\n"
   ]
  },
  {
   "cell_type": "code",
   "execution_count": 15,
   "metadata": {},
   "outputs": [],
   "source": [
    "#Ex 6.1\n",
    "#Handle file not found errors in Ex 5.1 - write empty file.\n",
    "#write to a file <outputfilename>(1) if the file exists\n",
    "\n",
    "def f51(ifn, ofn):\n",
    "    try:\n",
    "        with open(ofn, 'w') as output_file, open(ifn) as input_file:\n",
    "            for line in input_file:\n",
    "                input_parameter = line.split()\n",
    "                input_parameter = [int(i) for i in input_parameter]\n",
    "                result = sum_of_multiples(\n",
    "                    input_parameter[1:], list(range(input_parameter[0])))\n",
    "                output_file.write(str(result) + ' ' + line)\n",
    "            input_file.close()\n",
    "            output_file.close()\n",
    "    except FileNotFoundError:\n",
    "        print(\"Input file not found!\")\n",
    "        \n",
    "\n",
    "\n",
    "def runf51():\n",
    "    with open('input', 'w') as f:\n",
    "        f.write('''10 3 5\n",
    "1000 3 5\n",
    "1000 2 3 5''')\n",
    "    f51('input', 'output6')\n",
    "\n",
    "\n",
    "def sum_of_multiples(a, l):\n",
    "    sum = 0\n",
    "    for i in l:\n",
    "        for j in a:\n",
    "            if (i % j == 0):\n",
    "                sum += i\n",
    "                break\n",
    "    return sum\n",
    "\n",
    "\n",
    "runf51()"
   ]
  },
  {
   "cell_type": "code",
   "execution_count": null,
   "metadata": {},
   "outputs": [],
   "source": [
    "#Ex 6.1\n",
    "#Handle file not found errors in Ex 5.1 - write empty file.\n",
    "#write to a file <outputfilename>(1) if the file exists\n",
    "\n",
    "\n",
    "def f51(ifn, ofn):\n",
    "    try:\n",
    "        input_file_read = open(ifn, \"r\")\n",
    "        output_file = open(ofn, \"w\")\n",
    "        \n",
    "        for line in input_file_read:\n",
    "            read_params = line.split(\" \")\n",
    "            n = int(read_params[0]) # n parameter\n",
    "            a = [int(i) for i in read_params] # a perameter\n",
    "            \n",
    "            # # getting the result\n",
    "            sum_of_multiples_result = sum_of_multiples(a,  list(range(n)))\n",
    "        \n",
    "            output_file.write(str(sum_of_multiples_result) + \" \")\n",
    "            for a_each in a:\n",
    "                output_file.write(str(a_each) + \" \")\n",
    "            output_file.write(\"\\n\")\n",
    "            \n",
    "        input_file_read.close()\n",
    "        output_file.close()\n",
    "    except FileNotFoundError:\n",
    "        print(\"Input file not found!\")\n",
    "\n",
    "\n",
    "    \n",
    "f51('test1', 'test2')"
   ]
  },
  {
   "cell_type": "code",
   "execution_count": 14,
   "metadata": {},
   "outputs": [
    {
     "name": "stdout",
     "output_type": "stream",
     "text": [
      "Invalid Input Value!\n",
      "Invalid Input Value!\n",
      "Invalid Input Value!\n"
     ]
    }
   ],
   "source": [
    "#Ex 6.2\n",
    "#Handle corrupt lines by ignoring them and prepending 'Corrupt' to the line in the output file\n",
    "#'10 3 5 2' -> '37 10 3 5 2'\n",
    "#'10 3 5 Hello' -> 'Corrupt 10 3 5 Hello'\n",
    "#'10 3 5' -> '23 10 3 5'\n",
    "\n",
    "\n",
    "def sum_of_multiples(a, l):\n",
    "    multiples = [x for x in l if any(x % factor == 0 for factor in a)]\n",
    "    return sum(multiples)\n",
    "\n",
    "def f51(ifn, ofn):\n",
    "    try:\n",
    "        input_file_read = open(ifn, \"r\")\n",
    "        output_file = open(ofn, \"w\")\n",
    "        \n",
    "        for line in input_file_read:\n",
    "            read_params = line.split(\" \")\n",
    "            try:\n",
    "                params = list(map(int, read_params))\n",
    "                sum_of_multiples_result = sum_of_multiples(params[1:],  list(range(params[0])))\n",
    "                output_file.write(str(sum_of_multiples_result) + \" \")\n",
    "                for a_each in a:\n",
    "                    output_file.write(str(a_each) + \" \")\n",
    "                output_file.write(\"\\n\")\n",
    "            except:\n",
    "                 print(\"Invalid Input Value!\")\n",
    "                 output_file.write(\"Corrupt \" + line)\n",
    "        input_file_read.close()\n",
    "        output_file.close()\n",
    "    except FileNotFoundError:\n",
    "        print(\"Input file not found!\")\n",
    "\n",
    "\n",
    "def runf51():\n",
    "    with open('input', 'w') as f:\n",
    "        f.write('''10 3 Hi\n",
    "1000 3 5\n",
    "1000 2 3 5''')\n",
    "    f51('input', 'output')\n",
    "    \n",
    "runf51()"
   ]
  },
  {
   "cell_type": "code",
   "execution_count": 16,
   "metadata": {},
   "outputs": [
    {
     "name": "stdout",
     "output_type": "stream",
     "text": [
      "26.0\n"
     ]
    }
   ],
   "source": [
    "# 7.1\n",
    "# Create a function taking a dictionary called basket and a dictionary called prices\n",
    "# which returns the total cost of the items in the basket.\n",
    "# basket contains quantity values for each key, while\n",
    "# prices (obviously) contains product:price pairs\n",
    "\n",
    "# 7.2 deal with missing products etc.\n",
    "\n",
    "def total_cost(basket, prices):\n",
    "    total_cost = 0\n",
    "    for item in basket:\n",
    "        total_cost += prices.get(item, 0) * basket[item]\n",
    "    return round(total_cost, 2)\n",
    "\n",
    "\n",
    "baskets = {\"soap\": 3, \"shampoo\": 1, \"coke\": 1, \"bread\": 2, \"detergent\": 2, \"handwash\": 3, \"chocolate\": 4}\n",
    "price_list = {\"soap\": 1.60, \"shampoo\": 1.80, \"coke\": 2, \"bread\": 0.8, \"detergent\": 4, \"handwash\": 2.6, \"potato\": 1.4, \"liquid_soap\": 2}\n",
    "\n",
    "result = total_cost(baskets, price_list)\n",
    "print(result)\n"
   ]
  },
  {
   "cell_type": "code",
   "execution_count": 61,
   "metadata": {},
   "outputs": [
    {
     "name": "stdout",
     "output_type": "stream",
     "text": [
      "33.2\n"
     ]
    }
   ],
   "source": [
    "# Create a basket class\n",
    "# allow items to be added\n",
    "# create getValue method taking a pricelist\n",
    "\n",
    "class Basket:\n",
    "    def __init__(self):\n",
    "        self.items = {}\n",
    "\n",
    "    def add_item(self, item):\n",
    "        self.items.update(item)\n",
    "\n",
    "    def getValue(self, pricelist):\n",
    "        total_cost = 0\n",
    "        for item in self.items:\n",
    "            total_cost += pricelist.get(item, 0) * self.items[item]\n",
    "        return round(total_cost, 2)\n",
    "\n",
    "\n",
    "price_list = {\"soap\": 1.60, \"shampoo\": 1.80, \"coke\": 2, \"bread\": 0.8, \"detergent\": 4, \"handwash\": 2.6, \"potato\": 1.4, \"liquid_soap\": 2}\n",
    "\n",
    "basket = Basket()\n",
    "basket.add_item({'soap': 12, 'coke': 5})\n",
    "basket.add_item({'bread': 5, 'laptop': 2})\n",
    "value = basket.getValue(price_list)\n",
    "print(value)\n"
   ]
  },
  {
   "cell_type": "code",
   "execution_count": null,
   "metadata": {},
   "outputs": [],
   "source": [
    "#Create an account class\n",
    "#getBalance,Lodge,Withdraw\n",
    "#Test balance is zero on creation\n",
    "#Test balance is equal to lodgement amount after first lodgement"
   ]
  },
  {
   "cell_type": "code",
   "execution_count": 6,
   "metadata": {},
   "outputs": [
    {
     "name": "stderr",
     "output_type": "stream",
     "text": [
      ".........\n",
      "----------------------------------------------------------------------\n",
      "Ran 9 tests in 0.038s\n",
      "\n",
      "OK\n"
     ]
    },
    {
     "data": {
      "text/plain": [
       "<unittest.main.TestProgram at 0x1908116b340>"
      ]
     },
     "execution_count": 6,
     "metadata": {},
     "output_type": "execute_result"
    }
   ],
   "source": [
    "class Account:\n",
    "    def __init__(self):\n",
    "        self.__balance = 0\n",
    "\n",
    "    def getBalance(self):\n",
    "        return self.__balance\n",
    "\n",
    "    def lodge(self, amt):\n",
    "        if amt < 0:\n",
    "            raise ValueError('Negative value not allowed!')\n",
    "        else:\n",
    "            self.__balance += amt\n",
    "            \n",
    "    def withdraw(self, amt):\n",
    "        if amt < 0:\n",
    "            raise ValueError('Negative value not allowed!')\n",
    "        elif amt > self.__balance:\n",
    "            raise ValueError('Not enough balance to withdraw!')\n",
    "        else:\n",
    "            self.__balance -= amt\n",
    "            \n",
    "    def transfer(self, amt, rcpt):\n",
    "        if amt < 0:\n",
    "            raise ValueError('Negative value not allowed!')\n",
    "        elif amt > self.__balance:\n",
    "            raise ValueError('Not enough balance to transfer!')\n",
    "        else:\n",
    "            self.withdraw(amt)\n",
    "            rcpt.lodge(amt)\n",
    "    \n",
    "    \n",
    "import unittest\n",
    "class testAccount(unittest.TestCase):\n",
    "    \n",
    "    def testInitialBalance(self):\n",
    "        a = Account()\n",
    "        self.assertEqual(a.getBalance(), 0)\n",
    "\n",
    "    def testLodge(self):\n",
    "        a = Account()\n",
    "        a.lodge(100)\n",
    "        self.assertEqual(a.getBalance(), 100)\n",
    "\n",
    "    def testLodgeMore(self):\n",
    "        a = Account()\n",
    "        a.lodge(100)\n",
    "        a.lodge(50)\n",
    "        self.assertEqual(a.getBalance(), 150)\n",
    "        \n",
    "    def testWithdraw(self):\n",
    "        a = Account()\n",
    "        a.lodge(100)\n",
    "        a.lodge(50)\n",
    "        a.withdraw(20)\n",
    "        self.assertEqual(a.getBalance(), 130)\n",
    "        \n",
    "    def testNegativeWithdraw(self):\n",
    "        a=Account()\n",
    "        a.lodge(1000)\n",
    "        with self.assertRaises(ValueError):\n",
    "            a.withdraw(-100)\n",
    "            \n",
    "    def testExceedWithdraw(self):\n",
    "        a=Account()\n",
    "        a.lodge(1000)\n",
    "        with self.assertRaises(ValueError):\n",
    "            a.withdraw(5000)\n",
    "        \n",
    "    def testTransfer(self):\n",
    "        a = Account()\n",
    "        b = Account()\n",
    "        a.lodge(200)\n",
    "        b.lodge(150)\n",
    "        a.transfer(50, b)\n",
    "        self.assertEqual(a.getBalance(), 150)\n",
    "        self.assertEqual(b.getBalance(), 200)\n",
    "        \n",
    "    def testExceedTransfer(self):\n",
    "        a = Account()\n",
    "        b = Account()\n",
    "        a.lodge(200)\n",
    "        b.lodge(150)\n",
    "        with self.assertRaises(ValueError):\n",
    "            a.withdraw(300)\n",
    "        \n",
    "    def testNegativeTransfer(self):\n",
    "        a = Account()\n",
    "        b = Account()\n",
    "        a.lodge(200)\n",
    "        b.lodge(150)\n",
    "        with self.assertRaises(ValueError):\n",
    "            a.withdraw(-50)\n",
    "    \n",
    "unittest.main(argv=['ignored'], exit=False)"
   ]
  },
  {
   "cell_type": "code",
   "execution_count": 11,
   "metadata": {},
   "outputs": [
    {
     "name": "stdout",
     "output_type": "stream",
     "text": [
      "500\n",
      "500\n"
     ]
    }
   ],
   "source": [
    "class Account:\n",
    "    def __init__(asd):\n",
    "        asd.__balance = 0\n",
    "\n",
    "    def getBalance(fsd):\n",
    "        return fsd.__balance\n",
    "\n",
    "    def lodge(self, amt):\n",
    "        self.__balance += amt\n",
    "\n",
    "    def withdraw(self, amt):\n",
    "        self.__balance -= amt\n",
    "\n",
    "    def transfer(efs, amt, ddd):\n",
    "        efs.withdraw(amt)\n",
    "        ddd.lodge(amt)\n",
    "\n",
    "\n",
    "a = Account()\n",
    "b = Account()\n",
    "a.lodge(500)\n",
    "b.lodge(500)\n",
    "a.transfer(100, b)\n",
    "print(a.getBalance())\n",
    "print(b.getBalance())\n"
   ]
  }
 ],
 "metadata": {
  "kernelspec": {
   "display_name": "Python 3",
   "language": "python",
   "name": "python3"
  },
  "language_info": {
   "codemirror_mode": {
    "name": "ipython",
    "version": 3
   },
   "file_extension": ".py",
   "mimetype": "text/x-python",
   "name": "python",
   "nbconvert_exporter": "python",
   "pygments_lexer": "ipython3",
   "version": "3.10.9"
  },
  "orig_nbformat": 4,
  "vscode": {
   "interpreter": {
    "hash": "f585781dd7d736710d676918f70cb1c14a5bbf46d26bce6628e8497fa7390e36"
   }
  }
 },
 "nbformat": 4,
 "nbformat_minor": 2
}
