{
 "cells": [
  {
   "cell_type": "code",
   "execution_count": null,
   "metadata": {},
   "outputs": [],
   "source": [
    "#Ex. 3.1\n",
    "#Function to sum first n numbers\n",
    "def sum_of_first(n):\n",
    "  i = 0;\n",
    "  for x in range(n+1):\n",
    "    # print(x)\n",
    "    i = i + x\n",
    "  return i\n",
    "\n",
    "new_var = sum_of_first(3)\n",
    "print(new_var)"
   ]
  },
  {
   "cell_type": "code",
   "execution_count": 2,
   "metadata": {},
   "outputs": [
    {
     "name": "stdout",
     "output_type": "stream",
     "text": [
      "23\n"
     ]
    }
   ],
   "source": [
    "# Ex. 3.2\n",
    "# If we list all the natural numbers below 10 that are multiples of 3 or 5, we get 3, 5, 6 and 9. The sum of these multiples is 23.\n",
    "# Create a function to find the sum of all the multiples of a or b below n.\n",
    "# (a,b,n) are function parameters\n",
    "def sum_of_multiple(a, b, n):\n",
    "    sum_value = 0\n",
    "    for x in range(n):\n",
    "        if (x % a == 0) or (x % b == 0):\n",
    "            sum_value += x\n",
    "    return sum_value\n",
    "\n",
    "\n",
    "new_var = sum_of_multiple(3, 5, 10)\n",
    "print(new_var)\n"
   ]
  },
  {
   "cell_type": "code",
   "execution_count": 13,
   "metadata": {},
   "outputs": [
    {
     "name": "stdout",
     "output_type": "stream",
     "text": [
      "(78, [0, 3, 5, 6, 9, 10, 12, 15, 18])\n"
     ]
    }
   ],
   "source": [
    "# Ex 3.3\n",
    "# Create a function to find the sum of all the multiples of a or b in list l.\n",
    "# (a,b,l) are function parameters\n",
    "\n",
    "def sum_of_multiple(a, b, l):\n",
    "    my_list = []\n",
    "    sum_value = 0\n",
    "    for x in l:\n",
    "        if (x % a == 0) or (x % b == 0):\n",
    "            my_list.append(x)\n",
    "            sum_value += x\n",
    "\n",
    "    return sum_value, my_list\n",
    "\n",
    "\n",
    "l = list(range(20))\n",
    "var_test = sum_of_multiple(3, 5, l)\n",
    "print(var_test)\n"
   ]
  },
  {
   "cell_type": "code",
   "execution_count": 4,
   "metadata": {},
   "outputs": [
    {
     "name": "stdout",
     "output_type": "stream",
     "text": [
      "5\n"
     ]
    }
   ],
   "source": [
    "# Ex 3.4\n",
    "# Create a function to find the sum of all\n",
    "# the multiples of factors in list a  contained in list l.\n",
    "# (a,l) are function parameters and len(a) == 2\n",
    "\n",
    "def sum_of_multiple(a, l):\n",
    "    sum_value = 0\n",
    "    if len(a) == 2:\n",
    "        for x in l:\n",
    "            for y in a:\n",
    "                if y % x == 0:\n",
    "                    sum_value = sum_value + x\n",
    "\n",
    "    return sum_value\n",
    "\n",
    "\n",
    "l = [3, 5, 6, 9]\n",
    "a = [1, 5]\n",
    "var_test = sum_of_multiple(a, l)\n",
    "print(var_test)\n"
   ]
  },
  {
   "cell_type": "code",
   "execution_count": null,
   "metadata": {},
   "outputs": [],
   "source": [
    "# Ex 3.5\n",
    "# Create a function to find the sum of all\n",
    "# the multiples of factors in list a contained in list l.\n",
    "# (a,l) are function parameters\n",
    "\n",
    "def sum_of_multiples(a, l):\n",
    "    multiples = set()\n",
    "    for factor in a:\n",
    "        for number in l:\n",
    "            if number % factor == 0:\n",
    "                multiples.add(number)\n",
    "    return sum(multiples), multiples\n",
    "\n",
    "my_var = sum_of_multiples([2, 3, 5, 7, 11], list(range(20)))\n",
    "\n",
    "print(my_var)\n"
   ]
  },
  {
   "cell_type": "code",
   "execution_count": 15,
   "metadata": {},
   "outputs": [
    {
     "name": "stdout",
     "output_type": "stream",
     "text": [
      "140\n"
     ]
    }
   ],
   "source": [
    "# Ex 3.5\n",
    "# Create a function to find the sum of all\n",
    "# the multiples of factors in list a contained in list l.\n",
    "# (a,l) are function parameters\n",
    "def sum_of_multiples(a, l):\n",
    "    result = 0\n",
    "    for num in l:\n",
    "        for factor in a:\n",
    "            # print(factor)\n",
    "            if num % factor == 0:\n",
    "                result += num\n",
    "                print(num, factor)\n",
    "                break\n",
    "    return result\n",
    "my_var = sum_of_multiples([2, 3, 5, 7, 11], list(range(20)))\n",
    "\n",
    "print(my_var)"
   ]
  },
  {
   "cell_type": "code",
   "execution_count": 1,
   "metadata": {},
   "outputs": [
    {
     "name": "stdout",
     "output_type": "stream",
     "text": [
      "12\n"
     ]
    }
   ],
   "source": [
    "# Ex 3.5\n",
    "# Create a function to find the sum of all\n",
    "# the multiples of factors in list a contained in list l.\n",
    "# (a,l) are function parameters\n",
    "def sum_of_multiples(a, l):\n",
    "    multiples = [x for x in l if any(x % factor == 0 for factor in a)]\n",
    "    return sum(multiples)\n",
    "\n",
    "\n",
    "my_var = sum_of_multiples([2, 3, 5, 7, 11], list(range(20)))\n",
    "\n",
    "print(my_var)"
   ]
  },
  {
   "cell_type": "code",
   "execution_count": 75,
   "metadata": {},
   "outputs": [
    {
     "name": "stdout",
     "output_type": "stream",
     "text": [
      "140\n"
     ]
    }
   ],
   "source": [
    "# Ex 4.1\n",
    "# Create a function to find the sum of all\n",
    "# the multiples of factors in file with filename a\n",
    "# contained in list file with filename b, each one number per line.\n",
    "# (a,b) are function parameters\n",
    "\n",
    "# Ex 4.2\n",
    "# Be efficient\n",
    "\n",
    "# Ex 4.3\n",
    "# Keep your code DRY (No repetition of previous code)\n",
    "\n",
    "a_file = open(\"a.txt\", \"w\")\n",
    "\n",
    "a = [2, 3, 5, 7, 11]  # multiples of factors\n",
    "\n",
    "# a_file.write(\"2\\n3\\n5\\n7\\n11\")\n",
    "for a_each in a:\n",
    "    a_file.write(str(a_each) + \"\\n\")\n",
    "\n",
    "a_file.close()\n",
    "\n",
    "b = list(range(20))  # list l\n",
    "b_file = open(\"b.txt\", \"w\")\n",
    "for b_each in b:\n",
    "    b_file.write(str(b_each) + \"\\n\")\n",
    "\n",
    "a_file.close()\n",
    "\n",
    "a_read_file = open(\"a.txt\")\n",
    "a_from_file = [int(line) for line in a_read_file]\n",
    "a_read_file.close()\n",
    "\n",
    "\n",
    "b_read_file = open(\"b.txt\")\n",
    "b_from_file = [int(line) for line in b_read_file]\n",
    "b_read_file.close()\n",
    "\n",
    "\n",
    "def sum_of_multiples(a, l):\n",
    "    multiples = [x for x in l if any(x % factor == 0 for factor in a)]\n",
    "    return sum(multiples)\n",
    "\n",
    "\n",
    "my_var = sum_of_multiples(a_from_file, b_from_file)\n",
    "\n",
    "print(my_var)\n"
   ]
  },
  {
   "cell_type": "code",
   "execution_count": 1,
   "metadata": {},
   "outputs": [],
   "source": [
    "\n",
    "# Ex 5.1\n",
    "# Create a function which takes an input filename and an output filename, and writes the output as follows:\n",
    "\n",
    "# for input file with each line formatted as follows:\n",
    "# n a1 a2 ...\n",
    "# eg\n",
    "# 1000 3 5\n",
    "\n",
    "# the output file should contain a line which is the same, prepended by the result of f35([a1,a2...],range(n))\n",
    "# eg\n",
    "# 233168 1000 3 5\n",
    "\n",
    "# DRY\n",
    "\n",
    "# function from 3.5\n",
    "def sum_of_multiples(a, l):\n",
    "    multiples = [x for x in l if any(x % factor == 0 for factor in a)]\n",
    "    return sum(multiples)\n",
    "\n",
    "def write_file(input_file_name, output_file_name):\n",
    "\n",
    "    n = 26\n",
    "    a = [4, 6, 7, 9, 11]\n",
    "\n",
    "    # writing into input file\n",
    "    # input_file = open(input_file_name+\".txt\", \"w\")\n",
    "    input_file = open(input_file_name, \"a\")\n",
    "    \n",
    "    input_file.write(str(n) + \" \")\n",
    "    for a_each in a:\n",
    "        input_file.write(str(a_each) + \" \")\n",
    "        \n",
    "    input_file.write(\"\\n\")\n",
    "    input_file.close()\n",
    "        \n",
    "    # getting the parameters from input file\n",
    "    input_file_read = open(input_file_name, \"r\")\n",
    "    for line in input_file_read:\n",
    "        pass\n",
    "    read_params = line.split(\" \")\n",
    "    input_file_read.close()\n",
    "    n_from_file = int(read_params[0]) # n parameter\n",
    "    read_params.pop(0)\n",
    "    read_params.pop()\n",
    "    a_from_file = [int(i) for i in read_params] # a perameter\n",
    "\n",
    "    # getting the result\n",
    "    sum_of_multiples_result = sum_of_multiples(a_from_file,  list(range(n_from_file)))\n",
    "\n",
    "    # writing into output file\n",
    "    output_file = open(output_file_name, \"a+\")\n",
    "    output_file.write(str(sum_of_multiples_result) + \" \")\n",
    "    output_file.write(str(n) + \" \")\n",
    "    for a_each in a:\n",
    "        output_file.write(str(a_each) + \" \")\n",
    "    output_file.write(\"\\n\")\n",
    "    output_file.close()\n",
    "\n",
    "write_file('my_input.txt', 'my_output.txt')\n"
   ]
  },
  {
   "cell_type": "code",
   "execution_count": 3,
   "metadata": {},
   "outputs": [],
   "source": [
    "# Ex 5.1\n",
    "# Create a function which takes an input filename and an output filename, and writes the output as follows:\n",
    "\n",
    "# for input file with each line formatted as follows:\n",
    "# n a1 a2 ...\n",
    "# eg\n",
    "# 1000 3 5\n",
    "\n",
    "# the output file should contain a line which is the same, prepended by the result of f35([a1,a2...],range(n))\n",
    "# eg\n",
    "# 233168 1000 3 5\n",
    "\n",
    "# DRY\n",
    "\n",
    "\n",
    "def sum_of_multiples(a, l):\n",
    "    multiples = [x for x in l if any(x % factor == 0 for factor in a)]\n",
    "    return sum(multiples)\n",
    "\n",
    "def f51(ifn, ofn):\n",
    "    input_file_read = open(ifn, \"r\")\n",
    "    output_file = open(ofn, \"w\")\n",
    "    \n",
    "    for line in input_file_read:\n",
    "        read_params = line.split(\" \")\n",
    "        n = int(read_params[0]) # n parameter\n",
    "        a = [int(i) for i in read_params] # a perameter\n",
    "        \n",
    "        # # getting the result\n",
    "        sum_of_multiples_result = sum_of_multiples(a,  list(range(n)))\n",
    "    \n",
    "        output_file.write(str(sum_of_multiples_result) + \" \")\n",
    "        for a_each in a:\n",
    "            output_file.write(str(a_each) + \" \")\n",
    "        output_file.write(\"\\n\")\n",
    "        \n",
    "    input_file_read.close()\n",
    " \n",
    "    \n",
    "    \n",
    "    output_file.close()\n",
    "\n",
    "\n",
    "def runf51():\n",
    "    with open('input', 'w') as f:\n",
    "        f.write('''10 3 5\n",
    "1000 3 5\n",
    "1000 2 3 5''')\n",
    "    f51('input', 'output')\n",
    "    \n",
    "runf51()\n"
   ]
  },
  {
   "cell_type": "code",
   "execution_count": 5,
   "metadata": {},
   "outputs": [],
   "source": [
    "#Ex 6.1\n",
    "#Handle file not found errors in Ex 5.1 - write empty file.\n",
    "#write to a file <outputfilename>(1) if the file exists\n",
    "\n",
    "#Ex 6.2\n",
    "#Handle corrupt lines by ignoring them and prepending 'Corrupt' to the line in the output file\n",
    "#'10 3 5 2' -> '37 10 3 5 2'\n",
    "#'10 3 5 Hello' -> 'Corrupt 10 3 5 Hello'\n",
    "#'10 3 5' -> '23 10 3 5'\n",
    "\n",
    "#Ex 6.3\n",
    "#Handle corrupt values by ignoring them:\n",
    "#'10 3 5 Hello' -> '23 10 3 5 Hello'\n",
    "def f51(ifn, ofn):\n",
    "    \n",
    "    try:\n",
    "        \n",
    "        input_file_read = open(ifn, \"r\")\n",
    "        output_file = open(ofn, \"w\")\n",
    "    \n",
    "        for line in input_file_read:\n",
    "            read_params = line.split(\" \")\n",
    "            n = int(read_params[0]) # n parameter\n",
    "            a = [int(i) for i in read_params] # a perameter\n",
    "        \n",
    "            # # getting the result\n",
    "            sum_of_multiples_result = sum_of_multiples(a,  list(range(n)))\n",
    "    \n",
    "            output_file.write(str(sum_of_multiples_result) + \" \")\n",
    "            for a_each in a:\n",
    "                output_file.write(str(a_each) + \" \")\n",
    "            output_file.write(\"\\n\")\n",
    "        \n",
    "        input_file_read.close()\n",
    "        output_file.close()\n",
    "    except IOError:\n",
    "        print(\"File not found!\")\n",
    "\n",
    "\n",
    "def runf51():\n",
    "    with open('input', 'w') as f:\n",
    "        f.write('''10 3 5\n",
    "1000 3 5\n",
    "1000 2 3 5''')\n",
    "    f51('input', 'output')\n",
    "    \n",
    "runf51()\n"
   ]
  },
  {
   "cell_type": "code",
   "execution_count": 13,
   "metadata": {},
   "outputs": [],
   "source": [
    "def test():\n",
    "    return \"HELLO\"\n",
    "\n",
    "def test2():\n",
    "    my_var = test()\n",
    "    print(\"Test\")"
   ]
  },
  {
   "cell_type": "code",
   "execution_count": 4,
   "metadata": {},
   "outputs": [
    {
     "ename": "IndentationError",
     "evalue": "expected an indented block after 'if' statement on line 20 (677506834.py, line 23)",
     "output_type": "error",
     "traceback": [
      "\u001b[1;36m  Cell \u001b[1;32mIn[4], line 23\u001b[1;36m\u001b[0m\n\u001b[1;33m    n = int(read_params[0]) # n parameter\u001b[0m\n\u001b[1;37m    ^\u001b[0m\n\u001b[1;31mIndentationError\u001b[0m\u001b[1;31m:\u001b[0m expected an indented block after 'if' statement on line 20\n"
     ]
    }
   ],
   "source": [
    "#Ex 6.2\n",
    "#Handle corrupt lines by ignoring them and prepending 'Corrupt' to the line in the output file\n",
    "#'10 3 5 2' -> '37 10 3 5 2'\n",
    "#'10 3 5 Hello' -> 'Corrupt 10 3 5 Hello'\n",
    "#'10 3 5' -> '23 10 3 5'\n",
    "# \n",
    "import re\n",
    "def f51(ifn, ofn):\n",
    "    \n",
    "    try:\n",
    "        \n",
    "        input_file_read = open(ifn, \"r\")\n",
    "        output_file = open(ofn, \"w\")\n",
    "    \n",
    "        for line in input_file_read:\n",
    "            read_line = line.split(\" \")\n",
    "            \n",
    "            for each_read_line in read_line:\n",
    "                \n",
    "                if(re.search('[a-zA-Z]', (each_read_line))):\n",
    "                    \n",
    "                \n",
    "                n = int(read_params[0]) # n parameter\n",
    "                a = [int(i) for i in read_params] # a perameter\n",
    "        \n",
    "                # # getting the result\n",
    "                sum_of_multiples_result = sum_of_multiples(a,  list(range(n)))\n",
    "    \n",
    "                output_file.write(str(sum_of_multiples_result) + \" \")\n",
    "                for a_each in a:\n",
    "                    output_file.write(str(a_each) + \" \")\n",
    "                output_file.write(\"\\n\")\n",
    "                \n",
    "            \n",
    "        \n",
    "        input_file_read.close()\n",
    "        output_file.close()\n",
    "    except IOError:\n",
    "        print(\"File not found!\")\n",
    "\n",
    "\n",
    "def runf51():\n",
    "    with open('input', 'w') as f:\n",
    "        f.write('''10 3 5\n",
    "1000 3 5 Hello\n",
    "1000 2 3 5''')\n",
    "    f51('input', 'output')\n",
    "    \n",
    "runf51()"
   ]
  },
  {
   "cell_type": "code",
   "execution_count": 27,
   "metadata": {},
   "outputs": [
    {
     "name": "stdout",
     "output_type": "stream",
     "text": [
      "FALSE\n"
     ]
    }
   ],
   "source": [
    "import re \n",
    "if(re.search('[a-zA-Z]', (\"5\"))):\n",
    "    print(\"TRUE\")\n",
    "else:\n",
    "    print(\"FALSE\")"
   ]
  }
 ],
 "metadata": {
  "kernelspec": {
   "display_name": "Python 3",
   "language": "python",
   "name": "python3"
  },
  "language_info": {
   "codemirror_mode": {
    "name": "ipython",
    "version": 3
   },
   "file_extension": ".py",
   "mimetype": "text/x-python",
   "name": "python",
   "nbconvert_exporter": "python",
   "pygments_lexer": "ipython3",
   "version": "3.10.9"
  },
  "orig_nbformat": 4,
  "vscode": {
   "interpreter": {
    "hash": "f585781dd7d736710d676918f70cb1c14a5bbf46d26bce6628e8497fa7390e36"
   }
  }
 },
 "nbformat": 4,
 "nbformat_minor": 2
}
