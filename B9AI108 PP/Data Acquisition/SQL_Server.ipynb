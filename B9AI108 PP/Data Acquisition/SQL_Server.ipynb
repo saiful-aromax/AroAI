{
  "nbformat": 4,
  "nbformat_minor": 0,
  "metadata": {
    "colab": {
      "provenance": []
    },
    "kernelspec": {
      "name": "python3",
      "display_name": "Python 3"
    },
    "language_info": {
      "name": "python"
    }
  },
  "cells": [
    {
      "cell_type": "code",
      "execution_count": null,
      "metadata": {
        "colab": {
          "base_uri": "https://localhost:8080/"
        },
        "id": "kWZierr00CM7",
        "outputId": "d53849f9-c289-4269-98d0-5700e4c7d8aa"
      },
      "outputs": [
        {
          "output_type": "stream",
          "name": "stdout",
          "text": [
            "OK\n",
            "Get:1 https://packages.microsoft.com/ubuntu/16.04/prod xenial InRelease [4,010 B]\n",
            "Get:2 https://cloud.r-project.org/bin/linux/ubuntu bionic-cran40/ InRelease [3,626 B]\n",
            "Get:3 http://ppa.launchpad.net/c2d4u.team/c2d4u4.0+/ubuntu bionic InRelease [15.9 kB]\n",
            "Ign:4 https://developer.download.nvidia.com/compute/cuda/repos/ubuntu1804/x86_64  InRelease\n",
            "Get:5 http://security.ubuntu.com/ubuntu bionic-security InRelease [88.7 kB]\n",
            "Hit:6 http://archive.ubuntu.com/ubuntu bionic InRelease\n",
            "Get:7 https://packages.microsoft.com/ubuntu/16.04/prod xenial/main amd64 Packages [287 kB]\n",
            "Ign:8 https://developer.download.nvidia.com/compute/machine-learning/repos/ubuntu1804/x86_64  InRelease\n",
            "Get:9 https://developer.download.nvidia.com/compute/cuda/repos/ubuntu1804/x86_64  Release [696 B]\n",
            "Hit:10 https://developer.download.nvidia.com/compute/machine-learning/repos/ubuntu1804/x86_64  Release\n",
            "Get:11 http://archive.ubuntu.com/ubuntu bionic-updates InRelease [88.7 kB]\n",
            "Get:12 https://developer.download.nvidia.com/compute/cuda/repos/ubuntu1804/x86_64  Release.gpg [836 B]\n",
            "Hit:13 http://ppa.launchpad.net/cran/libgit2/ubuntu bionic InRelease\n",
            "Get:14 https://cloud.r-project.org/bin/linux/ubuntu bionic-cran40/ Packages [82.3 kB]\n",
            "Get:15 http://ppa.launchpad.net/deadsnakes/ppa/ubuntu bionic InRelease [15.9 kB]\n",
            "Get:16 http://archive.ubuntu.com/ubuntu bionic-backports InRelease [74.6 kB]\n",
            "Get:17 http://ppa.launchpad.net/graphics-drivers/ppa/ubuntu bionic InRelease [21.3 kB]\n",
            "Get:18 http://ppa.launchpad.net/c2d4u.team/c2d4u4.0+/ubuntu bionic/main Sources [1,894 kB]\n",
            "Get:20 http://ppa.launchpad.net/c2d4u.team/c2d4u4.0+/ubuntu bionic/main amd64 Packages [970 kB]\n",
            "Get:21 https://developer.download.nvidia.com/compute/cuda/repos/ubuntu1804/x86_64  Packages [952 kB]\n",
            "Get:22 http://security.ubuntu.com/ubuntu bionic-security/universe amd64 Packages [1,490 kB]\n",
            "Get:23 http://archive.ubuntu.com/ubuntu bionic-updates/multiverse amd64 Packages [29.8 kB]\n",
            "Get:24 http://archive.ubuntu.com/ubuntu bionic-updates/universe amd64 Packages [2,268 kB]\n",
            "Get:25 http://security.ubuntu.com/ubuntu bionic-security/main amd64 Packages [2,694 kB]\n",
            "Get:26 http://security.ubuntu.com/ubuntu bionic-security/restricted amd64 Packages [884 kB]\n",
            "Get:27 http://ppa.launchpad.net/deadsnakes/ppa/ubuntu bionic/main amd64 Packages [45.3 kB]\n",
            "Get:28 http://archive.ubuntu.com/ubuntu bionic-updates/restricted amd64 Packages [918 kB]\n",
            "Get:29 http://archive.ubuntu.com/ubuntu bionic-updates/main amd64 Packages [3,133 kB]\n",
            "Get:30 http://archive.ubuntu.com/ubuntu bionic-backports/universe amd64 Packages [12.9 kB]\n",
            "Get:31 http://archive.ubuntu.com/ubuntu bionic-backports/main amd64 Packages [12.2 kB]\n",
            "Get:32 http://ppa.launchpad.net/graphics-drivers/ppa/ubuntu bionic/main amd64 Packages [44.3 kB]\n",
            "Fetched 16.0 MB in 5s (3,317 kB/s)\n",
            "Reading package lists...\n",
            "Reading package lists...\n",
            "Building dependency tree...\n",
            "Reading state information...\n",
            "The following additional packages will be installed:\n",
            "  libodbc1 odbcinst odbcinst1debian2 unixodbc unixodbc-dev\n",
            "Suggested packages:\n",
            "  unixodbc-bin\n",
            "The following NEW packages will be installed:\n",
            "  msodbcsql17 unixodbc\n",
            "The following packages will be upgraded:\n",
            "  libodbc1 odbcinst odbcinst1debian2 unixodbc-dev\n",
            "4 upgraded, 2 newly installed, 0 to remove and 97 not upgraded.\n",
            "Need to get 1,458 kB of archives.\n",
            "After this operation, 152 kB of additional disk space will be used.\n",
            "Get:1 https://packages.microsoft.com/ubuntu/16.04/prod xenial/main amd64 odbcinst amd64 2.3.7 [12.0 kB]\n",
            "Get:2 https://packages.microsoft.com/ubuntu/16.04/prod xenial/main amd64 unixodbc-dev amd64 2.3.7 [37.1 kB]\n",
            "Get:3 https://packages.microsoft.com/ubuntu/16.04/prod xenial/main amd64 odbcinst1debian2 amd64 2.3.7 [135 kB]\n",
            "Get:4 https://packages.microsoft.com/ubuntu/16.04/prod xenial/main amd64 libodbc1 amd64 2.3.7 [511 kB]\n",
            "Get:5 https://packages.microsoft.com/ubuntu/16.04/prod xenial/main amd64 unixodbc amd64 2.3.7 [19.6 kB]\n",
            "Get:6 https://packages.microsoft.com/ubuntu/16.04/prod xenial/main amd64 msodbcsql17 amd64 17.8.1.1-1 [744 kB]\n",
            "Fetched 1,458 kB in 0s (16.8 MB/s)\n",
            "(Reading database ... \r(Reading database ... 5%\r(Reading database ... 10%\r(Reading database ... 15%\r(Reading database ... 20%\r(Reading database ... 25%\r(Reading database ... 30%\r(Reading database ... 35%\r(Reading database ... 40%\r(Reading database ... 45%\r(Reading database ... 50%\r(Reading database ... 55%\r(Reading database ... 60%\r(Reading database ... 65%\r(Reading database ... 70%\r(Reading database ... 75%\r(Reading database ... 80%\r(Reading database ... 85%\r(Reading database ... 90%\r(Reading database ... 95%\r(Reading database ... 100%\r(Reading database ... 156210 files and directories currently installed.)\r\n",
            "Preparing to unpack .../0-odbcinst_2.3.7_amd64.deb ...\r\n",
            "Unpacking odbcinst (2.3.7) over (2.3.4-1.1ubuntu3) ...\r\n",
            "Preparing to unpack .../1-unixodbc-dev_2.3.7_amd64.deb ...\r\n",
            "Unpacking unixodbc-dev (2.3.7) over (2.3.4-1.1ubuntu3) ...\r\n",
            "Preparing to unpack .../2-odbcinst1debian2_2.3.7_amd64.deb ...\r\n",
            "Unpacking odbcinst1debian2:amd64 (2.3.7) over (2.3.4-1.1ubuntu3) ...\r\n",
            "Preparing to unpack .../3-libodbc1_2.3.7_amd64.deb ...\r\n",
            "Unpacking libodbc1:amd64 (2.3.7) over (2.3.4-1.1ubuntu3) ...\r\n",
            "Selecting previously unselected package unixodbc.\r\n",
            "Preparing to unpack .../4-unixodbc_2.3.7_amd64.deb ...\r\n",
            "Unpacking unixodbc (2.3.7) ...\r\n",
            "Selecting previously unselected package msodbcsql17.\r\n",
            "Preparing to unpack .../5-msodbcsql17_17.8.1.1-1_amd64.deb ...\r\n",
            "debconf: unable to initialize frontend: Dialog\r\n",
            "debconf: (No usable dialog-like program is installed, so the dialog based frontend cannot be used. at /usr/share/perl5/Debconf/FrontEnd/Dialog.pm line 76.)\r\n",
            "debconf: falling back to frontend: Readline\r\n",
            "Unpacking msodbcsql17 (17.8.1.1-1) ...\r\n",
            "Setting up libodbc1:amd64 (2.3.7) ...\r\n",
            "Setting up odbcinst1debian2:amd64 (2.3.7) ...\r\n",
            "Setting up odbcinst (2.3.7) ...\r\n",
            "Setting up unixodbc (2.3.7) ...\r\n",
            "Setting up unixodbc-dev (2.3.7) ...\r\n",
            "Setting up msodbcsql17 (17.8.1.1-1) ...\r\n",
            "Processing triggers for libc-bin (2.27-3ubuntu1.3) ...\r\n",
            "/sbin/ldconfig.real: /usr/local/lib/python3.7/dist-packages/ideep4py/lib/libmkldnn.so.0 is not a symbolic link\r\n",
            "\r\n",
            "Processing triggers for man-db (2.8.3-2ubuntu0.1) ...\r\n"
          ]
        },
        {
          "output_type": "stream",
          "name": "stderr",
          "text": [
            "  % Total    % Received % Xferd  Average Speed   Time    Time     Time  Current\n",
            "                                 Dload  Upload   Total   Spent    Left  Speed\n",
            "\r  0     0    0     0    0     0      0      0 --:--:-- --:--:-- --:--:--     0\r100   983  100   983    0     0  17245      0 --:--:-- --:--:-- --:--:-- 17245\n",
            "Warning: apt-key output should not be parsed (stdout is not a terminal)\n",
            "  % Total    % Received % Xferd  Average Speed   Time    Time     Time  Current\n",
            "                                 Dload  Upload   Total   Spent    Left  Speed\n",
            "\r  0     0    0     0    0     0      0      0 --:--:-- --:--:-- --:--:--     0\r  0     0    0     0    0     0      0      0 --:--:-- --:--:-- --:--:--     0\r100    79  100    79    0     0   1680      0 --:--:-- --:--:-- --:--:--  1645\n",
            "debconf: unable to initialize frontend: Dialog\n",
            "debconf: (No usable dialog-like program is installed, so the dialog based frontend cannot be used. at /usr/share/perl5/Debconf/FrontEnd/Dialog.pm line 76, <> line 6.)\n",
            "debconf: falling back to frontend: Readline\n",
            "debconf: unable to initialize frontend: Readline\n",
            "debconf: (This frontend requires a controlling tty.)\n",
            "debconf: falling back to frontend: Teletype\n",
            "dpkg-preconfigure: unable to re-open stdin: \n"
          ]
        }
      ],
      "source": [
        "%%sh\n",
        "curl https://packages.microsoft.com/keys/microsoft.asc | apt-key add -\n",
        "curl https://packages.microsoft.com/config/ubuntu/16.04/prod.list > /etc/apt/sources.list.d/mssql-release.list\n",
        "sudo apt-get update\n",
        "sudo ACCEPT_EULA=Y apt-get -q -y install msodbcsql17\n"
      ]
    },
    {
      "cell_type": "code",
      "source": [
        "!pip install pypyodbc\n",
        "import pypyodbc"
      ],
      "metadata": {
        "colab": {
          "base_uri": "https://localhost:8080/"
        },
        "id": "Y-c4y1UR3-9M",
        "outputId": "0bad5408-8507-4068-a476-808c63f777db"
      },
      "execution_count": null,
      "outputs": [
        {
          "output_type": "stream",
          "name": "stdout",
          "text": [
            "Collecting pypyodbc\n",
            "  Downloading pypyodbc-1.3.5.2.zip (25 kB)\n",
            "\u001b[33mWARNING: Discarding https://files.pythonhosted.org/packages/ea/48/bb5412846df5b8f97d42ac24ac36a6b77a802c2778e217adc0d3ec1ee7bf/pypyodbc-1.3.5.2.zip#sha256=90a9a1fdbe5c06b875155d82562beb50bb22743190ca9b46a2cb71030ee65496 (from https://pypi.org/simple/pypyodbc/). Requested pypyodbc from https://files.pythonhosted.org/packages/ea/48/bb5412846df5b8f97d42ac24ac36a6b77a802c2778e217adc0d3ec1ee7bf/pypyodbc-1.3.5.2.zip#sha256=90a9a1fdbe5c06b875155d82562beb50bb22743190ca9b46a2cb71030ee65496 has inconsistent version: filename has '1.3.5.2', but metadata has '1.3.4'\u001b[0m\n",
            "  Downloading pypyodbc-1.3.4.3.zip (24 kB)\n",
            "\u001b[33mWARNING: Discarding https://files.pythonhosted.org/packages/4c/4a/ba2593783287fb56b04d629abdbb8bfd09bfbab2c3ca9f63e3831e7aa572/pypyodbc-1.3.4.3.zip#sha256=cf655760fb3d81d7ddae9aa053c06123762ae97bcc6ec5c4d26ac86497107092 (from https://pypi.org/simple/pypyodbc/). Requested pypyodbc from https://files.pythonhosted.org/packages/4c/4a/ba2593783287fb56b04d629abdbb8bfd09bfbab2c3ca9f63e3831e7aa572/pypyodbc-1.3.4.3.zip#sha256=cf655760fb3d81d7ddae9aa053c06123762ae97bcc6ec5c4d26ac86497107092 has inconsistent version: filename has '1.3.4.3', but metadata has '1.3.4'\u001b[0m\n",
            "  Downloading pypyodbc-1.3.3.1.zip (23 kB)\n",
            "\u001b[33mWARNING: Discarding https://files.pythonhosted.org/packages/5a/04/623370ba35a1e48fd64cdf247bec19495cc3a7f2f2f602a0d48aed80d612/pypyodbc-1.3.3.1.zip#sha256=ba1ae779dbad5f332d06ca73f22bc59674f509e25c44ed47eddf05382255c4fb (from https://pypi.org/simple/pypyodbc/). Requested pypyodbc from https://files.pythonhosted.org/packages/5a/04/623370ba35a1e48fd64cdf247bec19495cc3a7f2f2f602a0d48aed80d612/pypyodbc-1.3.3.1.zip#sha256=ba1ae779dbad5f332d06ca73f22bc59674f509e25c44ed47eddf05382255c4fb has inconsistent version: filename has '1.3.3.1', but metadata has '1.3.3'\u001b[0m\n",
            "  Downloading pypyodbc-1.3.2.zip (23 kB)\n",
            "Requirement already satisfied: setuptools in /usr/local/lib/python3.7/dist-packages (from pypyodbc) (57.4.0)\n",
            "Building wheels for collected packages: pypyodbc\n",
            "  Building wheel for pypyodbc (setup.py) ... \u001b[?25l\u001b[?25hdone\n",
            "  Created wheel for pypyodbc: filename=pypyodbc-1.3.2-py3-none-any.whl size=22477 sha256=a3ef9cfc4fd273fff4e87b508e701d4600a6cdbd9947d34884f976851e7cda8a\n",
            "  Stored in directory: /root/.cache/pip/wheels/7a/27/a1/dee80bc3ccf3443247f909705b46f6ed67dce756274f9d8954\n",
            "Successfully built pypyodbc\n",
            "Installing collected packages: pypyodbc\n",
            "Successfully installed pypyodbc-1.3.2\n"
          ]
        }
      ]
    },
    {
      "cell_type": "code",
      "source": [
        "connection = pypyodbc.connect('Driver={ODBC Driver 17 for SQL Server};'\n",
        "'Server=34.140.29.246;'\n",
        "'Database=master;'\n",
        "'encrypt=yes;'\n",
        "'TrustServerCertificate=yes;'\n",
        "'UID=sa;'\n",
        "'PWD=Pr0gramming!',autocommit = True)"
      ],
      "metadata": {
        "id": "2euSkNpo4GS3"
      },
      "execution_count": null,
      "outputs": []
    },
    {
      "cell_type": "code",
      "source": [
        "cursor = connection.cursor()\n",
        "SQLCommand = (\"CREATE DATABASE Customer;\")\n",
        "cursor.execute(SQLCommand)\n",
        "print('done')\n",
        "\n",
        "connection.close()"
      ],
      "metadata": {
        "colab": {
          "base_uri": "https://localhost:8080/"
        },
        "id": "UMkVHIyw4Rre",
        "outputId": "f32963ba-9888-4932-b848-5a5794bd58bd"
      },
      "execution_count": null,
      "outputs": [
        {
          "output_type": "stream",
          "name": "stdout",
          "text": [
            "done\n"
          ]
        }
      ]
    },
    {
      "cell_type": "code",
      "source": [
        "connection = pypyodbc.connect('Driver={ODBC Driver 17 for SQL Server};'\n",
        "'Server=34.140.29.246;'\n",
        "'Database=Customer;'\n",
        "'encrypt=yes;'\n",
        "'TrustServerCertificate=yes;'\n",
        "'UID=sa;'\n",
        "'PWD=Pr0gramming!',autocommit = True)"
      ],
      "metadata": {
        "id": "KJNp3bgI4Vss"
      },
      "execution_count": null,
      "outputs": []
    },
    {
      "cell_type": "code",
      "source": [
        "cursor = connection.cursor()\n",
        "SQLCommand = (\"CREATE TABLE test(ID INT);\")\n",
        "cursor.execute(SQLCommand)\n",
        "SQLCommand = (\"INSERT INTO test VALUES(?);\")\n",
        "cursor.execute(SQLCommand,40)\n",
        "SQLCommand = (\"INSERT INTO test VALUES(42);\")\n",
        "cursor.execute(SQLCommand)\n",
        "SQLCommand = (\"SELECT * FROM test;\")\n",
        "cursor.execute(SQLCommand)\n",
        "results = cursor.fetchone()\n",
        "print('First result is:',results[0])\n",
        "results = cursor.fetchone()\n",
        "print('Next result is:',results[0])\n",
        "print('done')"
      ],
      "metadata": {
        "colab": {
          "base_uri": "https://localhost:8080/"
        },
        "id": "ds_EerE64dpD",
        "outputId": "b80c1020-1cf7-4e54-b6a2-68228c44d2a1"
      },
      "execution_count": null,
      "outputs": [
        {
          "output_type": "stream",
          "name": "stdout",
          "text": [
            "First result is: 40\n",
            "Next result is: 42\n",
            "done\n"
          ]
        }
      ]
    },
    {
      "cell_type": "code",
      "source": [],
      "metadata": {
        "id": "0mumQu0M4eTM"
      },
      "execution_count": null,
      "outputs": []
    }
  ]
}