{
  "nbformat": 4,
  "nbformat_minor": 0,
  "metadata": {
    "colab": {
      "provenance": []
    },
    "kernelspec": {
      "name": "python3",
      "display_name": "Python 3"
    },
    "language_info": {
      "name": "python"
    }
  },
  "cells": [
    {
      "cell_type": "code",
      "metadata": {
        "id": "Ta8DOUDKQv5u"
      },
      "source": [
        "import requests\n",
        "import json\n",
        "import pandas as pd"
      ],
      "execution_count": null,
      "outputs": []
    },
    {
      "cell_type": "code",
      "metadata": {
        "id": "-U3jfK7VQ3Zl"
      },
      "source": [
        "data=\"start=2022-08-08&end=2023-08-15&resType=101&calView=agendaWeek&federationIds%5B%5D=PAULAIRD+++&colourScheme=3\"\n",
        "url=\"https://tts.dbs.ie/Home/GetCalendarData\"\n",
        "headers={'Accept': 'application/json, text/javascript, */*; q=0.01','Accept-Encoding': 'gzip, deflate','Accept-Language': 'en-US,en;q=0.9','Connection': 'keep-alive','Content-Length': '113','Content-Type': 'application/x-www-form-urlencoded; charset=UTF-8','Cookie': '_ga=GA1.2.197021838.1634041998; .AspNetCore.Antiforgery.VsQGwGXGqGs=CfDJ8IsD0d_HGXNHg7Kfrxr2oQbQXk8hK9qwOibTp_G0XbgKxYZ7SremcS2h85zud2zr-lTCJscpE4bUhXTdpf4zCn3kDfA-AytGjSRTp9IH8DkMRd8ppupImaqP6qYhV5RK8wxQL0QnGlGKD0mafPPvY5s; .Celcat.Calendar.Session=CfDJ8IsD0d%2FHGXNHg7Kfrxr2oQYFSL1aJ6i2bHYEuiMXq2Aexb6bVuJLB%2FzPqtY79Wp1cDYBiP6H2fnHnaedMyjfvMlXrm%2BbsdWNFo%2Fr8f9szdrUKRBXaFHe1CfC72BQbuxbakmDZQTppyoswg33RizcpehmlnB%2BvIFPHYCRFfsV0eZx','Host': 'tts.dbs.ie','Origin': 'https://tts.dbs.ie','Referer': 'https://tts.dbs.ie/cal?vt=agendaWeek&dt=2021-11-05&et=team&eid=1:1183708:11&fid0=BHD08DNL%20-%201F09','sec-ch-ua': '\"Google Chrome\";v=\"95\", \"Chromium\";v=\"95\", \";Not A Brand\";v=\"99\"','sec-ch-ua-mobile': '?0','sec-ch-ua-platform': '\"Windows\"','Sec-Fetch-Dest': 'empty','Sec-Fetch-Mode': 'cors','Sec-Fetch-Site': 'same-origin','User-Agent': 'Mozilla/5.0 (Windows NT 10.0; Win64; x64) AppleWebKit/537.36 (KHTML, like Gecko) Chrome/95.0.4638.69 Safari/537.36','X-Requested-With': 'XMLHttpRequest'}"
      ],
      "execution_count": null,
      "outputs": []
    },
    {
      "cell_type": "code",
      "metadata": {
        "id": "qufttr-YRO0z"
      },
      "source": [
        "resp=requests.post(url,data=data,headers=headers)"
      ],
      "execution_count": null,
      "outputs": []
    },
    {
      "cell_type": "code",
      "metadata": {
        "id": "eIKNqd_ZRa1W"
      },
      "source": [
        "d=json.loads(resp.content)"
      ],
      "execution_count": null,
      "outputs": []
    },
    {
      "cell_type": "code",
      "metadata": {
        "id": "ZthQ35U1ReeN",
        "colab": {
          "base_uri": "https://localhost:8080/"
        },
        "outputId": "9900f5ce-cc24-464e-c23a-ea60e9afdcc4"
      },
      "source": [
        "len(d)"
      ],
      "execution_count": null,
      "outputs": [
        {
          "output_type": "execute_result",
          "data": {
            "text/plain": [
              "493"
            ]
          },
          "metadata": {},
          "execution_count": 5
        }
      ]
    },
    {
      "cell_type": "code",
      "metadata": {
        "id": "0WuMa3ElYQnu"
      },
      "source": [
        "import requests\n",
        "import json"
      ],
      "execution_count": null,
      "outputs": []
    },
    {
      "cell_type": "code",
      "metadata": {
        "id": "IEYoSmspd7n8"
      },
      "source": [
        "url='https://tts.dbs.ie/Home/GetCalendarData'\n",
        "headers=headers={'Accept': 'application/json, text/javascript, */*; q=0.01',\n",
        " 'Accept-Encoding': 'gzip, deflate',\n",
        " 'Accept-Language': 'en-US,en;q=0.9',\n",
        " 'Connection': 'keep-alive',\n",
        " 'Content-Length': '117',\n",
        " 'Content-Type': 'application/x-www-form-urlencoded; charset=UTF-8',\n",
        " 'Cookie': '_fbp=fb.1.1631031750081.222030155; __qca=P0-1993081162-1631031750427; _scid=c13dfef4-db0a-4875-b4cc-2f495515b06c; _ga=GA1.2.844686697.1622205256; _ga_JFYJ9XY40Z=GS1.1.1634651803.8.1.1634651894.0; .AspNetCore.Antiforgery.VsQGwGXGqGs=CfDJ8IsD0d_HGXNHg7Kfrxr2oQZXjzi-YSxBr_EwTwQscTe2DEq1SJ31EhvF8vh2YtzPWPcccOR478ryZLdFSlMTwvF1yrFRaStREqbAEzru3Tel_NOeUz6E9LYO-_eS8XIUiWV-U7mqKMyVjMwNYv88yVs; .Celcat.Calendar.Session=CfDJ8IsD0d%2FHGXNHg7Kfrxr2oQZ6f3mPAetOAjAteekVaefoPgkCYjgIHgM2i8feYLe7rPpmbYXGXRth4heeHy48rzsjF9p51YmxHPu5UnYkVmdaEy0o45oLlhmYF1duqdXAug1ro2Cniou8g9wT%2B9xzN0rmyef9Jl8UN%2Bncy8ZkqiAS',\n",
        " 'Host': 'tts.dbs.ie',\n",
        " 'Origin': 'https://tts.dbs.ie',\n",
        " 'Referer': 'https://tts.dbs.ie/cal?vt=agendaWeek&dt=2021-12-06&et=team&fid0=BMS09DNL%20-%201F09%20-%20A',\n",
        " 'sec-ch-ua': '\" Not A;Brand\";v=\"99\", \"Chromium\";v=\"96\", \"Google Chrome\";v=\"96\"',\n",
        " 'sec-ch-ua-mobile': '?0',\n",
        " 'sec-ch-ua-platform': '\"Windows\"',\n",
        " 'Sec-Fetch-Dest': 'empty',\n",
        " 'Sec-Fetch-Mode': 'cors',\n",
        " 'Sec-Fetch-Site': 'same-origin',\n",
        " 'User-Agent': 'Mozilla/5.0 (Windows NT 10.0; Win64; x64) AppleWebKit/537.36 (KHTML, like Gecko) Chrome/96.0.4664.45 Safari/537.36',\n",
        " 'X-Requested-With': 'XMLHttpRequest'}\n",
        "data='''start=2022-12-06&end=2022-12-13&resType=105&calView=agendaWeek&federationIds%5B%5D=BMS09DNL+-+1F09+-+A&colourScheme=3'''"
      ],
      "execution_count": null,
      "outputs": []
    },
    {
      "cell_type": "code",
      "metadata": {
        "id": "6oXHsfm7fh06"
      },
      "source": [
        "resp=requests.post(url,headers=headers,data=data)"
      ],
      "execution_count": null,
      "outputs": []
    },
    {
      "cell_type": "code",
      "metadata": {
        "colab": {
          "base_uri": "https://localhost:8080/"
        },
        "id": "SApKHGkvfolZ",
        "outputId": "6b63dd85-7e9f-4111-c0ac-255f768ed0af"
      },
      "source": [
        "resp"
      ],
      "execution_count": null,
      "outputs": [
        {
          "output_type": "execute_result",
          "data": {
            "text/plain": [
              "<Response [200]>"
            ]
          },
          "metadata": {},
          "execution_count": 13
        }
      ]
    },
    {
      "cell_type": "code",
      "metadata": {
        "colab": {
          "base_uri": "https://localhost:8080/"
        },
        "id": "pYrQT_JkfptG",
        "outputId": "386effef-f330-42e0-bcb6-d14c22b37c2f"
      },
      "source": [
        "resp.content"
      ],
      "execution_count": null,
      "outputs": [
        {
          "output_type": "execute_result",
          "data": {
            "text/plain": [
              "b'[{\"id\":\"1:1074894:16\",\"start\":\"2021-12-08T16:00:00\",\"end\":\"2021-12-08T18:00:00\",\"allDay\":false,\"description\":\"CH2.1\\\\r\\\\n\\\\r\\\\n<br />\\\\r\\\\n\\\\r\\\\nProgramming for Data Analysis\\\\r\\\\n\\\\r\\\\n<br />\\\\r\\\\n\\\\r\\\\nPaul Laird\\\\r\\\\n\\\\r\\\\n<br />\\\\r\\\\n\\\\r\\\\nFull Time Lecture\\\\r\\\\n\",\"backgroundColor\":\"#FF8080\",\"textColor\":\"#000000\",\"department\":\"Computing\",\"faculty\":\"Cloud; Data Analytics; Information Systems; Cybersecurity; Artificial Intelligence\",\"eventCategory\":\"Full Time Lecture\",\"site\":\"Castle House\",\"module\":\"B9DA108\",\"registerStatus\":0,\"studentMark\":0,\"custom1\":\"Paul Laird - https://dbs.zoom.us/j/94247444262\\\\r\\\\n Clive Gargan - https://dbs.zoom.us/j/98474323939\\\\r\\\\n \",\"custom2\":null,\"custom3\":null},{\"id\":\"1:1074898:16\",\"start\":\"2021-12-07T15:00:00\",\"end\":\"2021-12-07T17:00:00\",\"allDay\":false,\"description\":\"OC6\\\\r\\\\n\\\\r\\\\n<br />\\\\r\\\\n\\\\r\\\\nProgramming for Data Analysis\\\\r\\\\n\\\\r\\\\n<br />\\\\r\\\\n\\\\r\\\\nPaul Laird\\\\r\\\\n\\\\r\\\\n<br />\\\\r\\\\n\\\\r\\\\nOnline Delivery Full Time\\\\r\\\\n\",\"backgroundColor\":\"#008000\",\"textColor\":\"#ffffff\",\"department\":\"Computing\",\"faculty\":\"Cloud; Data Analytics; Information Systems; Cybersecurity; Artificial Intelligence\",\"eventCategory\":\"Online Delivery Full Time\",\"site\":null,\"module\":\"B9DA108\",\"registerStatus\":0,\"studentMark\":0,\"custom1\":\"Paul Laird - https://dbs.zoom.us/j/94247444262\\\\r\\\\n Clive Gargan - https://dbs.zoom.us/j/98474323939\\\\r\\\\n \",\"custom2\":null,\"custom3\":null},{\"id\":\"1:1184087:16\",\"start\":\"2021-12-07T09:00:00\",\"end\":\"2021-12-07T11:30:00\",\"allDay\":false,\"description\":\"OC6\\\\r\\\\n\\\\r\\\\n<br />\\\\r\\\\n\\\\r\\\\nStatistics for Data Analytics\\\\r\\\\n\\\\r\\\\n<br />\\\\r\\\\n\\\\r\\\\nShahram Azizi Sazi\\\\r\\\\n\\\\r\\\\n<br />\\\\r\\\\n\\\\r\\\\nOnline Delivery Full Time\\\\r\\\\n\",\"backgroundColor\":\"#008000\",\"textColor\":\"#ffffff\",\"department\":\"Computing\",\"faculty\":\"Cloud; Data Analytics; Information Systems; Cybersecurity; Artificial Intelligence\",\"eventCategory\":\"Online Delivery Full Time\",\"site\":null,\"module\":\"B9DA101\",\"registerStatus\":0,\"studentMark\":0,\"custom1\":\"Shahram Azizi Sazi - https://dbs.zoom.us/j/96925049472\\\\r\\\\n \",\"custom2\":null,\"custom3\":null}]'"
            ]
          },
          "metadata": {},
          "execution_count": 15
        }
      ]
    },
    {
      "cell_type": "code",
      "metadata": {
        "id": "7zw9ePzNfsF2"
      },
      "source": [
        "content=json.loads(resp.content)"
      ],
      "execution_count": null,
      "outputs": []
    },
    {
      "cell_type": "code",
      "metadata": {
        "colab": {
          "base_uri": "https://localhost:8080/"
        },
        "id": "JGy4_klhgMmu",
        "outputId": "9eade572-4a19-4d49-c963-f71a08e83ef9"
      },
      "source": [
        "len(content)"
      ],
      "execution_count": null,
      "outputs": [
        {
          "output_type": "execute_result",
          "data": {
            "text/plain": [
              "3"
            ]
          },
          "metadata": {},
          "execution_count": 17
        }
      ]
    },
    {
      "cell_type": "code",
      "metadata": {
        "colab": {
          "base_uri": "https://localhost:8080/",
          "height": 423
        },
        "id": "AeoF8eCKgOI-",
        "outputId": "95acef38-b15e-470e-f230-039e22cedd81"
      },
      "source": [
        "pd.json_normalize(content)"
      ],
      "execution_count": null,
      "outputs": [
        {
          "output_type": "execute_result",
          "data": {
            "text/html": [
              "<div>\n",
              "<style scoped>\n",
              "    .dataframe tbody tr th:only-of-type {\n",
              "        vertical-align: middle;\n",
              "    }\n",
              "\n",
              "    .dataframe tbody tr th {\n",
              "        vertical-align: top;\n",
              "    }\n",
              "\n",
              "    .dataframe thead th {\n",
              "        text-align: right;\n",
              "    }\n",
              "</style>\n",
              "<table border=\"1\" class=\"dataframe\">\n",
              "  <thead>\n",
              "    <tr style=\"text-align: right;\">\n",
              "      <th></th>\n",
              "      <th>id</th>\n",
              "      <th>start</th>\n",
              "      <th>end</th>\n",
              "      <th>allDay</th>\n",
              "      <th>description</th>\n",
              "      <th>backgroundColor</th>\n",
              "      <th>textColor</th>\n",
              "      <th>department</th>\n",
              "      <th>faculty</th>\n",
              "      <th>eventCategory</th>\n",
              "      <th>site</th>\n",
              "      <th>module</th>\n",
              "      <th>registerStatus</th>\n",
              "      <th>studentMark</th>\n",
              "      <th>custom1</th>\n",
              "      <th>custom2</th>\n",
              "      <th>custom3</th>\n",
              "    </tr>\n",
              "  </thead>\n",
              "  <tbody>\n",
              "    <tr>\n",
              "      <th>0</th>\n",
              "      <td>1:1074894:16</td>\n",
              "      <td>2021-12-08T16:00:00</td>\n",
              "      <td>2021-12-08T18:00:00</td>\n",
              "      <td>False</td>\n",
              "      <td>CH2.1\\r\\n\\r\\n&lt;br /&gt;\\r\\n\\r\\nProgramming for Dat...</td>\n",
              "      <td>#FF8080</td>\n",
              "      <td>#000000</td>\n",
              "      <td>Computing</td>\n",
              "      <td>Cloud; Data Analytics; Information Systems; Cy...</td>\n",
              "      <td>Full Time Lecture</td>\n",
              "      <td>Castle House</td>\n",
              "      <td>B9DA108</td>\n",
              "      <td>0</td>\n",
              "      <td>0</td>\n",
              "      <td>Paul Laird - https://dbs.zoom.us/j/94247444262...</td>\n",
              "      <td>None</td>\n",
              "      <td>None</td>\n",
              "    </tr>\n",
              "    <tr>\n",
              "      <th>1</th>\n",
              "      <td>1:1074898:16</td>\n",
              "      <td>2021-12-07T15:00:00</td>\n",
              "      <td>2021-12-07T17:00:00</td>\n",
              "      <td>False</td>\n",
              "      <td>OC6\\r\\n\\r\\n&lt;br /&gt;\\r\\n\\r\\nProgramming for Data ...</td>\n",
              "      <td>#008000</td>\n",
              "      <td>#ffffff</td>\n",
              "      <td>Computing</td>\n",
              "      <td>Cloud; Data Analytics; Information Systems; Cy...</td>\n",
              "      <td>Online Delivery Full Time</td>\n",
              "      <td>None</td>\n",
              "      <td>B9DA108</td>\n",
              "      <td>0</td>\n",
              "      <td>0</td>\n",
              "      <td>Paul Laird - https://dbs.zoom.us/j/94247444262...</td>\n",
              "      <td>None</td>\n",
              "      <td>None</td>\n",
              "    </tr>\n",
              "    <tr>\n",
              "      <th>2</th>\n",
              "      <td>1:1184087:16</td>\n",
              "      <td>2021-12-07T09:00:00</td>\n",
              "      <td>2021-12-07T11:30:00</td>\n",
              "      <td>False</td>\n",
              "      <td>OC6\\r\\n\\r\\n&lt;br /&gt;\\r\\n\\r\\nStatistics for Data A...</td>\n",
              "      <td>#008000</td>\n",
              "      <td>#ffffff</td>\n",
              "      <td>Computing</td>\n",
              "      <td>Cloud; Data Analytics; Information Systems; Cy...</td>\n",
              "      <td>Online Delivery Full Time</td>\n",
              "      <td>None</td>\n",
              "      <td>B9DA101</td>\n",
              "      <td>0</td>\n",
              "      <td>0</td>\n",
              "      <td>Shahram Azizi Sazi - https://dbs.zoom.us/j/969...</td>\n",
              "      <td>None</td>\n",
              "      <td>None</td>\n",
              "    </tr>\n",
              "  </tbody>\n",
              "</table>\n",
              "</div>"
            ],
            "text/plain": [
              "             id                start  ... custom2  custom3\n",
              "0  1:1074894:16  2021-12-08T16:00:00  ...    None     None\n",
              "1  1:1074898:16  2021-12-07T15:00:00  ...    None     None\n",
              "2  1:1184087:16  2021-12-07T09:00:00  ...    None     None\n",
              "\n",
              "[3 rows x 17 columns]"
            ]
          },
          "metadata": {},
          "execution_count": 18
        }
      ]
    },
    {
      "cell_type": "code",
      "metadata": {
        "id": "-Mn6xGklgfAN"
      },
      "source": [
        "df=pd.json_normalize(content)\n",
        "df.drop(['allDay','backgroundColor','textColor','faculty','custom2','custom3','registerStatus','studentMark'],axis=1,inplace=True)"
      ],
      "execution_count": null,
      "outputs": []
    },
    {
      "cell_type": "code",
      "metadata": {
        "colab": {
          "base_uri": "https://localhost:8080/",
          "height": 267
        },
        "id": "Bn8jlg-ch-3n",
        "outputId": "adeead72-8ccd-46bb-b786-a0c4358383a0"
      },
      "source": [
        "df"
      ],
      "execution_count": null,
      "outputs": [
        {
          "output_type": "execute_result",
          "data": {
            "text/html": [
              "<div>\n",
              "<style scoped>\n",
              "    .dataframe tbody tr th:only-of-type {\n",
              "        vertical-align: middle;\n",
              "    }\n",
              "\n",
              "    .dataframe tbody tr th {\n",
              "        vertical-align: top;\n",
              "    }\n",
              "\n",
              "    .dataframe thead th {\n",
              "        text-align: right;\n",
              "    }\n",
              "</style>\n",
              "<table border=\"1\" class=\"dataframe\">\n",
              "  <thead>\n",
              "    <tr style=\"text-align: right;\">\n",
              "      <th></th>\n",
              "      <th>id</th>\n",
              "      <th>start</th>\n",
              "      <th>end</th>\n",
              "      <th>description</th>\n",
              "      <th>department</th>\n",
              "      <th>eventCategory</th>\n",
              "      <th>site</th>\n",
              "      <th>module</th>\n",
              "      <th>custom1</th>\n",
              "    </tr>\n",
              "  </thead>\n",
              "  <tbody>\n",
              "    <tr>\n",
              "      <th>0</th>\n",
              "      <td>1:1074894:16</td>\n",
              "      <td>2021-12-08T16:00:00</td>\n",
              "      <td>2021-12-08T18:00:00</td>\n",
              "      <td>CH2.1\\r\\n\\r\\n&lt;br /&gt;\\r\\n\\r\\nProgramming for Dat...</td>\n",
              "      <td>Computing</td>\n",
              "      <td>Full Time Lecture</td>\n",
              "      <td>Castle House</td>\n",
              "      <td>B9DA108</td>\n",
              "      <td>Paul Laird - https://dbs.zoom.us/j/94247444262...</td>\n",
              "    </tr>\n",
              "    <tr>\n",
              "      <th>1</th>\n",
              "      <td>1:1074898:16</td>\n",
              "      <td>2021-12-07T15:00:00</td>\n",
              "      <td>2021-12-07T17:00:00</td>\n",
              "      <td>OC6\\r\\n\\r\\n&lt;br /&gt;\\r\\n\\r\\nProgramming for Data ...</td>\n",
              "      <td>Computing</td>\n",
              "      <td>Online Delivery Full Time</td>\n",
              "      <td>None</td>\n",
              "      <td>B9DA108</td>\n",
              "      <td>Paul Laird - https://dbs.zoom.us/j/94247444262...</td>\n",
              "    </tr>\n",
              "    <tr>\n",
              "      <th>2</th>\n",
              "      <td>1:1184087:16</td>\n",
              "      <td>2021-12-07T09:00:00</td>\n",
              "      <td>2021-12-07T11:30:00</td>\n",
              "      <td>OC6\\r\\n\\r\\n&lt;br /&gt;\\r\\n\\r\\nStatistics for Data A...</td>\n",
              "      <td>Computing</td>\n",
              "      <td>Online Delivery Full Time</td>\n",
              "      <td>None</td>\n",
              "      <td>B9DA101</td>\n",
              "      <td>Shahram Azizi Sazi - https://dbs.zoom.us/j/969...</td>\n",
              "    </tr>\n",
              "  </tbody>\n",
              "</table>\n",
              "</div>"
            ],
            "text/plain": [
              "             id  ...                                            custom1\n",
              "0  1:1074894:16  ...  Paul Laird - https://dbs.zoom.us/j/94247444262...\n",
              "1  1:1074898:16  ...  Paul Laird - https://dbs.zoom.us/j/94247444262...\n",
              "2  1:1184087:16  ...  Shahram Azizi Sazi - https://dbs.zoom.us/j/969...\n",
              "\n",
              "[3 rows x 9 columns]"
            ]
          },
          "metadata": {},
          "execution_count": 20
        }
      ]
    },
    {
      "cell_type": "code",
      "metadata": {
        "colab": {
          "base_uri": "https://localhost:8080/",
          "height": 52
        },
        "id": "7n0kRhTii76z",
        "outputId": "53f036e6-0f7f-4a07-dd70-84392313760d"
      },
      "source": [
        "df.at[0,'description']"
      ],
      "execution_count": null,
      "outputs": [
        {
          "output_type": "execute_result",
          "data": {
            "application/vnd.google.colaboratory.intrinsic+json": {
              "type": "string"
            },
            "text/plain": [
              "'CH2.1\\r\\n\\r\\n<br />\\r\\n\\r\\nProgramming for Data Analysis\\r\\n\\r\\n<br />\\r\\n\\r\\nPaul Laird\\r\\n\\r\\n<br />\\r\\n\\r\\nFull Time Lecture\\r\\n'"
            ]
          },
          "metadata": {},
          "execution_count": 21
        }
      ]
    },
    {
      "cell_type": "code",
      "metadata": {
        "colab": {
          "base_uri": "https://localhost:8080/",
          "height": 302
        },
        "id": "IOtWN6yViGFk",
        "outputId": "9f988aa8-b314-4983-8411-9ad7f111529e"
      },
      "source": [
        "df[['location','subject','lecturer','schedule']] = df['description'].str.split('\\\\r\\\\n\\\\r\\\\n<br />\\\\r\\\\n\\\\r\\\\n',expand=True)\n",
        "df\n"
      ],
      "execution_count": null,
      "outputs": [
        {
          "output_type": "execute_result",
          "data": {
            "text/html": [
              "<div>\n",
              "<style scoped>\n",
              "    .dataframe tbody tr th:only-of-type {\n",
              "        vertical-align: middle;\n",
              "    }\n",
              "\n",
              "    .dataframe tbody tr th {\n",
              "        vertical-align: top;\n",
              "    }\n",
              "\n",
              "    .dataframe thead th {\n",
              "        text-align: right;\n",
              "    }\n",
              "</style>\n",
              "<table border=\"1\" class=\"dataframe\">\n",
              "  <thead>\n",
              "    <tr style=\"text-align: right;\">\n",
              "      <th></th>\n",
              "      <th>id</th>\n",
              "      <th>start</th>\n",
              "      <th>end</th>\n",
              "      <th>description</th>\n",
              "      <th>department</th>\n",
              "      <th>eventCategory</th>\n",
              "      <th>site</th>\n",
              "      <th>module</th>\n",
              "      <th>custom1</th>\n",
              "      <th>location</th>\n",
              "      <th>subject</th>\n",
              "      <th>lecturer</th>\n",
              "      <th>schedule</th>\n",
              "    </tr>\n",
              "  </thead>\n",
              "  <tbody>\n",
              "    <tr>\n",
              "      <th>0</th>\n",
              "      <td>1:1074894:16</td>\n",
              "      <td>2021-12-08T16:00:00</td>\n",
              "      <td>2021-12-08T18:00:00</td>\n",
              "      <td>CH2.1\\r\\n\\r\\n&lt;br /&gt;\\r\\n\\r\\nProgramming for Dat...</td>\n",
              "      <td>Computing</td>\n",
              "      <td>Full Time Lecture</td>\n",
              "      <td>Castle House</td>\n",
              "      <td>B9DA108</td>\n",
              "      <td>Paul Laird - https://dbs.zoom.us/j/94247444262...</td>\n",
              "      <td>CH2.1</td>\n",
              "      <td>Programming for Data Analysis</td>\n",
              "      <td>Paul Laird</td>\n",
              "      <td>Full Time Lecture\\r\\n</td>\n",
              "    </tr>\n",
              "    <tr>\n",
              "      <th>1</th>\n",
              "      <td>1:1074898:16</td>\n",
              "      <td>2021-12-07T15:00:00</td>\n",
              "      <td>2021-12-07T17:00:00</td>\n",
              "      <td>OC6\\r\\n\\r\\n&lt;br /&gt;\\r\\n\\r\\nProgramming for Data ...</td>\n",
              "      <td>Computing</td>\n",
              "      <td>Online Delivery Full Time</td>\n",
              "      <td>None</td>\n",
              "      <td>B9DA108</td>\n",
              "      <td>Paul Laird - https://dbs.zoom.us/j/94247444262...</td>\n",
              "      <td>OC6</td>\n",
              "      <td>Programming for Data Analysis</td>\n",
              "      <td>Paul Laird</td>\n",
              "      <td>Online Delivery Full Time\\r\\n</td>\n",
              "    </tr>\n",
              "    <tr>\n",
              "      <th>2</th>\n",
              "      <td>1:1184087:16</td>\n",
              "      <td>2021-12-07T09:00:00</td>\n",
              "      <td>2021-12-07T11:30:00</td>\n",
              "      <td>OC6\\r\\n\\r\\n&lt;br /&gt;\\r\\n\\r\\nStatistics for Data A...</td>\n",
              "      <td>Computing</td>\n",
              "      <td>Online Delivery Full Time</td>\n",
              "      <td>None</td>\n",
              "      <td>B9DA101</td>\n",
              "      <td>Shahram Azizi Sazi - https://dbs.zoom.us/j/969...</td>\n",
              "      <td>OC6</td>\n",
              "      <td>Statistics for Data Analytics</td>\n",
              "      <td>Shahram Azizi Sazi</td>\n",
              "      <td>Online Delivery Full Time\\r\\n</td>\n",
              "    </tr>\n",
              "  </tbody>\n",
              "</table>\n",
              "</div>"
            ],
            "text/plain": [
              "             id  ...                       schedule\n",
              "0  1:1074894:16  ...          Full Time Lecture\\r\\n\n",
              "1  1:1074898:16  ...  Online Delivery Full Time\\r\\n\n",
              "2  1:1184087:16  ...  Online Delivery Full Time\\r\\n\n",
              "\n",
              "[3 rows x 13 columns]"
            ]
          },
          "metadata": {},
          "execution_count": 22
        }
      ]
    },
    {
      "cell_type": "code",
      "metadata": {
        "colab": {
          "base_uri": "https://localhost:8080/",
          "height": 267
        },
        "id": "fzhC3eKgkNTX",
        "outputId": "7a248cd9-c6d5-49e0-fd56-6fd4a158dd7f"
      },
      "source": [
        "df.drop(['schedule','description'], axis=1,inplace=True)\n",
        "df"
      ],
      "execution_count": null,
      "outputs": [
        {
          "output_type": "execute_result",
          "data": {
            "text/html": [
              "<div>\n",
              "<style scoped>\n",
              "    .dataframe tbody tr th:only-of-type {\n",
              "        vertical-align: middle;\n",
              "    }\n",
              "\n",
              "    .dataframe tbody tr th {\n",
              "        vertical-align: top;\n",
              "    }\n",
              "\n",
              "    .dataframe thead th {\n",
              "        text-align: right;\n",
              "    }\n",
              "</style>\n",
              "<table border=\"1\" class=\"dataframe\">\n",
              "  <thead>\n",
              "    <tr style=\"text-align: right;\">\n",
              "      <th></th>\n",
              "      <th>id</th>\n",
              "      <th>start</th>\n",
              "      <th>end</th>\n",
              "      <th>department</th>\n",
              "      <th>eventCategory</th>\n",
              "      <th>site</th>\n",
              "      <th>module</th>\n",
              "      <th>custom1</th>\n",
              "      <th>location</th>\n",
              "      <th>subject</th>\n",
              "      <th>lecturer</th>\n",
              "    </tr>\n",
              "  </thead>\n",
              "  <tbody>\n",
              "    <tr>\n",
              "      <th>0</th>\n",
              "      <td>1:1074894:16</td>\n",
              "      <td>2021-12-08T16:00:00</td>\n",
              "      <td>2021-12-08T18:00:00</td>\n",
              "      <td>Computing</td>\n",
              "      <td>Full Time Lecture</td>\n",
              "      <td>Castle House</td>\n",
              "      <td>B9DA108</td>\n",
              "      <td>Paul Laird - https://dbs.zoom.us/j/94247444262...</td>\n",
              "      <td>CH2.1</td>\n",
              "      <td>Programming for Data Analysis</td>\n",
              "      <td>Paul Laird</td>\n",
              "    </tr>\n",
              "    <tr>\n",
              "      <th>1</th>\n",
              "      <td>1:1074898:16</td>\n",
              "      <td>2021-12-07T15:00:00</td>\n",
              "      <td>2021-12-07T17:00:00</td>\n",
              "      <td>Computing</td>\n",
              "      <td>Online Delivery Full Time</td>\n",
              "      <td>None</td>\n",
              "      <td>B9DA108</td>\n",
              "      <td>Paul Laird - https://dbs.zoom.us/j/94247444262...</td>\n",
              "      <td>OC6</td>\n",
              "      <td>Programming for Data Analysis</td>\n",
              "      <td>Paul Laird</td>\n",
              "    </tr>\n",
              "    <tr>\n",
              "      <th>2</th>\n",
              "      <td>1:1184087:16</td>\n",
              "      <td>2021-12-07T09:00:00</td>\n",
              "      <td>2021-12-07T11:30:00</td>\n",
              "      <td>Computing</td>\n",
              "      <td>Online Delivery Full Time</td>\n",
              "      <td>None</td>\n",
              "      <td>B9DA101</td>\n",
              "      <td>Shahram Azizi Sazi - https://dbs.zoom.us/j/969...</td>\n",
              "      <td>OC6</td>\n",
              "      <td>Statistics for Data Analytics</td>\n",
              "      <td>Shahram Azizi Sazi</td>\n",
              "    </tr>\n",
              "  </tbody>\n",
              "</table>\n",
              "</div>"
            ],
            "text/plain": [
              "             id  ...            lecturer\n",
              "0  1:1074894:16  ...          Paul Laird\n",
              "1  1:1074898:16  ...          Paul Laird\n",
              "2  1:1184087:16  ...  Shahram Azizi Sazi\n",
              "\n",
              "[3 rows x 11 columns]"
            ]
          },
          "metadata": {},
          "execution_count": 23
        }
      ]
    },
    {
      "cell_type": "code",
      "metadata": {
        "colab": {
          "base_uri": "https://localhost:8080/",
          "height": 467
        },
        "id": "UCDoftTnki7_",
        "outputId": "4d56947c-558a-43b2-c214-aa7f6498b942"
      },
      "source": [
        "df['duration']=df['end']-df['start']\n",
        "df"
      ],
      "execution_count": null,
      "outputs": [
        {
          "output_type": "error",
          "ename": "TypeError",
          "evalue": "ignored",
          "traceback": [
            "\u001b[0;31m---------------------------------------------------------------------------\u001b[0m",
            "\u001b[0;31mTypeError\u001b[0m                                 Traceback (most recent call last)",
            "\u001b[0;32m/usr/local/lib/python3.7/dist-packages/pandas/core/ops/array_ops.py\u001b[0m in \u001b[0;36mna_arithmetic_op\u001b[0;34m(left, right, op, is_cmp)\u001b[0m\n\u001b[1;32m    142\u001b[0m     \u001b[0;32mtry\u001b[0m\u001b[0;34m:\u001b[0m\u001b[0;34m\u001b[0m\u001b[0;34m\u001b[0m\u001b[0m\n\u001b[0;32m--> 143\u001b[0;31m         \u001b[0mresult\u001b[0m \u001b[0;34m=\u001b[0m \u001b[0mexpressions\u001b[0m\u001b[0;34m.\u001b[0m\u001b[0mevaluate\u001b[0m\u001b[0;34m(\u001b[0m\u001b[0mop\u001b[0m\u001b[0;34m,\u001b[0m \u001b[0mleft\u001b[0m\u001b[0;34m,\u001b[0m \u001b[0mright\u001b[0m\u001b[0;34m)\u001b[0m\u001b[0;34m\u001b[0m\u001b[0;34m\u001b[0m\u001b[0m\n\u001b[0m\u001b[1;32m    144\u001b[0m     \u001b[0;32mexcept\u001b[0m \u001b[0mTypeError\u001b[0m\u001b[0;34m:\u001b[0m\u001b[0;34m\u001b[0m\u001b[0;34m\u001b[0m\u001b[0m\n",
            "\u001b[0;32m/usr/local/lib/python3.7/dist-packages/pandas/core/computation/expressions.py\u001b[0m in \u001b[0;36mevaluate\u001b[0;34m(op, a, b, use_numexpr)\u001b[0m\n\u001b[1;32m    232\u001b[0m         \u001b[0;32mif\u001b[0m \u001b[0muse_numexpr\u001b[0m\u001b[0;34m:\u001b[0m\u001b[0;34m\u001b[0m\u001b[0;34m\u001b[0m\u001b[0m\n\u001b[0;32m--> 233\u001b[0;31m             \u001b[0;32mreturn\u001b[0m \u001b[0m_evaluate\u001b[0m\u001b[0;34m(\u001b[0m\u001b[0mop\u001b[0m\u001b[0;34m,\u001b[0m \u001b[0mop_str\u001b[0m\u001b[0;34m,\u001b[0m \u001b[0ma\u001b[0m\u001b[0;34m,\u001b[0m \u001b[0mb\u001b[0m\u001b[0;34m)\u001b[0m  \u001b[0;31m# type: ignore\u001b[0m\u001b[0;34m\u001b[0m\u001b[0;34m\u001b[0m\u001b[0m\n\u001b[0m\u001b[1;32m    234\u001b[0m     \u001b[0;32mreturn\u001b[0m \u001b[0m_evaluate_standard\u001b[0m\u001b[0;34m(\u001b[0m\u001b[0mop\u001b[0m\u001b[0;34m,\u001b[0m \u001b[0mop_str\u001b[0m\u001b[0;34m,\u001b[0m \u001b[0ma\u001b[0m\u001b[0;34m,\u001b[0m \u001b[0mb\u001b[0m\u001b[0;34m)\u001b[0m\u001b[0;34m\u001b[0m\u001b[0;34m\u001b[0m\u001b[0m\n",
            "\u001b[0;32m/usr/local/lib/python3.7/dist-packages/pandas/core/computation/expressions.py\u001b[0m in \u001b[0;36m_evaluate_numexpr\u001b[0;34m(op, op_str, a, b)\u001b[0m\n\u001b[1;32m    118\u001b[0m     \u001b[0;32mif\u001b[0m \u001b[0mresult\u001b[0m \u001b[0;32mis\u001b[0m \u001b[0;32mNone\u001b[0m\u001b[0;34m:\u001b[0m\u001b[0;34m\u001b[0m\u001b[0;34m\u001b[0m\u001b[0m\n\u001b[0;32m--> 119\u001b[0;31m         \u001b[0mresult\u001b[0m \u001b[0;34m=\u001b[0m \u001b[0m_evaluate_standard\u001b[0m\u001b[0;34m(\u001b[0m\u001b[0mop\u001b[0m\u001b[0;34m,\u001b[0m \u001b[0mop_str\u001b[0m\u001b[0;34m,\u001b[0m \u001b[0ma\u001b[0m\u001b[0;34m,\u001b[0m \u001b[0mb\u001b[0m\u001b[0;34m)\u001b[0m\u001b[0;34m\u001b[0m\u001b[0;34m\u001b[0m\u001b[0m\n\u001b[0m\u001b[1;32m    120\u001b[0m \u001b[0;34m\u001b[0m\u001b[0m\n",
            "\u001b[0;32m/usr/local/lib/python3.7/dist-packages/pandas/core/computation/expressions.py\u001b[0m in \u001b[0;36m_evaluate_standard\u001b[0;34m(op, op_str, a, b)\u001b[0m\n\u001b[1;32m     67\u001b[0m     \u001b[0;32mwith\u001b[0m \u001b[0mnp\u001b[0m\u001b[0;34m.\u001b[0m\u001b[0merrstate\u001b[0m\u001b[0;34m(\u001b[0m\u001b[0mall\u001b[0m\u001b[0;34m=\u001b[0m\u001b[0;34m\"ignore\"\u001b[0m\u001b[0;34m)\u001b[0m\u001b[0;34m:\u001b[0m\u001b[0;34m\u001b[0m\u001b[0;34m\u001b[0m\u001b[0m\n\u001b[0;32m---> 68\u001b[0;31m         \u001b[0;32mreturn\u001b[0m \u001b[0mop\u001b[0m\u001b[0;34m(\u001b[0m\u001b[0ma\u001b[0m\u001b[0;34m,\u001b[0m \u001b[0mb\u001b[0m\u001b[0;34m)\u001b[0m\u001b[0;34m\u001b[0m\u001b[0;34m\u001b[0m\u001b[0m\n\u001b[0m\u001b[1;32m     69\u001b[0m \u001b[0;34m\u001b[0m\u001b[0m\n",
            "\u001b[0;31mTypeError\u001b[0m: unsupported operand type(s) for -: 'str' and 'str'",
            "\nDuring handling of the above exception, another exception occurred:\n",
            "\u001b[0;31mTypeError\u001b[0m                                 Traceback (most recent call last)",
            "\u001b[0;32m<ipython-input-24-a6d404bfa43c>\u001b[0m in \u001b[0;36m<module>\u001b[0;34m()\u001b[0m\n\u001b[0;32m----> 1\u001b[0;31m \u001b[0mdf\u001b[0m\u001b[0;34m[\u001b[0m\u001b[0;34m'duration'\u001b[0m\u001b[0;34m]\u001b[0m\u001b[0;34m=\u001b[0m\u001b[0mdf\u001b[0m\u001b[0;34m[\u001b[0m\u001b[0;34m'end'\u001b[0m\u001b[0;34m]\u001b[0m\u001b[0;34m-\u001b[0m\u001b[0mdf\u001b[0m\u001b[0;34m[\u001b[0m\u001b[0;34m'start'\u001b[0m\u001b[0;34m]\u001b[0m\u001b[0;34m\u001b[0m\u001b[0;34m\u001b[0m\u001b[0m\n\u001b[0m\u001b[1;32m      2\u001b[0m \u001b[0mdf\u001b[0m\u001b[0;34m\u001b[0m\u001b[0;34m\u001b[0m\u001b[0m\n",
            "\u001b[0;32m/usr/local/lib/python3.7/dist-packages/pandas/core/ops/common.py\u001b[0m in \u001b[0;36mnew_method\u001b[0;34m(self, other)\u001b[0m\n\u001b[1;32m     63\u001b[0m         \u001b[0mother\u001b[0m \u001b[0;34m=\u001b[0m \u001b[0mitem_from_zerodim\u001b[0m\u001b[0;34m(\u001b[0m\u001b[0mother\u001b[0m\u001b[0;34m)\u001b[0m\u001b[0;34m\u001b[0m\u001b[0;34m\u001b[0m\u001b[0m\n\u001b[1;32m     64\u001b[0m \u001b[0;34m\u001b[0m\u001b[0m\n\u001b[0;32m---> 65\u001b[0;31m         \u001b[0;32mreturn\u001b[0m \u001b[0mmethod\u001b[0m\u001b[0;34m(\u001b[0m\u001b[0mself\u001b[0m\u001b[0;34m,\u001b[0m \u001b[0mother\u001b[0m\u001b[0;34m)\u001b[0m\u001b[0;34m\u001b[0m\u001b[0;34m\u001b[0m\u001b[0m\n\u001b[0m\u001b[1;32m     66\u001b[0m \u001b[0;34m\u001b[0m\u001b[0m\n\u001b[1;32m     67\u001b[0m     \u001b[0;32mreturn\u001b[0m \u001b[0mnew_method\u001b[0m\u001b[0;34m\u001b[0m\u001b[0;34m\u001b[0m\u001b[0m\n",
            "\u001b[0;32m/usr/local/lib/python3.7/dist-packages/pandas/core/ops/__init__.py\u001b[0m in \u001b[0;36mwrapper\u001b[0;34m(left, right)\u001b[0m\n\u001b[1;32m    341\u001b[0m         \u001b[0mlvalues\u001b[0m \u001b[0;34m=\u001b[0m \u001b[0mextract_array\u001b[0m\u001b[0;34m(\u001b[0m\u001b[0mleft\u001b[0m\u001b[0;34m,\u001b[0m \u001b[0mextract_numpy\u001b[0m\u001b[0;34m=\u001b[0m\u001b[0;32mTrue\u001b[0m\u001b[0;34m)\u001b[0m\u001b[0;34m\u001b[0m\u001b[0;34m\u001b[0m\u001b[0m\n\u001b[1;32m    342\u001b[0m         \u001b[0mrvalues\u001b[0m \u001b[0;34m=\u001b[0m \u001b[0mextract_array\u001b[0m\u001b[0;34m(\u001b[0m\u001b[0mright\u001b[0m\u001b[0;34m,\u001b[0m \u001b[0mextract_numpy\u001b[0m\u001b[0;34m=\u001b[0m\u001b[0;32mTrue\u001b[0m\u001b[0;34m)\u001b[0m\u001b[0;34m\u001b[0m\u001b[0;34m\u001b[0m\u001b[0m\n\u001b[0;32m--> 343\u001b[0;31m         \u001b[0mresult\u001b[0m \u001b[0;34m=\u001b[0m \u001b[0marithmetic_op\u001b[0m\u001b[0;34m(\u001b[0m\u001b[0mlvalues\u001b[0m\u001b[0;34m,\u001b[0m \u001b[0mrvalues\u001b[0m\u001b[0;34m,\u001b[0m \u001b[0mop\u001b[0m\u001b[0;34m)\u001b[0m\u001b[0;34m\u001b[0m\u001b[0;34m\u001b[0m\u001b[0m\n\u001b[0m\u001b[1;32m    344\u001b[0m \u001b[0;34m\u001b[0m\u001b[0m\n\u001b[1;32m    345\u001b[0m         \u001b[0;32mreturn\u001b[0m \u001b[0mleft\u001b[0m\u001b[0;34m.\u001b[0m\u001b[0m_construct_result\u001b[0m\u001b[0;34m(\u001b[0m\u001b[0mresult\u001b[0m\u001b[0;34m,\u001b[0m \u001b[0mname\u001b[0m\u001b[0;34m=\u001b[0m\u001b[0mres_name\u001b[0m\u001b[0;34m)\u001b[0m\u001b[0;34m\u001b[0m\u001b[0;34m\u001b[0m\u001b[0m\n",
            "\u001b[0;32m/usr/local/lib/python3.7/dist-packages/pandas/core/ops/array_ops.py\u001b[0m in \u001b[0;36marithmetic_op\u001b[0;34m(left, right, op)\u001b[0m\n\u001b[1;32m    188\u001b[0m     \u001b[0;32melse\u001b[0m\u001b[0;34m:\u001b[0m\u001b[0;34m\u001b[0m\u001b[0;34m\u001b[0m\u001b[0m\n\u001b[1;32m    189\u001b[0m         \u001b[0;32mwith\u001b[0m \u001b[0mnp\u001b[0m\u001b[0;34m.\u001b[0m\u001b[0merrstate\u001b[0m\u001b[0;34m(\u001b[0m\u001b[0mall\u001b[0m\u001b[0;34m=\u001b[0m\u001b[0;34m\"ignore\"\u001b[0m\u001b[0;34m)\u001b[0m\u001b[0;34m:\u001b[0m\u001b[0;34m\u001b[0m\u001b[0;34m\u001b[0m\u001b[0m\n\u001b[0;32m--> 190\u001b[0;31m             \u001b[0mres_values\u001b[0m \u001b[0;34m=\u001b[0m \u001b[0mna_arithmetic_op\u001b[0m\u001b[0;34m(\u001b[0m\u001b[0mlvalues\u001b[0m\u001b[0;34m,\u001b[0m \u001b[0mrvalues\u001b[0m\u001b[0;34m,\u001b[0m \u001b[0mop\u001b[0m\u001b[0;34m)\u001b[0m\u001b[0;34m\u001b[0m\u001b[0;34m\u001b[0m\u001b[0m\n\u001b[0m\u001b[1;32m    191\u001b[0m \u001b[0;34m\u001b[0m\u001b[0m\n\u001b[1;32m    192\u001b[0m     \u001b[0;32mreturn\u001b[0m \u001b[0mres_values\u001b[0m\u001b[0;34m\u001b[0m\u001b[0;34m\u001b[0m\u001b[0m\n",
            "\u001b[0;32m/usr/local/lib/python3.7/dist-packages/pandas/core/ops/array_ops.py\u001b[0m in \u001b[0;36mna_arithmetic_op\u001b[0;34m(left, right, op, is_cmp)\u001b[0m\n\u001b[1;32m    148\u001b[0m             \u001b[0;31m#  will handle complex numbers incorrectly, see GH#32047\u001b[0m\u001b[0;34m\u001b[0m\u001b[0;34m\u001b[0m\u001b[0;34m\u001b[0m\u001b[0m\n\u001b[1;32m    149\u001b[0m             \u001b[0;32mraise\u001b[0m\u001b[0;34m\u001b[0m\u001b[0;34m\u001b[0m\u001b[0m\n\u001b[0;32m--> 150\u001b[0;31m         \u001b[0mresult\u001b[0m \u001b[0;34m=\u001b[0m \u001b[0mmasked_arith_op\u001b[0m\u001b[0;34m(\u001b[0m\u001b[0mleft\u001b[0m\u001b[0;34m,\u001b[0m \u001b[0mright\u001b[0m\u001b[0;34m,\u001b[0m \u001b[0mop\u001b[0m\u001b[0;34m)\u001b[0m\u001b[0;34m\u001b[0m\u001b[0;34m\u001b[0m\u001b[0m\n\u001b[0m\u001b[1;32m    151\u001b[0m \u001b[0;34m\u001b[0m\u001b[0m\n\u001b[1;32m    152\u001b[0m     \u001b[0;32mif\u001b[0m \u001b[0mis_cmp\u001b[0m \u001b[0;32mand\u001b[0m \u001b[0;34m(\u001b[0m\u001b[0mis_scalar\u001b[0m\u001b[0;34m(\u001b[0m\u001b[0mresult\u001b[0m\u001b[0;34m)\u001b[0m \u001b[0;32mor\u001b[0m \u001b[0mresult\u001b[0m \u001b[0;32mis\u001b[0m \u001b[0mNotImplemented\u001b[0m\u001b[0;34m)\u001b[0m\u001b[0;34m:\u001b[0m\u001b[0;34m\u001b[0m\u001b[0;34m\u001b[0m\u001b[0m\n",
            "\u001b[0;32m/usr/local/lib/python3.7/dist-packages/pandas/core/ops/array_ops.py\u001b[0m in \u001b[0;36mmasked_arith_op\u001b[0;34m(x, y, op)\u001b[0m\n\u001b[1;32m     90\u001b[0m         \u001b[0;32mif\u001b[0m \u001b[0mmask\u001b[0m\u001b[0;34m.\u001b[0m\u001b[0many\u001b[0m\u001b[0;34m(\u001b[0m\u001b[0;34m)\u001b[0m\u001b[0;34m:\u001b[0m\u001b[0;34m\u001b[0m\u001b[0;34m\u001b[0m\u001b[0m\n\u001b[1;32m     91\u001b[0m             \u001b[0;32mwith\u001b[0m \u001b[0mnp\u001b[0m\u001b[0;34m.\u001b[0m\u001b[0merrstate\u001b[0m\u001b[0;34m(\u001b[0m\u001b[0mall\u001b[0m\u001b[0;34m=\u001b[0m\u001b[0;34m\"ignore\"\u001b[0m\u001b[0;34m)\u001b[0m\u001b[0;34m:\u001b[0m\u001b[0;34m\u001b[0m\u001b[0;34m\u001b[0m\u001b[0m\n\u001b[0;32m---> 92\u001b[0;31m                 \u001b[0mresult\u001b[0m\u001b[0;34m[\u001b[0m\u001b[0mmask\u001b[0m\u001b[0;34m]\u001b[0m \u001b[0;34m=\u001b[0m \u001b[0mop\u001b[0m\u001b[0;34m(\u001b[0m\u001b[0mxrav\u001b[0m\u001b[0;34m[\u001b[0m\u001b[0mmask\u001b[0m\u001b[0;34m]\u001b[0m\u001b[0;34m,\u001b[0m \u001b[0myrav\u001b[0m\u001b[0;34m[\u001b[0m\u001b[0mmask\u001b[0m\u001b[0;34m]\u001b[0m\u001b[0;34m)\u001b[0m\u001b[0;34m\u001b[0m\u001b[0;34m\u001b[0m\u001b[0m\n\u001b[0m\u001b[1;32m     93\u001b[0m \u001b[0;34m\u001b[0m\u001b[0m\n\u001b[1;32m     94\u001b[0m     \u001b[0;32melse\u001b[0m\u001b[0;34m:\u001b[0m\u001b[0;34m\u001b[0m\u001b[0;34m\u001b[0m\u001b[0m\n",
            "\u001b[0;31mTypeError\u001b[0m: unsupported operand type(s) for -: 'str' and 'str'"
          ]
        }
      ]
    },
    {
      "cell_type": "code",
      "metadata": {
        "colab": {
          "base_uri": "https://localhost:8080/"
        },
        "id": "e-cr-o2Ckth3",
        "outputId": "f772989e-1ab7-4cb5-8e2a-03daef4ea378"
      },
      "source": [
        "df.dtypes"
      ],
      "execution_count": null,
      "outputs": [
        {
          "output_type": "execute_result",
          "data": {
            "text/plain": [
              "id               object\n",
              "start            object\n",
              "end              object\n",
              "department       object\n",
              "eventCategory    object\n",
              "site             object\n",
              "module           object\n",
              "custom1          object\n",
              "location         object\n",
              "subject          object\n",
              "lecturer         object\n",
              "dtype: object"
            ]
          },
          "metadata": {},
          "execution_count": 25
        }
      ]
    },
    {
      "cell_type": "code",
      "metadata": {
        "id": "sBkHKTDokx1n"
      },
      "source": [
        "df['start']=pd.to_datetime(df['start'])"
      ],
      "execution_count": null,
      "outputs": []
    },
    {
      "cell_type": "code",
      "metadata": {
        "id": "Ov7WKk8VlLhX"
      },
      "source": [
        "df['end']=pd.to_datetime(df['end'])"
      ],
      "execution_count": null,
      "outputs": []
    },
    {
      "cell_type": "code",
      "metadata": {
        "colab": {
          "base_uri": "https://localhost:8080/",
          "height": 267
        },
        "id": "ByVfsilJlOy-",
        "outputId": "8c289590-516c-4865-84a4-4af623c6e551"
      },
      "source": [
        "df['duration']=df['end']-df['start']\n",
        "df"
      ],
      "execution_count": null,
      "outputs": [
        {
          "output_type": "execute_result",
          "data": {
            "text/html": [
              "<div>\n",
              "<style scoped>\n",
              "    .dataframe tbody tr th:only-of-type {\n",
              "        vertical-align: middle;\n",
              "    }\n",
              "\n",
              "    .dataframe tbody tr th {\n",
              "        vertical-align: top;\n",
              "    }\n",
              "\n",
              "    .dataframe thead th {\n",
              "        text-align: right;\n",
              "    }\n",
              "</style>\n",
              "<table border=\"1\" class=\"dataframe\">\n",
              "  <thead>\n",
              "    <tr style=\"text-align: right;\">\n",
              "      <th></th>\n",
              "      <th>id</th>\n",
              "      <th>start</th>\n",
              "      <th>end</th>\n",
              "      <th>department</th>\n",
              "      <th>eventCategory</th>\n",
              "      <th>site</th>\n",
              "      <th>module</th>\n",
              "      <th>custom1</th>\n",
              "      <th>location</th>\n",
              "      <th>subject</th>\n",
              "      <th>lecturer</th>\n",
              "      <th>duration</th>\n",
              "    </tr>\n",
              "  </thead>\n",
              "  <tbody>\n",
              "    <tr>\n",
              "      <th>0</th>\n",
              "      <td>1:1074894:16</td>\n",
              "      <td>2021-12-08 16:00:00</td>\n",
              "      <td>2021-12-08 18:00:00</td>\n",
              "      <td>Computing</td>\n",
              "      <td>Full Time Lecture</td>\n",
              "      <td>Castle House</td>\n",
              "      <td>B9DA108</td>\n",
              "      <td>Paul Laird - https://dbs.zoom.us/j/94247444262...</td>\n",
              "      <td>CH2.1</td>\n",
              "      <td>Programming for Data Analysis</td>\n",
              "      <td>Paul Laird</td>\n",
              "      <td>0 days 02:00:00</td>\n",
              "    </tr>\n",
              "    <tr>\n",
              "      <th>1</th>\n",
              "      <td>1:1074898:16</td>\n",
              "      <td>2021-12-07 15:00:00</td>\n",
              "      <td>2021-12-07 17:00:00</td>\n",
              "      <td>Computing</td>\n",
              "      <td>Online Delivery Full Time</td>\n",
              "      <td>None</td>\n",
              "      <td>B9DA108</td>\n",
              "      <td>Paul Laird - https://dbs.zoom.us/j/94247444262...</td>\n",
              "      <td>OC6</td>\n",
              "      <td>Programming for Data Analysis</td>\n",
              "      <td>Paul Laird</td>\n",
              "      <td>0 days 02:00:00</td>\n",
              "    </tr>\n",
              "    <tr>\n",
              "      <th>2</th>\n",
              "      <td>1:1184087:16</td>\n",
              "      <td>2021-12-07 09:00:00</td>\n",
              "      <td>2021-12-07 11:30:00</td>\n",
              "      <td>Computing</td>\n",
              "      <td>Online Delivery Full Time</td>\n",
              "      <td>None</td>\n",
              "      <td>B9DA101</td>\n",
              "      <td>Shahram Azizi Sazi - https://dbs.zoom.us/j/969...</td>\n",
              "      <td>OC6</td>\n",
              "      <td>Statistics for Data Analytics</td>\n",
              "      <td>Shahram Azizi Sazi</td>\n",
              "      <td>0 days 02:30:00</td>\n",
              "    </tr>\n",
              "  </tbody>\n",
              "</table>\n",
              "</div>"
            ],
            "text/plain": [
              "             id               start  ...            lecturer        duration\n",
              "0  1:1074894:16 2021-12-08 16:00:00  ...          Paul Laird 0 days 02:00:00\n",
              "1  1:1074898:16 2021-12-07 15:00:00  ...          Paul Laird 0 days 02:00:00\n",
              "2  1:1184087:16 2021-12-07 09:00:00  ...  Shahram Azizi Sazi 0 days 02:30:00\n",
              "\n",
              "[3 rows x 12 columns]"
            ]
          },
          "metadata": {},
          "execution_count": 28
        }
      ]
    },
    {
      "cell_type": "code",
      "metadata": {
        "colab": {
          "base_uri": "https://localhost:8080/",
          "height": 267
        },
        "id": "lH-jsP7ZlR4h",
        "outputId": "1f19affa-6800-494d-c868-a4d8e464adb1"
      },
      "source": [
        "df['duration']=pd.to_timedelta(df['duration'])\n",
        "df"
      ],
      "execution_count": null,
      "outputs": [
        {
          "output_type": "execute_result",
          "data": {
            "text/html": [
              "<div>\n",
              "<style scoped>\n",
              "    .dataframe tbody tr th:only-of-type {\n",
              "        vertical-align: middle;\n",
              "    }\n",
              "\n",
              "    .dataframe tbody tr th {\n",
              "        vertical-align: top;\n",
              "    }\n",
              "\n",
              "    .dataframe thead th {\n",
              "        text-align: right;\n",
              "    }\n",
              "</style>\n",
              "<table border=\"1\" class=\"dataframe\">\n",
              "  <thead>\n",
              "    <tr style=\"text-align: right;\">\n",
              "      <th></th>\n",
              "      <th>id</th>\n",
              "      <th>start</th>\n",
              "      <th>end</th>\n",
              "      <th>department</th>\n",
              "      <th>eventCategory</th>\n",
              "      <th>site</th>\n",
              "      <th>module</th>\n",
              "      <th>custom1</th>\n",
              "      <th>location</th>\n",
              "      <th>subject</th>\n",
              "      <th>lecturer</th>\n",
              "      <th>duration</th>\n",
              "    </tr>\n",
              "  </thead>\n",
              "  <tbody>\n",
              "    <tr>\n",
              "      <th>0</th>\n",
              "      <td>1:1074894:16</td>\n",
              "      <td>2021-12-08 16:00:00</td>\n",
              "      <td>2021-12-08 18:00:00</td>\n",
              "      <td>Computing</td>\n",
              "      <td>Full Time Lecture</td>\n",
              "      <td>Castle House</td>\n",
              "      <td>B9DA108</td>\n",
              "      <td>Paul Laird - https://dbs.zoom.us/j/94247444262...</td>\n",
              "      <td>CH2.1</td>\n",
              "      <td>Programming for Data Analysis</td>\n",
              "      <td>Paul Laird</td>\n",
              "      <td>0 days 02:00:00</td>\n",
              "    </tr>\n",
              "    <tr>\n",
              "      <th>1</th>\n",
              "      <td>1:1074898:16</td>\n",
              "      <td>2021-12-07 15:00:00</td>\n",
              "      <td>2021-12-07 17:00:00</td>\n",
              "      <td>Computing</td>\n",
              "      <td>Online Delivery Full Time</td>\n",
              "      <td>None</td>\n",
              "      <td>B9DA108</td>\n",
              "      <td>Paul Laird - https://dbs.zoom.us/j/94247444262...</td>\n",
              "      <td>OC6</td>\n",
              "      <td>Programming for Data Analysis</td>\n",
              "      <td>Paul Laird</td>\n",
              "      <td>0 days 02:00:00</td>\n",
              "    </tr>\n",
              "    <tr>\n",
              "      <th>2</th>\n",
              "      <td>1:1184087:16</td>\n",
              "      <td>2021-12-07 09:00:00</td>\n",
              "      <td>2021-12-07 11:30:00</td>\n",
              "      <td>Computing</td>\n",
              "      <td>Online Delivery Full Time</td>\n",
              "      <td>None</td>\n",
              "      <td>B9DA101</td>\n",
              "      <td>Shahram Azizi Sazi - https://dbs.zoom.us/j/969...</td>\n",
              "      <td>OC6</td>\n",
              "      <td>Statistics for Data Analytics</td>\n",
              "      <td>Shahram Azizi Sazi</td>\n",
              "      <td>0 days 02:30:00</td>\n",
              "    </tr>\n",
              "  </tbody>\n",
              "</table>\n",
              "</div>"
            ],
            "text/plain": [
              "             id               start  ...            lecturer        duration\n",
              "0  1:1074894:16 2021-12-08 16:00:00  ...          Paul Laird 0 days 02:00:00\n",
              "1  1:1074898:16 2021-12-07 15:00:00  ...          Paul Laird 0 days 02:00:00\n",
              "2  1:1184087:16 2021-12-07 09:00:00  ...  Shahram Azizi Sazi 0 days 02:30:00\n",
              "\n",
              "[3 rows x 12 columns]"
            ]
          },
          "metadata": {},
          "execution_count": 29
        }
      ]
    },
    {
      "cell_type": "code",
      "metadata": {
        "colab": {
          "base_uri": "https://localhost:8080/",
          "height": 201
        },
        "id": "o2M7NieZll1f",
        "outputId": "72eea252-55b6-4d44-f266-ef279cae853e"
      },
      "source": [
        "df[df['start']<pd.to_datetime('2021-12-8T00:00:00')]"
      ],
      "execution_count": null,
      "outputs": [
        {
          "output_type": "execute_result",
          "data": {
            "text/html": [
              "<div>\n",
              "<style scoped>\n",
              "    .dataframe tbody tr th:only-of-type {\n",
              "        vertical-align: middle;\n",
              "    }\n",
              "\n",
              "    .dataframe tbody tr th {\n",
              "        vertical-align: top;\n",
              "    }\n",
              "\n",
              "    .dataframe thead th {\n",
              "        text-align: right;\n",
              "    }\n",
              "</style>\n",
              "<table border=\"1\" class=\"dataframe\">\n",
              "  <thead>\n",
              "    <tr style=\"text-align: right;\">\n",
              "      <th></th>\n",
              "      <th>id</th>\n",
              "      <th>start</th>\n",
              "      <th>end</th>\n",
              "      <th>department</th>\n",
              "      <th>eventCategory</th>\n",
              "      <th>site</th>\n",
              "      <th>module</th>\n",
              "      <th>custom1</th>\n",
              "      <th>location</th>\n",
              "      <th>subject</th>\n",
              "      <th>lecturer</th>\n",
              "      <th>duration</th>\n",
              "    </tr>\n",
              "  </thead>\n",
              "  <tbody>\n",
              "    <tr>\n",
              "      <th>1</th>\n",
              "      <td>1:1074898:16</td>\n",
              "      <td>2021-12-07 15:00:00</td>\n",
              "      <td>2021-12-07 17:00:00</td>\n",
              "      <td>Computing</td>\n",
              "      <td>Online Delivery Full Time</td>\n",
              "      <td>None</td>\n",
              "      <td>B9DA108</td>\n",
              "      <td>Paul Laird - https://dbs.zoom.us/j/94247444262...</td>\n",
              "      <td>OC6</td>\n",
              "      <td>Programming for Data Analysis</td>\n",
              "      <td>Paul Laird</td>\n",
              "      <td>0 days 02:00:00</td>\n",
              "    </tr>\n",
              "    <tr>\n",
              "      <th>2</th>\n",
              "      <td>1:1184087:16</td>\n",
              "      <td>2021-12-07 09:00:00</td>\n",
              "      <td>2021-12-07 11:30:00</td>\n",
              "      <td>Computing</td>\n",
              "      <td>Online Delivery Full Time</td>\n",
              "      <td>None</td>\n",
              "      <td>B9DA101</td>\n",
              "      <td>Shahram Azizi Sazi - https://dbs.zoom.us/j/969...</td>\n",
              "      <td>OC6</td>\n",
              "      <td>Statistics for Data Analytics</td>\n",
              "      <td>Shahram Azizi Sazi</td>\n",
              "      <td>0 days 02:30:00</td>\n",
              "    </tr>\n",
              "  </tbody>\n",
              "</table>\n",
              "</div>"
            ],
            "text/plain": [
              "             id               start  ...            lecturer        duration\n",
              "1  1:1074898:16 2021-12-07 15:00:00  ...          Paul Laird 0 days 02:00:00\n",
              "2  1:1184087:16 2021-12-07 09:00:00  ...  Shahram Azizi Sazi 0 days 02:30:00\n",
              "\n",
              "[2 rows x 12 columns]"
            ]
          },
          "metadata": {},
          "execution_count": 30
        }
      ]
    },
    {
      "cell_type": "code",
      "metadata": {
        "colab": {
          "base_uri": "https://localhost:8080/"
        },
        "id": "BM5Q-wd7mOan",
        "outputId": "1ec6fcb9-f95a-4486-ca2d-30769014355b"
      },
      "source": [
        "df[df['start']<pd.to_datetime('2021-12-08T00:00:00')]['duration'].sum()"
      ],
      "execution_count": null,
      "outputs": [
        {
          "output_type": "execute_result",
          "data": {
            "text/plain": [
              "Timedelta('0 days 04:30:00')"
            ]
          },
          "metadata": {},
          "execution_count": 31
        }
      ]
    }
  ]
}