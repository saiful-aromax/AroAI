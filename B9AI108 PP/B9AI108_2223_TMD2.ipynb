{
  "cells": [
    {
      "cell_type": "code",
      "execution_count": null,
      "metadata": {
        "colab": {
          "base_uri": "https://localhost:8080/"
        },
        "id": "Kfk94eYmd7HE",
        "outputId": "28a43168-9b90-4326-aa8d-412ce3837795"
      },
      "outputs": [
        {
          "name": "stdout",
          "output_type": "stream",
          "text": [
            "Hi\n"
          ]
        }
      ],
      "source": [
        "print('Hi')"
      ]
    },
    {
      "cell_type": "code",
      "execution_count": null,
      "metadata": {
        "colab": {
          "base_uri": "https://localhost:8080/"
        },
        "id": "R3_k-tL1d8xV",
        "outputId": "02218158-04d5-4aba-d595-56044b2c24fd"
      },
      "outputs": [
        {
          "data": {
            "text/plain": [
              "1.9999999999999998"
            ]
          },
          "execution_count": 2,
          "metadata": {},
          "output_type": "execute_result"
        }
      ],
      "source": [
        "4/3+1/3+1/3"
      ]
    },
    {
      "cell_type": "code",
      "execution_count": null,
      "metadata": {
        "id": "J5IFF8tknZJX"
      },
      "outputs": [],
      "source": [
        "a=3\n",
        "b=2"
      ]
    },
    {
      "cell_type": "code",
      "execution_count": null,
      "metadata": {
        "colab": {
          "base_uri": "https://localhost:8080/"
        },
        "id": "zG5-eS4FngYu",
        "outputId": "4f530dd1-1346-45bb-bf53-5e8955c6ba97"
      },
      "outputs": [
        {
          "data": {
            "text/plain": [
              "5"
            ]
          },
          "execution_count": 4,
          "metadata": {},
          "output_type": "execute_result"
        }
      ],
      "source": [
        "a+b"
      ]
    },
    {
      "cell_type": "code",
      "execution_count": null,
      "metadata": {
        "colab": {
          "base_uri": "https://localhost:8080/"
        },
        "id": "K3xar68UnhE4",
        "outputId": "7458227a-889e-4482-9eb4-0bfe34259898"
      },
      "outputs": [
        {
          "data": {
            "text/plain": [
              "5"
            ]
          },
          "execution_count": 5,
          "metadata": {},
          "output_type": "execute_result"
        }
      ],
      "source": [
        "a + + b"
      ]
    },
    {
      "cell_type": "code",
      "execution_count": null,
      "metadata": {
        "colab": {
          "base_uri": "https://localhost:8080/",
          "height": 131
        },
        "id": "bHdPooHiniQq",
        "outputId": "3bbf5ea4-1c5e-408f-dabd-dc0ab8dc7020"
      },
      "outputs": [
        {
          "ename": "SyntaxError",
          "evalue": "ignored",
          "output_type": "error",
          "traceback": [
            "\u001b[0;36m  File \u001b[0;32m\"<ipython-input-6-a62dd4d80410>\"\u001b[0;36m, line \u001b[0;32m1\u001b[0m\n\u001b[0;31m    a * * b\u001b[0m\n\u001b[0m        ^\u001b[0m\n\u001b[0;31mSyntaxError\u001b[0m\u001b[0;31m:\u001b[0m invalid syntax\n"
          ]
        }
      ],
      "source": [
        "a * * b"
      ]
    },
    {
      "cell_type": "code",
      "execution_count": null,
      "metadata": {
        "colab": {
          "base_uri": "https://localhost:8080/"
        },
        "id": "oUzyFShDnjo-",
        "outputId": "5b6b25f3-5eb6-4895-d8f8-f685bcf853ca"
      },
      "outputs": [
        {
          "data": {
            "text/plain": [
              "9"
            ]
          },
          "execution_count": 7,
          "metadata": {},
          "output_type": "execute_result"
        }
      ],
      "source": [
        "a**b"
      ]
    },
    {
      "cell_type": "code",
      "execution_count": null,
      "metadata": {
        "id": "dBYlL4nxnm2_"
      },
      "outputs": [],
      "source": [
        "a='hello'"
      ]
    },
    {
      "cell_type": "code",
      "execution_count": null,
      "metadata": {
        "colab": {
          "base_uri": "https://localhost:8080/",
          "height": 166
        },
        "id": "PL7ScMjjnpsE",
        "outputId": "22422f7d-2fd2-45a4-bdd2-eea5bbe3d5d3"
      },
      "outputs": [
        {
          "ename": "TypeError",
          "evalue": "ignored",
          "output_type": "error",
          "traceback": [
            "\u001b[0;31m---------------------------------------------------------------------------\u001b[0m",
            "\u001b[0;31mTypeError\u001b[0m                                 Traceback (most recent call last)",
            "\u001b[0;32m<ipython-input-9-ca730b97bf8a>\u001b[0m in \u001b[0;36m<module>\u001b[0;34m\u001b[0m\n\u001b[0;32m----> 1\u001b[0;31m \u001b[0ma\u001b[0m\u001b[0;34m+\u001b[0m\u001b[0mb\u001b[0m\u001b[0;34m\u001b[0m\u001b[0;34m\u001b[0m\u001b[0m\n\u001b[0m",
            "\u001b[0;31mTypeError\u001b[0m: can only concatenate str (not \"int\") to str"
          ]
        }
      ],
      "source": [
        "a+b"
      ]
    },
    {
      "cell_type": "code",
      "execution_count": null,
      "metadata": {
        "colab": {
          "base_uri": "https://localhost:8080/"
        },
        "id": "XmGT_8PBnqKO",
        "outputId": "b7fcd379-4ce7-457e-ee64-47eb0fe6cb04"
      },
      "outputs": [
        {
          "data": {
            "text/plain": [
              "2.0"
            ]
          },
          "execution_count": 10,
          "metadata": {},
          "output_type": "execute_result"
        }
      ],
      "source": [
        "1/3+1/3+4/3"
      ]
    },
    {
      "cell_type": "code",
      "execution_count": null,
      "metadata": {
        "id": "6quoZnl9o5ia"
      },
      "outputs": [],
      "source": [
        "x=1e100"
      ]
    },
    {
      "cell_type": "code",
      "execution_count": null,
      "metadata": {
        "colab": {
          "base_uri": "https://localhost:8080/"
        },
        "id": "Lt_8YcRjpBIq",
        "outputId": "131f975d-041d-4a0f-83d3-03df9c1b778f"
      },
      "outputs": [
        {
          "data": {
            "text/plain": [
              "104495676331778315966103878903450701989608781073244439950619431748912396904023371769"
            ]
          },
          "execution_count": 14,
          "metadata": {},
          "output_type": "execute_result"
        }
      ],
      "source": [
        "9**87"
      ]
    },
    {
      "cell_type": "code",
      "execution_count": null,
      "metadata": {
        "colab": {
          "base_uri": "https://localhost:8080/"
        },
        "id": "-LBLTLgMpEIx",
        "outputId": "7ab57fa5-bf92-4fdb-ab2e-cec53c70c3b6"
      },
      "outputs": [
        {
          "data": {
            "text/plain": [
              "-2.0"
            ]
          },
          "execution_count": 15,
          "metadata": {},
          "output_type": "execute_result"
        }
      ],
      "source": [
        "x + 104495676331778315966103878903450701989608781073244439950619431748912396904023371769 - x - 2"
      ]
    },
    {
      "cell_type": "code",
      "execution_count": null,
      "metadata": {
        "colab": {
          "base_uri": "https://localhost:8080/"
        },
        "id": "V3MHYe3hpMuW",
        "outputId": "8549d976-72f3-4cd7-f22a-ff5ef802b687"
      },
      "outputs": [
        {
          "data": {
            "text/plain": [
              "0.0"
            ]
          },
          "execution_count": 16,
          "metadata": {},
          "output_type": "execute_result"
        }
      ],
      "source": [
        "x + 104495676331778315966103878903450701989608781073244439950619431748912396904023371769  - 2- x"
      ]
    },
    {
      "cell_type": "code",
      "execution_count": null,
      "metadata": {
        "colab": {
          "base_uri": "https://localhost:8080/"
        },
        "id": "iPXvKzwxpYzM",
        "outputId": "13d701bc-cb84-416e-afb0-5b23d5436d79"
      },
      "outputs": [
        {
          "data": {
            "text/plain": [
              "1.0449567633177832e+83"
            ]
          },
          "execution_count": 17,
          "metadata": {},
          "output_type": "execute_result"
        }
      ],
      "source": [
        "x - x + 104495676331778315966103878903450701989608781073244439950619431748912396904023371769  - 2"
      ]
    },
    {
      "cell_type": "code",
      "execution_count": null,
      "metadata": {
        "colab": {
          "base_uri": "https://localhost:8080/"
        },
        "id": "1GKxyI4Bpda0",
        "outputId": "d2d60c8c-63d9-4e79-bc05-b069200e1145"
      },
      "outputs": [
        {
          "name": "stdout",
          "output_type": "stream",
          "text": [
            "Hi\n"
          ]
        }
      ],
      "source": [
        "print('Hi')"
      ]
    },
    {
      "cell_type": "code",
      "execution_count": null,
      "metadata": {
        "id": "K7tIHGS0qQyF"
      },
      "outputs": [],
      "source": [
        "print=5"
      ]
    },
    {
      "cell_type": "code",
      "execution_count": null,
      "metadata": {
        "colab": {
          "base_uri": "https://localhost:8080/",
          "height": 166
        },
        "id": "OX-xd4ilqR2V",
        "outputId": "75b4e0df-5e2e-40e0-d427-229b204ed4d0"
      },
      "outputs": [
        {
          "ename": "TypeError",
          "evalue": "ignored",
          "output_type": "error",
          "traceback": [
            "\u001b[0;31m---------------------------------------------------------------------------\u001b[0m",
            "\u001b[0;31mTypeError\u001b[0m                                 Traceback (most recent call last)",
            "\u001b[0;32m<ipython-input-20-cad9f7bbaedb>\u001b[0m in \u001b[0;36m<module>\u001b[0;34m\u001b[0m\n\u001b[0;32m----> 1\u001b[0;31m \u001b[0mprint\u001b[0m\u001b[0;34m(\u001b[0m\u001b[0;34m'Hi'\u001b[0m\u001b[0;34m)\u001b[0m\u001b[0;34m\u001b[0m\u001b[0;34m\u001b[0m\u001b[0m\n\u001b[0m",
            "\u001b[0;31mTypeError\u001b[0m: 'int' object is not callable"
          ]
        }
      ],
      "source": [
        "print('Hi')"
      ]
    },
    {
      "cell_type": "code",
      "execution_count": null,
      "metadata": {
        "id": "UcNheXwSqS0U"
      },
      "outputs": [],
      "source": [
        "del print"
      ]
    },
    {
      "cell_type": "code",
      "execution_count": null,
      "metadata": {
        "colab": {
          "base_uri": "https://localhost:8080/"
        },
        "id": "ZxWWhqEIqTt8",
        "outputId": "63395bd1-d294-4fb1-9417-f8ac443ecd5e"
      },
      "outputs": [
        {
          "name": "stdout",
          "output_type": "stream",
          "text": [
            "Hi\n"
          ]
        }
      ],
      "source": [
        "print('Hi')"
      ]
    },
    {
      "cell_type": "code",
      "execution_count": null,
      "metadata": {
        "colab": {
          "base_uri": "https://localhost:8080/"
        },
        "id": "ok4-luhwqUsU",
        "outputId": "1618e75e-1035-4705-ed3e-02105a3a49a3"
      },
      "outputs": [
        {
          "name": "stdout",
          "output_type": "stream",
          "text": [
            "<built-in function sum>\n"
          ]
        }
      ],
      "source": [
        "print(sum)"
      ]
    },
    {
      "cell_type": "code",
      "execution_count": null,
      "metadata": {
        "colab": {
          "base_uri": "https://localhost:8080/"
        },
        "id": "EtEyp3BCqawv",
        "outputId": "c04f52df-46ef-4992-f199-04fab7a98517"
      },
      "outputs": [
        {
          "name": "stdout",
          "output_type": "stream",
          "text": [
            "<built-in function print>\n"
          ]
        }
      ],
      "source": [
        "print(print)"
      ]
    },
    {
      "cell_type": "code",
      "execution_count": null,
      "metadata": {
        "colab": {
          "base_uri": "https://localhost:8080/",
          "height": 53
        },
        "id": "lcGrisx8qf2d",
        "outputId": "5b9b11b7-588a-43e8-c5f1-fb4dd31cf1d9"
      },
      "outputs": [
        {
          "name": "stdout",
          "output_type": "stream",
          "text": [
            "zxpom[oi\n"
          ]
        },
        {
          "data": {
            "application/vnd.google.colaboratory.intrinsic+json": {
              "type": "string"
            },
            "text/plain": [
              "'zxpom[oi'"
            ]
          },
          "execution_count": 1,
          "metadata": {},
          "output_type": "execute_result"
        }
      ],
      "source": [
        "input()"
      ]
    },
    {
      "cell_type": "code",
      "execution_count": null,
      "metadata": {
        "colab": {
          "base_uri": "https://localhost:8080/",
          "height": 53
        },
        "id": "nSBRt5CNmSTI",
        "outputId": "5b42ecc7-282c-491f-aae4-926f58f0618b"
      },
      "outputs": [
        {
          "name": "stdout",
          "output_type": "stream",
          "text": [
            "Say somethingouyb\n"
          ]
        },
        {
          "data": {
            "application/vnd.google.colaboratory.intrinsic+json": {
              "type": "string"
            },
            "text/plain": [
              "'ouyb'"
            ]
          },
          "execution_count": 2,
          "metadata": {},
          "output_type": "execute_result"
        }
      ],
      "source": [
        "input('Say something')"
      ]
    },
    {
      "cell_type": "code",
      "execution_count": null,
      "metadata": {
        "colab": {
          "base_uri": "https://localhost:8080/"
        },
        "id": "UMbMT9wTmccO",
        "outputId": "1d2f0ad6-bb55-456d-8f8e-3e5f89c03dd8"
      },
      "outputs": [
        {
          "name": "stdout",
          "output_type": "stream",
          "text": [
            "Store something: h\n"
          ]
        }
      ],
      "source": [
        "x=input('Store something: ')"
      ]
    },
    {
      "cell_type": "code",
      "execution_count": null,
      "metadata": {
        "colab": {
          "base_uri": "https://localhost:8080/",
          "height": 35
        },
        "id": "St_UEZYNmpme",
        "outputId": "e8e24669-aa8f-41bc-88e1-4bddefff4201"
      },
      "outputs": [
        {
          "data": {
            "application/vnd.google.colaboratory.intrinsic+json": {
              "type": "string"
            },
            "text/plain": [
              "'h'"
            ]
          },
          "execution_count": 4,
          "metadata": {},
          "output_type": "execute_result"
        }
      ],
      "source": [
        "x"
      ]
    },
    {
      "cell_type": "code",
      "execution_count": null,
      "metadata": {
        "colab": {
          "base_uri": "https://localhost:8080/"
        },
        "id": "87loGTYZmrIR",
        "outputId": "560c9c43-7af6-4dd4-d532-7a6f465dce69"
      },
      "outputs": [
        {
          "name": "stdout",
          "output_type": "stream",
          "text": [
            "Enter an integer: 9\n"
          ]
        }
      ],
      "source": [
        "i=input('Enter an integer: ')"
      ]
    },
    {
      "cell_type": "code",
      "execution_count": null,
      "metadata": {
        "colab": {
          "base_uri": "https://localhost:8080/",
          "height": 35
        },
        "id": "COY6s-8Qmx43",
        "outputId": "242e63f2-67f9-473a-8da8-842187d5a106"
      },
      "outputs": [
        {
          "data": {
            "application/vnd.google.colaboratory.intrinsic+json": {
              "type": "string"
            },
            "text/plain": [
              "'9'"
            ]
          },
          "execution_count": 7,
          "metadata": {},
          "output_type": "execute_result"
        }
      ],
      "source": [
        "i"
      ]
    },
    {
      "cell_type": "code",
      "execution_count": null,
      "metadata": {
        "colab": {
          "base_uri": "https://localhost:8080/"
        },
        "id": "0X6aqjXonBIf",
        "outputId": "fc6e78be-1eb7-42b7-8cb1-7aed9661b9d1"
      },
      "outputs": [
        {
          "data": {
            "text/plain": [
              "9"
            ]
          },
          "execution_count": 8,
          "metadata": {},
          "output_type": "execute_result"
        }
      ],
      "source": [
        "int(i)"
      ]
    },
    {
      "cell_type": "code",
      "execution_count": null,
      "metadata": {
        "colab": {
          "base_uri": "https://localhost:8080/",
          "height": 165
        },
        "id": "wSceTuiinJWH",
        "outputId": "436250c1-53da-4c12-9825-e090795083bd"
      },
      "outputs": [
        {
          "ename": "TypeError",
          "evalue": "ignored",
          "output_type": "error",
          "traceback": [
            "\u001b[0;31m---------------------------------------------------------------------------\u001b[0m",
            "\u001b[0;31mTypeError\u001b[0m                                 Traceback (most recent call last)",
            "\u001b[0;32m<ipython-input-9-c52addde7557>\u001b[0m in \u001b[0;36m<module>\u001b[0;34m\u001b[0m\n\u001b[0;32m----> 1\u001b[0;31m \u001b[0mi\u001b[0m \u001b[0;34m*\u001b[0m \u001b[0mi\u001b[0m\u001b[0;34m\u001b[0m\u001b[0;34m\u001b[0m\u001b[0m\n\u001b[0m",
            "\u001b[0;31mTypeError\u001b[0m: can't multiply sequence by non-int of type 'str'"
          ]
        }
      ],
      "source": [
        "i * i"
      ]
    },
    {
      "cell_type": "code",
      "execution_count": null,
      "metadata": {
        "colab": {
          "base_uri": "https://localhost:8080/",
          "height": 35
        },
        "id": "BjcsYXlcnO0g",
        "outputId": "0c649d78-f51a-4ef0-9db4-62f9cc4614c8"
      },
      "outputs": [
        {
          "data": {
            "application/vnd.google.colaboratory.intrinsic+json": {
              "type": "string"
            },
            "text/plain": [
              "'999999999'"
            ]
          },
          "execution_count": 10,
          "metadata": {},
          "output_type": "execute_result"
        }
      ],
      "source": [
        "i * int(i)"
      ]
    },
    {
      "cell_type": "code",
      "execution_count": null,
      "metadata": {
        "colab": {
          "base_uri": "https://localhost:8080/"
        },
        "id": "lo135jX5nRmw",
        "outputId": "4d210da9-3fc7-4baa-9d85-46f65e50827f"
      },
      "outputs": [
        {
          "name": "stdout",
          "output_type": "stream",
          "text": [
            "Enter Integer: 79\n"
          ]
        }
      ],
      "source": [
        "w=int(input('Enter Integer: '))"
      ]
    },
    {
      "cell_type": "code",
      "execution_count": null,
      "metadata": {
        "colab": {
          "base_uri": "https://localhost:8080/"
        },
        "id": "9SVZq09wna_2",
        "outputId": "b5e08346-7c81-4213-f854-46579f5bef60"
      },
      "outputs": [
        {
          "data": {
            "text/plain": [
              "79"
            ]
          },
          "execution_count": 13,
          "metadata": {},
          "output_type": "execute_result"
        }
      ],
      "source": [
        "w"
      ]
    },
    {
      "cell_type": "code",
      "execution_count": null,
      "metadata": {
        "id": "h21gDH0xngOA"
      },
      "outputs": [],
      "source": [
        "#Enter baggage weight and warn if exceeding allowance of 15kg"
      ]
    },
    {
      "cell_type": "code",
      "execution_count": null,
      "metadata": {
        "colab": {
          "base_uri": "https://localhost:8080/",
          "height": 165
        },
        "id": "ZYx90BHlqDuS",
        "outputId": "8e23641f-9aa7-471f-fa10-0916bbaaa356"
      },
      "outputs": [
        {
          "ename": "ValueError",
          "evalue": "ignored",
          "output_type": "error",
          "traceback": [
            "\u001b[0;31m---------------------------------------------------------------------------\u001b[0m",
            "\u001b[0;31mValueError\u001b[0m                                Traceback (most recent call last)",
            "\u001b[0;32m<ipython-input-15-41e485950f2b>\u001b[0m in \u001b[0;36m<module>\u001b[0;34m\u001b[0m\n\u001b[0;32m----> 1\u001b[0;31m \u001b[0mint\u001b[0m\u001b[0;34m(\u001b[0m\u001b[0;34m'15kg'\u001b[0m\u001b[0;34m)\u001b[0m\u001b[0;34m\u001b[0m\u001b[0;34m\u001b[0m\u001b[0m\n\u001b[0m",
            "\u001b[0;31mValueError\u001b[0m: invalid literal for int() with base 10: '15kg'"
          ]
        }
      ],
      "source": [
        "int('15kg')"
      ]
    },
    {
      "cell_type": "code",
      "execution_count": null,
      "metadata": {
        "colab": {
          "base_uri": "https://localhost:8080/"
        },
        "id": "gwTZI2WhqF1G",
        "outputId": "ba8d0c84-2724-45ea-d700-5b69c4d99b9a"
      },
      "outputs": [
        {
          "name": "stdout",
          "output_type": "stream",
          "text": [
            "Enter weight: 22\n",
            "Allowance exceeded!\n"
          ]
        }
      ],
      "source": [
        "w=int(input(\"Enter weight: \"))\n",
        "if w>15:\n",
        "  print(\"Allowance exceeded!\")"
      ]
    },
    {
      "cell_type": "code",
      "execution_count": null,
      "metadata": {
        "id": "1Td6Zv4-wa1w"
      },
      "outputs": [],
      "source": [
        "#Enter baggage weight and warn while exceeding allowance of 15kg\n",
        "#and ask the user how much they have taken out, subtracting this from weight"
      ]
    },
    {
      "cell_type": "code",
      "execution_count": null,
      "metadata": {
        "id": "dVWJ2p7-zHET"
      },
      "outputs": [],
      "source": []
    },
    {
      "cell_type": "code",
      "execution_count": null,
      "metadata": {
        "id": "VksR6SO0zIF1"
      },
      "outputs": [],
      "source": []
    },
    {
      "cell_type": "code",
      "execution_count": null,
      "metadata": {
        "id": "h8SU4wcfzIIt"
      },
      "outputs": [],
      "source": []
    },
    {
      "cell_type": "code",
      "execution_count": null,
      "metadata": {
        "id": "ddxlJN_bzILh"
      },
      "outputs": [],
      "source": []
    },
    {
      "cell_type": "code",
      "execution_count": null,
      "metadata": {
        "colab": {
          "base_uri": "https://localhost:8080/"
        },
        "id": "5MyFoI8C2-dJ",
        "outputId": "6c227a65-e2d0-42ea-ecfb-9306aae4d327"
      },
      "outputs": [
        {
          "name": "stdout",
          "output_type": "stream",
          "text": [
            "Hi\n",
            "Hi\n",
            "Hi\n",
            "Hi\n",
            "Hi\n"
          ]
        }
      ],
      "source": [
        "for i in range(5): \n",
        "  print('Hi')"
      ]
    },
    {
      "cell_type": "code",
      "execution_count": null,
      "metadata": {
        "colab": {
          "base_uri": "https://localhost:8080/"
        },
        "id": "C_cQMuFG3Bvz",
        "outputId": "857cbec2-98e9-4010-8426-2eb6967274de"
      },
      "outputs": [
        {
          "name": "stdout",
          "output_type": "stream",
          "text": [
            "4 HiHiHiHi\n"
          ]
        }
      ],
      "source": [
        "for i in range (5):\n",
        "  print(i,'Hi'*i)"
      ]
    },
    {
      "cell_type": "code",
      "execution_count": null,
      "metadata": {
        "colab": {
          "base_uri": "https://localhost:8080/"
        },
        "id": "lpnR78yp3UIc",
        "outputId": "60efc10b-3ca4-4325-ec91-782b319a49e2"
      },
      "outputs": [
        {
          "name": "stdout",
          "output_type": "stream",
          "text": [
            "0 \n",
            "1 Hi\n",
            "2 HiHi\n",
            "3 HiHiHi\n",
            "4 HiHiHiHi\n"
          ]
        }
      ],
      "source": [
        "for i in range (5):\n",
        "  print(i,'Hi'*i)"
      ]
    },
    {
      "cell_type": "code",
      "execution_count": null,
      "metadata": {
        "id": "FkEPm2GD3VPJ"
      },
      "outputs": [],
      "source": [
        "#https://projecteuler.net/problem=1"
      ]
    },
    {
      "cell_type": "code",
      "execution_count": null,
      "metadata": {
        "id": "LqLE3mzi35pr"
      },
      "outputs": [],
      "source": [
        "#If we list all the natural numbers below 10 that are multiples of 3 or 5, we get 3, 5, 6 and 9. The sum of these multiples is 23.\n",
        "\n",
        "#Find the sum of all the multiples of 3 or 5 below 1000."
      ]
    },
    {
      "cell_type": "code",
      "execution_count": null,
      "metadata": {
        "colab": {
          "base_uri": "https://localhost:8080/"
        },
        "id": "hQNbCXe44CfC",
        "outputId": "dcc651b4-1855-4441-b5a9-08e8ef4d6c33"
      },
      "outputs": [
        {
          "data": {
            "text/plain": [
              "0"
            ]
          },
          "execution_count": 23,
          "metadata": {},
          "output_type": "execute_result"
        }
      ],
      "source": [
        "6%3"
      ]
    },
    {
      "cell_type": "code",
      "execution_count": null,
      "metadata": {
        "id": "E-lozk2o4EWz"
      },
      "outputs": [],
      "source": [
        "T=True\n",
        "F=False"
      ]
    },
    {
      "cell_type": "code",
      "execution_count": null,
      "metadata": {
        "colab": {
          "base_uri": "https://localhost:8080/"
        },
        "id": "oUv0JD824MQa",
        "outputId": "51bb9a7d-b147-4acb-9b44-8c094eb9611b"
      },
      "outputs": [
        {
          "data": {
            "text/plain": [
              "True"
            ]
          },
          "execution_count": 25,
          "metadata": {},
          "output_type": "execute_result"
        }
      ],
      "source": [
        "T and T"
      ]
    },
    {
      "cell_type": "code",
      "execution_count": null,
      "metadata": {
        "colab": {
          "base_uri": "https://localhost:8080/"
        },
        "id": "BY9nVtgL4OTi",
        "outputId": "def0b79e-8fa9-4b2e-ad0e-7aa81184b18e"
      },
      "outputs": [
        {
          "data": {
            "text/plain": [
              "False"
            ]
          },
          "execution_count": 26,
          "metadata": {},
          "output_type": "execute_result"
        }
      ],
      "source": [
        "T and F"
      ]
    },
    {
      "cell_type": "code",
      "execution_count": null,
      "metadata": {
        "colab": {
          "base_uri": "https://localhost:8080/"
        },
        "id": "wdSI7SvF4PtL",
        "outputId": "41f48b69-a697-443e-a2c5-250a13c07b58"
      },
      "outputs": [
        {
          "data": {
            "text/plain": [
              "False"
            ]
          },
          "execution_count": 27,
          "metadata": {},
          "output_type": "execute_result"
        }
      ],
      "source": [
        "F and T"
      ]
    },
    {
      "cell_type": "code",
      "execution_count": null,
      "metadata": {
        "colab": {
          "base_uri": "https://localhost:8080/"
        },
        "id": "jkqXo7z44Q8q",
        "outputId": "80a65d7c-973a-457a-a793-d9c8d0d80959"
      },
      "outputs": [
        {
          "data": {
            "text/plain": [
              "False"
            ]
          },
          "execution_count": 28,
          "metadata": {},
          "output_type": "execute_result"
        }
      ],
      "source": [
        "F and F"
      ]
    },
    {
      "cell_type": "code",
      "execution_count": null,
      "metadata": {
        "colab": {
          "base_uri": "https://localhost:8080/"
        },
        "id": "kAm-tIhn4SFr",
        "outputId": "f40df56a-dd20-46c1-f2f9-ab6db91b911d"
      },
      "outputs": [
        {
          "data": {
            "text/plain": [
              "True"
            ]
          },
          "execution_count": 29,
          "metadata": {},
          "output_type": "execute_result"
        }
      ],
      "source": [
        "F or T"
      ]
    },
    {
      "cell_type": "code",
      "execution_count": null,
      "metadata": {
        "colab": {
          "base_uri": "https://localhost:8080/"
        },
        "id": "oZ_K3yQV4Wcs",
        "outputId": "f6591868-ebb4-44e0-e792-9845578e8e0d"
      },
      "outputs": [
        {
          "data": {
            "text/plain": [
              "True"
            ]
          },
          "execution_count": 30,
          "metadata": {},
          "output_type": "execute_result"
        }
      ],
      "source": [
        "T or F"
      ]
    },
    {
      "cell_type": "code",
      "execution_count": null,
      "metadata": {
        "colab": {
          "base_uri": "https://localhost:8080/"
        },
        "id": "Z8xOyAzF4Ye0",
        "outputId": "0c94fb5c-a69e-40b4-b67c-aa7869695ca8"
      },
      "outputs": [
        {
          "data": {
            "text/plain": [
              "True"
            ]
          },
          "execution_count": 31,
          "metadata": {},
          "output_type": "execute_result"
        }
      ],
      "source": [
        "T or T"
      ]
    },
    {
      "cell_type": "code",
      "execution_count": null,
      "metadata": {
        "colab": {
          "base_uri": "https://localhost:8080/"
        },
        "id": "nPtJC9FU4bw6",
        "outputId": "0ee34b92-f259-401d-e434-ba58e5bb6dc3"
      },
      "outputs": [
        {
          "data": {
            "text/plain": [
              "False"
            ]
          },
          "execution_count": 32,
          "metadata": {},
          "output_type": "execute_result"
        }
      ],
      "source": [
        "F or F"
      ]
    },
    {
      "cell_type": "code",
      "execution_count": null,
      "metadata": {
        "id": "j5sWneJl4ffE"
      },
      "outputs": [],
      "source": [
        "def avg(n1,n2):\n",
        "  return(n1+n2)/2"
      ]
    },
    {
      "cell_type": "code",
      "execution_count": null,
      "metadata": {
        "colab": {
          "base_uri": "https://localhost:8080/"
        },
        "id": "j8NXQUaVcfF6",
        "outputId": "6c484b64-7191-4a98-fb8c-bd7a63f39d4f"
      },
      "outputs": [
        {
          "data": {
            "text/plain": [
              "7.0"
            ]
          },
          "execution_count": 2,
          "metadata": {},
          "output_type": "execute_result"
        }
      ],
      "source": [
        "avg(10,4)"
      ]
    },
    {
      "cell_type": "code",
      "execution_count": null,
      "metadata": {
        "colab": {
          "base_uri": "https://localhost:8080/"
        },
        "id": "JHcwYNlRcg2V",
        "outputId": "d4e90cdf-e424-4f7f-b0cf-2ac79cdb76a7"
      },
      "outputs": [
        {
          "data": {
            "text/plain": [
              "8.0"
            ]
          },
          "execution_count": 3,
          "metadata": {},
          "output_type": "execute_result"
        }
      ],
      "source": [
        "avg(9,avg(10,4))"
      ]
    },
    {
      "cell_type": "code",
      "execution_count": null,
      "metadata": {
        "id": "IndjWe0Yckjq"
      },
      "outputs": [],
      "source": [
        "#Ex. 3.1\n",
        "#Function to sum first n numbers"
      ]
    },
    {
      "cell_type": "code",
      "execution_count": null,
      "metadata": {
        "id": "hI8NRW0VdlzQ"
      },
      "outputs": [],
      "source": [
        "#Ex. 3.2 #f32\n",
        "#If we list all the natural numbers below 10 that are multiples of 3 or 5, \n",
        "#we get 3, 5, 6 and 9. The sum of these multiples is 23.\n",
        "#Create a function to find the sum of all the multiples of a or b below n.\n",
        "# (a,b,n) are function parameters"
      ]
    },
    {
      "cell_type": "code",
      "execution_count": null,
      "metadata": {
        "colab": {
          "base_uri": "https://localhost:8080/"
        },
        "id": "zBG29yGxdr0Y",
        "outputId": "ec6101ee-6c7a-4dc6-df6c-04e442e05800"
      },
      "outputs": [
        {
          "name": "stdout",
          "output_type": "stream",
          "text": [
            "x: 3 ; Y: 4\n"
          ]
        }
      ],
      "source": [
        "def doIt(x):\n",
        "  y=7-x\n",
        "  x=1\n",
        "  print(\"x:\",x,\"; Y:\",y)\n",
        "\n",
        "x=3\n",
        "y=4\n",
        "print(\"x:\",x,\"; Y:\",y)\n",
        "#doIt(y)\n",
        "#print(\"x:\",x,\"; Y:\",y)"
      ]
    },
    {
      "cell_type": "code",
      "execution_count": null,
      "metadata": {
        "colab": {
          "base_uri": "https://localhost:8080/"
        },
        "id": "GOiTH8BSeS4f",
        "outputId": "9166a8af-82c8-4dcf-a9c3-2103b603ccd1"
      },
      "outputs": [
        {
          "name": "stdout",
          "output_type": "stream",
          "text": [
            "x: 3 ; Y: 4\n",
            "x: 1 ; Y: 3\n"
          ]
        }
      ],
      "source": [
        "def doIt(x):\n",
        "  y=7-x\n",
        "  x=1\n",
        "  print(\"x:\",x,\"; Y:\",y)\n",
        "\n",
        "x=3\n",
        "y=4\n",
        "print(\"x:\",x,\"; Y:\",y)\n",
        "doIt(y)\n",
        "#print(\"x:\",x,\"; Y:\",y)"
      ]
    },
    {
      "cell_type": "code",
      "execution_count": null,
      "metadata": {
        "colab": {
          "base_uri": "https://localhost:8080/"
        },
        "id": "UQnf408keb7t",
        "outputId": "51157c47-156b-4b5d-c61a-fe796829c211"
      },
      "outputs": [
        {
          "name": "stdout",
          "output_type": "stream",
          "text": [
            "x: 3 ; Y: 4\n",
            "x: 1 ; Y: 3\n",
            "x: 3 ; Y: 4\n"
          ]
        }
      ],
      "source": [
        "def doIt(x):\n",
        "  y=7-x\n",
        "  x=1\n",
        "  print(\"x:\",x,\"; Y:\",y)\n",
        "\n",
        "x=3\n",
        "y=4\n",
        "print(\"x:\",x,\"; Y:\",y)\n",
        "doIt(y)\n",
        "print(\"x:\",x,\"; Y:\",y)"
      ]
    },
    {
      "cell_type": "code",
      "execution_count": null,
      "metadata": {
        "id": "NfPraG_SeuAB"
      },
      "outputs": [],
      "source": []
    },
    {
      "cell_type": "code",
      "execution_count": null,
      "metadata": {
        "id": "gDWN2jBrNFbd"
      },
      "outputs": [],
      "source": [
        "#Ex 3.3\n",
        "#Create a function to find the sum of all the multiples of a or b in list l.\n",
        "# (a,b,l) are function parameters"
      ]
    },
    {
      "cell_type": "code",
      "execution_count": null,
      "metadata": {
        "id": "vKQ-fHp0Oy_S"
      },
      "outputs": [],
      "source": [
        "#Ex 3.4\n",
        "#Create a function to find the sum of all \n",
        "#the multiples of factors in list a  contained in list l.\n",
        "# (a,l) are function parameters and len(a) == 2"
      ]
    },
    {
      "cell_type": "code",
      "execution_count": null,
      "metadata": {
        "id": "QC8NPWjlPDki"
      },
      "outputs": [],
      "source": [
        "#Ex 3.5\n",
        "#Create a function to find the sum of all \n",
        "#the multiples of factors in list a contained in list l.\n",
        "# (a,l) are function parameters\n",
        "#f([2,3,5,7],list(range(1000)))385788\n",
        "#f([2,3,5,7,11],list(range(1000))) 396205"
      ]
    },
    {
      "cell_type": "code",
      "execution_count": null,
      "metadata": {
        "id": "i54MDrKKnJZ6"
      },
      "outputs": [],
      "source": [
        "#f([2,3,5,7,11],list(range(1000)))"
      ]
    },
    {
      "cell_type": "code",
      "execution_count": null,
      "metadata": {
        "id": "hpg5TlzttEvA"
      },
      "outputs": [],
      "source": [
        "f=open('cities','w')\n",
        "for c in ['Dublin','Mumbai','Washington']:\n",
        "  f.write(c+'\\n')"
      ]
    },
    {
      "cell_type": "code",
      "execution_count": null,
      "metadata": {
        "id": "5ZY5fmgEtRNM"
      },
      "outputs": [],
      "source": [
        "f=open('cities')"
      ]
    },
    {
      "cell_type": "code",
      "execution_count": null,
      "metadata": {
        "colab": {
          "base_uri": "https://localhost:8080/",
          "height": 35
        },
        "id": "r9gSfdbEtUJW",
        "outputId": "aa16c350-110d-4e03-cce1-1506d11c556e"
      },
      "outputs": [
        {
          "data": {
            "application/vnd.google.colaboratory.intrinsic+json": {
              "type": "string"
            },
            "text/plain": [
              "'D'"
            ]
          },
          "execution_count": 5,
          "metadata": {},
          "output_type": "execute_result"
        }
      ],
      "source": [
        "f.read(1)"
      ]
    },
    {
      "cell_type": "code",
      "execution_count": null,
      "metadata": {
        "colab": {
          "base_uri": "https://localhost:8080/",
          "height": 35
        },
        "id": "q6CjWsXVtXOB",
        "outputId": "0d5313f4-d818-4d58-b3f4-9e8a7ae31dc4"
      },
      "outputs": [
        {
          "data": {
            "application/vnd.google.colaboratory.intrinsic+json": {
              "type": "string"
            },
            "text/plain": [
              "'ub'"
            ]
          },
          "execution_count": 6,
          "metadata": {},
          "output_type": "execute_result"
        }
      ],
      "source": [
        "f.read(2)"
      ]
    },
    {
      "cell_type": "code",
      "execution_count": null,
      "metadata": {
        "colab": {
          "base_uri": "https://localhost:8080/",
          "height": 35
        },
        "id": "R8LlI0Fktbsh",
        "outputId": "c0561965-8e1f-4e34-b94c-d9a553ced550"
      },
      "outputs": [
        {
          "data": {
            "application/vnd.google.colaboratory.intrinsic+json": {
              "type": "string"
            },
            "text/plain": [
              "'lin\\n'"
            ]
          },
          "execution_count": 7,
          "metadata": {},
          "output_type": "execute_result"
        }
      ],
      "source": [
        "f.readline()"
      ]
    },
    {
      "cell_type": "code",
      "execution_count": null,
      "metadata": {
        "colab": {
          "base_uri": "https://localhost:8080/",
          "height": 35
        },
        "id": "BpfyZPv7tooN",
        "outputId": "cbc31f09-c2b3-4f59-f246-42b83c8ef4d9"
      },
      "outputs": [
        {
          "data": {
            "application/vnd.google.colaboratory.intrinsic+json": {
              "type": "string"
            },
            "text/plain": [
              "'Mumbai\\nWashington\\n'"
            ]
          },
          "execution_count": 8,
          "metadata": {},
          "output_type": "execute_result"
        }
      ],
      "source": [
        "f.read()"
      ]
    },
    {
      "cell_type": "code",
      "execution_count": null,
      "metadata": {
        "id": "kUU-o1s1tvJ6"
      },
      "outputs": [],
      "source": [
        "f.close()"
      ]
    },
    {
      "cell_type": "code",
      "execution_count": null,
      "metadata": {
        "id": "K89k878Wtyeh"
      },
      "outputs": [],
      "source": [
        "f=open('cities')"
      ]
    },
    {
      "cell_type": "code",
      "execution_count": null,
      "metadata": {
        "colab": {
          "base_uri": "https://localhost:8080/"
        },
        "id": "3Vpzb709tz-4",
        "outputId": "c3bd1815-f23b-467c-e2d2-1994387c6203"
      },
      "outputs": [
        {
          "name": "stdout",
          "output_type": "stream",
          "text": [
            "Dublin\n",
            "Mumbai\n",
            "Washington\n",
            "\n"
          ]
        }
      ],
      "source": [
        "print(f.read())"
      ]
    },
    {
      "cell_type": "code",
      "execution_count": null,
      "metadata": {
        "colab": {
          "base_uri": "https://localhost:8080/"
        },
        "id": "gVyVBednt1aH",
        "outputId": "1e86c13d-5ff4-4a2c-c538-ff76862ca15b"
      },
      "outputs": [
        {
          "name": "stdout",
          "output_type": "stream",
          "text": [
            "Dublin\n",
            "\n",
            "Mumbai\n",
            "\n",
            "Washington\n",
            "\n"
          ]
        }
      ],
      "source": [
        "f.seek(0)\n",
        "for line in f:\n",
        "  print(line)"
      ]
    },
    {
      "cell_type": "code",
      "execution_count": null,
      "metadata": {
        "id": "QBcgNbUQt9h6"
      },
      "outputs": [],
      "source": [
        "#Ex 4.1\n",
        "#Create a function to find the sum of all \n",
        "#the multiples of factors in file with filename a \n",
        "#contained in list file with filename b, each one number per line.\n",
        "# (a,b) are function parameters\n",
        "\n",
        "#Ex 4.2\n",
        "#Be efficient\n",
        "\n",
        "#Ex 4.3\n",
        "#Keep your code DRY (No repetition of previous code)\n",
        "\n",
        "\n"
      ]
    },
    {
      "cell_type": "code",
      "execution_count": null,
      "metadata": {
        "id": "ELGJ4dzq0hr2"
      },
      "outputs": [],
      "source": [
        "#SELECTION\n",
        "#ITERATION\n",
        "#FUNCTIONS\n",
        "#LISTS\n",
        "#FILES"
      ]
    },
    {
      "cell_type": "code",
      "execution_count": null,
      "metadata": {
        "colab": {
          "base_uri": "https://localhost:8080/"
        },
        "id": "bubQFXz-7PTC",
        "outputId": "8764f76c-ead1-4a9e-c875-1d7fc29b037d"
      },
      "outputs": [
        {
          "data": {
            "text/plain": [
              "True"
            ]
          },
          "execution_count": 1,
          "metadata": {},
          "output_type": "execute_result"
        }
      ],
      "source": [
        "a=2\n",
        "b=a\n",
        "a is b"
      ]
    },
    {
      "cell_type": "code",
      "execution_count": null,
      "metadata": {
        "colab": {
          "base_uri": "https://localhost:8080/"
        },
        "id": "Rp9KzI087Rs6",
        "outputId": "0e0458a0-3ba0-4102-a5dc-46238cfd0721"
      },
      "outputs": [
        {
          "name": "stdout",
          "output_type": "stream",
          "text": [
            "140268086985648 140268086985648 True\n",
            "140268087399984 140268086985648 False\n"
          ]
        }
      ],
      "source": [
        "a='Hello'\n",
        "b=a\n",
        "print(id(a),id(b),(a is b))\n",
        "a+=' World'\n",
        "print(id(a),id(b),(a is b))\n"
      ]
    },
    {
      "cell_type": "code",
      "execution_count": null,
      "metadata": {
        "colab": {
          "base_uri": "https://localhost:8080/"
        },
        "id": "ZBivdJqE7hE2",
        "outputId": "ee548b39-f3df-4722-ea3b-6a3002b1015d"
      },
      "outputs": [
        {
          "data": {
            "text/plain": [
              "True"
            ]
          },
          "execution_count": 3,
          "metadata": {},
          "output_type": "execute_result"
        }
      ],
      "source": [
        "a=float('nan')\n",
        "b=a\n",
        "a is b"
      ]
    },
    {
      "cell_type": "code",
      "execution_count": null,
      "metadata": {
        "colab": {
          "base_uri": "https://localhost:8080/"
        },
        "id": "hge4qkzs7r3V",
        "outputId": "e68b9b50-b2db-4505-90ba-aa06ab6365a3"
      },
      "outputs": [
        {
          "data": {
            "text/plain": [
              "False"
            ]
          },
          "execution_count": 4,
          "metadata": {},
          "output_type": "execute_result"
        }
      ],
      "source": [
        "a==b\n"
      ]
    },
    {
      "cell_type": "code",
      "execution_count": null,
      "metadata": {
        "colab": {
          "base_uri": "https://localhost:8080/"
        },
        "id": "k_kupMHc7v5N",
        "outputId": "f2fae36a-78e2-4ee6-9c92-3f3b5053332b"
      },
      "outputs": [
        {
          "data": {
            "text/plain": [
              "False"
            ]
          },
          "execution_count": 5,
          "metadata": {},
          "output_type": "execute_result"
        }
      ],
      "source": [
        "0<a"
      ]
    },
    {
      "cell_type": "code",
      "execution_count": null,
      "metadata": {
        "colab": {
          "base_uri": "https://localhost:8080/"
        },
        "id": "X05iS87q8B4p",
        "outputId": "180c9f3e-6c07-455b-c8b8-18f02bec607f"
      },
      "outputs": [
        {
          "data": {
            "text/plain": [
              "False"
            ]
          },
          "execution_count": 6,
          "metadata": {},
          "output_type": "execute_result"
        }
      ],
      "source": [
        "0>a"
      ]
    },
    {
      "cell_type": "code",
      "execution_count": null,
      "metadata": {
        "colab": {
          "base_uri": "https://localhost:8080/"
        },
        "id": "W_Z9oFAd8DF0",
        "outputId": "5b744aaa-196e-48de-cefb-3e41726a7565"
      },
      "outputs": [
        {
          "data": {
            "text/plain": [
              "False"
            ]
          },
          "execution_count": 7,
          "metadata": {},
          "output_type": "execute_result"
        }
      ],
      "source": [
        "0==a"
      ]
    },
    {
      "cell_type": "code",
      "execution_count": null,
      "metadata": {
        "id": "eVwS-MCy8EBS"
      },
      "outputs": [],
      "source": [
        "a=4+5j"
      ]
    },
    {
      "cell_type": "code",
      "execution_count": null,
      "metadata": {
        "colab": {
          "base_uri": "https://localhost:8080/"
        },
        "id": "pFYFFBYP8Y9D",
        "outputId": "2d3741e2-5c50-4d65-e306-4129c9125bf6"
      },
      "outputs": [
        {
          "data": {
            "text/plain": [
              "140268086984336"
            ]
          },
          "execution_count": 9,
          "metadata": {},
          "output_type": "execute_result"
        }
      ],
      "source": [
        "id(a)"
      ]
    },
    {
      "cell_type": "code",
      "execution_count": null,
      "metadata": {
        "id": "xGtbc4Z88aBF"
      },
      "outputs": [],
      "source": [
        "a+=1"
      ]
    },
    {
      "cell_type": "code",
      "execution_count": null,
      "metadata": {
        "colab": {
          "base_uri": "https://localhost:8080/"
        },
        "id": "5t857Bt58bgd",
        "outputId": "bfc19996-d81b-4142-ddcd-a67f5b06fcca"
      },
      "outputs": [
        {
          "data": {
            "text/plain": [
              "(5+5j)"
            ]
          },
          "execution_count": 11,
          "metadata": {},
          "output_type": "execute_result"
        }
      ],
      "source": [
        "a"
      ]
    },
    {
      "cell_type": "code",
      "execution_count": null,
      "metadata": {
        "colab": {
          "base_uri": "https://localhost:8080/"
        },
        "id": "geheSeY98b_T",
        "outputId": "6a292ccb-c608-42b0-daf8-a8b92363904f"
      },
      "outputs": [
        {
          "data": {
            "text/plain": [
              "140268086983216"
            ]
          },
          "execution_count": 12,
          "metadata": {},
          "output_type": "execute_result"
        }
      ],
      "source": [
        "id(a)"
      ]
    },
    {
      "cell_type": "code",
      "execution_count": null,
      "metadata": {
        "colab": {
          "base_uri": "https://localhost:8080/"
        },
        "id": "K4k5pT5T8dOh",
        "outputId": "8da517b8-0cf6-4ec5-d683-94dbe5063d7e"
      },
      "outputs": [
        {
          "name": "stdout",
          "output_type": "stream",
          "text": [
            "My name is Paul, I am 1.95 metres tall and work in DBS\n"
          ]
        }
      ],
      "source": [
        "name= 'Paul'\n",
        "height=1.946\n",
        "employer='DBS'\n",
        "s='My name is %s, I am %.2f metres tall and work in %s'\n",
        "print(s%(name,height,employer))"
      ]
    },
    {
      "cell_type": "code",
      "execution_count": null,
      "metadata": {
        "colab": {
          "base_uri": "https://localhost:8080/"
        },
        "id": "gkLwc52B9q65",
        "outputId": "15275854-3c36-422f-adab-b6cdadd605e2"
      },
      "outputs": [
        {
          "name": "stdout",
          "output_type": "stream",
          "text": [
            "My name is Paul, I am 1.9 metres tall and work in DBS\n"
          ]
        }
      ],
      "source": [
        "s='My name is %s, I am %.1f metres tall and work in %s'\n",
        "print(s%(name,height,employer))"
      ]
    },
    {
      "cell_type": "code",
      "execution_count": null,
      "metadata": {
        "colab": {
          "base_uri": "https://localhost:8080/"
        },
        "id": "Xas2HnWr9yGt",
        "outputId": "93d8660c-c66f-4810-cb40-f0c4135a2135"
      },
      "outputs": [
        {
          "name": "stdout",
          "output_type": "stream",
          "text": [
            "My name is Paul, I am 2 metres tall and work in DBS\n"
          ]
        }
      ],
      "source": [
        "s='My name is %s, I am %.0f metres tall and work in %s'\n",
        "print(s%(name,height,employer))"
      ]
    },
    {
      "cell_type": "code",
      "execution_count": null,
      "metadata": {
        "colab": {
          "base_uri": "https://localhost:8080/"
        },
        "id": "EcnklLbI9028",
        "outputId": "b7e1ede0-74ba-4c2d-dac6-e234f9e98760"
      },
      "outputs": [
        {
          "name": "stdout",
          "output_type": "stream",
          "text": [
            "My name is Paul, I am 1 metres tall and work in DBS\n"
          ]
        }
      ],
      "source": [
        "s='My name is %s, I am %i metres tall and work in %s'\n",
        "print(s%(name,height,employer))"
      ]
    },
    {
      "cell_type": "code",
      "execution_count": null,
      "metadata": {
        "colab": {
          "base_uri": "https://localhost:8080/"
        },
        "id": "-a_Gga_5932T",
        "outputId": "b273eb0d-1e0f-46a6-f324-e172573368c1"
      },
      "outputs": [
        {
          "data": {
            "text/plain": [
              "1"
            ]
          },
          "execution_count": 17,
          "metadata": {},
          "output_type": "execute_result"
        }
      ],
      "source": [
        "int(4/3+1/3+1/3)"
      ]
    },
    {
      "cell_type": "code",
      "execution_count": null,
      "metadata": {
        "colab": {
          "base_uri": "https://localhost:8080/"
        },
        "id": "drN_FkM2981L",
        "outputId": "1f76701f-93f6-44d3-800f-705758a42b48"
      },
      "outputs": [
        {
          "name": "stdout",
          "output_type": "stream",
          "text": [
            "My name is Paul, I am 1.9459999999999999520383653361932374536991119384765625000000000000 metres tall and work in DBS\n"
          ]
        }
      ],
      "source": [
        "s='My name is %s, I am %.64f metres tall and work in %s'\n",
        "print(s%(name,height,employer))"
      ]
    },
    {
      "cell_type": "code",
      "execution_count": null,
      "metadata": {
        "id": "EORBHm5L-Epz"
      },
      "outputs": [],
      "source": [
        "\n",
        "#Ex 5.1\n",
        "#Create a function which takes an input filename and an output filename, and writes the output as follows:\n",
        "\n",
        "#for input file with each line formatted as follows:\n",
        "#n a1 a2 ...\n",
        "#eg\n",
        "#1000 3 5\n",
        "\n",
        "#the output file should contain a line which is the same, prepended by the result of f35([a1,a2...],range(n))\n",
        "#eg\n",
        "#233168 1000 3 5\n",
        "\n",
        "#DRY\n",
        "def f51(ifn,ofn):\n",
        "  pass\n",
        "\n",
        "\n",
        "\n",
        "\n",
        "def runf51():\n",
        "  with open('input','w') as f:\n",
        "    f.write('''10 3 5\n",
        "1000 3 5\n",
        "1000 2 3 5''')\n",
        "  f51('input','output')    \n"
      ]
    },
    {
      "cell_type": "code",
      "execution_count": null,
      "metadata": {
        "id": "g6asr0Poqj7H"
      },
      "outputs": [],
      "source": [
        "#Ex 6.1\n",
        "#Handle file not found errors in Ex 5.1 - write empty file.\n",
        "#write to a file <outputfilename>(1) if the file exists\n",
        "\n",
        "#Ex 6.2\n",
        "#Handle corrupt lines by ignoring them and prepending 'Corrupt' to the line in the output file\n",
        "#'10 3 5 2' -> '37 10 3 5 2'\n",
        "#'10 3 5 Hello' -> 'Corrupt 10 3 5 Hello'\n",
        "#'10 3 5' -> '23 10 3 5'\n",
        "\n",
        "#Ex 6.3\n",
        "#Handle corrupt values by ignoring them:\n",
        "#'10 3 5 Hello' -> '23 10 3 5 Hello'"
      ]
    },
    {
      "cell_type": "code",
      "execution_count": null,
      "metadata": {
        "id": "A140DGn-s4vk"
      },
      "outputs": [],
      "source": [
        "with open('/dev/stdin','w') as f:\n",
        "  f.write('Hello World!')"
      ]
    },
    {
      "cell_type": "code",
      "execution_count": null,
      "metadata": {
        "colab": {
          "base_uri": "https://localhost:8080/"
        },
        "id": "qCpn9tB_tBL-",
        "outputId": "2d0c355a-7083-44b2-f54d-8c0cbf760acc"
      },
      "outputs": [
        {
          "name": "stdout",
          "output_type": "stream",
          "text": [
            "Hello World!\n"
          ]
        }
      ],
      "source": [
        "with open('/dev/stdin') as f:\n",
        "  print(f.read(100))"
      ]
    },
    {
      "cell_type": "code",
      "execution_count": null,
      "metadata": {
        "id": "FW0XD5QKtd4v"
      },
      "outputs": [],
      "source": [
        "with open('/(1)','w') as f:\n",
        "  f.write('Hello World!')"
      ]
    },
    {
      "cell_type": "code",
      "execution_count": null,
      "metadata": {
        "id": "RDpBvkT-tneK"
      },
      "outputs": [],
      "source": [
        "#7.1 \n",
        "#Create a function taking a dictionary called basket and a dictionary called prices\n",
        "#which returns the total cost of the items in the basket.\n",
        "#basket contains quantity values for each key, while \n",
        "#prices (obviously) contains product:price pairs\n",
        "\n",
        "#7.2 deal with missing products etc."
      ]
    }
  ],
  "metadata": {
    "colab": {
      "provenance": []
    },
    "kernelspec": {
      "display_name": "Python 3",
      "language": "python",
      "name": "python3"
    },
    "language_info": {
      "name": "python",
      "version": "3.10.9"
    },
    "vscode": {
      "interpreter": {
        "hash": "f585781dd7d736710d676918f70cb1c14a5bbf46d26bce6628e8497fa7390e36"
      }
    }
  },
  "nbformat": 4,
  "nbformat_minor": 0
}
