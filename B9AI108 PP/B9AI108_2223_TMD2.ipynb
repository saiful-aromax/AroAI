{
  "nbformat": 4,
  "nbformat_minor": 0,
  "metadata": {
    "colab": {
      "provenance": []
    },
    "kernelspec": {
      "name": "python3",
      "display_name": "Python 3"
    },
    "language_info": {
      "name": "python"
    }
  },
  "cells": [
    {
      "cell_type": "code",
      "execution_count": null,
      "metadata": {
        "id": "Kfk94eYmd7HE",
        "outputId": "28a43168-9b90-4326-aa8d-412ce3837795",
        "colab": {
          "base_uri": "https://localhost:8080/"
        }
      },
      "outputs": [
        {
          "output_type": "stream",
          "name": "stdout",
          "text": [
            "Hi\n"
          ]
        }
      ],
      "source": [
        "print('Hi')"
      ]
    },
    {
      "cell_type": "code",
      "source": [
        "4/3+1/3+1/3"
      ],
      "metadata": {
        "id": "R3_k-tL1d8xV",
        "colab": {
          "base_uri": "https://localhost:8080/"
        },
        "outputId": "02218158-04d5-4aba-d595-56044b2c24fd"
      },
      "execution_count": null,
      "outputs": [
        {
          "output_type": "execute_result",
          "data": {
            "text/plain": [
              "1.9999999999999998"
            ]
          },
          "metadata": {},
          "execution_count": 2
        }
      ]
    },
    {
      "cell_type": "code",
      "source": [
        "a=3\n",
        "b=2"
      ],
      "metadata": {
        "id": "J5IFF8tknZJX"
      },
      "execution_count": null,
      "outputs": []
    },
    {
      "cell_type": "code",
      "source": [
        "a+b"
      ],
      "metadata": {
        "colab": {
          "base_uri": "https://localhost:8080/"
        },
        "id": "zG5-eS4FngYu",
        "outputId": "4f530dd1-1346-45bb-bf53-5e8955c6ba97"
      },
      "execution_count": null,
      "outputs": [
        {
          "output_type": "execute_result",
          "data": {
            "text/plain": [
              "5"
            ]
          },
          "metadata": {},
          "execution_count": 4
        }
      ]
    },
    {
      "cell_type": "code",
      "source": [
        "a + + b"
      ],
      "metadata": {
        "colab": {
          "base_uri": "https://localhost:8080/"
        },
        "id": "K3xar68UnhE4",
        "outputId": "7458227a-889e-4482-9eb4-0bfe34259898"
      },
      "execution_count": null,
      "outputs": [
        {
          "output_type": "execute_result",
          "data": {
            "text/plain": [
              "5"
            ]
          },
          "metadata": {},
          "execution_count": 5
        }
      ]
    },
    {
      "cell_type": "code",
      "source": [
        "a * * b"
      ],
      "metadata": {
        "colab": {
          "base_uri": "https://localhost:8080/",
          "height": 131
        },
        "id": "bHdPooHiniQq",
        "outputId": "3bbf5ea4-1c5e-408f-dabd-dc0ab8dc7020"
      },
      "execution_count": null,
      "outputs": [
        {
          "output_type": "error",
          "ename": "SyntaxError",
          "evalue": "ignored",
          "traceback": [
            "\u001b[0;36m  File \u001b[0;32m\"<ipython-input-6-a62dd4d80410>\"\u001b[0;36m, line \u001b[0;32m1\u001b[0m\n\u001b[0;31m    a * * b\u001b[0m\n\u001b[0m        ^\u001b[0m\n\u001b[0;31mSyntaxError\u001b[0m\u001b[0;31m:\u001b[0m invalid syntax\n"
          ]
        }
      ]
    },
    {
      "cell_type": "code",
      "source": [
        "a**b"
      ],
      "metadata": {
        "colab": {
          "base_uri": "https://localhost:8080/"
        },
        "id": "oUzyFShDnjo-",
        "outputId": "5b6b25f3-5eb6-4895-d8f8-f685bcf853ca"
      },
      "execution_count": null,
      "outputs": [
        {
          "output_type": "execute_result",
          "data": {
            "text/plain": [
              "9"
            ]
          },
          "metadata": {},
          "execution_count": 7
        }
      ]
    },
    {
      "cell_type": "code",
      "source": [
        "a='hello'"
      ],
      "metadata": {
        "id": "dBYlL4nxnm2_"
      },
      "execution_count": null,
      "outputs": []
    },
    {
      "cell_type": "code",
      "source": [
        "a+b"
      ],
      "metadata": {
        "colab": {
          "base_uri": "https://localhost:8080/",
          "height": 166
        },
        "id": "PL7ScMjjnpsE",
        "outputId": "22422f7d-2fd2-45a4-bdd2-eea5bbe3d5d3"
      },
      "execution_count": null,
      "outputs": [
        {
          "output_type": "error",
          "ename": "TypeError",
          "evalue": "ignored",
          "traceback": [
            "\u001b[0;31m---------------------------------------------------------------------------\u001b[0m",
            "\u001b[0;31mTypeError\u001b[0m                                 Traceback (most recent call last)",
            "\u001b[0;32m<ipython-input-9-ca730b97bf8a>\u001b[0m in \u001b[0;36m<module>\u001b[0;34m\u001b[0m\n\u001b[0;32m----> 1\u001b[0;31m \u001b[0ma\u001b[0m\u001b[0;34m+\u001b[0m\u001b[0mb\u001b[0m\u001b[0;34m\u001b[0m\u001b[0;34m\u001b[0m\u001b[0m\n\u001b[0m",
            "\u001b[0;31mTypeError\u001b[0m: can only concatenate str (not \"int\") to str"
          ]
        }
      ]
    },
    {
      "cell_type": "code",
      "source": [
        "1/3+1/3+4/3"
      ],
      "metadata": {
        "colab": {
          "base_uri": "https://localhost:8080/"
        },
        "id": "XmGT_8PBnqKO",
        "outputId": "b7fcd379-4ce7-457e-ee64-47eb0fe6cb04"
      },
      "execution_count": null,
      "outputs": [
        {
          "output_type": "execute_result",
          "data": {
            "text/plain": [
              "2.0"
            ]
          },
          "metadata": {},
          "execution_count": 10
        }
      ]
    },
    {
      "cell_type": "code",
      "source": [
        "x=1e100"
      ],
      "metadata": {
        "id": "6quoZnl9o5ia"
      },
      "execution_count": null,
      "outputs": []
    },
    {
      "cell_type": "code",
      "source": [
        "9**87"
      ],
      "metadata": {
        "colab": {
          "base_uri": "https://localhost:8080/"
        },
        "id": "Lt_8YcRjpBIq",
        "outputId": "131f975d-041d-4a0f-83d3-03df9c1b778f"
      },
      "execution_count": null,
      "outputs": [
        {
          "output_type": "execute_result",
          "data": {
            "text/plain": [
              "104495676331778315966103878903450701989608781073244439950619431748912396904023371769"
            ]
          },
          "metadata": {},
          "execution_count": 14
        }
      ]
    },
    {
      "cell_type": "code",
      "source": [
        "x + 104495676331778315966103878903450701989608781073244439950619431748912396904023371769 - x - 2"
      ],
      "metadata": {
        "colab": {
          "base_uri": "https://localhost:8080/"
        },
        "id": "-LBLTLgMpEIx",
        "outputId": "7ab57fa5-bf92-4fdb-ab2e-cec53c70c3b6"
      },
      "execution_count": null,
      "outputs": [
        {
          "output_type": "execute_result",
          "data": {
            "text/plain": [
              "-2.0"
            ]
          },
          "metadata": {},
          "execution_count": 15
        }
      ]
    },
    {
      "cell_type": "code",
      "source": [
        "x + 104495676331778315966103878903450701989608781073244439950619431748912396904023371769  - 2- x"
      ],
      "metadata": {
        "colab": {
          "base_uri": "https://localhost:8080/"
        },
        "id": "V3MHYe3hpMuW",
        "outputId": "8549d976-72f3-4cd7-f22a-ff5ef802b687"
      },
      "execution_count": null,
      "outputs": [
        {
          "output_type": "execute_result",
          "data": {
            "text/plain": [
              "0.0"
            ]
          },
          "metadata": {},
          "execution_count": 16
        }
      ]
    },
    {
      "cell_type": "code",
      "source": [
        "x - x + 104495676331778315966103878903450701989608781073244439950619431748912396904023371769  - 2"
      ],
      "metadata": {
        "colab": {
          "base_uri": "https://localhost:8080/"
        },
        "id": "iPXvKzwxpYzM",
        "outputId": "13d701bc-cb84-416e-afb0-5b23d5436d79"
      },
      "execution_count": null,
      "outputs": [
        {
          "output_type": "execute_result",
          "data": {
            "text/plain": [
              "1.0449567633177832e+83"
            ]
          },
          "metadata": {},
          "execution_count": 17
        }
      ]
    },
    {
      "cell_type": "code",
      "source": [
        "print('Hi')"
      ],
      "metadata": {
        "colab": {
          "base_uri": "https://localhost:8080/"
        },
        "id": "1GKxyI4Bpda0",
        "outputId": "d2d60c8c-63d9-4e79-bc05-b069200e1145"
      },
      "execution_count": null,
      "outputs": [
        {
          "output_type": "stream",
          "name": "stdout",
          "text": [
            "Hi\n"
          ]
        }
      ]
    },
    {
      "cell_type": "code",
      "source": [
        "print=5"
      ],
      "metadata": {
        "id": "K7tIHGS0qQyF"
      },
      "execution_count": null,
      "outputs": []
    },
    {
      "cell_type": "code",
      "source": [
        "print('Hi')"
      ],
      "metadata": {
        "colab": {
          "base_uri": "https://localhost:8080/",
          "height": 166
        },
        "id": "OX-xd4ilqR2V",
        "outputId": "75b4e0df-5e2e-40e0-d427-229b204ed4d0"
      },
      "execution_count": null,
      "outputs": [
        {
          "output_type": "error",
          "ename": "TypeError",
          "evalue": "ignored",
          "traceback": [
            "\u001b[0;31m---------------------------------------------------------------------------\u001b[0m",
            "\u001b[0;31mTypeError\u001b[0m                                 Traceback (most recent call last)",
            "\u001b[0;32m<ipython-input-20-cad9f7bbaedb>\u001b[0m in \u001b[0;36m<module>\u001b[0;34m\u001b[0m\n\u001b[0;32m----> 1\u001b[0;31m \u001b[0mprint\u001b[0m\u001b[0;34m(\u001b[0m\u001b[0;34m'Hi'\u001b[0m\u001b[0;34m)\u001b[0m\u001b[0;34m\u001b[0m\u001b[0;34m\u001b[0m\u001b[0m\n\u001b[0m",
            "\u001b[0;31mTypeError\u001b[0m: 'int' object is not callable"
          ]
        }
      ]
    },
    {
      "cell_type": "code",
      "source": [
        "del print"
      ],
      "metadata": {
        "id": "UcNheXwSqS0U"
      },
      "execution_count": null,
      "outputs": []
    },
    {
      "cell_type": "code",
      "source": [
        "print('Hi')"
      ],
      "metadata": {
        "colab": {
          "base_uri": "https://localhost:8080/"
        },
        "id": "ZxWWhqEIqTt8",
        "outputId": "63395bd1-d294-4fb1-9417-f8ac443ecd5e"
      },
      "execution_count": null,
      "outputs": [
        {
          "output_type": "stream",
          "name": "stdout",
          "text": [
            "Hi\n"
          ]
        }
      ]
    },
    {
      "cell_type": "code",
      "source": [
        "print(sum)"
      ],
      "metadata": {
        "colab": {
          "base_uri": "https://localhost:8080/"
        },
        "id": "ok4-luhwqUsU",
        "outputId": "1618e75e-1035-4705-ed3e-02105a3a49a3"
      },
      "execution_count": null,
      "outputs": [
        {
          "output_type": "stream",
          "name": "stdout",
          "text": [
            "<built-in function sum>\n"
          ]
        }
      ]
    },
    {
      "cell_type": "code",
      "source": [
        "print(print)"
      ],
      "metadata": {
        "colab": {
          "base_uri": "https://localhost:8080/"
        },
        "id": "EtEyp3BCqawv",
        "outputId": "c04f52df-46ef-4992-f199-04fab7a98517"
      },
      "execution_count": null,
      "outputs": [
        {
          "output_type": "stream",
          "name": "stdout",
          "text": [
            "<built-in function print>\n"
          ]
        }
      ]
    },
    {
      "cell_type": "code",
      "source": [
        "input()"
      ],
      "metadata": {
        "id": "lcGrisx8qf2d",
        "colab": {
          "base_uri": "https://localhost:8080/",
          "height": 53
        },
        "outputId": "5b9b11b7-588a-43e8-c5f1-fb4dd31cf1d9"
      },
      "execution_count": null,
      "outputs": [
        {
          "name": "stdout",
          "output_type": "stream",
          "text": [
            "zxpom[oi\n"
          ]
        },
        {
          "output_type": "execute_result",
          "data": {
            "text/plain": [
              "'zxpom[oi'"
            ],
            "application/vnd.google.colaboratory.intrinsic+json": {
              "type": "string"
            }
          },
          "metadata": {},
          "execution_count": 1
        }
      ]
    },
    {
      "cell_type": "code",
      "source": [
        "input('Say something')"
      ],
      "metadata": {
        "colab": {
          "base_uri": "https://localhost:8080/",
          "height": 53
        },
        "id": "nSBRt5CNmSTI",
        "outputId": "5b42ecc7-282c-491f-aae4-926f58f0618b"
      },
      "execution_count": null,
      "outputs": [
        {
          "name": "stdout",
          "output_type": "stream",
          "text": [
            "Say somethingouyb\n"
          ]
        },
        {
          "output_type": "execute_result",
          "data": {
            "text/plain": [
              "'ouyb'"
            ],
            "application/vnd.google.colaboratory.intrinsic+json": {
              "type": "string"
            }
          },
          "metadata": {},
          "execution_count": 2
        }
      ]
    },
    {
      "cell_type": "code",
      "source": [
        "x=input('Store something: ')"
      ],
      "metadata": {
        "colab": {
          "base_uri": "https://localhost:8080/"
        },
        "id": "UMbMT9wTmccO",
        "outputId": "1d2f0ad6-bb55-456d-8f8e-3e5f89c03dd8"
      },
      "execution_count": null,
      "outputs": [
        {
          "name": "stdout",
          "output_type": "stream",
          "text": [
            "Store something: h\n"
          ]
        }
      ]
    },
    {
      "cell_type": "code",
      "source": [
        "x"
      ],
      "metadata": {
        "colab": {
          "base_uri": "https://localhost:8080/",
          "height": 35
        },
        "id": "St_UEZYNmpme",
        "outputId": "e8e24669-aa8f-41bc-88e1-4bddefff4201"
      },
      "execution_count": null,
      "outputs": [
        {
          "output_type": "execute_result",
          "data": {
            "text/plain": [
              "'h'"
            ],
            "application/vnd.google.colaboratory.intrinsic+json": {
              "type": "string"
            }
          },
          "metadata": {},
          "execution_count": 4
        }
      ]
    },
    {
      "cell_type": "code",
      "source": [
        "i=input('Enter an integer: ')"
      ],
      "metadata": {
        "colab": {
          "base_uri": "https://localhost:8080/"
        },
        "id": "87loGTYZmrIR",
        "outputId": "560c9c43-7af6-4dd4-d532-7a6f465dce69"
      },
      "execution_count": null,
      "outputs": [
        {
          "name": "stdout",
          "output_type": "stream",
          "text": [
            "Enter an integer: 9\n"
          ]
        }
      ]
    },
    {
      "cell_type": "code",
      "source": [
        "i"
      ],
      "metadata": {
        "colab": {
          "base_uri": "https://localhost:8080/",
          "height": 35
        },
        "id": "COY6s-8Qmx43",
        "outputId": "242e63f2-67f9-473a-8da8-842187d5a106"
      },
      "execution_count": null,
      "outputs": [
        {
          "output_type": "execute_result",
          "data": {
            "text/plain": [
              "'9'"
            ],
            "application/vnd.google.colaboratory.intrinsic+json": {
              "type": "string"
            }
          },
          "metadata": {},
          "execution_count": 7
        }
      ]
    },
    {
      "cell_type": "code",
      "source": [
        "int(i)"
      ],
      "metadata": {
        "colab": {
          "base_uri": "https://localhost:8080/"
        },
        "id": "0X6aqjXonBIf",
        "outputId": "fc6e78be-1eb7-42b7-8cb1-7aed9661b9d1"
      },
      "execution_count": null,
      "outputs": [
        {
          "output_type": "execute_result",
          "data": {
            "text/plain": [
              "9"
            ]
          },
          "metadata": {},
          "execution_count": 8
        }
      ]
    },
    {
      "cell_type": "code",
      "source": [
        "i * i"
      ],
      "metadata": {
        "colab": {
          "base_uri": "https://localhost:8080/",
          "height": 165
        },
        "id": "wSceTuiinJWH",
        "outputId": "436250c1-53da-4c12-9825-e090795083bd"
      },
      "execution_count": null,
      "outputs": [
        {
          "output_type": "error",
          "ename": "TypeError",
          "evalue": "ignored",
          "traceback": [
            "\u001b[0;31m---------------------------------------------------------------------------\u001b[0m",
            "\u001b[0;31mTypeError\u001b[0m                                 Traceback (most recent call last)",
            "\u001b[0;32m<ipython-input-9-c52addde7557>\u001b[0m in \u001b[0;36m<module>\u001b[0;34m\u001b[0m\n\u001b[0;32m----> 1\u001b[0;31m \u001b[0mi\u001b[0m \u001b[0;34m*\u001b[0m \u001b[0mi\u001b[0m\u001b[0;34m\u001b[0m\u001b[0;34m\u001b[0m\u001b[0m\n\u001b[0m",
            "\u001b[0;31mTypeError\u001b[0m: can't multiply sequence by non-int of type 'str'"
          ]
        }
      ]
    },
    {
      "cell_type": "code",
      "source": [
        "i * int(i)"
      ],
      "metadata": {
        "colab": {
          "base_uri": "https://localhost:8080/",
          "height": 35
        },
        "id": "BjcsYXlcnO0g",
        "outputId": "0c649d78-f51a-4ef0-9db4-62f9cc4614c8"
      },
      "execution_count": null,
      "outputs": [
        {
          "output_type": "execute_result",
          "data": {
            "text/plain": [
              "'999999999'"
            ],
            "application/vnd.google.colaboratory.intrinsic+json": {
              "type": "string"
            }
          },
          "metadata": {},
          "execution_count": 10
        }
      ]
    },
    {
      "cell_type": "code",
      "source": [
        "w=int(input('Enter Integer: '))"
      ],
      "metadata": {
        "colab": {
          "base_uri": "https://localhost:8080/"
        },
        "id": "lo135jX5nRmw",
        "outputId": "4d210da9-3fc7-4baa-9d85-46f65e50827f"
      },
      "execution_count": null,
      "outputs": [
        {
          "name": "stdout",
          "output_type": "stream",
          "text": [
            "Enter Integer: 79\n"
          ]
        }
      ]
    },
    {
      "cell_type": "code",
      "source": [
        "w"
      ],
      "metadata": {
        "colab": {
          "base_uri": "https://localhost:8080/"
        },
        "id": "9SVZq09wna_2",
        "outputId": "b5e08346-7c81-4213-f854-46579f5bef60"
      },
      "execution_count": null,
      "outputs": [
        {
          "output_type": "execute_result",
          "data": {
            "text/plain": [
              "79"
            ]
          },
          "metadata": {},
          "execution_count": 13
        }
      ]
    },
    {
      "cell_type": "code",
      "source": [
        "#Enter baggage weight and warn if exceeding allowance of 15kg"
      ],
      "metadata": {
        "id": "h21gDH0xngOA"
      },
      "execution_count": null,
      "outputs": []
    },
    {
      "cell_type": "code",
      "source": [
        "int('15kg')"
      ],
      "metadata": {
        "colab": {
          "base_uri": "https://localhost:8080/",
          "height": 165
        },
        "id": "ZYx90BHlqDuS",
        "outputId": "8e23641f-9aa7-471f-fa10-0916bbaaa356"
      },
      "execution_count": null,
      "outputs": [
        {
          "output_type": "error",
          "ename": "ValueError",
          "evalue": "ignored",
          "traceback": [
            "\u001b[0;31m---------------------------------------------------------------------------\u001b[0m",
            "\u001b[0;31mValueError\u001b[0m                                Traceback (most recent call last)",
            "\u001b[0;32m<ipython-input-15-41e485950f2b>\u001b[0m in \u001b[0;36m<module>\u001b[0;34m\u001b[0m\n\u001b[0;32m----> 1\u001b[0;31m \u001b[0mint\u001b[0m\u001b[0;34m(\u001b[0m\u001b[0;34m'15kg'\u001b[0m\u001b[0;34m)\u001b[0m\u001b[0;34m\u001b[0m\u001b[0;34m\u001b[0m\u001b[0m\n\u001b[0m",
            "\u001b[0;31mValueError\u001b[0m: invalid literal for int() with base 10: '15kg'"
          ]
        }
      ]
    },
    {
      "cell_type": "code",
      "source": [
        "w=int(input(\"Enter weight: \"))\n",
        "if w>15:\n",
        "  print(\"Allowance exceeded!\")"
      ],
      "metadata": {
        "colab": {
          "base_uri": "https://localhost:8080/"
        },
        "id": "gwTZI2WhqF1G",
        "outputId": "ba8d0c84-2724-45ea-d700-5b69c4d99b9a"
      },
      "execution_count": null,
      "outputs": [
        {
          "output_type": "stream",
          "name": "stdout",
          "text": [
            "Enter weight: 22\n",
            "Allowance exceeded!\n"
          ]
        }
      ]
    },
    {
      "cell_type": "code",
      "source": [
        "#Enter baggage weight and warn while exceeding allowance of 15kg\n",
        "#and ask the user how much they have taken out, subtracting this from weight"
      ],
      "metadata": {
        "id": "1Td6Zv4-wa1w"
      },
      "execution_count": null,
      "outputs": []
    },
    {
      "cell_type": "code",
      "source": [],
      "metadata": {
        "id": "dVWJ2p7-zHET"
      },
      "execution_count": null,
      "outputs": []
    },
    {
      "cell_type": "code",
      "source": [],
      "metadata": {
        "id": "VksR6SO0zIF1"
      },
      "execution_count": null,
      "outputs": []
    },
    {
      "cell_type": "code",
      "source": [],
      "metadata": {
        "id": "h8SU4wcfzIIt"
      },
      "execution_count": null,
      "outputs": []
    },
    {
      "cell_type": "code",
      "source": [],
      "metadata": {
        "id": "ddxlJN_bzILh"
      },
      "execution_count": null,
      "outputs": []
    },
    {
      "cell_type": "code",
      "source": [
        "for i in range(5): \n",
        "  print('Hi')"
      ],
      "metadata": {
        "colab": {
          "base_uri": "https://localhost:8080/"
        },
        "id": "5MyFoI8C2-dJ",
        "outputId": "6c227a65-e2d0-42ea-ecfb-9306aae4d327"
      },
      "execution_count": null,
      "outputs": [
        {
          "output_type": "stream",
          "name": "stdout",
          "text": [
            "Hi\n",
            "Hi\n",
            "Hi\n",
            "Hi\n",
            "Hi\n"
          ]
        }
      ]
    },
    {
      "cell_type": "code",
      "source": [
        "for i in range (5):\n",
        "  print(i,'Hi'*i)"
      ],
      "metadata": {
        "colab": {
          "base_uri": "https://localhost:8080/"
        },
        "id": "C_cQMuFG3Bvz",
        "outputId": "857cbec2-98e9-4010-8426-2eb6967274de"
      },
      "execution_count": null,
      "outputs": [
        {
          "output_type": "stream",
          "name": "stdout",
          "text": [
            "4 HiHiHiHi\n"
          ]
        }
      ]
    },
    {
      "cell_type": "code",
      "source": [
        "for i in range (5):\n",
        "  print(i,'Hi'*i)"
      ],
      "metadata": {
        "colab": {
          "base_uri": "https://localhost:8080/"
        },
        "id": "lpnR78yp3UIc",
        "outputId": "60efc10b-3ca4-4325-ec91-782b319a49e2"
      },
      "execution_count": null,
      "outputs": [
        {
          "output_type": "stream",
          "name": "stdout",
          "text": [
            "0 \n",
            "1 Hi\n",
            "2 HiHi\n",
            "3 HiHiHi\n",
            "4 HiHiHiHi\n"
          ]
        }
      ]
    },
    {
      "cell_type": "code",
      "source": [
        "#https://projecteuler.net/problem=1"
      ],
      "metadata": {
        "id": "FkEPm2GD3VPJ"
      },
      "execution_count": null,
      "outputs": []
    },
    {
      "cell_type": "code",
      "source": [
        "#If we list all the natural numbers below 10 that are multiples of 3 or 5, we get 3, 5, 6 and 9. The sum of these multiples is 23.\n",
        "\n",
        "#Find the sum of all the multiples of 3 or 5 below 1000."
      ],
      "metadata": {
        "id": "LqLE3mzi35pr"
      },
      "execution_count": null,
      "outputs": []
    },
    {
      "cell_type": "code",
      "source": [
        "6%3"
      ],
      "metadata": {
        "colab": {
          "base_uri": "https://localhost:8080/"
        },
        "id": "hQNbCXe44CfC",
        "outputId": "dcc651b4-1855-4441-b5a9-08e8ef4d6c33"
      },
      "execution_count": null,
      "outputs": [
        {
          "output_type": "execute_result",
          "data": {
            "text/plain": [
              "0"
            ]
          },
          "metadata": {},
          "execution_count": 23
        }
      ]
    },
    {
      "cell_type": "code",
      "source": [
        "T=True\n",
        "F=False"
      ],
      "metadata": {
        "id": "E-lozk2o4EWz"
      },
      "execution_count": null,
      "outputs": []
    },
    {
      "cell_type": "code",
      "source": [
        "T and T"
      ],
      "metadata": {
        "colab": {
          "base_uri": "https://localhost:8080/"
        },
        "id": "oUv0JD824MQa",
        "outputId": "51bb9a7d-b147-4acb-9b44-8c094eb9611b"
      },
      "execution_count": null,
      "outputs": [
        {
          "output_type": "execute_result",
          "data": {
            "text/plain": [
              "True"
            ]
          },
          "metadata": {},
          "execution_count": 25
        }
      ]
    },
    {
      "cell_type": "code",
      "source": [
        "T and F"
      ],
      "metadata": {
        "colab": {
          "base_uri": "https://localhost:8080/"
        },
        "id": "BY9nVtgL4OTi",
        "outputId": "def0b79e-8fa9-4b2e-ad0e-7aa81184b18e"
      },
      "execution_count": null,
      "outputs": [
        {
          "output_type": "execute_result",
          "data": {
            "text/plain": [
              "False"
            ]
          },
          "metadata": {},
          "execution_count": 26
        }
      ]
    },
    {
      "cell_type": "code",
      "source": [
        "F and T"
      ],
      "metadata": {
        "colab": {
          "base_uri": "https://localhost:8080/"
        },
        "id": "wdSI7SvF4PtL",
        "outputId": "41f48b69-a697-443e-a2c5-250a13c07b58"
      },
      "execution_count": null,
      "outputs": [
        {
          "output_type": "execute_result",
          "data": {
            "text/plain": [
              "False"
            ]
          },
          "metadata": {},
          "execution_count": 27
        }
      ]
    },
    {
      "cell_type": "code",
      "source": [
        "F and F"
      ],
      "metadata": {
        "colab": {
          "base_uri": "https://localhost:8080/"
        },
        "id": "jkqXo7z44Q8q",
        "outputId": "80a65d7c-973a-457a-a793-d9c8d0d80959"
      },
      "execution_count": null,
      "outputs": [
        {
          "output_type": "execute_result",
          "data": {
            "text/plain": [
              "False"
            ]
          },
          "metadata": {},
          "execution_count": 28
        }
      ]
    },
    {
      "cell_type": "code",
      "source": [
        "F or T"
      ],
      "metadata": {
        "colab": {
          "base_uri": "https://localhost:8080/"
        },
        "id": "kAm-tIhn4SFr",
        "outputId": "f40df56a-dd20-46c1-f2f9-ab6db91b911d"
      },
      "execution_count": null,
      "outputs": [
        {
          "output_type": "execute_result",
          "data": {
            "text/plain": [
              "True"
            ]
          },
          "metadata": {},
          "execution_count": 29
        }
      ]
    },
    {
      "cell_type": "code",
      "source": [
        "T or F"
      ],
      "metadata": {
        "colab": {
          "base_uri": "https://localhost:8080/"
        },
        "id": "oZ_K3yQV4Wcs",
        "outputId": "f6591868-ebb4-44e0-e792-9845578e8e0d"
      },
      "execution_count": null,
      "outputs": [
        {
          "output_type": "execute_result",
          "data": {
            "text/plain": [
              "True"
            ]
          },
          "metadata": {},
          "execution_count": 30
        }
      ]
    },
    {
      "cell_type": "code",
      "source": [
        "T or T"
      ],
      "metadata": {
        "colab": {
          "base_uri": "https://localhost:8080/"
        },
        "id": "Z8xOyAzF4Ye0",
        "outputId": "0c94fb5c-a69e-40b4-b67c-aa7869695ca8"
      },
      "execution_count": null,
      "outputs": [
        {
          "output_type": "execute_result",
          "data": {
            "text/plain": [
              "True"
            ]
          },
          "metadata": {},
          "execution_count": 31
        }
      ]
    },
    {
      "cell_type": "code",
      "source": [
        "F or F"
      ],
      "metadata": {
        "id": "nPtJC9FU4bw6",
        "outputId": "0ee34b92-f259-401d-e434-ba58e5bb6dc3",
        "colab": {
          "base_uri": "https://localhost:8080/"
        }
      },
      "execution_count": null,
      "outputs": [
        {
          "output_type": "execute_result",
          "data": {
            "text/plain": [
              "False"
            ]
          },
          "metadata": {},
          "execution_count": 32
        }
      ]
    },
    {
      "cell_type": "code",
      "source": [
        "def avg(n1,n2):\n",
        "  return(n1+n2)/2"
      ],
      "metadata": {
        "id": "j5sWneJl4ffE"
      },
      "execution_count": null,
      "outputs": []
    },
    {
      "cell_type": "code",
      "source": [
        "avg(10,4)"
      ],
      "metadata": {
        "colab": {
          "base_uri": "https://localhost:8080/"
        },
        "id": "j8NXQUaVcfF6",
        "outputId": "6c484b64-7191-4a98-fb8c-bd7a63f39d4f"
      },
      "execution_count": null,
      "outputs": [
        {
          "output_type": "execute_result",
          "data": {
            "text/plain": [
              "7.0"
            ]
          },
          "metadata": {},
          "execution_count": 2
        }
      ]
    },
    {
      "cell_type": "code",
      "source": [
        "avg(9,avg(10,4))"
      ],
      "metadata": {
        "colab": {
          "base_uri": "https://localhost:8080/"
        },
        "id": "JHcwYNlRcg2V",
        "outputId": "d4e90cdf-e424-4f7f-b0cf-2ac79cdb76a7"
      },
      "execution_count": null,
      "outputs": [
        {
          "output_type": "execute_result",
          "data": {
            "text/plain": [
              "8.0"
            ]
          },
          "metadata": {},
          "execution_count": 3
        }
      ]
    },
    {
      "cell_type": "code",
      "source": [
        "#Ex. 3.1\n",
        "#Function to sum first n numbers"
      ],
      "metadata": {
        "id": "IndjWe0Yckjq"
      },
      "execution_count": null,
      "outputs": []
    },
    {
      "cell_type": "code",
      "source": [
        "#Ex. 3.2 #f32\n",
        "#If we list all the natural numbers below 10 that are multiples of 3 or 5, \n",
        "#we get 3, 5, 6 and 9. The sum of these multiples is 23.\n",
        "#Create a function to find the sum of all the multiples of a or b below n.\n",
        "# (a,b,n) are function parameters"
      ],
      "metadata": {
        "id": "hI8NRW0VdlzQ"
      },
      "execution_count": null,
      "outputs": []
    },
    {
      "cell_type": "code",
      "source": [
        "def doIt(x):\n",
        "  y=7-x\n",
        "  x=1\n",
        "  print(\"x:\",x,\"; Y:\",y)\n",
        "\n",
        "x=3\n",
        "y=4\n",
        "print(\"x:\",x,\"; Y:\",y)\n",
        "#doIt(y)\n",
        "#print(\"x:\",x,\"; Y:\",y)"
      ],
      "metadata": {
        "colab": {
          "base_uri": "https://localhost:8080/"
        },
        "id": "zBG29yGxdr0Y",
        "outputId": "ec6101ee-6c7a-4dc6-df6c-04e442e05800"
      },
      "execution_count": null,
      "outputs": [
        {
          "output_type": "stream",
          "name": "stdout",
          "text": [
            "x: 3 ; Y: 4\n"
          ]
        }
      ]
    },
    {
      "cell_type": "code",
      "source": [
        "def doIt(x):\n",
        "  y=7-x\n",
        "  x=1\n",
        "  print(\"x:\",x,\"; Y:\",y)\n",
        "\n",
        "x=3\n",
        "y=4\n",
        "print(\"x:\",x,\"; Y:\",y)\n",
        "doIt(y)\n",
        "#print(\"x:\",x,\"; Y:\",y)"
      ],
      "metadata": {
        "colab": {
          "base_uri": "https://localhost:8080/"
        },
        "id": "GOiTH8BSeS4f",
        "outputId": "9166a8af-82c8-4dcf-a9c3-2103b603ccd1"
      },
      "execution_count": null,
      "outputs": [
        {
          "output_type": "stream",
          "name": "stdout",
          "text": [
            "x: 3 ; Y: 4\n",
            "x: 1 ; Y: 3\n"
          ]
        }
      ]
    },
    {
      "cell_type": "code",
      "source": [
        "def doIt(x):\n",
        "  y=7-x\n",
        "  x=1\n",
        "  print(\"x:\",x,\"; Y:\",y)\n",
        "\n",
        "x=3\n",
        "y=4\n",
        "print(\"x:\",x,\"; Y:\",y)\n",
        "doIt(y)\n",
        "print(\"x:\",x,\"; Y:\",y)"
      ],
      "metadata": {
        "colab": {
          "base_uri": "https://localhost:8080/"
        },
        "id": "UQnf408keb7t",
        "outputId": "51157c47-156b-4b5d-c61a-fe796829c211"
      },
      "execution_count": null,
      "outputs": [
        {
          "output_type": "stream",
          "name": "stdout",
          "text": [
            "x: 3 ; Y: 4\n",
            "x: 1 ; Y: 3\n",
            "x: 3 ; Y: 4\n"
          ]
        }
      ]
    },
    {
      "cell_type": "code",
      "source": [],
      "metadata": {
        "id": "NfPraG_SeuAB"
      },
      "execution_count": null,
      "outputs": []
    },
    {
      "cell_type": "code",
      "source": [
        "#Ex 3.3\n",
        "#Create a function to find the sum of all the multiples of a or b in list l.\n",
        "# (a,b,l) are function parameters"
      ],
      "metadata": {
        "id": "gDWN2jBrNFbd"
      },
      "execution_count": null,
      "outputs": []
    },
    {
      "cell_type": "code",
      "source": [
        "#Ex 3.4\n",
        "#Create a function to find the sum of all \n",
        "#the multiples of factors in list a  contained in list l.\n",
        "# (a,l) are function parameters and len(a) == 2"
      ],
      "metadata": {
        "id": "vKQ-fHp0Oy_S"
      },
      "execution_count": null,
      "outputs": []
    },
    {
      "cell_type": "code",
      "source": [
        "#Ex 3.5\n",
        "#Create a function to find the sum of all \n",
        "#the multiples of factors in list a contained in list l.\n",
        "# (a,l) are function parameters\n",
        "#f([2,3,5,7],list(range(1000)))385788\n",
        "#f([2,3,5,7,11],list(range(1000))) 396205"
      ],
      "metadata": {
        "id": "QC8NPWjlPDki"
      },
      "execution_count": null,
      "outputs": []
    },
    {
      "cell_type": "code",
      "source": [
        "#f([2,3,5,7,11],list(range(1000)))"
      ],
      "metadata": {
        "id": "i54MDrKKnJZ6"
      },
      "execution_count": null,
      "outputs": []
    },
    {
      "cell_type": "code",
      "source": [
        "f=open('cities','w')\n",
        "for c in ['Dublin','Mumbai','Washington']:\n",
        "  f.write(c+'\\n')"
      ],
      "metadata": {
        "id": "hpg5TlzttEvA"
      },
      "execution_count": null,
      "outputs": []
    },
    {
      "cell_type": "code",
      "source": [
        "f=open('cities')"
      ],
      "metadata": {
        "id": "5ZY5fmgEtRNM"
      },
      "execution_count": null,
      "outputs": []
    },
    {
      "cell_type": "code",
      "source": [
        "f.read(1)"
      ],
      "metadata": {
        "colab": {
          "base_uri": "https://localhost:8080/",
          "height": 35
        },
        "id": "r9gSfdbEtUJW",
        "outputId": "aa16c350-110d-4e03-cce1-1506d11c556e"
      },
      "execution_count": null,
      "outputs": [
        {
          "output_type": "execute_result",
          "data": {
            "text/plain": [
              "'D'"
            ],
            "application/vnd.google.colaboratory.intrinsic+json": {
              "type": "string"
            }
          },
          "metadata": {},
          "execution_count": 5
        }
      ]
    },
    {
      "cell_type": "code",
      "source": [
        "f.read(2)"
      ],
      "metadata": {
        "colab": {
          "base_uri": "https://localhost:8080/",
          "height": 35
        },
        "id": "q6CjWsXVtXOB",
        "outputId": "0d5313f4-d818-4d58-b3f4-9e8a7ae31dc4"
      },
      "execution_count": null,
      "outputs": [
        {
          "output_type": "execute_result",
          "data": {
            "text/plain": [
              "'ub'"
            ],
            "application/vnd.google.colaboratory.intrinsic+json": {
              "type": "string"
            }
          },
          "metadata": {},
          "execution_count": 6
        }
      ]
    },
    {
      "cell_type": "code",
      "source": [
        "f.readline()"
      ],
      "metadata": {
        "colab": {
          "base_uri": "https://localhost:8080/",
          "height": 35
        },
        "id": "R8LlI0Fktbsh",
        "outputId": "c0561965-8e1f-4e34-b94c-d9a553ced550"
      },
      "execution_count": null,
      "outputs": [
        {
          "output_type": "execute_result",
          "data": {
            "text/plain": [
              "'lin\\n'"
            ],
            "application/vnd.google.colaboratory.intrinsic+json": {
              "type": "string"
            }
          },
          "metadata": {},
          "execution_count": 7
        }
      ]
    },
    {
      "cell_type": "code",
      "source": [
        "f.read()"
      ],
      "metadata": {
        "colab": {
          "base_uri": "https://localhost:8080/",
          "height": 35
        },
        "id": "BpfyZPv7tooN",
        "outputId": "cbc31f09-c2b3-4f59-f246-42b83c8ef4d9"
      },
      "execution_count": null,
      "outputs": [
        {
          "output_type": "execute_result",
          "data": {
            "text/plain": [
              "'Mumbai\\nWashington\\n'"
            ],
            "application/vnd.google.colaboratory.intrinsic+json": {
              "type": "string"
            }
          },
          "metadata": {},
          "execution_count": 8
        }
      ]
    },
    {
      "cell_type": "code",
      "source": [
        "f.close()"
      ],
      "metadata": {
        "id": "kUU-o1s1tvJ6"
      },
      "execution_count": null,
      "outputs": []
    },
    {
      "cell_type": "code",
      "source": [
        "f=open('cities')"
      ],
      "metadata": {
        "id": "K89k878Wtyeh"
      },
      "execution_count": null,
      "outputs": []
    },
    {
      "cell_type": "code",
      "source": [
        "print(f.read())"
      ],
      "metadata": {
        "colab": {
          "base_uri": "https://localhost:8080/"
        },
        "id": "3Vpzb709tz-4",
        "outputId": "c3bd1815-f23b-467c-e2d2-1994387c6203"
      },
      "execution_count": null,
      "outputs": [
        {
          "output_type": "stream",
          "name": "stdout",
          "text": [
            "Dublin\n",
            "Mumbai\n",
            "Washington\n",
            "\n"
          ]
        }
      ]
    },
    {
      "cell_type": "code",
      "source": [
        "f.seek(0)\n",
        "for line in f:\n",
        "  print(line)"
      ],
      "metadata": {
        "colab": {
          "base_uri": "https://localhost:8080/"
        },
        "id": "gVyVBednt1aH",
        "outputId": "1e86c13d-5ff4-4a2c-c538-ff76862ca15b"
      },
      "execution_count": null,
      "outputs": [
        {
          "output_type": "stream",
          "name": "stdout",
          "text": [
            "Dublin\n",
            "\n",
            "Mumbai\n",
            "\n",
            "Washington\n",
            "\n"
          ]
        }
      ]
    },
    {
      "cell_type": "code",
      "source": [
        "#Ex 4.1\n",
        "#Create a function to find the sum of all \n",
        "#the multiples of factors in file with filename a \n",
        "#contained in list file with filename b, each one number per line.\n",
        "# (a,b) are function parameters\n",
        "\n",
        "#Ex 4.2\n",
        "#Be efficient\n",
        "\n",
        "#Ex 4.3\n",
        "#Keep your code DRY (No repetition of previous code)\n",
        "\n",
        "\n"
      ],
      "metadata": {
        "id": "QBcgNbUQt9h6"
      },
      "execution_count": null,
      "outputs": []
    },
    {
      "cell_type": "code",
      "source": [
        "#SELECTION\n",
        "#ITERATION\n",
        "#FUNCTIONS\n",
        "#LISTS\n",
        "#FILES"
      ],
      "metadata": {
        "id": "ELGJ4dzq0hr2"
      },
      "execution_count": null,
      "outputs": []
    },
    {
      "cell_type": "code",
      "source": [
        "a=2\n",
        "b=a\n",
        "a is b"
      ],
      "metadata": {
        "colab": {
          "base_uri": "https://localhost:8080/"
        },
        "id": "bubQFXz-7PTC",
        "outputId": "8764f76c-ead1-4a9e-c875-1d7fc29b037d"
      },
      "execution_count": null,
      "outputs": [
        {
          "output_type": "execute_result",
          "data": {
            "text/plain": [
              "True"
            ]
          },
          "metadata": {},
          "execution_count": 1
        }
      ]
    },
    {
      "cell_type": "code",
      "source": [
        "a='Hello'\n",
        "b=a\n",
        "print(id(a),id(b),(a is b))\n",
        "a+=' World'\n",
        "print(id(a),id(b),(a is b))\n"
      ],
      "metadata": {
        "colab": {
          "base_uri": "https://localhost:8080/"
        },
        "id": "Rp9KzI087Rs6",
        "outputId": "0e0458a0-3ba0-4102-a5dc-46238cfd0721"
      },
      "execution_count": null,
      "outputs": [
        {
          "output_type": "stream",
          "name": "stdout",
          "text": [
            "140268086985648 140268086985648 True\n",
            "140268087399984 140268086985648 False\n"
          ]
        }
      ]
    },
    {
      "cell_type": "code",
      "source": [
        "a=float('nan')\n",
        "b=a\n",
        "a is b"
      ],
      "metadata": {
        "colab": {
          "base_uri": "https://localhost:8080/"
        },
        "id": "ZBivdJqE7hE2",
        "outputId": "ee548b39-f3df-4722-ea3b-6a3002b1015d"
      },
      "execution_count": null,
      "outputs": [
        {
          "output_type": "execute_result",
          "data": {
            "text/plain": [
              "True"
            ]
          },
          "metadata": {},
          "execution_count": 3
        }
      ]
    },
    {
      "cell_type": "code",
      "source": [
        "a==b\n"
      ],
      "metadata": {
        "colab": {
          "base_uri": "https://localhost:8080/"
        },
        "id": "hge4qkzs7r3V",
        "outputId": "e68b9b50-b2db-4505-90ba-aa06ab6365a3"
      },
      "execution_count": null,
      "outputs": [
        {
          "output_type": "execute_result",
          "data": {
            "text/plain": [
              "False"
            ]
          },
          "metadata": {},
          "execution_count": 4
        }
      ]
    },
    {
      "cell_type": "code",
      "source": [
        "0<a"
      ],
      "metadata": {
        "colab": {
          "base_uri": "https://localhost:8080/"
        },
        "id": "k_kupMHc7v5N",
        "outputId": "f2fae36a-78e2-4ee6-9c92-3f3b5053332b"
      },
      "execution_count": null,
      "outputs": [
        {
          "output_type": "execute_result",
          "data": {
            "text/plain": [
              "False"
            ]
          },
          "metadata": {},
          "execution_count": 5
        }
      ]
    },
    {
      "cell_type": "code",
      "source": [
        "0>a"
      ],
      "metadata": {
        "colab": {
          "base_uri": "https://localhost:8080/"
        },
        "id": "X05iS87q8B4p",
        "outputId": "180c9f3e-6c07-455b-c8b8-18f02bec607f"
      },
      "execution_count": null,
      "outputs": [
        {
          "output_type": "execute_result",
          "data": {
            "text/plain": [
              "False"
            ]
          },
          "metadata": {},
          "execution_count": 6
        }
      ]
    },
    {
      "cell_type": "code",
      "source": [
        "0==a"
      ],
      "metadata": {
        "colab": {
          "base_uri": "https://localhost:8080/"
        },
        "id": "W_Z9oFAd8DF0",
        "outputId": "5b744aaa-196e-48de-cefb-3e41726a7565"
      },
      "execution_count": null,
      "outputs": [
        {
          "output_type": "execute_result",
          "data": {
            "text/plain": [
              "False"
            ]
          },
          "metadata": {},
          "execution_count": 7
        }
      ]
    },
    {
      "cell_type": "code",
      "source": [
        "a=4+5j"
      ],
      "metadata": {
        "id": "eVwS-MCy8EBS"
      },
      "execution_count": null,
      "outputs": []
    },
    {
      "cell_type": "code",
      "source": [
        "id(a)"
      ],
      "metadata": {
        "colab": {
          "base_uri": "https://localhost:8080/"
        },
        "id": "pFYFFBYP8Y9D",
        "outputId": "2d3741e2-5c50-4d65-e306-4129c9125bf6"
      },
      "execution_count": null,
      "outputs": [
        {
          "output_type": "execute_result",
          "data": {
            "text/plain": [
              "140268086984336"
            ]
          },
          "metadata": {},
          "execution_count": 9
        }
      ]
    },
    {
      "cell_type": "code",
      "source": [
        "a+=1"
      ],
      "metadata": {
        "id": "xGtbc4Z88aBF"
      },
      "execution_count": null,
      "outputs": []
    },
    {
      "cell_type": "code",
      "source": [
        "a"
      ],
      "metadata": {
        "colab": {
          "base_uri": "https://localhost:8080/"
        },
        "id": "5t857Bt58bgd",
        "outputId": "bfc19996-d81b-4142-ddcd-a67f5b06fcca"
      },
      "execution_count": null,
      "outputs": [
        {
          "output_type": "execute_result",
          "data": {
            "text/plain": [
              "(5+5j)"
            ]
          },
          "metadata": {},
          "execution_count": 11
        }
      ]
    },
    {
      "cell_type": "code",
      "source": [
        "id(a)"
      ],
      "metadata": {
        "colab": {
          "base_uri": "https://localhost:8080/"
        },
        "id": "geheSeY98b_T",
        "outputId": "6a292ccb-c608-42b0-daf8-a8b92363904f"
      },
      "execution_count": null,
      "outputs": [
        {
          "output_type": "execute_result",
          "data": {
            "text/plain": [
              "140268086983216"
            ]
          },
          "metadata": {},
          "execution_count": 12
        }
      ]
    },
    {
      "cell_type": "code",
      "source": [
        "name= 'Paul'\n",
        "height=1.946\n",
        "employer='DBS'\n",
        "s='My name is %s, I am %.2f metres tall and work in %s'\n",
        "print(s%(name,height,employer))"
      ],
      "metadata": {
        "colab": {
          "base_uri": "https://localhost:8080/"
        },
        "id": "K4k5pT5T8dOh",
        "outputId": "8da517b8-0cf6-4ec5-d683-94dbe5063d7e"
      },
      "execution_count": null,
      "outputs": [
        {
          "output_type": "stream",
          "name": "stdout",
          "text": [
            "My name is Paul, I am 1.95 metres tall and work in DBS\n"
          ]
        }
      ]
    },
    {
      "cell_type": "code",
      "source": [
        "s='My name is %s, I am %.1f metres tall and work in %s'\n",
        "print(s%(name,height,employer))"
      ],
      "metadata": {
        "colab": {
          "base_uri": "https://localhost:8080/"
        },
        "id": "gkLwc52B9q65",
        "outputId": "15275854-3c36-422f-adab-b6cdadd605e2"
      },
      "execution_count": null,
      "outputs": [
        {
          "output_type": "stream",
          "name": "stdout",
          "text": [
            "My name is Paul, I am 1.9 metres tall and work in DBS\n"
          ]
        }
      ]
    },
    {
      "cell_type": "code",
      "source": [
        "s='My name is %s, I am %.0f metres tall and work in %s'\n",
        "print(s%(name,height,employer))"
      ],
      "metadata": {
        "colab": {
          "base_uri": "https://localhost:8080/"
        },
        "id": "Xas2HnWr9yGt",
        "outputId": "93d8660c-c66f-4810-cb40-f0c4135a2135"
      },
      "execution_count": null,
      "outputs": [
        {
          "output_type": "stream",
          "name": "stdout",
          "text": [
            "My name is Paul, I am 2 metres tall and work in DBS\n"
          ]
        }
      ]
    },
    {
      "cell_type": "code",
      "source": [
        "s='My name is %s, I am %i metres tall and work in %s'\n",
        "print(s%(name,height,employer))"
      ],
      "metadata": {
        "colab": {
          "base_uri": "https://localhost:8080/"
        },
        "id": "EcnklLbI9028",
        "outputId": "b7e1ede0-74ba-4c2d-dac6-e234f9e98760"
      },
      "execution_count": null,
      "outputs": [
        {
          "output_type": "stream",
          "name": "stdout",
          "text": [
            "My name is Paul, I am 1 metres tall and work in DBS\n"
          ]
        }
      ]
    },
    {
      "cell_type": "code",
      "source": [
        "int(4/3+1/3+1/3)"
      ],
      "metadata": {
        "colab": {
          "base_uri": "https://localhost:8080/"
        },
        "id": "-a_Gga_5932T",
        "outputId": "b273eb0d-1e0f-46a6-f324-e172573368c1"
      },
      "execution_count": null,
      "outputs": [
        {
          "output_type": "execute_result",
          "data": {
            "text/plain": [
              "1"
            ]
          },
          "metadata": {},
          "execution_count": 17
        }
      ]
    },
    {
      "cell_type": "code",
      "source": [
        "s='My name is %s, I am %.64f metres tall and work in %s'\n",
        "print(s%(name,height,employer))"
      ],
      "metadata": {
        "colab": {
          "base_uri": "https://localhost:8080/"
        },
        "id": "drN_FkM2981L",
        "outputId": "1f76701f-93f6-44d3-800f-705758a42b48"
      },
      "execution_count": null,
      "outputs": [
        {
          "output_type": "stream",
          "name": "stdout",
          "text": [
            "My name is Paul, I am 1.9459999999999999520383653361932374536991119384765625000000000000 metres tall and work in DBS\n"
          ]
        }
      ]
    },
    {
      "cell_type": "code",
      "source": [
        "\n",
        "#Ex 5.1\n",
        "#Create a function which takes an input filename and an output filename, and writes the output as follows:\n",
        "\n",
        "#for input file with each line formatted as follows:\n",
        "#n a1 a2 ...\n",
        "#eg\n",
        "#1000 3 5\n",
        "\n",
        "#the output file should contain a line which is the same, prepended by the result of f35([a1,a2...],range(n))\n",
        "#eg\n",
        "#233168 1000 3 5\n",
        "\n",
        "#DRY\n",
        "def f51(ifn,ofn):\n",
        "  pass\n",
        "\n",
        "\n",
        "\n",
        "\n",
        "def runf51():\n",
        "  with open('input','w') as f:\n",
        "    f.write('''10 3 5\n",
        "1000 3 5\n",
        "1000 2 3 5''')\n",
        "  f51('input','output')    \n"
      ],
      "metadata": {
        "id": "EORBHm5L-Epz"
      },
      "execution_count": null,
      "outputs": []
    },
    {
      "cell_type": "code",
      "source": [
        "#Ex 6.1\n",
        "#Handle file not found errors in Ex 5.1 - write empty file.\n",
        "#write to a file <outputfilename>(1) if the file exists\n",
        "\n",
        "#Ex 6.2\n",
        "#Handle corrupt lines by ignoring them and prepending 'Corrupt' to the line in the output file\n",
        "#'10 3 5 2' -> '37 10 3 5 2'\n",
        "#'10 3 5 Hello' -> 'Corrupt 10 3 5 Hello'\n",
        "#'10 3 5' -> '23 10 3 5'\n",
        "\n",
        "#Ex 6.3\n",
        "#Handle corrupt values by ignoring them:\n",
        "#'10 3 5 Hello' -> '23 10 3 5 Hello'"
      ],
      "metadata": {
        "id": "g6asr0Poqj7H"
      },
      "execution_count": null,
      "outputs": []
    },
    {
      "cell_type": "code",
      "source": [
        "with open('/dev/stdin','w') as f:\n",
        "  f.write('Hello World!')"
      ],
      "metadata": {
        "id": "A140DGn-s4vk"
      },
      "execution_count": null,
      "outputs": []
    },
    {
      "cell_type": "code",
      "source": [
        "with open('/dev/stdin') as f:\n",
        "  print(f.read(100))"
      ],
      "metadata": {
        "colab": {
          "base_uri": "https://localhost:8080/"
        },
        "id": "qCpn9tB_tBL-",
        "outputId": "2d0c355a-7083-44b2-f54d-8c0cbf760acc"
      },
      "execution_count": null,
      "outputs": [
        {
          "output_type": "stream",
          "name": "stdout",
          "text": [
            "Hello World!\n"
          ]
        }
      ]
    },
    {
      "cell_type": "code",
      "source": [
        "with open('/(1)','w') as f:\n",
        "  f.write('Hello World!')"
      ],
      "metadata": {
        "id": "FW0XD5QKtd4v"
      },
      "execution_count": null,
      "outputs": []
    },
    {
      "cell_type": "code",
      "source": [
        "#7.1 \n",
        "#Create a function taking a dictionary called basket and a dictionary called prices\n",
        "#which returns the total cost of the items in the basket.\n",
        "#basket contains quantity values for each key, while \n",
        "#prices (obviously) contains product:price pairs\n",
        "\n",
        "#7.2 deal with missing products etc."
      ],
      "metadata": {
        "id": "RDpBvkT-tneK"
      },
      "execution_count": null,
      "outputs": []
    },
    {
      "cell_type": "code",
      "source": [
        "#Create a basket class\n",
        "#allow items to be added\n",
        "#create getValue method taking a pricelist"
      ],
      "metadata": {
        "id": "1Rq1xRG81_kn"
      },
      "execution_count": null,
      "outputs": []
    },
    {
      "cell_type": "code",
      "source": [
        "#sha256(\"tea\")\n",
        "#to decimal\n",
        "76877814899420836890653042671047180059940847440598608226386357771774702776130%127\n"
      ],
      "metadata": {
        "colab": {
          "base_uri": "https://localhost:8080/"
        },
        "id": "iK1dgr9w1TW8",
        "outputId": "5e463a04-ecef-4a2e-a35e-d3fdbc25d355"
      },
      "execution_count": null,
      "outputs": [
        {
          "output_type": "execute_result",
          "data": {
            "text/plain": [
              "61"
            ]
          },
          "metadata": {},
          "execution_count": 1
        }
      ]
    },
    {
      "cell_type": "code",
      "source": [
        "#testing"
      ],
      "metadata": {
        "id": "XqGR9syy1n-T"
      },
      "execution_count": null,
      "outputs": []
    },
    {
      "cell_type": "code",
      "source": [
        "print('Hello World!')"
      ],
      "metadata": {
        "colab": {
          "base_uri": "https://localhost:8080/"
        },
        "id": "GwOiEoVYHMRx",
        "outputId": "8ac061aa-9926-402f-f96a-68f72dccec1e"
      },
      "execution_count": null,
      "outputs": [
        {
          "output_type": "stream",
          "name": "stdout",
          "text": [
            "Hello World!\n"
          ]
        }
      ]
    },
    {
      "cell_type": "code",
      "source": [
        "import unittest"
      ],
      "metadata": {
        "id": "K02_sSNpH1jR"
      },
      "execution_count": null,
      "outputs": []
    },
    {
      "cell_type": "code",
      "source": [
        "class testTest(unittest.TestCase):\n",
        "  def testPass(self):\n",
        "    self.assertTrue(True)"
      ],
      "metadata": {
        "id": "nTgioHBuH_xb"
      },
      "execution_count": null,
      "outputs": []
    },
    {
      "cell_type": "code",
      "source": [
        "unittest.main(argv=['ignored'],exit=False)"
      ],
      "metadata": {
        "colab": {
          "base_uri": "https://localhost:8080/"
        },
        "id": "dpOlWlOZIQFf",
        "outputId": "a50b977e-3a30-45bc-870d-fafadc5f6c02"
      },
      "execution_count": null,
      "outputs": [
        {
          "output_type": "stream",
          "name": "stderr",
          "text": [
            ".\n",
            "----------------------------------------------------------------------\n",
            "Ran 1 test in 0.002s\n",
            "\n",
            "OK\n"
          ]
        },
        {
          "output_type": "execute_result",
          "data": {
            "text/plain": [
              "<unittest.main.TestProgram at 0x7f072a345cd0>"
            ]
          },
          "metadata": {},
          "execution_count": 5
        }
      ]
    },
    {
      "cell_type": "code",
      "source": [
        "def t():\n",
        "  unittest.main(argv=['ignored'],exit=False)"
      ],
      "metadata": {
        "id": "Uf-TxPZZIf6R"
      },
      "execution_count": null,
      "outputs": []
    },
    {
      "cell_type": "code",
      "source": [
        "t()"
      ],
      "metadata": {
        "colab": {
          "base_uri": "https://localhost:8080/"
        },
        "id": "XYFREkiZIqTh",
        "outputId": "8f2964f4-34eb-4738-f70b-9285200245d0"
      },
      "execution_count": null,
      "outputs": [
        {
          "output_type": "stream",
          "name": "stderr",
          "text": [
            ".\n",
            "----------------------------------------------------------------------\n",
            "Ran 1 test in 0.002s\n",
            "\n",
            "OK\n"
          ]
        }
      ]
    },
    {
      "cell_type": "code",
      "source": [
        "class testTest(unittest.TestCase):\n",
        "  def testPass(self):\n",
        "    self.assertTrue(True)\n",
        "  def testFail(self):\n",
        "    self.assertTrue(False)"
      ],
      "metadata": {
        "id": "1LLHWnClIrXy"
      },
      "execution_count": null,
      "outputs": []
    },
    {
      "cell_type": "code",
      "source": [
        "t()"
      ],
      "metadata": {
        "id": "lUSlitdVI-u7",
        "outputId": "d4ae632a-a70f-47fa-d9ce-55088d7e88f1",
        "colab": {
          "base_uri": "https://localhost:8080/"
        }
      },
      "execution_count": null,
      "outputs": [
        {
          "output_type": "stream",
          "name": "stderr",
          "text": [
            "F.\n",
            "======================================================================\n",
            "FAIL: testFail (__main__.testTest)\n",
            "----------------------------------------------------------------------\n",
            "Traceback (most recent call last):\n",
            "  File \"<ipython-input-8-3e0d62a27a32>\", line 5, in testFail\n",
            "    self.assertTrue(False)\n",
            "AssertionError: False is not true\n",
            "\n",
            "----------------------------------------------------------------------\n",
            "Ran 2 tests in 0.004s\n",
            "\n",
            "FAILED (failures=1)\n"
          ]
        }
      ]
    },
    {
      "cell_type": "code",
      "source": [
        "class testTest(unittest.TestCase):\n",
        "  def testPass(self):\n",
        "    self.assertTrue(True)\n",
        "  def testFail(self):\n",
        "    self.assertTrue(False)\n",
        "  def testError(self):\n",
        "    self.assertTrue()"
      ],
      "metadata": {
        "id": "2Jp07PtLI_Rh"
      },
      "execution_count": null,
      "outputs": []
    },
    {
      "cell_type": "code",
      "source": [
        "t()"
      ],
      "metadata": {
        "colab": {
          "base_uri": "https://localhost:8080/"
        },
        "id": "-xM4PYSXKGiw",
        "outputId": "94e56d7f-7bf3-4529-d297-7ba2ba18dea2"
      },
      "execution_count": null,
      "outputs": [
        {
          "output_type": "stream",
          "name": "stderr",
          "text": [
            "EF.\n",
            "======================================================================\n",
            "ERROR: testError (__main__.testTest)\n",
            "----------------------------------------------------------------------\n",
            "Traceback (most recent call last):\n",
            "  File \"<ipython-input-10-b01285a65355>\", line 7, in testError\n",
            "    self.assertTrue()\n",
            "TypeError: assertTrue() missing 1 required positional argument: 'expr'\n",
            "\n",
            "======================================================================\n",
            "FAIL: testFail (__main__.testTest)\n",
            "----------------------------------------------------------------------\n",
            "Traceback (most recent call last):\n",
            "  File \"<ipython-input-10-b01285a65355>\", line 5, in testFail\n",
            "    self.assertTrue(False)\n",
            "AssertionError: False is not true\n",
            "\n",
            "----------------------------------------------------------------------\n",
            "Ran 3 tests in 0.007s\n",
            "\n",
            "FAILED (failures=1, errors=1)\n"
          ]
        }
      ]
    },
    {
      "cell_type": "code",
      "source": [
        "#Create an account class\n",
        "#getBalance,Lodge,Withdraw\n",
        "#Test balance is zero on creation\n",
        "#Test balance is equal to lodgement amount after first lodgement"
      ],
      "metadata": {
        "id": "Ha4yUQAlKHpQ"
      },
      "execution_count": null,
      "outputs": []
    },
    {
      "cell_type": "code",
      "source": [
        "class Account:\n",
        "  def __init__(self):\n",
        "    self.__balance=0\n",
        "  def getBalance(self):\n",
        "    return self.__balance\n",
        "  def lodge(self,amt):\n",
        "    self.__balance = amt"
      ],
      "metadata": {
        "id": "QwY72dkaKkXa"
      },
      "execution_count": null,
      "outputs": []
    },
    {
      "cell_type": "code",
      "source": [
        "class testAccount(unittest.TestCase):\n",
        "  def testInitialBalance(self):\n",
        "    a=Account()\n",
        "    self.assertEqual(a.getBalance(),0)\n",
        "  def testLodge(self):\n",
        "    a=Account()\n",
        "    a.lodge(100)\n",
        "    self.assertEqual(a.getBalance(),100)\n",
        "  def testLodgeMore(self):\n",
        "    a=Account()\n",
        "    a.lodge(100)\n",
        "    a.lodge(100)\n",
        "    self.assertEqual(a.getBalance(),200)\n",
        "    "
      ],
      "metadata": {
        "id": "YvfCYdsyWdRJ"
      },
      "execution_count": null,
      "outputs": []
    },
    {
      "cell_type": "code",
      "source": [
        "t()"
      ],
      "metadata": {
        "colab": {
          "base_uri": "https://localhost:8080/"
        },
        "id": "mXkHqB5gW7CZ",
        "outputId": "1b615e33-935a-4b36-f24f-001e97ae1cd5"
      },
      "execution_count": null,
      "outputs": [
        {
          "output_type": "stream",
          "name": "stderr",
          "text": [
            "..F\n",
            "======================================================================\n",
            "FAIL: testLodgeMore (__main__.testAccount)\n",
            "----------------------------------------------------------------------\n",
            "Traceback (most recent call last):\n",
            "  File \"<ipython-input-3-6a89050e261c>\", line 13, in testLodgeMore\n",
            "    self.assertEqual(a.getBalance(),200)\n",
            "AssertionError: 100 != 200\n",
            "\n",
            "----------------------------------------------------------------------\n",
            "Ran 3 tests in 0.011s\n",
            "\n",
            "FAILED (failures=1)\n"
          ]
        }
      ]
    },
    {
      "cell_type": "code",
      "source": [
        "class Account:\n",
        "  def __init__(self):\n",
        "    self.__balance=0\n",
        "  def getBalance(self):\n",
        "    return self.__balance\n",
        "  def lodge(self,amt):\n",
        "    self.__balance += amt"
      ],
      "metadata": {
        "id": "u1W1bJOkW7fL"
      },
      "execution_count": null,
      "outputs": []
    },
    {
      "cell_type": "code",
      "source": [
        "t()"
      ],
      "metadata": {
        "id": "MCncTIesWfCr",
        "colab": {
          "base_uri": "https://localhost:8080/"
        },
        "outputId": "80b4b73a-f906-4e0e-e2e1-e682837be276"
      },
      "execution_count": null,
      "outputs": [
        {
          "output_type": "stream",
          "name": "stderr",
          "text": [
            "...\n",
            "----------------------------------------------------------------------\n",
            "Ran 3 tests in 0.019s\n",
            "\n",
            "OK\n"
          ]
        }
      ]
    },
    {
      "cell_type": "code",
      "source": [
        "#define and test a withdraw method"
      ],
      "metadata": {
        "id": "SBgpiHBGrx2E"
      },
      "execution_count": null,
      "outputs": []
    },
    {
      "cell_type": "code",
      "source": [
        "class Account:\n",
        "  def __init__(self):\n",
        "    self.__balance=0\n",
        "  def getBalance(self):\n",
        "    return self.__balance\n",
        "  def lodge(self,amt):\n",
        "    self.__balance += amt\n",
        "  def withdraw(self,amt):\n",
        "    self.__balance -= amt"
      ],
      "metadata": {
        "id": "KfXyTQT8uAeJ"
      },
      "execution_count": null,
      "outputs": []
    },
    {
      "cell_type": "code",
      "source": [
        "class testAccount(unittest.TestCase):\n",
        "  def testInitialBalance(self):\n",
        "    a=Account()\n",
        "    self.assertEqual(a.getBalance(),0)\n",
        "  def testLodge(self):\n",
        "    a=Account()\n",
        "    a.lodge(100)\n",
        "    self.assertEqual(a.getBalance(),100)\n",
        "  def testLodgeMore(self):\n",
        "    a=Account()\n",
        "    a.lodge(100)\n",
        "    a.lodge(100)\n",
        "    self.assertEqual(a.getBalance(),200)\n",
        "  def testWithdraw(self):\n",
        "    a=Account()\n",
        "    a.lodge(1000)\n",
        "    a.withdraw(100)\n",
        "    self.assertEqual(a.getBalance(),900)\n",
        "  def testNegativeWithdraw(self):\n",
        "    a=Account()\n",
        "    a.lodge(1000)\n",
        "    with self.assertRaises(ValueError):\n",
        "      a.withdraw(-100)"
      ],
      "metadata": {
        "id": "wOKmR8p3uJKy"
      },
      "execution_count": null,
      "outputs": []
    },
    {
      "cell_type": "code",
      "source": [
        "t()"
      ],
      "metadata": {
        "colab": {
          "base_uri": "https://localhost:8080/"
        },
        "id": "t-21TA1ZuQRZ",
        "outputId": "82c97323-7407-4a32-961b-36cddf6ea2d3"
      },
      "execution_count": null,
      "outputs": [
        {
          "output_type": "stream",
          "name": "stderr",
          "text": [
            "...F.\n",
            "======================================================================\n",
            "FAIL: testNegativeWithdraw (__main__.testAccount)\n",
            "----------------------------------------------------------------------\n",
            "Traceback (most recent call last):\n",
            "  File \"<ipython-input-28-23ae8cdc356a>\", line 23, in testNegativeWithdraw\n",
            "    a.withdraw(-100)\n",
            "AssertionError: ValueError not raised\n",
            "\n",
            "----------------------------------------------------------------------\n",
            "Ran 5 tests in 0.011s\n",
            "\n",
            "FAILED (failures=1)\n"
          ]
        }
      ]
    },
    {
      "cell_type": "code",
      "source": [
        "a=Account()\n"
      ],
      "metadata": {
        "id": "i--EL7I9uQwQ"
      },
      "execution_count": null,
      "outputs": []
    },
    {
      "cell_type": "code",
      "source": [
        "a.lodge(100)"
      ],
      "metadata": {
        "id": "aPt7KnMTukAp"
      },
      "execution_count": null,
      "outputs": []
    },
    {
      "cell_type": "code",
      "source": [
        "a.withdraw(1000)"
      ],
      "metadata": {
        "id": "1LwqrW7auIas"
      },
      "execution_count": null,
      "outputs": []
    },
    {
      "cell_type": "code",
      "source": [
        "a.getBalance()"
      ],
      "metadata": {
        "colab": {
          "base_uri": "https://localhost:8080/"
        },
        "id": "x0vJFx1suIT4",
        "outputId": "6bb917ed-9639-4499-8b98-92f9900d4bdc"
      },
      "execution_count": null,
      "outputs": [
        {
          "output_type": "execute_result",
          "data": {
            "text/plain": [
              "-900"
            ]
          },
          "metadata": {},
          "execution_count": 16
        }
      ]
    },
    {
      "cell_type": "code",
      "source": [
        "a.withdraw(-987654321)"
      ],
      "metadata": {
        "id": "2APkFzcHuo8J"
      },
      "execution_count": null,
      "outputs": []
    },
    {
      "cell_type": "code",
      "source": [
        "a.withdraw(10000)"
      ],
      "metadata": {
        "id": "WGKXV9RTvWN7"
      },
      "execution_count": null,
      "outputs": []
    },
    {
      "cell_type": "code",
      "source": [
        "class Account:\n",
        "  def __init__(self):\n",
        "    self.__balance=0\n",
        "  def getBalance(self):\n",
        "    return self.__balance\n",
        "  def lodge(self,amt):\n",
        "    self.__balance += amt\n",
        "  def withdraw(self,amt):\n",
        "    self.__balance -= amt\n",
        "  def transfer(self,amt,rcpt):\n",
        "    self.withdraw(amt)\n",
        "    rcpt.lodge(amt)"
      ],
      "metadata": {
        "id": "HDZcvBECvYv9"
      },
      "execution_count": null,
      "outputs": []
    },
    {
      "cell_type": "code",
      "source": [
        "a=Account()\n",
        "b=Account()\n",
        "a.lodge(500)\n",
        "b.lodge(500)\n",
        "a.transfer(100,b)\n",
        "print(a.getBalance())\n",
        "print(b.getBalance())"
      ],
      "metadata": {
        "colab": {
          "base_uri": "https://localhost:8080/"
        },
        "id": "eTcrK4Lo9F4z",
        "outputId": "e1ef9487-56c8-489a-af47-1463462380bb"
      },
      "execution_count": null,
      "outputs": [
        {
          "output_type": "stream",
          "name": "stdout",
          "text": [
            "400\n",
            "600\n"
          ]
        }
      ]
    },
    {
      "cell_type": "code",
      "source": [],
      "metadata": {
        "id": "vjYitW-R9TMc"
      },
      "execution_count": null,
      "outputs": []
    }
  ]
}