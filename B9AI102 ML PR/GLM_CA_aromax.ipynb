{
 "cells": [
  {
   "attachments": {},
   "cell_type": "markdown",
   "metadata": {},
   "source": [
    "# Example\n",
    "use diamonds dataset to predict **price** in terms of other variables. For this, \n",
    "a. estimate the parameters\n",
    "b. select the imporant input features \n",
    "c. write down the predictive model "
   ]
  },
  {
   "attachments": {},
   "cell_type": "markdown",
   "metadata": {},
   "source": [
    "since price is practically continous therefore we need to apply linear regression:\n",
    "to do the following tasks:\n",
    "1.   parameter learning\n",
    "2.   feature selection\n",
    "3.   predictive model (use steps 1 and 2 and link function)\n",
    "4.   prediction \n",
    "5.   Evaluate the performance of prediction (split the dataset into trainset and testset)"
   ]
  },
  {
   "attachments": {},
   "cell_type": "markdown",
   "metadata": {},
   "source": [
    "We can do Linear regression using 2 different ways:\n",
    "1.  using statistical learning\n",
    "2.  using sklearn"
   ]
  },
  {
   "attachments": {},
   "cell_type": "markdown",
   "metadata": {},
   "source": [
    "data modeling:\n",
    "1. import the function of the model\n",
    "2. create the model\n",
    "3.  fit the model\n",
    "4. prediction using the model"
   ]
  },
  {
   "attachments": {},
   "cell_type": "markdown",
   "metadata": {},
   "source": [
    "# Statistical way to recall GLM"
   ]
  },
  {
   "cell_type": "code",
   "execution_count": 16,
   "metadata": {},
   "outputs": [],
   "source": [
    "#Import neccessary library\n",
    "from statistics import mean\n",
    "import statsmodels.api as sm\n",
    "from statsmodels.api import GLM, add_constant\n",
    "from pandas import read_csv, DataFrame, concat\n",
    "from sklearn.preprocessing import OneHotEncoder, OrdinalEncoder, StandardScaler\n",
    "from sklearn.model_selection import train_test_split\n",
    "from sklearn.metrics import mean_squared_error\n",
    "from math import sqrt"
   ]
  },
  {
   "attachments": {},
   "cell_type": "markdown",
   "metadata": {},
   "source": [
    "# Data Preparation"
   ]
  },
  {
   "cell_type": "code",
   "execution_count": 17,
   "metadata": {},
   "outputs": [],
   "source": [
    "data = read_csv('dataset/diamonds.csv')\n",
    "\n",
    "X = data.drop(['price', 'Unnamed: 0'], axis=1)  # Input variables\n",
    "y = data['price']  # Output variable\n",
    "\n",
    "OE = OrdinalEncoder(categories=[['Fair', 'Good', 'Very Good', 'Ideal', 'Premium']])\n",
    "\n",
    "data_cut_OE = OE.fit_transform(X[['cut']])\n",
    "data_cut_DF = DataFrame(data_cut_OE)\n",
    "data_cut_DF.columns = ['encoded cut']\n",
    "\n",
    "OHE = OneHotEncoder(handle_unknown='ignore')\n",
    "\n",
    "data_color_OHE = OHE.fit_transform(X[['color']])\n",
    "data_color_DF = DataFrame(data_color_OHE.toarray())\n",
    "data_color_DF.columns = OHE.get_feature_names_out()\n",
    "\n",
    "data_clarity_OHE = OHE.fit_transform(X[['clarity']])\n",
    "data_clarity_DF = DataFrame(data_clarity_OHE.toarray())\n",
    "data_clarity_DF.columns = OHE.get_feature_names_out()"
   ]
  },
  {
   "attachments": {},
   "cell_type": "markdown",
   "metadata": {},
   "source": [
    "# Merging multiple DataFrames"
   ]
  },
  {
   "cell_type": "code",
   "execution_count": 18,
   "metadata": {},
   "outputs": [],
   "source": [
    "X_binary = concat([data_color_DF, data_clarity_DF], axis=1) # Excluding data_cut_DF since it is ordinal\n",
    "X_scalable = X[['carat', 'depth', 'table', 'length_mm', 'width_mm', 'depth_mm']]  # Orginal numeric columns\n",
    "X_scalable = concat([X_scalable, data_cut_DF], axis=1)  # Including encoded ordinal columns"
   ]
  },
  {
   "attachments": {},
   "cell_type": "markdown",
   "metadata": {},
   "source": [
    "# Applying StandardScaler"
   ]
  },
  {
   "cell_type": "code",
   "execution_count": 19,
   "metadata": {},
   "outputs": [],
   "source": [
    "X_scaled = StandardScaler().fit_transform(X_scalable)\n",
    "X_scaled_DF = DataFrame(X_scaled)\n",
    "X_scaled_DF.columns = X_scalable.columns"
   ]
  },
  {
   "cell_type": "code",
   "execution_count": 20,
   "metadata": {},
   "outputs": [],
   "source": [
    "X_PREP = concat([X_scaled_DF, X_binary], axis=1)  # Prepared Data"
   ]
  },
  {
   "attachments": {},
   "cell_type": "markdown",
   "metadata": {},
   "source": [
    "# Data Modelling for feature selection / reduced model"
   ]
  },
  {
   "cell_type": "code",
   "execution_count": 21,
   "metadata": {},
   "outputs": [
    {
     "data": {
      "text/html": [
       "<table class=\"simpletable\">\n",
       "<caption>Generalized Linear Model Regression Results</caption>\n",
       "<tr>\n",
       "  <th>Dep. Variable:</th>         <td>price</td>      <th>  No. Observations:  </th>   <td>   859</td>  \n",
       "</tr>\n",
       "<tr>\n",
       "  <th>Model:</th>                  <td>GLM</td>       <th>  Df Residuals:      </th>   <td>   838</td>  \n",
       "</tr>\n",
       "<tr>\n",
       "  <th>Model Family:</th>        <td>Gaussian</td>     <th>  Df Model:          </th>   <td>    20</td>  \n",
       "</tr>\n",
       "<tr>\n",
       "  <th>Link Function:</th>          <td>log</td>       <th>  Scale:             </th>  <td>  50649.</td> \n",
       "</tr>\n",
       "<tr>\n",
       "  <th>Method:</th>                <td>IRLS</td>       <th>  Log-Likelihood:    </th>  <td> -5861.0</td> \n",
       "</tr>\n",
       "<tr>\n",
       "  <th>Date:</th>            <td>Wed, 08 Mar 2023</td> <th>  Deviance:          </th> <td>4.2444e+07</td>\n",
       "</tr>\n",
       "<tr>\n",
       "  <th>Time:</th>                <td>02:11:25</td>     <th>  Pearson chi2:      </th>  <td>4.24e+07</td> \n",
       "</tr>\n",
       "<tr>\n",
       "  <th>No. Iterations:</th>         <td>22</td>        <th>  Pseudo R-squ. (CS):</th>   <td> 1.000</td>  \n",
       "</tr>\n",
       "<tr>\n",
       "  <th>Covariance Type:</th>     <td>nonrobust</td>    <th>                     </th>      <td> </td>    \n",
       "</tr>\n",
       "</table>\n",
       "<table class=\"simpletable\">\n",
       "<tr>\n",
       "        <td></td>          <th>coef</th>     <th>std err</th>      <th>z</th>      <th>P>|z|</th>  <th>[0.025</th>    <th>0.975]</th>  \n",
       "</tr>\n",
       "<tr>\n",
       "  <th>const</th>        <td>    6.0650</td> <td>    0.005</td> <td> 1159.381</td> <td> 0.000</td> <td>    6.055</td> <td>    6.075</td>\n",
       "</tr>\n",
       "<tr>\n",
       "  <th>carat</th>        <td>   -0.5882</td> <td>    0.039</td> <td>  -14.960</td> <td> 0.000</td> <td>   -0.665</td> <td>   -0.511</td>\n",
       "</tr>\n",
       "<tr>\n",
       "  <th>depth</th>        <td>   -0.0430</td> <td>    0.045</td> <td>   -0.958</td> <td> 0.338</td> <td>   -0.131</td> <td>    0.045</td>\n",
       "</tr>\n",
       "<tr>\n",
       "  <th>table</th>        <td>    0.0243</td> <td>    0.004</td> <td>    6.350</td> <td> 0.000</td> <td>    0.017</td> <td>    0.032</td>\n",
       "</tr>\n",
       "<tr>\n",
       "  <th>length_mm</th>    <td>    0.0201</td> <td>    0.099</td> <td>    0.203</td> <td> 0.839</td> <td>   -0.174</td> <td>    0.215</td>\n",
       "</tr>\n",
       "<tr>\n",
       "  <th>width_mm</th>     <td>    0.3744</td> <td>    0.092</td> <td>    4.087</td> <td> 0.000</td> <td>    0.195</td> <td>    0.554</td>\n",
       "</tr>\n",
       "<tr>\n",
       "  <th>depth_mm</th>     <td>    0.7281</td> <td>    0.171</td> <td>    4.270</td> <td> 0.000</td> <td>    0.394</td> <td>    1.062</td>\n",
       "</tr>\n",
       "<tr>\n",
       "  <th>encoded cut</th>  <td>    0.0122</td> <td>    0.003</td> <td>    3.517</td> <td> 0.000</td> <td>    0.005</td> <td>    0.019</td>\n",
       "</tr>\n",
       "<tr>\n",
       "  <th>color_D</th>      <td>    0.9806</td> <td>    0.009</td> <td>  111.662</td> <td> 0.000</td> <td>    0.963</td> <td>    0.998</td>\n",
       "</tr>\n",
       "<tr>\n",
       "  <th>color_E</th>      <td>    0.9480</td> <td>    0.007</td> <td>  139.634</td> <td> 0.000</td> <td>    0.935</td> <td>    0.961</td>\n",
       "</tr>\n",
       "<tr>\n",
       "  <th>color_F</th>      <td>    0.9357</td> <td>    0.007</td> <td>  138.875</td> <td> 0.000</td> <td>    0.923</td> <td>    0.949</td>\n",
       "</tr>\n",
       "<tr>\n",
       "  <th>color_G</th>      <td>    0.8831</td> <td>    0.008</td> <td>  113.083</td> <td> 0.000</td> <td>    0.868</td> <td>    0.898</td>\n",
       "</tr>\n",
       "<tr>\n",
       "  <th>color_H</th>      <td>    0.8194</td> <td>    0.009</td> <td>   94.732</td> <td> 0.000</td> <td>    0.802</td> <td>    0.836</td>\n",
       "</tr>\n",
       "<tr>\n",
       "  <th>color_I</th>      <td>    0.7579</td> <td>    0.011</td> <td>   67.488</td> <td> 0.000</td> <td>    0.736</td> <td>    0.780</td>\n",
       "</tr>\n",
       "<tr>\n",
       "  <th>color_J</th>      <td>    0.7402</td> <td>    0.016</td> <td>   44.962</td> <td> 0.000</td> <td>    0.708</td> <td>    0.772</td>\n",
       "</tr>\n",
       "<tr>\n",
       "  <th>clarity_I1</th>   <td>    0.4579</td> <td>    0.023</td> <td>   20.128</td> <td> 0.000</td> <td>    0.413</td> <td>    0.502</td>\n",
       "</tr>\n",
       "<tr>\n",
       "  <th>clarity_IF</th>   <td>    0.9950</td> <td>    0.022</td> <td>   45.326</td> <td> 0.000</td> <td>    0.952</td> <td>    1.038</td>\n",
       "</tr>\n",
       "<tr>\n",
       "  <th>clarity_SI1</th>  <td>    0.6948</td> <td>    0.007</td> <td>  101.299</td> <td> 0.000</td> <td>    0.681</td> <td>    0.708</td>\n",
       "</tr>\n",
       "<tr>\n",
       "  <th>clarity_SI2</th>  <td>    0.5914</td> <td>    0.009</td> <td>   62.388</td> <td> 0.000</td> <td>    0.573</td> <td>    0.610</td>\n",
       "</tr>\n",
       "<tr>\n",
       "  <th>clarity_VS1</th>  <td>    0.7624</td> <td>    0.008</td> <td>   91.078</td> <td> 0.000</td> <td>    0.746</td> <td>    0.779</td>\n",
       "</tr>\n",
       "<tr>\n",
       "  <th>clarity_VS2</th>  <td>    0.7443</td> <td>    0.007</td> <td>  105.410</td> <td> 0.000</td> <td>    0.730</td> <td>    0.758</td>\n",
       "</tr>\n",
       "<tr>\n",
       "  <th>clarity_VVS1</th> <td>    0.9429</td> <td>    0.014</td> <td>   67.375</td> <td> 0.000</td> <td>    0.916</td> <td>    0.970</td>\n",
       "</tr>\n",
       "<tr>\n",
       "  <th>clarity_VVS2</th> <td>    0.8762</td> <td>    0.012</td> <td>   72.099</td> <td> 0.000</td> <td>    0.852</td> <td>    0.900</td>\n",
       "</tr>\n",
       "</table>"
      ],
      "text/plain": [
       "<class 'statsmodels.iolib.summary.Summary'>\n",
       "\"\"\"\n",
       "                 Generalized Linear Model Regression Results                  \n",
       "==============================================================================\n",
       "Dep. Variable:                  price   No. Observations:                  859\n",
       "Model:                            GLM   Df Residuals:                      838\n",
       "Model Family:                Gaussian   Df Model:                           20\n",
       "Link Function:                    log   Scale:                          50649.\n",
       "Method:                          IRLS   Log-Likelihood:                -5861.0\n",
       "Date:                Wed, 08 Mar 2023   Deviance:                   4.2444e+07\n",
       "Time:                        02:11:25   Pearson chi2:                 4.24e+07\n",
       "No. Iterations:                    22   Pseudo R-squ. (CS):              1.000\n",
       "Covariance Type:            nonrobust                                         \n",
       "================================================================================\n",
       "                   coef    std err          z      P>|z|      [0.025      0.975]\n",
       "--------------------------------------------------------------------------------\n",
       "const            6.0650      0.005   1159.381      0.000       6.055       6.075\n",
       "carat           -0.5882      0.039    -14.960      0.000      -0.665      -0.511\n",
       "depth           -0.0430      0.045     -0.958      0.338      -0.131       0.045\n",
       "table            0.0243      0.004      6.350      0.000       0.017       0.032\n",
       "length_mm        0.0201      0.099      0.203      0.839      -0.174       0.215\n",
       "width_mm         0.3744      0.092      4.087      0.000       0.195       0.554\n",
       "depth_mm         0.7281      0.171      4.270      0.000       0.394       1.062\n",
       "encoded cut      0.0122      0.003      3.517      0.000       0.005       0.019\n",
       "color_D          0.9806      0.009    111.662      0.000       0.963       0.998\n",
       "color_E          0.9480      0.007    139.634      0.000       0.935       0.961\n",
       "color_F          0.9357      0.007    138.875      0.000       0.923       0.949\n",
       "color_G          0.8831      0.008    113.083      0.000       0.868       0.898\n",
       "color_H          0.8194      0.009     94.732      0.000       0.802       0.836\n",
       "color_I          0.7579      0.011     67.488      0.000       0.736       0.780\n",
       "color_J          0.7402      0.016     44.962      0.000       0.708       0.772\n",
       "clarity_I1       0.4579      0.023     20.128      0.000       0.413       0.502\n",
       "clarity_IF       0.9950      0.022     45.326      0.000       0.952       1.038\n",
       "clarity_SI1      0.6948      0.007    101.299      0.000       0.681       0.708\n",
       "clarity_SI2      0.5914      0.009     62.388      0.000       0.573       0.610\n",
       "clarity_VS1      0.7624      0.008     91.078      0.000       0.746       0.779\n",
       "clarity_VS2      0.7443      0.007    105.410      0.000       0.730       0.758\n",
       "clarity_VVS1     0.9429      0.014     67.375      0.000       0.916       0.970\n",
       "clarity_VVS2     0.8762      0.012     72.099      0.000       0.852       0.900\n",
       "================================================================================\n",
       "\"\"\""
      ]
     },
     "execution_count": 21,
     "metadata": {},
     "output_type": "execute_result"
    }
   ],
   "source": [
    "X = add_constant(X_PREP)  # Ading constant column to handle bias; \n",
    "model_full = GLM(y, X, family=sm.families.Gaussian(sm.families.links.log()))\n",
    "res = model_full.fit()  # Fitting the model\n",
    "res.summary()"
   ]
  },
  {
   "cell_type": "code",
   "execution_count": 22,
   "metadata": {},
   "outputs": [
    {
     "name": "stdout",
     "output_type": "stream",
     "text": [
      "depth\n",
      "length_mm\n"
     ]
    }
   ],
   "source": [
    "pvalues = dict(res.pvalues)  # Identifying the columns to drop\n",
    "for x in pvalues:\n",
    "    if pvalues[x] >= 0.05:\n",
    "        print(x)"
   ]
  },
  {
   "cell_type": "code",
   "execution_count": 23,
   "metadata": {},
   "outputs": [],
   "source": [
    "X_red = X.drop(['depth', 'length_mm'], axis=1)"
   ]
  },
  {
   "attachments": {},
   "cell_type": "markdown",
   "metadata": {},
   "source": [
    "Predictive Model:  yhat=5.455245+0.001909*ZN+0.022373*INDUS+0.028275*RAD-0.002238*MEDV    "
   ]
  },
  {
   "cell_type": "code",
   "execution_count": 24,
   "metadata": {},
   "outputs": [
    {
     "data": {
      "text/plain": [
       "[228.95992067970442, 230.3011580919856]"
      ]
     },
     "execution_count": 24,
     "metadata": {},
     "output_type": "execute_result"
    }
   ],
   "source": [
    "rmse_full = []\n",
    "rmse_red = []\n",
    "for i in range(20):\n",
    "    X = add_constant(X)\n",
    "    X_train, X_test, y_train, y_test = train_test_split(X, y, test_size=0.2)\n",
    "\n",
    "    #*************Full Data Modelling*************\n",
    "    \n",
    "    # Creating the Linear Regression Model\n",
    "    model_full_train = GLM(y_train, X_train, family=sm.families.Gaussian(sm.families.links.log()))\n",
    "    model_full = model_full_train.fit()  # Fitting the model\n",
    "    model_full.summary()\n",
    "\n",
    "    # Predicting using Test-set\n",
    "    pred_full = model_full.predict(X_test)\n",
    "    rmse1 = sqrt(mean_squared_error(y_test, pred_full))\n",
    "    rmse_full.append(rmse1)\n",
    "    \n",
    "    #*************Reduced Data Modelling*************\n",
    "    \n",
    "    # Creating the Linear Regression Model\n",
    "    X = add_constant(X_red)\n",
    "    X_train, X_test, y_train, y_test = train_test_split(X, y, test_size=0.2)\n",
    "    model_reduced_train = GLM(y_train, X_train, family=sm.families.Gaussian(sm.families.links.log()))\n",
    "    model_reduced = model_reduced_train.fit()\n",
    "    \n",
    "    # Predicting using Test-set\n",
    "    pred_red = model_reduced.predict(X_test)\n",
    "    rmse2 = sqrt(mean_squared_error(y_test, pred_red))\n",
    "    rmse_red.append(rmse2)\n",
    "\n",
    "[mean(rmse_full), mean(rmse_red)]"
   ]
  },
  {
   "attachments": {},
   "cell_type": "markdown",
   "metadata": {},
   "source": [
    "# Deployment phase "
   ]
  },
  {
   "cell_type": "code",
   "execution_count": 25,
   "metadata": {},
   "outputs": [],
   "source": [
    "X = add_constant(X_red)\n",
    "model_train = GLM(y, X, family=sm.families.Gaussian(sm.families.links.log()))  # create the linear reg model using\n",
    "red_model = model_train.fit() # fit the model"
   ]
  },
  {
   "attachments": {},
   "cell_type": "markdown",
   "metadata": {},
   "source": [
    "# Predicting using testset"
   ]
  },
  {
   "cell_type": "code",
   "execution_count": 26,
   "metadata": {},
   "outputs": [
    {
     "name": "stdout",
     "output_type": "stream",
     "text": [
      "858    2824.587072\n",
      "dtype: float64\n"
     ]
    },
    {
     "data": {
      "text/plain": [
       "858    2871\n",
       "Name: price, dtype: int64"
      ]
     },
     "execution_count": 26,
     "metadata": {},
     "output_type": "execute_result"
    }
   ],
   "source": [
    "new = X.tail(1)\n",
    "pred_red = red_model.predict(new)\n",
    "print(pred_red)\n",
    "y.tail(1)"
   ]
  },
  {
   "attachments": {},
   "cell_type": "markdown",
   "metadata": {},
   "source": [
    "# Statistical & sklearn way to recall GLM"
   ]
  },
  {
   "cell_type": "code",
   "execution_count": 27,
   "metadata": {},
   "outputs": [],
   "source": [
    "# Import neccessary library\n",
    "from statistics import mean\n",
    "import statsmodels.api as sm\n",
    "from statsmodels.api import GLM, add_constant\n",
    "from pandas import read_csv, DataFrame, concat\n",
    "from sklearn.preprocessing import OneHotEncoder, OrdinalEncoder, StandardScaler\n",
    "from sklearn.linear_model import LinearRegression\n",
    "from sklearn.model_selection import train_test_split\n",
    "from sklearn.metrics import mean_squared_error\n",
    "from math import sqrt"
   ]
  },
  {
   "attachments": {},
   "cell_type": "markdown",
   "metadata": {},
   "source": [
    "# Data Preparation"
   ]
  },
  {
   "cell_type": "code",
   "execution_count": 28,
   "metadata": {},
   "outputs": [],
   "source": [
    "data = read_csv('dataset/diamonds.csv')\n",
    "\n",
    "X = data.drop(['price', 'Unnamed: 0'], axis=1)  # Input variables\n",
    "y = data['price']  # Output variable\n",
    "\n",
    "OE = OrdinalEncoder(categories=[['Fair', 'Good', 'Very Good', 'Ideal', 'Premium']])\n",
    "data_cut_OE = OE.fit_transform(X[['cut']])\n",
    "data_cut_DF = DataFrame(data_cut_OE)\n",
    "data_cut_DF.columns = ['encoded cut']\n",
    "\n",
    "OHE = OneHotEncoder(handle_unknown='ignore')\n",
    "\n",
    "data_color_OHE = OHE.fit_transform(X[['color']])\n",
    "data_color_DF = DataFrame(data_color_OHE.toarray())\n",
    "data_color_DF.columns = OHE.get_feature_names_out()\n",
    "\n",
    "data_clarity_OHE = OHE.fit_transform(X[['clarity']])\n",
    "data_clarity_DF = DataFrame(data_clarity_OHE.toarray())\n",
    "data_clarity_DF.columns = OHE.get_feature_names_out()"
   ]
  },
  {
   "attachments": {},
   "cell_type": "markdown",
   "metadata": {},
   "source": [
    "# Merging multiple DataFrames"
   ]
  },
  {
   "cell_type": "code",
   "execution_count": 29,
   "metadata": {},
   "outputs": [],
   "source": [
    "X_binary = concat([data_color_DF, data_clarity_DF], axis=1) # Excluding data_cut_DF since it is ordinal\n",
    "X_scalable = X[['carat', 'depth', 'table', 'length_mm', 'width_mm', 'depth_mm']]  # Orginal numeric columns\n",
    "X_scalable = concat([X_scalable, data_cut_DF], axis=1) # Including encoded ordinal columns"
   ]
  },
  {
   "attachments": {},
   "cell_type": "markdown",
   "metadata": {},
   "source": [
    "# Applying standard scalar"
   ]
  },
  {
   "cell_type": "code",
   "execution_count": 30,
   "metadata": {},
   "outputs": [],
   "source": [
    "X_scaled = StandardScaler().fit_transform(X_scalable)\n",
    "X_scaled_DF = DataFrame(X_scaled)\n",
    "X_scaled_DF.columns = X_scalable.columns"
   ]
  },
  {
   "cell_type": "code",
   "execution_count": 31,
   "metadata": {},
   "outputs": [],
   "source": [
    "X_PREP = concat([X_scaled_DF, X_binary], axis=1)  # Prepared Data"
   ]
  },
  {
   "attachments": {},
   "cell_type": "markdown",
   "metadata": {},
   "source": [
    "# Data Modelling for feature selection / reduced model"
   ]
  },
  {
   "cell_type": "code",
   "execution_count": 32,
   "metadata": {},
   "outputs": [
    {
     "data": {
      "text/html": [
       "<table class=\"simpletable\">\n",
       "<caption>Generalized Linear Model Regression Results</caption>\n",
       "<tr>\n",
       "  <th>Dep. Variable:</th>         <td>price</td>      <th>  No. Observations:  </th>   <td>   859</td>  \n",
       "</tr>\n",
       "<tr>\n",
       "  <th>Model:</th>                  <td>GLM</td>       <th>  Df Residuals:      </th>   <td>   838</td>  \n",
       "</tr>\n",
       "<tr>\n",
       "  <th>Model Family:</th>        <td>Gaussian</td>     <th>  Df Model:          </th>   <td>    20</td>  \n",
       "</tr>\n",
       "<tr>\n",
       "  <th>Link Function:</th>          <td>log</td>       <th>  Scale:             </th>  <td>  50649.</td> \n",
       "</tr>\n",
       "<tr>\n",
       "  <th>Method:</th>                <td>IRLS</td>       <th>  Log-Likelihood:    </th>  <td> -5861.0</td> \n",
       "</tr>\n",
       "<tr>\n",
       "  <th>Date:</th>            <td>Wed, 08 Mar 2023</td> <th>  Deviance:          </th> <td>4.2444e+07</td>\n",
       "</tr>\n",
       "<tr>\n",
       "  <th>Time:</th>                <td>02:12:14</td>     <th>  Pearson chi2:      </th>  <td>4.24e+07</td> \n",
       "</tr>\n",
       "<tr>\n",
       "  <th>No. Iterations:</th>         <td>22</td>        <th>  Pseudo R-squ. (CS):</th>   <td> 1.000</td>  \n",
       "</tr>\n",
       "<tr>\n",
       "  <th>Covariance Type:</th>     <td>nonrobust</td>    <th>                     </th>      <td> </td>    \n",
       "</tr>\n",
       "</table>\n",
       "<table class=\"simpletable\">\n",
       "<tr>\n",
       "        <td></td>          <th>coef</th>     <th>std err</th>      <th>z</th>      <th>P>|z|</th>  <th>[0.025</th>    <th>0.975]</th>  \n",
       "</tr>\n",
       "<tr>\n",
       "  <th>const</th>        <td>    6.0650</td> <td>    0.005</td> <td> 1159.381</td> <td> 0.000</td> <td>    6.055</td> <td>    6.075</td>\n",
       "</tr>\n",
       "<tr>\n",
       "  <th>carat</th>        <td>   -0.5882</td> <td>    0.039</td> <td>  -14.960</td> <td> 0.000</td> <td>   -0.665</td> <td>   -0.511</td>\n",
       "</tr>\n",
       "<tr>\n",
       "  <th>depth</th>        <td>   -0.0430</td> <td>    0.045</td> <td>   -0.958</td> <td> 0.338</td> <td>   -0.131</td> <td>    0.045</td>\n",
       "</tr>\n",
       "<tr>\n",
       "  <th>table</th>        <td>    0.0243</td> <td>    0.004</td> <td>    6.350</td> <td> 0.000</td> <td>    0.017</td> <td>    0.032</td>\n",
       "</tr>\n",
       "<tr>\n",
       "  <th>length_mm</th>    <td>    0.0201</td> <td>    0.099</td> <td>    0.203</td> <td> 0.839</td> <td>   -0.174</td> <td>    0.215</td>\n",
       "</tr>\n",
       "<tr>\n",
       "  <th>width_mm</th>     <td>    0.3744</td> <td>    0.092</td> <td>    4.087</td> <td> 0.000</td> <td>    0.195</td> <td>    0.554</td>\n",
       "</tr>\n",
       "<tr>\n",
       "  <th>depth_mm</th>     <td>    0.7281</td> <td>    0.171</td> <td>    4.270</td> <td> 0.000</td> <td>    0.394</td> <td>    1.062</td>\n",
       "</tr>\n",
       "<tr>\n",
       "  <th>encoded cut</th>  <td>    0.0122</td> <td>    0.003</td> <td>    3.517</td> <td> 0.000</td> <td>    0.005</td> <td>    0.019</td>\n",
       "</tr>\n",
       "<tr>\n",
       "  <th>color_D</th>      <td>    0.9806</td> <td>    0.009</td> <td>  111.662</td> <td> 0.000</td> <td>    0.963</td> <td>    0.998</td>\n",
       "</tr>\n",
       "<tr>\n",
       "  <th>color_E</th>      <td>    0.9480</td> <td>    0.007</td> <td>  139.634</td> <td> 0.000</td> <td>    0.935</td> <td>    0.961</td>\n",
       "</tr>\n",
       "<tr>\n",
       "  <th>color_F</th>      <td>    0.9357</td> <td>    0.007</td> <td>  138.875</td> <td> 0.000</td> <td>    0.923</td> <td>    0.949</td>\n",
       "</tr>\n",
       "<tr>\n",
       "  <th>color_G</th>      <td>    0.8831</td> <td>    0.008</td> <td>  113.083</td> <td> 0.000</td> <td>    0.868</td> <td>    0.898</td>\n",
       "</tr>\n",
       "<tr>\n",
       "  <th>color_H</th>      <td>    0.8194</td> <td>    0.009</td> <td>   94.732</td> <td> 0.000</td> <td>    0.802</td> <td>    0.836</td>\n",
       "</tr>\n",
       "<tr>\n",
       "  <th>color_I</th>      <td>    0.7579</td> <td>    0.011</td> <td>   67.488</td> <td> 0.000</td> <td>    0.736</td> <td>    0.780</td>\n",
       "</tr>\n",
       "<tr>\n",
       "  <th>color_J</th>      <td>    0.7402</td> <td>    0.016</td> <td>   44.962</td> <td> 0.000</td> <td>    0.708</td> <td>    0.772</td>\n",
       "</tr>\n",
       "<tr>\n",
       "  <th>clarity_I1</th>   <td>    0.4579</td> <td>    0.023</td> <td>   20.128</td> <td> 0.000</td> <td>    0.413</td> <td>    0.502</td>\n",
       "</tr>\n",
       "<tr>\n",
       "  <th>clarity_IF</th>   <td>    0.9950</td> <td>    0.022</td> <td>   45.326</td> <td> 0.000</td> <td>    0.952</td> <td>    1.038</td>\n",
       "</tr>\n",
       "<tr>\n",
       "  <th>clarity_SI1</th>  <td>    0.6948</td> <td>    0.007</td> <td>  101.299</td> <td> 0.000</td> <td>    0.681</td> <td>    0.708</td>\n",
       "</tr>\n",
       "<tr>\n",
       "  <th>clarity_SI2</th>  <td>    0.5914</td> <td>    0.009</td> <td>   62.388</td> <td> 0.000</td> <td>    0.573</td> <td>    0.610</td>\n",
       "</tr>\n",
       "<tr>\n",
       "  <th>clarity_VS1</th>  <td>    0.7624</td> <td>    0.008</td> <td>   91.078</td> <td> 0.000</td> <td>    0.746</td> <td>    0.779</td>\n",
       "</tr>\n",
       "<tr>\n",
       "  <th>clarity_VS2</th>  <td>    0.7443</td> <td>    0.007</td> <td>  105.410</td> <td> 0.000</td> <td>    0.730</td> <td>    0.758</td>\n",
       "</tr>\n",
       "<tr>\n",
       "  <th>clarity_VVS1</th> <td>    0.9429</td> <td>    0.014</td> <td>   67.375</td> <td> 0.000</td> <td>    0.916</td> <td>    0.970</td>\n",
       "</tr>\n",
       "<tr>\n",
       "  <th>clarity_VVS2</th> <td>    0.8762</td> <td>    0.012</td> <td>   72.099</td> <td> 0.000</td> <td>    0.852</td> <td>    0.900</td>\n",
       "</tr>\n",
       "</table>"
      ],
      "text/plain": [
       "<class 'statsmodels.iolib.summary.Summary'>\n",
       "\"\"\"\n",
       "                 Generalized Linear Model Regression Results                  \n",
       "==============================================================================\n",
       "Dep. Variable:                  price   No. Observations:                  859\n",
       "Model:                            GLM   Df Residuals:                      838\n",
       "Model Family:                Gaussian   Df Model:                           20\n",
       "Link Function:                    log   Scale:                          50649.\n",
       "Method:                          IRLS   Log-Likelihood:                -5861.0\n",
       "Date:                Wed, 08 Mar 2023   Deviance:                   4.2444e+07\n",
       "Time:                        02:12:14   Pearson chi2:                 4.24e+07\n",
       "No. Iterations:                    22   Pseudo R-squ. (CS):              1.000\n",
       "Covariance Type:            nonrobust                                         \n",
       "================================================================================\n",
       "                   coef    std err          z      P>|z|      [0.025      0.975]\n",
       "--------------------------------------------------------------------------------\n",
       "const            6.0650      0.005   1159.381      0.000       6.055       6.075\n",
       "carat           -0.5882      0.039    -14.960      0.000      -0.665      -0.511\n",
       "depth           -0.0430      0.045     -0.958      0.338      -0.131       0.045\n",
       "table            0.0243      0.004      6.350      0.000       0.017       0.032\n",
       "length_mm        0.0201      0.099      0.203      0.839      -0.174       0.215\n",
       "width_mm         0.3744      0.092      4.087      0.000       0.195       0.554\n",
       "depth_mm         0.7281      0.171      4.270      0.000       0.394       1.062\n",
       "encoded cut      0.0122      0.003      3.517      0.000       0.005       0.019\n",
       "color_D          0.9806      0.009    111.662      0.000       0.963       0.998\n",
       "color_E          0.9480      0.007    139.634      0.000       0.935       0.961\n",
       "color_F          0.9357      0.007    138.875      0.000       0.923       0.949\n",
       "color_G          0.8831      0.008    113.083      0.000       0.868       0.898\n",
       "color_H          0.8194      0.009     94.732      0.000       0.802       0.836\n",
       "color_I          0.7579      0.011     67.488      0.000       0.736       0.780\n",
       "color_J          0.7402      0.016     44.962      0.000       0.708       0.772\n",
       "clarity_I1       0.4579      0.023     20.128      0.000       0.413       0.502\n",
       "clarity_IF       0.9950      0.022     45.326      0.000       0.952       1.038\n",
       "clarity_SI1      0.6948      0.007    101.299      0.000       0.681       0.708\n",
       "clarity_SI2      0.5914      0.009     62.388      0.000       0.573       0.610\n",
       "clarity_VS1      0.7624      0.008     91.078      0.000       0.746       0.779\n",
       "clarity_VS2      0.7443      0.007    105.410      0.000       0.730       0.758\n",
       "clarity_VVS1     0.9429      0.014     67.375      0.000       0.916       0.970\n",
       "clarity_VVS2     0.8762      0.012     72.099      0.000       0.852       0.900\n",
       "================================================================================\n",
       "\"\"\""
      ]
     },
     "execution_count": 32,
     "metadata": {},
     "output_type": "execute_result"
    }
   ],
   "source": [
    "X = add_constant(X_PREP)  # Ading constant column to handle bias\n",
    "model_full = GLM(y, X, family=sm.families.Gaussian(sm.families.links.log()))\n",
    "res = model_full.fit()  # Fitting the model\n",
    "res.summary()"
   ]
  },
  {
   "cell_type": "code",
   "execution_count": 33,
   "metadata": {},
   "outputs": [
    {
     "name": "stdout",
     "output_type": "stream",
     "text": [
      "depth\n",
      "length_mm\n"
     ]
    }
   ],
   "source": [
    "pvalues = dict(res.pvalues)  # Identifying the columns to drop\n",
    "for x in pvalues:\n",
    "    if pvalues[x] >= 0.05:\n",
    "        print(x)"
   ]
  },
  {
   "cell_type": "code",
   "execution_count": 34,
   "metadata": {},
   "outputs": [],
   "source": [
    "X_red = X.drop(['depth', 'length_mm'], axis=1)"
   ]
  },
  {
   "attachments": {},
   "cell_type": "markdown",
   "metadata": {},
   "source": [
    "Predictive Model:  yhat=5.455245+0.001909*ZN+0.022373*INDUS+0.028275*RAD-0.002238*MEDV"
   ]
  },
  {
   "cell_type": "code",
   "execution_count": 35,
   "metadata": {},
   "outputs": [
    {
     "data": {
      "text/plain": [
       "[228.75860053290018,\n",
       " 222.24709028747301,\n",
       " 162.68406746228032,\n",
       " 160.65380859457005]"
      ]
     },
     "execution_count": 35,
     "metadata": {},
     "output_type": "execute_result"
    }
   ],
   "source": [
    "rmse_st_full = []\n",
    "rmse_st_red = []\n",
    "rmse_skl_full = []\n",
    "rmse_skl_red = []\n",
    "\n",
    "model_skl = LinearRegression()\n",
    "for i in range(20):\n",
    "    X = add_constant(X)\n",
    "    X_train, X_test, y_train, y_test = train_test_split(X, y, test_size=0.2)\n",
    "    \n",
    "    #************************* Full Data Modelling  ***************************#\n",
    "\n",
    "    # Full Data Modelling -statsmodels\n",
    "    model_st_full_train = GLM(y_train, X_train, family=sm.families.Gaussian(sm.families.links.log()))\n",
    "    model_st_full = model_st_full_train.fit()  # Fitting the model\n",
    "\n",
    "    # Predicting using Test-set\n",
    "    pred_st_full = model_st_full.predict(X_test)\n",
    "    rmse = sqrt(mean_squared_error(y_test, pred_st_full))\n",
    "    rmse_st_full.append(rmse)\n",
    "    \n",
    "    # Full Data Modelling -sklearn\n",
    "    model_skl.fit(X_train, y_train)\n",
    "    \n",
    "    # Predicting using Test-set\n",
    "    pred_skl_full = model_skl.predict(X_test)\n",
    "    rmse = sqrt(mean_squared_error(y_test, pred_skl_full))\n",
    "    rmse_skl_full.append(rmse)\n",
    "    \n",
    "    #************************* Reduced Data Modelling  ***************************#\n",
    "    \n",
    "    X = add_constant(X_red)\n",
    "    X_train, X_test, y_train, y_test = train_test_split(X, y, test_size=0.2)\n",
    "    \n",
    "    # Reduced Data Modelling -statsmodels\n",
    "    \n",
    "    model_st_red_train = GLM(y_train, X_train, family=sm.families.Gaussian(sm.families.links.log()))  # create the linear reg model using\n",
    "    model_st_red = model_st_red_train.fit()\n",
    "    \n",
    "    # Predicting using Test-set\n",
    "    pred_red = model_reduced.predict(X_test)\n",
    "    rmse = sqrt(mean_squared_error(y_test, pred_red))\n",
    "    rmse_st_red.append(rmse)\n",
    "    \n",
    "    # Reduced Data Modelling -sklearn\n",
    "    \n",
    "    model_skl.fit(X_train, y_train)\n",
    "    \n",
    "    # Predicting using Test-set\n",
    "    pred_skl_red = model_skl.predict(X_test)\n",
    "    rmse = sqrt(mean_squared_error(y_test, pred_skl_red))\n",
    "    rmse_skl_red.append(rmse)\n",
    "    \n",
    "\n",
    "[mean(rmse_st_full), mean(rmse_st_red), mean(rmse_skl_full), mean(rmse_skl_red)]"
   ]
  },
  {
   "attachments": {},
   "cell_type": "markdown",
   "metadata": {},
   "source": [
    "# Deployment Phase"
   ]
  },
  {
   "cell_type": "code",
   "execution_count": 36,
   "metadata": {},
   "outputs": [],
   "source": [
    "X = add_constant(X_red)\n",
    "model_skl_red_dep = model_skl.fit(X, y)"
   ]
  },
  {
   "attachments": {},
   "cell_type": "markdown",
   "metadata": {},
   "source": [
    "# Predicting using Test-set"
   ]
  },
  {
   "cell_type": "code",
   "execution_count": 39,
   "metadata": {},
   "outputs": [
    {
     "name": "stdout",
     "output_type": "stream",
     "text": [
      "[2809.03468253]\n"
     ]
    },
    {
     "data": {
      "text/plain": [
       "858    2871\n",
       "Name: price, dtype: int64"
      ]
     },
     "execution_count": 39,
     "metadata": {},
     "output_type": "execute_result"
    }
   ],
   "source": [
    "pred_st_red_dep = model_skl_red_dep.predict(X.tail(1))\n",
    "print(pred_st_red_dep)\n",
    "y.tail(1)"
   ]
  }
 ],
 "metadata": {
  "kernelspec": {
   "display_name": "Python 3",
   "language": "python",
   "name": "python3"
  },
  "language_info": {
   "codemirror_mode": {
    "name": "ipython",
    "version": 3
   },
   "file_extension": ".py",
   "mimetype": "text/x-python",
   "name": "python",
   "nbconvert_exporter": "python",
   "pygments_lexer": "ipython3",
   "version": "3.11.0"
  },
  "orig_nbformat": 4
 },
 "nbformat": 4,
 "nbformat_minor": 2
}
