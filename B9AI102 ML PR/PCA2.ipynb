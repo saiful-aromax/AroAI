{
  "nbformat": 4,
  "nbformat_minor": 0,
  "metadata": {
    "colab": {
      "provenance": []
    },
    "kernelspec": {
      "name": "python3",
      "display_name": "Python 3"
    },
    "language_info": {
      "name": "python"
    }
  },
  "cells": [
    {
      "cell_type": "code",
      "execution_count": null,
      "metadata": {
        "id": "tNPPy4lkV6ZD",
        "colab": {
          "base_uri": "https://localhost:8080/"
        },
        "outputId": "944c149c-f3dd-4fc0-9943-e12c173baaa5"
      },
      "outputs": [
        {
          "output_type": "stream",
          "name": "stdout",
          "text": [
            "<class 'pandas.core.frame.DataFrame'>\n",
            "RangeIndex: 4898 entries, 0 to 4897\n",
            "Data columns (total 12 columns):\n",
            " #   Column                Non-Null Count  Dtype  \n",
            "---  ------                --------------  -----  \n",
            " 0   fixed acidity         4898 non-null   float64\n",
            " 1   volatile acidity      4898 non-null   float64\n",
            " 2   citric acid           4898 non-null   float64\n",
            " 3   residual sugar        4898 non-null   float64\n",
            " 4   chlorides             4898 non-null   float64\n",
            " 5   free sulfur dioxide   4898 non-null   float64\n",
            " 6   total sulfur dioxide  4898 non-null   float64\n",
            " 7   density               4898 non-null   float64\n",
            " 8   pH                    4898 non-null   float64\n",
            " 9   sulphates             4898 non-null   float64\n",
            " 10  alcohol               4898 non-null   float64\n",
            " 11  quality               4898 non-null   object \n",
            "dtypes: float64(11), object(1)\n",
            "memory usage: 459.3+ KB\n",
            "None\n"
          ]
        },
        {
          "output_type": "execute_result",
          "data": {
            "text/plain": [
              "array(['Normal', 'Excellent', 'Poor'], dtype=object)"
            ]
          },
          "metadata": {},
          "execution_count": 1
        }
      ],
      "source": [
        "from pandas import read_csv,Series\n",
        "from sklearn.preprocessing import StandardScaler\n",
        "from sklearn.model_selection import GridSearchCV\n",
        "from imblearn.over_sampling import SMOTE\n",
        "from imblearn.pipeline import Pipeline\n",
        "from sklearn.ensemble import RandomForestClassifier\n",
        "from sklearn.decomposition import PCA\n",
        "\n",
        "# Data reading \n",
        "data1 = read_csv(\"/content/drive/MyDrive/DBS Lectures /Beverage.csv\")\n",
        "# print(data1.head())\n",
        "# print(data1.shape)\n",
        "print(data1.info())\n",
        "data1['quality'].unique()"
      ]
    },
    {
      "cell_type": "code",
      "source": [
        "# Data Encoding\n",
        "data1['quality'] = data1['quality'].map({'Excellent':1, 'Normal':0, 'Poor':0})\n",
        "print(data1.info())"
      ],
      "metadata": {
        "id": "wcqPNM3WW0k4",
        "colab": {
          "base_uri": "https://localhost:8080/"
        },
        "outputId": "eea3986f-c36b-46c7-8c28-ce89b46ebd65"
      },
      "execution_count": null,
      "outputs": [
        {
          "output_type": "stream",
          "name": "stdout",
          "text": [
            "<class 'pandas.core.frame.DataFrame'>\n",
            "RangeIndex: 4898 entries, 0 to 4897\n",
            "Data columns (total 12 columns):\n",
            " #   Column                Non-Null Count  Dtype  \n",
            "---  ------                --------------  -----  \n",
            " 0   fixed acidity         4898 non-null   float64\n",
            " 1   volatile acidity      4898 non-null   float64\n",
            " 2   citric acid           4898 non-null   float64\n",
            " 3   residual sugar        4898 non-null   float64\n",
            " 4   chlorides             4898 non-null   float64\n",
            " 5   free sulfur dioxide   4898 non-null   float64\n",
            " 6   total sulfur dioxide  4898 non-null   float64\n",
            " 7   density               4898 non-null   float64\n",
            " 8   pH                    4898 non-null   float64\n",
            " 9   sulphates             4898 non-null   float64\n",
            " 10  alcohol               4898 non-null   float64\n",
            " 11  quality               4898 non-null   int64  \n",
            "dtypes: float64(11), int64(1)\n",
            "memory usage: 459.3 KB\n",
            "None\n"
          ]
        }
      ]
    },
    {
      "cell_type": "code",
      "source": [
        "# Dividing dataset into label and feature sets\n",
        "X = data1.drop('quality', axis = 1) # Features\n",
        "Y = data1['quality'] # Labels\n",
        "print(X.shape)\n",
        "print(Y.shape)"
      ],
      "metadata": {
        "id": "Np1XMcntW00M",
        "colab": {
          "base_uri": "https://localhost:8080/"
        },
        "outputId": "f324e948-8ab3-4270-93cf-ed51e37396eb"
      },
      "execution_count": null,
      "outputs": [
        {
          "output_type": "stream",
          "name": "stdout",
          "text": [
            "(4898, 11)\n",
            "(4898,)\n"
          ]
        }
      ]
    },
    {
      "cell_type": "code",
      "source": [
        "# Data Normalization\n",
        "X_ = StandardScaler().fit_transform(X)"
      ],
      "metadata": {
        "id": "7ZfRJgaWW1Df"
      },
      "execution_count": null,
      "outputs": []
    },
    {
      "cell_type": "code",
      "source": [
        "#Random Forest Classifier using grid search\n",
        "RF_Classifier1 = Pipeline([('balancing', SMOTE(random_state = 101)),('classification', RandomForestClassifier(criterion='entropy', max_features='auto', random_state=1))])\n",
        "no_trees = {'classification__n_estimators': [100, 150, 200, 250, 300]}\n",
        "grid_search1 = GridSearchCV(estimator=RF_Classifier1, param_grid=no_trees, scoring='precision', cv=5)\n",
        "grid_search1.fit(X_, Y)\n",
        "\n",
        "best_parameters = grid_search1.best_params_\n",
        "print(best_parameters)\n",
        "best_result = grid_search1.best_score_ \n",
        "print(best_result)"
      ],
      "metadata": {
        "id": "UBrRJJUWWyZN",
        "colab": {
          "base_uri": "https://localhost:8080/"
        },
        "outputId": "71f0b461-c1f3-47ce-a250-9ddbd3f639fa"
      },
      "execution_count": null,
      "outputs": [
        {
          "output_type": "stream",
          "name": "stdout",
          "text": [
            "{'classification__n_estimators': 100}\n",
            "0.5405981710772059\n"
          ]
        }
      ]
    },
    {
      "cell_type": "code",
      "source": [
        "#Random Forest Classifier using best parameter\n",
        "RF_Classifier2 = RandomForestClassifier(n_estimators=100, criterion='entropy', max_features='auto', random_state=1)\n",
        "RF_Classifier2.fit(X_,Y)\n",
        "important_feature = Series(RF_Classifier2.feature_importances_, index=list(X)).sort_values(ascending=False)\n",
        "print(important_feature)"
      ],
      "metadata": {
        "id": "MNncYsfeZeXX",
        "colab": {
          "base_uri": "https://localhost:8080/"
        },
        "outputId": "695c6d86-9c41-40a6-f78f-ac49717764d6"
      },
      "execution_count": null,
      "outputs": [
        {
          "output_type": "stream",
          "name": "stdout",
          "text": [
            "alcohol                 0.145159\n",
            "density                 0.122280\n",
            "volatile acidity        0.090512\n",
            "residual sugar          0.088370\n",
            "chlorides               0.087347\n",
            "pH                      0.084545\n",
            "free sulfur dioxide     0.084179\n",
            "total sulfur dioxide    0.084078\n",
            "citric acid             0.075975\n",
            "sulphates               0.072697\n",
            "fixed acidity           0.064858\n",
            "dtype: float64\n"
          ]
        }
      ]
    },
    {
      "cell_type": "code",
      "source": [
        "# best feature\n",
        "X2 = data1[['alcohol', 'density', 'volatile acidity']]\n",
        "X2_ = StandardScaler().fit_transform(X_)"
      ],
      "metadata": {
        "id": "bqAdYBJBaKfS"
      },
      "execution_count": null,
      "outputs": []
    },
    {
      "cell_type": "code",
      "source": [
        "#Random Forest Classifier using grid search with the important features\n",
        "RF_Classifier3 = Pipeline([('balancing', SMOTE(random_state = 101)), ('classification', RandomForestClassifier(criterion='entropy', max_features='auto', random_state=1) )])\n",
        "no_trees = {'classification__n_estimators': [10, 20, 30, 40, 50]}\n",
        "grid_search2 = GridSearchCV(estimator=RF_Classifier3, param_grid=no_trees, scoring='precision', cv=5)\n",
        "grid_search2.fit(X_, Y)\n",
        "\n",
        "best_parameters = grid_search2.best_params_\n",
        "print(best_parameters)\n",
        "best_result = grid_search2.best_score_ \n",
        "print(best_result)"
      ],
      "metadata": {
        "id": "B6Ei55mqZHQr",
        "colab": {
          "base_uri": "https://localhost:8080/"
        },
        "outputId": "126be0a0-8bfe-42b2-c48e-264159d4b87e"
      },
      "execution_count": null,
      "outputs": [
        {
          "output_type": "stream",
          "name": "stdout",
          "text": [
            "{'classification__n_estimators': 50}\n",
            "0.5309290922827856\n"
          ]
        }
      ]
    },
    {
      "cell_type": "code",
      "source": [
        "# principal components Analysis (PCA)\n",
        "pca = PCA(n_components = 6)\n",
        "pca.fit(X_)\n",
        "X_pca = pca.transform(X_)\n",
        "print(\"Variance explained by each of the n_components: \",pca.explained_variance_ratio_)\n",
        "print(\"Total variance explained by the n_components: \",sum(pca.explained_variance_ratio_))"
      ],
      "metadata": {
        "id": "vMrhg7EjYzsW",
        "colab": {
          "base_uri": "https://localhost:8080/"
        },
        "outputId": "a85cc7d4-26f5-40af-d510-cd3769bf0982"
      },
      "execution_count": null,
      "outputs": [
        {
          "output_type": "stream",
          "name": "stdout",
          "text": [
            "Variance explained by each of the n_components:  [0.29293217 0.14320363 0.11106103 0.09259294 0.08848496 0.08534014]\n",
            "Total variance explained by the n_components:  0.813614873394286\n"
          ]
        }
      ]
    },
    {
      "cell_type": "code",
      "source": [
        "#Random Forest Classifier using principal components\n",
        "RF_Classifier4 = Pipeline([('balancing', SMOTE(random_state = 101)),('classification', RandomForestClassifier(criterion='entropy', max_features='auto', random_state=1) )])\n",
        "no_trees = {'classification__n_estimators': [100, 150, 200, 250, 300]}\n",
        "grid_search3 = GridSearchCV(estimator=RF_Classifier4, param_grid=no_trees, scoring='recall', cv=5)\n",
        "grid_search3.fit(X_pca, Y)\n",
        "\n",
        "best_parameters = grid_search3.best_params_\n",
        "print(best_parameters)\n",
        "best_result = grid_search3.best_score_ \n",
        "print(best_result)"
      ],
      "metadata": {
        "id": "5gMDXnkKcBaO",
        "colab": {
          "base_uri": "https://localhost:8080/"
        },
        "outputId": "cb588a81-f5cb-4f35-c98e-e417de35c936"
      },
      "execution_count": null,
      "outputs": [
        {
          "output_type": "stream",
          "name": "stdout",
          "text": [
            "{'classification__n_estimators': 250}\n",
            "0.5245283018867924\n"
          ]
        }
      ]
    }
  ]
}