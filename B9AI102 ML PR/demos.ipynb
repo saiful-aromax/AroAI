{
  "nbformat": 4,
  "nbformat_minor": 0,
  "metadata": {
    "colab": {
      "provenance": []
    },
    "kernelspec": {
      "name": "python3",
      "display_name": "Python 3"
    },
    "language_info": {
      "name": "python"
    }
  },
  "cells": [
    {
      "cell_type": "code",
      "execution_count": null,
      "metadata": {
        "id": "wDnKa4fUpZAA"
      },
      "outputs": [],
      "source": []
    },
    {
      "cell_type": "markdown",
      "source": [
        "# demo 1\n",
        "use seed_data to do a classification problem using base and ensemble models. for this purpose, consider **target** as the output variable: \n",
        "\n",
        "1. write a cell to define base and ensemble classifiers \n",
        "\n",
        "2. make a dictionary of available classifiers \n",
        "\n",
        "3.  propose a validator to evaluate the result of each classifier \n",
        "\n",
        "4. visualize the deep insights using boxplot. \n",
        "\n",
        "5. validate the results and deploy the best model  \n"
      ],
      "metadata": {
        "id": "VcptmPQap1pQ"
      }
    },
    {
      "cell_type": "code",
      "source": [
        "%matplotlib inline\n",
        "\n",
        "import itertools\n",
        "import numpy as np\n",
        "from statistics import mean, stdev \n",
        "\n",
        "import seaborn as sns\n",
        "import matplotlib.pyplot as plt\n",
        "import matplotlib.gridspec as gridspec\n",
        " \n",
        "# base classifiers \n",
        "from sklearn.tree import DecisionTreeClassifier\n",
        "from sklearn.naive_bayes import GaussianNB\n",
        "from sklearn.linear_model import LogisticRegression\n",
        "from sklearn.svm import SVC \n",
        " \n",
        "# ensemble classifiers \n",
        "from sklearn.ensemble import BaggingClassifier, AdaBoostClassifier, StackingClassifier  \n",
        "from sklearn.model_selection import cross_val_score, train_test_split\n",
        "from sklearn.metrics import accuracy_score, recall_score,confusion_matrix\n",
        "\n",
        "from mlxtend.plotting import plot_learning_curves\n",
        "from mlxtend.plotting import plot_decision_regions\n",
        " "
      ],
      "metadata": {
        "id": "SIPaSQ_NuY08"
      },
      "execution_count": null,
      "outputs": []
    },
    {
      "cell_type": "code",
      "source": [
        "from sklearn.metrics._plot.confusion_matrix import confusion_matrix\n",
        "X_train,X_test,y_train,y_test = train_test_split(X,y,test_size=0.3)\n",
        "model= GaussianNB()\n",
        "model.fit(X_train, y_train)\n",
        "y_pred = model.predict(X_test)\n",
        "cm = confusion_matrix(y_test,y_pred)\n",
        "print(cm)\n",
        "re = recall_score(y_test,y_pred, average='micro')\n",
        "print(re)\n",
        "TP=cm[0,0]+cm[1,1]+cm[2,2]; FN=cm[1,0]+cm[2,0]+cm[2,1]\n",
        "TP/(TP+FN+FP)"
      ],
      "metadata": {
        "colab": {
          "base_uri": "https://localhost:8080/"
        },
        "id": "YPPhS7q_md0G",
        "outputId": "6bb64055-6b52-4c5e-ae9e-4fc44289e326"
      },
      "execution_count": null,
      "outputs": [
        {
          "output_type": "stream",
          "name": "stdout",
          "text": [
            "[[22  2  2]\n",
            " [ 0 14  0]\n",
            " [ 1  0 22]]\n",
            "0.9206349206349206\n"
          ]
        },
        {
          "output_type": "execute_result",
          "data": {
            "text/plain": [
              "0.9830508474576272"
            ]
          },
          "metadata": {},
          "execution_count": 41
        }
      ]
    },
    {
      "cell_type": "markdown",
      "source": [
        "write a cell to define base and ensemble classifiers"
      ],
      "metadata": {
        "id": "CWZo4v8Evh3X"
      }
    },
    {
      "cell_type": "code",
      "source": [
        "# get a list of models to evaluate\n",
        "def base_models():\n",
        "  models = dict() \n",
        "  models['bayes'] = GaussianNB()\n",
        "  models['logistic']=LogisticRegression()\n",
        "  models['dt_ent']=DecisionTreeClassifier(criterion='entropy')\n",
        "  models['dt_gini']=DecisionTreeClassifier() # gini\n",
        "  models['svc_lin'] = SVC(kernel='linear')\n",
        "  models['svc_sig'] = SVC(kernel='sigmoid')\n",
        "  models['svc_poly'] = SVC(kernel='poly')\n",
        "  models['svc_rbf'] = SVC()\n",
        "\n",
        "  return models"
      ],
      "metadata": {
        "id": "xILeJHEJ1jXL"
      },
      "execution_count": null,
      "outputs": []
    },
    {
      "cell_type": "code",
      "source": [
        "\n",
        "def validator(model, X, y):\n",
        "  Acc=[]\n",
        "  acc = cross_val_score(model,X,y,scoring=\"recall_weighted\",cv=5) \n",
        "  Acc.append(acc)\n",
        "\n",
        "  return Acc"
      ],
      "metadata": {
        "id": "RgOK1Thd3dBb"
      },
      "execution_count": null,
      "outputs": []
    },
    {
      "cell_type": "code",
      "source": [
        "from pandas import DataFrame, read_csv\n",
        "data=read_csv('/content/Seed_Data.csv')\n",
        "data.head()\n",
        "y=data['target']; X=data.drop('target',axis=1)"
      ],
      "metadata": {
        "id": "P5qBVoXz4WUf"
      },
      "execution_count": null,
      "outputs": []
    },
    {
      "cell_type": "code",
      "source": [],
      "metadata": {
        "id": "DOen84mKmV4o"
      },
      "execution_count": null,
      "outputs": []
    },
    {
      "cell_type": "code",
      "source": [
        "# get the models to evaluate\n",
        "from numpy import mean, std\n",
        "import warnings\n",
        "warnings.filterwarnings(\"ignore\")\n",
        "models=base_models()\n",
        "# evaluate the models and store results\n",
        "results, names = list(), list()\n",
        "for name, model in models.items():\n",
        "\tscores = validator(model, X, y)\n",
        "\tresults.append(scores)\n",
        "\tnames.append(name)\n",
        "\tprint('>%s %.3f (%.3f)' % (name, mean(scores), std(scores)))"
      ],
      "metadata": {
        "colab": {
          "base_uri": "https://localhost:8080/"
        },
        "id": "GyNbiAmJ8g4B",
        "outputId": "5d8801aa-0827-457d-e611-dbeb6e78c3e6"
      },
      "execution_count": null,
      "outputs": [
        {
          "output_type": "stream",
          "name": "stdout",
          "text": [
            ">bayes 0.886 (0.103)\n",
            ">logistic 0.933 (0.046)\n",
            ">dt_ent 0.890 (0.070)\n",
            ">dt_gini 0.881 (0.040)\n",
            ">svc_lin 0.900 (0.108)\n",
            ">svc_sig 0.000 (0.000)\n",
            ">svc_poly 0.895 (0.081)\n",
            ">svc_rbf 0.886 (0.111)\n"
          ]
        }
      ]
    },
    {
      "cell_type": "markdown",
      "source": [
        "# conclusion\n",
        "k fold cross validation is limited for the recall score, instead we use Monte Carlo sampling technique"
      ],
      "metadata": {
        "id": "M_aGz3ubhzV7"
      }
    },
    {
      "cell_type": "code",
      "source": [
        "# create the function to evaluate the models in terms of accuracy \n",
        "import numpy as np\n",
        "\n",
        "def evaluate_modelr(model, X, y):\n",
        "  re = []\n",
        "  for j in range(100):\n",
        "    X_train,X_test,y_train,y_test = train_test_split(X,y,test_size=0.3, random_state = j)\n",
        "    model.fit(X_train, y_train)\n",
        "    y_pred = model.predict(X_test)\n",
        "    recal = recall_score(y_test,y_pred, average='weighted')\n",
        "    re.append(recal)\n",
        "    Re=np.mean(re) \n",
        "    return Re"
      ],
      "metadata": {
        "id": "nkd7haWviFMw"
      },
      "execution_count": null,
      "outputs": []
    },
    {
      "cell_type": "code",
      "source": [
        "# get the models to evaluate\n",
        "from numpy import mean, std\n",
        "import warnings\n",
        "warnings.filterwarnings(\"ignore\")\n",
        "models=base_models()\n",
        "# evaluate the models and store results\n",
        "print('recall score for different base models is:')\n",
        "results, names = list(), list()\n",
        "for name, model in models.items():\n",
        "\tscores = evaluate_modelr(model, X, y)\n",
        "\tresults.append(scores)\n",
        "\tnames.append(name)\n",
        "  \n",
        "\tprint('>%s , (%.3f)' % (name, scores))"
      ],
      "metadata": {
        "colab": {
          "base_uri": "https://localhost:8080/"
        },
        "id": "LwnOJXoqiVdd",
        "outputId": "9c946cea-d330-4a19-ded1-4fc600895c8c"
      },
      "execution_count": null,
      "outputs": [
        {
          "output_type": "stream",
          "name": "stdout",
          "text": [
            "recall score for different base models is:\n",
            ">bayes , (0.889)\n",
            ">logistic , (0.889)\n",
            ">dt_ent , (0.937)\n",
            ">dt_gini , (0.921)\n",
            ">svc_lin , (0.905)\n",
            ">svc_sig , (0.270)\n",
            ">svc_poly , (0.873)\n",
            ">svc_rbf , (0.873)\n"
          ]
        }
      ]
    },
    {
      "cell_type": "code",
      "source": [
        "names, results"
      ],
      "metadata": {
        "id": "MNmQW2qQ8_S5"
      },
      "execution_count": null,
      "outputs": []
    },
    {
      "cell_type": "code",
      "source": [
        "# plot model performance for comparison\n",
        "plt.boxplot(results, labels=names, showmeans=True)\n",
        "plt.show()"
      ],
      "metadata": {
        "id": "GJL0BnRo8sep"
      },
      "execution_count": null,
      "outputs": []
    },
    {
      "cell_type": "code",
      "source": [
        "from numpy import mean, std\n",
        "import warnings; warnings.filterwarnings('ignore')\n",
        "\n",
        "models=base_models()\n",
        "results, names = list(), list()\n",
        "for name, model in models.items():\n",
        "\tscores = evaluate_modelr(model, X, y)\n",
        "\tresults.append(scores)\n",
        "\tnames.append(name)\n",
        "\tprint( DataFrame(scores))"
      ],
      "metadata": {
        "id": "mOYNzbxP5ErQ"
      },
      "execution_count": null,
      "outputs": []
    },
    {
      "cell_type": "code",
      "source": [
        "df=DataFrame(scores)\n",
        "df"
      ],
      "metadata": {
        "colab": {
          "base_uri": "https://localhost:8080/",
          "height": 80
        },
        "id": "ApwPIuvQ7h0U",
        "outputId": "4b385f17-d434-4bc8-a9cd-bd36e1721045"
      },
      "execution_count": null,
      "outputs": [
        {
          "output_type": "execute_result",
          "data": {
            "text/plain": [
              "         0         1         2         3         4\n",
              "0  0.97619  0.928571  0.928571  0.928571  0.666667"
            ],
            "text/html": [
              "\n",
              "  <div id=\"df-76e3bd01-6219-4142-9678-22939f9e9287\">\n",
              "    <div class=\"colab-df-container\">\n",
              "      <div>\n",
              "<style scoped>\n",
              "    .dataframe tbody tr th:only-of-type {\n",
              "        vertical-align: middle;\n",
              "    }\n",
              "\n",
              "    .dataframe tbody tr th {\n",
              "        vertical-align: top;\n",
              "    }\n",
              "\n",
              "    .dataframe thead th {\n",
              "        text-align: right;\n",
              "    }\n",
              "</style>\n",
              "<table border=\"1\" class=\"dataframe\">\n",
              "  <thead>\n",
              "    <tr style=\"text-align: right;\">\n",
              "      <th></th>\n",
              "      <th>0</th>\n",
              "      <th>1</th>\n",
              "      <th>2</th>\n",
              "      <th>3</th>\n",
              "      <th>4</th>\n",
              "    </tr>\n",
              "  </thead>\n",
              "  <tbody>\n",
              "    <tr>\n",
              "      <th>0</th>\n",
              "      <td>0.97619</td>\n",
              "      <td>0.928571</td>\n",
              "      <td>0.928571</td>\n",
              "      <td>0.928571</td>\n",
              "      <td>0.666667</td>\n",
              "    </tr>\n",
              "  </tbody>\n",
              "</table>\n",
              "</div>\n",
              "      <button class=\"colab-df-convert\" onclick=\"convertToInteractive('df-76e3bd01-6219-4142-9678-22939f9e9287')\"\n",
              "              title=\"Convert this dataframe to an interactive table.\"\n",
              "              style=\"display:none;\">\n",
              "        \n",
              "  <svg xmlns=\"http://www.w3.org/2000/svg\" height=\"24px\"viewBox=\"0 0 24 24\"\n",
              "       width=\"24px\">\n",
              "    <path d=\"M0 0h24v24H0V0z\" fill=\"none\"/>\n",
              "    <path d=\"M18.56 5.44l.94 2.06.94-2.06 2.06-.94-2.06-.94-.94-2.06-.94 2.06-2.06.94zm-11 1L8.5 8.5l.94-2.06 2.06-.94-2.06-.94L8.5 2.5l-.94 2.06-2.06.94zm10 10l.94 2.06.94-2.06 2.06-.94-2.06-.94-.94-2.06-.94 2.06-2.06.94z\"/><path d=\"M17.41 7.96l-1.37-1.37c-.4-.4-.92-.59-1.43-.59-.52 0-1.04.2-1.43.59L10.3 9.45l-7.72 7.72c-.78.78-.78 2.05 0 2.83L4 21.41c.39.39.9.59 1.41.59.51 0 1.02-.2 1.41-.59l7.78-7.78 2.81-2.81c.8-.78.8-2.07 0-2.86zM5.41 20L4 18.59l7.72-7.72 1.47 1.35L5.41 20z\"/>\n",
              "  </svg>\n",
              "      </button>\n",
              "      \n",
              "  <style>\n",
              "    .colab-df-container {\n",
              "      display:flex;\n",
              "      flex-wrap:wrap;\n",
              "      gap: 12px;\n",
              "    }\n",
              "\n",
              "    .colab-df-convert {\n",
              "      background-color: #E8F0FE;\n",
              "      border: none;\n",
              "      border-radius: 50%;\n",
              "      cursor: pointer;\n",
              "      display: none;\n",
              "      fill: #1967D2;\n",
              "      height: 32px;\n",
              "      padding: 0 0 0 0;\n",
              "      width: 32px;\n",
              "    }\n",
              "\n",
              "    .colab-df-convert:hover {\n",
              "      background-color: #E2EBFA;\n",
              "      box-shadow: 0px 1px 2px rgba(60, 64, 67, 0.3), 0px 1px 3px 1px rgba(60, 64, 67, 0.15);\n",
              "      fill: #174EA6;\n",
              "    }\n",
              "\n",
              "    [theme=dark] .colab-df-convert {\n",
              "      background-color: #3B4455;\n",
              "      fill: #D2E3FC;\n",
              "    }\n",
              "\n",
              "    [theme=dark] .colab-df-convert:hover {\n",
              "      background-color: #434B5C;\n",
              "      box-shadow: 0px 1px 3px 1px rgba(0, 0, 0, 0.15);\n",
              "      filter: drop-shadow(0px 1px 2px rgba(0, 0, 0, 0.3));\n",
              "      fill: #FFFFFF;\n",
              "    }\n",
              "  </style>\n",
              "\n",
              "      <script>\n",
              "        const buttonEl =\n",
              "          document.querySelector('#df-76e3bd01-6219-4142-9678-22939f9e9287 button.colab-df-convert');\n",
              "        buttonEl.style.display =\n",
              "          google.colab.kernel.accessAllowed ? 'block' : 'none';\n",
              "\n",
              "        async function convertToInteractive(key) {\n",
              "          const element = document.querySelector('#df-76e3bd01-6219-4142-9678-22939f9e9287');\n",
              "          const dataTable =\n",
              "            await google.colab.kernel.invokeFunction('convertToInteractive',\n",
              "                                                     [key], {});\n",
              "          if (!dataTable) return;\n",
              "\n",
              "          const docLinkHtml = 'Like what you see? Visit the ' +\n",
              "            '<a target=\"_blank\" href=https://colab.research.google.com/notebooks/data_table.ipynb>data table notebook</a>'\n",
              "            + ' to learn more about interactive tables.';\n",
              "          element.innerHTML = '';\n",
              "          dataTable['output_type'] = 'display_data';\n",
              "          await google.colab.output.renderOutput(dataTable, element);\n",
              "          const docLink = document.createElement('div');\n",
              "          docLink.innerHTML = docLinkHtml;\n",
              "          element.appendChild(docLink);\n",
              "        }\n",
              "      </script>\n",
              "    </div>\n",
              "  </div>\n",
              "  "
            ]
          },
          "metadata": {},
          "execution_count": 25
        }
      ]
    },
    {
      "cell_type": "code",
      "source": [
        "# get a stacking ensemble of models\n",
        "def get_stacking():\n",
        "\t# define the base models: level0 models\n",
        "\tlevel0 = list()\n",
        "\tlevel0.append(('lr', LogisticRegression())) # model A\n",
        "\tlevel0.append(('dt', DecisionTreeClassifier())) # model B\n",
        "\tlevel0.append(('nb', SVC(kernel='linear'))) # model C\n",
        "\t# define meta learner model: level 1\n",
        "\tlevel1 = LogisticRegression()\n",
        "\t# define the stacking ensemble\n",
        "\tmodel = StackingClassifier(estimators=level0, final_estimator=level1, cv=5)\n",
        "\treturn model"
      ],
      "metadata": {
        "id": "L2pezeEn2SAk"
      },
      "execution_count": null,
      "outputs": []
    },
    {
      "cell_type": "code",
      "source": [
        "# get a list of models to evaluate\n",
        "\n",
        "def en_models():\n",
        "  models = dict() \n",
        "  lr=LogisticRegression()\n",
        "  models['bagc'] = BaggingClassifier(base_estimator=lr, n_estimators=50, max_samples=0.8, max_features=0.8)\n",
        "  models['boosting'] = AdaBoostClassifier(base_estimator=lr, n_estimators=10) # 10 steps\n",
        "  models['stack'] =get_stacking() \n",
        "  return models"
      ],
      "metadata": {
        "id": "G-QCbOu_1xFW"
      },
      "execution_count": null,
      "outputs": []
    },
    {
      "cell_type": "markdown",
      "source": [],
      "metadata": {
        "id": "7NhpyPWS3c2E"
      }
    },
    {
      "cell_type": "code",
      "source": [
        "# get the models to evaluate\n",
        "from numpy import mean, std\n",
        "import warnings\n",
        "warnings.filterwarnings(\"ignore\")\n",
        "models=en_models()\n",
        "# evaluate the models and store results\n",
        "results, names = list(), list()\n",
        "for name, model in models.items():\n",
        "\tscores = validator(model, X, y)\n",
        "\tresults.append(scores)\n",
        "\tnames.append(name)\n",
        "\tprint('>%s %.3f (%.3f)' % (name, mean(scores), std(scores)))"
      ],
      "metadata": {
        "colab": {
          "base_uri": "https://localhost:8080/"
        },
        "id": "NYNRZd_Sfgnk",
        "outputId": "e47170ff-82a9-4186-c060-8b3c5c3acf8e"
      },
      "execution_count": null,
      "outputs": [
        {
          "output_type": "stream",
          "name": "stdout",
          "text": [
            ">bagc 0.905 (0.088)\n",
            ">boosting 0.890 (0.101)\n",
            ">stack 0.881 (0.089)\n"
          ]
        }
      ]
    },
    {
      "cell_type": "markdown",
      "source": [
        "#Demo 2\n",
        "\n",
        "apply base regression model to predict close price in terms of other variables.For this purpose, redo above dataflow for the regression task"
      ],
      "metadata": {
        "id": "dUUQ1rQRt3GE"
      }
    },
    {
      "cell_type": "code",
      "source": [
        "from pandas_datareader import data\n",
        "import matplotlib.pyplot as plt"
      ],
      "metadata": {
        "id": "VDP6sAwFt2p4"
      },
      "execution_count": null,
      "outputs": []
    },
    {
      "cell_type": "code",
      "source": [
        "!pip install yfinance"
      ],
      "metadata": {
        "id": "PvKgBWaruYzE"
      },
      "execution_count": null,
      "outputs": []
    },
    {
      "cell_type": "code",
      "source": [
        "import yfinance as yahooFinance\n",
        "import datetime\n",
        "# startDate , as per our convenience we can modify\n",
        "startDate = datetime.datetime(2019, 5, 31)\n",
        " \n",
        "# endDate , as per our convenience we can modify\n",
        "endDate = datetime.datetime(2021, 1, 30)\n",
        "apl = yahooFinance.Ticker(\"AAPL\")\n",
        " \n",
        "# pass the parameters as the taken dates for start and end\n",
        "data=apl.history(start=startDate,end=endDate)\n",
        "data.head()\n",
        "data.shape"
      ],
      "metadata": {
        "colab": {
          "base_uri": "https://localhost:8080/"
        },
        "id": "OBr5FDIfueT8",
        "outputId": "1b9befa7-73d6-47eb-ecdb-58e475485999"
      },
      "execution_count": null,
      "outputs": [
        {
          "output_type": "execute_result",
          "data": {
            "text/plain": [
              "(421, 7)"
            ]
          },
          "metadata": {},
          "execution_count": 54
        }
      ]
    }
  ]
}