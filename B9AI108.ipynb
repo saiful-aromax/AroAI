{
 "cells": [
  {
   "cell_type": "code",
   "execution_count": null,
   "metadata": {},
   "outputs": [],
   "source": [
    "#Ex. 3.1\n",
    "#Function to sum first n numbers\n",
    "def sum_of_first(n):\n",
    "  i = 0;\n",
    "  for x in range(n+1):\n",
    "    # print(x)\n",
    "    i = i + x\n",
    "  return i\n",
    "\n",
    "new_var = sum_of_first(3)\n",
    "print(new_var)"
   ]
  },
  {
   "cell_type": "code",
   "execution_count": null,
   "metadata": {},
   "outputs": [],
   "source": [
    "#Ex. 3.2\n",
    "#If we list all the natural numbers below 10 that are multiples of 3 or 5, we get 3, 5, 6 and 9. The sum of these multiples is 23.\n",
    "#Create a function to find the sum of all the multiples of a or b below n.\n",
    "# (a,b,n) are function parameters\n",
    "def sum_of_multiple(a,b,n):\n",
    "  sum = 0\n",
    "  for x in range(n):\n",
    "    if (x%a == 0) or (x%b == 0):\n",
    "      sum = sum + x\n",
    "  return sum\n",
    "\n",
    "\n",
    "new_var = sum_of_multiple(3,5,10)\n",
    "print(new_var)"
   ]
  },
  {
   "cell_type": "code",
   "execution_count": 1,
   "metadata": {},
   "outputs": [
    {
     "name": "stdout",
     "output_type": "stream",
     "text": [
      "23\n"
     ]
    }
   ],
   "source": [
    "# Ex 3.3\n",
    "# Create a function to find the sum of all the multiples of a or b in list l.\n",
    "# (a,b,l) are function parameters\n",
    "\n",
    "def sum_of_multiple(a, b, l):\n",
    "    sum_value = 0\n",
    "    for x in l:\n",
    "        if (x % a == 0) or (x % b == 0):\n",
    "            sum_value = sum_value + x\n",
    "\n",
    "    return sum_value\n",
    "\n",
    "\n",
    "l = [3, 5, 6, 9]\n",
    "var_test = sum_of_multiple(3, 5, l)\n",
    "print(var_test)\n"
   ]
  },
  {
   "cell_type": "code",
   "execution_count": 4,
   "metadata": {},
   "outputs": [
    {
     "name": "stdout",
     "output_type": "stream",
     "text": [
      "5\n"
     ]
    }
   ],
   "source": [
    "# Ex 3.4\n",
    "# Create a function to find the sum of all\n",
    "# the multiples of factors in list a  contained in list l.\n",
    "# (a,l) are function parameters and len(a) == 2\n",
    "\n",
    "def sum_of_multiple(a, l):\n",
    "    sum_value = 0\n",
    "    if len(a) == 2:\n",
    "        for x in l:\n",
    "            for y in a:\n",
    "                if y % x == 0:\n",
    "                    sum_value = sum_value + x\n",
    "\n",
    "    return sum_value\n",
    "\n",
    "\n",
    "l = [3, 5, 6, 9]\n",
    "a = [1, 5]\n",
    "var_test = sum_of_multiple(a, l)\n",
    "print(var_test)\n"
   ]
  },
  {
   "cell_type": "code",
   "execution_count": null,
   "metadata": {},
   "outputs": [],
   "source": [
    "# Ex 3.5\n",
    "# Create a function to find the sum of all\n",
    "# the multiples of factors in list a contained in list l.\n",
    "# (a,l) are function parameters\n",
    "\n",
    "def sum_of_multiple(a, l):\n",
    "    sum_value = 0\n",
    "    for x in l:\n",
    "        for y in a:\n",
    "            if y % x == 0:\n",
    "                sum_value = sum_value + x\n",
    "\n",
    "    return sum_value\n",
    "\n",
    "\n",
    "l = [3, 5, 6, 9]\n",
    "a = [1, 5]\n",
    "var_test = sum_of_multiple(a, l)\n",
    "print(var_test)\n"
   ]
  },
  {
   "cell_type": "code",
   "execution_count": null,
   "metadata": {},
   "outputs": [],
   "source": [
    "# Ex 3.5\n",
    "# Create a function to find the sum of all\n",
    "# the multiples of factors in list a contained in list l.\n",
    "# (a,l) are function parameters\n",
    "\n",
    "def sum_of_multiple(a, l):\n",
    "    sum_value = 0\n",
    "    for x in l:\n",
    "        for y in a:\n",
    "            if y % x == 0:\n",
    "                sum_value = sum_value + x\n",
    "\n",
    "    return sum_value\n",
    "\n",
    "\n",
    "l = [3, 5, 6, 9]\n",
    "a = [1, 5]\n",
    "var_test = sum_of_multiple(a, l)\n",
    "print(var_test)\n"
   ]
  }
 ],
 "metadata": {
  "kernelspec": {
   "display_name": "Python 3",
   "language": "python",
   "name": "python3"
  },
  "language_info": {
   "codemirror_mode": {
    "name": "ipython",
    "version": 3
   },
   "file_extension": ".py",
   "mimetype": "text/x-python",
   "name": "python",
   "nbconvert_exporter": "python",
   "pygments_lexer": "ipython3",
   "version": "3.10.9"
  },
  "orig_nbformat": 4,
  "vscode": {
   "interpreter": {
    "hash": "f585781dd7d736710d676918f70cb1c14a5bbf46d26bce6628e8497fa7390e36"
   }
  }
 },
 "nbformat": 4,
 "nbformat_minor": 2
}
