{
 "cells": [
  {
   "cell_type": "code",
   "execution_count": null,
   "metadata": {},
   "outputs": [],
   "source": [
    "#Ex. 3.1\n",
    "#Function to sum first n numbers\n",
    "def sum_of_first(n):\n",
    "  i = 0;\n",
    "  for x in range(n+1):\n",
    "    # print(x)\n",
    "    i = i + x\n",
    "  return i\n",
    "\n",
    "new_var = sum_of_first(3)\n",
    "print(new_var)"
   ]
  },
  {
   "cell_type": "code",
   "execution_count": 2,
   "metadata": {},
   "outputs": [
    {
     "name": "stdout",
     "output_type": "stream",
     "text": [
      "23\n"
     ]
    }
   ],
   "source": [
    "# Ex. 3.2\n",
    "# If we list all the natural numbers below 10 that are multiples of 3 or 5, we get 3, 5, 6 and 9. The sum of these multiples is 23.\n",
    "# Create a function to find the sum of all the multiples of a or b below n.\n",
    "# (a,b,n) are function parameters\n",
    "def sum_of_multiple(a, b, n):\n",
    "    sum_value = 0\n",
    "    for x in range(n):\n",
    "        if (x % a == 0) or (x % b == 0):\n",
    "            sum_value += x\n",
    "    return sum_value\n",
    "\n",
    "\n",
    "new_var = sum_of_multiple(3, 5, 10)\n",
    "print(new_var)\n"
   ]
  },
  {
   "cell_type": "code",
   "execution_count": 13,
   "metadata": {},
   "outputs": [
    {
     "name": "stdout",
     "output_type": "stream",
     "text": [
      "(78, [0, 3, 5, 6, 9, 10, 12, 15, 18])\n"
     ]
    }
   ],
   "source": [
    "# Ex 3.3\n",
    "# Create a function to find the sum of all the multiples of a or b in list l.\n",
    "# (a,b,l) are function parameters\n",
    "\n",
    "def sum_of_multiple(a, b, l):\n",
    "    my_list = []\n",
    "    sum_value = 0\n",
    "    for x in l:\n",
    "        if (x % a == 0) or (x % b == 0):\n",
    "            my_list.append(x)\n",
    "            sum_value += x\n",
    "\n",
    "    return sum_value, my_list\n",
    "\n",
    "\n",
    "l = list(range(20))\n",
    "var_test = sum_of_multiple(3, 5, l)\n",
    "print(var_test)\n"
   ]
  },
  {
   "cell_type": "code",
   "execution_count": 4,
   "metadata": {},
   "outputs": [
    {
     "name": "stdout",
     "output_type": "stream",
     "text": [
      "5\n"
     ]
    }
   ],
   "source": [
    "# Ex 3.4\n",
    "# Create a function to find the sum of all\n",
    "# the multiples of factors in list a  contained in list l.\n",
    "# (a,l) are function parameters and len(a) == 2\n",
    "\n",
    "def sum_of_multiple(a, l):\n",
    "    sum_value = 0\n",
    "    if len(a) == 2:\n",
    "        for x in l:\n",
    "            for y in a:\n",
    "                if y % x == 0:\n",
    "                    sum_value = sum_value + x\n",
    "\n",
    "    return sum_value\n",
    "\n",
    "\n",
    "l = [3, 5, 6, 9]\n",
    "a = [1, 5]\n",
    "var_test = sum_of_multiple(a, l)\n",
    "print(var_test)\n"
   ]
  },
  {
   "cell_type": "code",
   "execution_count": null,
   "metadata": {},
   "outputs": [],
   "source": [
    "# Ex 3.5\n",
    "# Create a function to find the sum of all\n",
    "# the multiples of factors in list a contained in list l.\n",
    "# (a,l) are function parameters\n",
    "\n",
    "def sum_of_multiple(a, l):\n",
    "    sum_value = 0\n",
    "    for x in l:\n",
    "        for y in a:\n",
    "            if y % x == 0:\n",
    "                sum_value = sum_value + x\n",
    "\n",
    "    return sum_value\n",
    "\n",
    "\n",
    "l = [3, 5, 6, 9]\n",
    "a = [1, 5]\n",
    "var_test = sum_of_multiple(a, l)\n",
    "print(var_test)\n"
   ]
  },
  {
   "cell_type": "code",
   "execution_count": 15,
   "metadata": {},
   "outputs": [
    {
     "name": "stdout",
     "output_type": "stream",
     "text": [
      "140\n"
     ]
    }
   ],
   "source": [
    "# Ex 3.5\n",
    "# Create a function to find the sum of all\n",
    "# the multiples of factors in list a contained in list l.\n",
    "# (a,l) are function parameters\n",
    "\n",
    "def sum_of_multiple(a, l):\n",
    "    sum_value = 0\n",
    "    for x in l:\n",
    "        for y in a:\n",
    "            if x % y == 0:\n",
    "                sum_value = sum_value + x\n",
    "                break\n",
    "\n",
    "    return sum_value\n",
    "\n",
    "\n",
    "var_test = sum_of_multiple([2, 3, 5, 7, 11], list(range(20)))\n",
    "print(var_test)\n"
   ]
  },
  {
   "cell_type": "code",
   "execution_count": 42,
   "metadata": {},
   "outputs": [],
   "source": [
    "#Ex 4.1\n",
    "#Create a function to find the sum of all \n",
    "#the multiples of factors in file with filename a \n",
    "#contained in list file with filename b, each one number per line.\n",
    "# (a,b) are function parameters\n",
    "\n",
    "#Ex 4.2\n",
    "#Be efficient\n",
    "\n",
    "#Ex 4.3\n",
    "#Keep your code DRY (No repetition of previous code)\n",
    "\n",
    "#multiples of factors\n",
    "a_file = open(\"a.txt\", \"r+\")\n",
    "a_file.write(\"2\\n3\\n5\\n7\\n11\")\n",
    "\n",
    "\n",
    "#multiples of factors\n",
    "b_file = open(\"b.txt\", \"r+\")\n",
    "b_file.write(\"1\\n2\\n3\\n4\")\n",
    "\n",
    "a_list = list(open(\"a.txt\", \"r\"))\n",
    "\n",
    "a = []\n",
    "for sub in a_list:\n",
    "    a.append(int(sub.replace(\"\\n\", \"\")))\n",
    "\n",
    "b_list = list(open(\"b.txt\", \"r\"))\n",
    "\n",
    "b = []\n",
    "for sub in b_list:\n",
    "    b.append(int(sub.replace(\"\\n\", \"\")))\n",
    "    \n",
    "def sum_of_multiple(a, b):\n",
    "    sum = 0\n",
    "    for b_item in b:\n",
    "        for a_item in a:\n",
    "            if b_item % a_item == 0:\n",
    "                sum = sum + b_item\n",
    "                break\n",
    "    return sum\n",
    "    \n",
    "    "
   ]
  },
  {
   "cell_type": "code",
   "execution_count": 2,
   "metadata": {},
   "outputs": [
    {
     "name": "stdout",
     "output_type": "stream",
     "text": [
      "[0, 1, 2, 3, 4, 5, 6, 7, 8, 9, 10, 11, 12, 13, 14, 15, 16, 17, 18, 19]\n"
     ]
    }
   ],
   "source": [
    "var1 = list(range(20))\n",
    "print(var1)"
   ]
  }
 ],
 "metadata": {
  "kernelspec": {
   "display_name": "Python 3",
   "language": "python",
   "name": "python3"
  },
  "language_info": {
   "codemirror_mode": {
    "name": "ipython",
    "version": 3
   },
   "file_extension": ".py",
   "mimetype": "text/x-python",
   "name": "python",
   "nbconvert_exporter": "python",
   "pygments_lexer": "ipython3",
   "version": "3.10.9"
  },
  "orig_nbformat": 4,
  "vscode": {
   "interpreter": {
    "hash": "f585781dd7d736710d676918f70cb1c14a5bbf46d26bce6628e8497fa7390e36"
   }
  }
 },
 "nbformat": 4,
 "nbformat_minor": 2
}
