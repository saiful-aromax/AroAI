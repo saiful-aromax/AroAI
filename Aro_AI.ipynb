{
 "cells": [
  {
   "cell_type": "code",
   "execution_count": 1,
   "metadata": {},
   "outputs": [
    {
     "name": "stdout",
     "output_type": "stream",
     "text": [
      "2\n",
      "4\n",
      "6\n",
      "8\n",
      "Saiful\n",
      "1\n",
      "3\n",
      "5\n",
      "7\n",
      "Aromax\n"
     ]
    }
   ],
   "source": [
    "import numpy as np\n",
    "aro_array = np.array([[2, 4, 6, 8, \"Saiful\"], [1, 3, 5, 7, \"Aromax\"]])\n",
    "for aro in aro_array:\n",
    "    for ar in aro:\n",
    "        print(ar)\n"
   ]
  },
  {
   "cell_type": "code",
   "execution_count": 1,
   "metadata": {},
   "outputs": [
    {
     "name": "stdout",
     "output_type": "stream",
     "text": [
      "Num GPUs Available:  1\n"
     ]
    }
   ],
   "source": [
    "import tensorflow as tf\n",
    "print(\"Num GPUs Available: \", len(tf.config.list_physical_devices('GPU')))"
   ]
  },
  {
   "cell_type": "code",
   "execution_count": null,
   "metadata": {},
   "outputs": [],
   "source": [
    "import numpy as np\n",
    "aro_array = np.array([[2, 4, 6, 8, \"Saiful\"], [1, 3, 5, 7, \"Aromax\"]])\n",
    "for i in range(len(aro_array)):\n",
    "    aro = aro_array[i]\n",
    "    for j in range(len(aro)):\n",
    "        ar = aro[j]\n",
    "        print(ar)\n"
   ]
  },
  {
   "cell_type": "code",
   "execution_count": null,
   "metadata": {},
   "outputs": [],
   "source": [
    "my_list = [11, 12, 13, 14, 15]\n",
    "i = 0\n",
    "len_my_list = len(my_list)\n",
    "while(i < len_my_list):\n",
    "    print(my_list[i])\n",
    "    i += 1\n"
   ]
  }
 ],
 "metadata": {
  "interpreter": {
   "hash": "aee8b7b246df8f9039afb4144a1f6fd8d2ca17a180786b69acc140d282b71a49"
  },
  "kernelspec": {
   "display_name": "Python 3.10.4 64-bit",
   "language": "python",
   "name": "python3"
  },
  "language_info": {
   "codemirror_mode": {
    "name": "ipython",
    "version": 3
   },
   "file_extension": ".py",
   "mimetype": "text/x-python",
   "name": "python",
   "nbconvert_exporter": "python",
   "pygments_lexer": "ipython3",
   "version": "3.10.5"
  },
  "orig_nbformat": 4
 },
 "nbformat": 4,
 "nbformat_minor": 2
}
