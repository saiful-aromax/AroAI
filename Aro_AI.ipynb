{
 "cells": [
  {
   "cell_type": "code",
   "execution_count": 32,
   "metadata": {},
   "outputs": [
    {
     "name": "stdout",
     "output_type": "stream",
     "text": [
      "Saiful\n",
      "Saiful\n",
      "2\n",
      "4\n",
      "6\n",
      "8\n",
      "Saiful\n",
      "1\n",
      "3\n",
      "5\n",
      "7\n",
      "Aromax\n"
     ]
    }
   ],
   "source": [
    "import numpy as np\n",
    "aro_array = np.array([[2, 4, 6, 8, \"Saiful\"], [1, 3, 5, 7, \"Aromax\"]])\n",
    "print(aro_array[0][4])\n",
    "print(aro_array[0, 4])\n",
    "for aro in aro_array:\n",
    "    for ar in aro:\n",
    "        print(ar)\n"
   ]
  },
  {
   "cell_type": "code",
   "execution_count": 1,
   "metadata": {},
   "outputs": [
    {
     "name": "stdout",
     "output_type": "stream",
     "text": [
      "Num GPUs Available:  1\n"
     ]
    }
   ],
   "source": [
    "import tensorflow as tf\n",
    "print(\"Num GPUs Available: \", len(tf.config.list_physical_devices('GPU')))"
   ]
  },
  {
   "cell_type": "code",
   "execution_count": 26,
   "metadata": {},
   "outputs": [
    {
     "name": "stdout",
     "output_type": "stream",
     "text": [
      "18\n"
     ]
    }
   ],
   "source": [
    "arr = []\n",
    "arr = [[i for i in range(6)], 18]\n",
    "print(arr[1])"
   ]
  },
  {
   "cell_type": "code",
   "execution_count": 2,
   "metadata": {},
   "outputs": [
    {
     "name": "stdout",
     "output_type": "stream",
     "text": [
      "10\n",
      "20\n",
      "30\n",
      "40\n",
      "50\n"
     ]
    }
   ],
   "source": [
    "from array import *\n",
    "\n",
    "array1 = array('i', [10,20,30,40,50])\n",
    "\n",
    "for x in array1:\n",
    "    print(x)"
   ]
  },
  {
   "cell_type": "code",
   "execution_count": 2,
   "metadata": {},
   "outputs": [
    {
     "name": "stdout",
     "output_type": "stream",
     "text": [
      "2\n",
      "4\n",
      "6\n",
      "8\n",
      "Saiful\n",
      "1\n",
      "3\n",
      "5\n",
      "7\n",
      "Aromax\n"
     ]
    }
   ],
   "source": [
    "import numpy as np\n",
    "aro_array = np.array([[2, 4, 6, 8, \"Saiful\"], [1, 3, 5, 7, \"Aromax\"]])\n",
    "for i in range(len(aro_array)):\n",
    "    aro = aro_array[i]\n",
    "    for j in range(len(aro)):\n",
    "        ar = aro[j]\n",
    "        print(ar)\n"
   ]
  },
  {
   "cell_type": "code",
   "execution_count": null,
   "metadata": {},
   "outputs": [],
   "source": [
    "my_list = [11, 12, 13, 14, 15]\n",
    "i = 0\n",
    "len_my_list = len(my_list)\n",
    "while(i < len_my_list):\n",
    "    print(my_list[i])\n",
    "    i += 1\n"
   ]
  },
  {
   "cell_type": "code",
   "execution_count": 33,
   "metadata": {},
   "outputs": [
    {
     "name": "stdout",
     "output_type": "stream",
     "text": [
      "11\n",
      "12\n",
      "13\n",
      "14\n",
      "15\n"
     ]
    }
   ],
   "source": [
    "my_list = [11, 12, 13, 14, 15]\n",
    "i = 0\n",
    "len_my_list = len(my_list)\n",
    "while(i < len_my_list):\n",
    "    print(my_list[i])\n",
    "    i += 1"
   ]
  }
 ],
 "metadata": {
  "kernelspec": {
   "display_name": "Python 3.10.5 64-bit",
   "language": "python",
   "name": "python3"
  },
  "language_info": {
   "codemirror_mode": {
    "name": "ipython",
    "version": 3
   },
   "file_extension": ".py",
   "mimetype": "text/x-python",
   "name": "python",
   "nbconvert_exporter": "python",
   "pygments_lexer": "ipython3",
   "version": "3.10.5"
  },
  "orig_nbformat": 4,
  "vscode": {
   "interpreter": {
    "hash": "67e0cbc25fa4f5baaacba1240f401bc655b640f8e15cfc935dfee2e63491bdf4"
   }
  }
 },
 "nbformat": 4,
 "nbformat_minor": 2
}
