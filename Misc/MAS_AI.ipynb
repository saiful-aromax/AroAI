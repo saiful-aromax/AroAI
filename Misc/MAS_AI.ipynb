{
  "cells": [
    {
      "cell_type": "code",
      "execution_count": null,
      "metadata": {
        "colab": {
          "base_uri": "https://localhost:8080/"
        },
        "id": "IL4J0ZbSeVRE",
        "outputId": "2404632c-36ce-4980-964b-3ecee28492c3"
      },
      "outputs": [
        {
          "name": "stdout",
          "output_type": "stream",
          "text": [
            "Requirement already satisfied: tuya-connector-python in /usr/local/lib/python3.10/dist-packages (0.1.2)\n",
            "Requirement already satisfied: requests in /usr/local/lib/python3.10/dist-packages (from tuya-connector-python) (2.31.0)\n",
            "Requirement already satisfied: pycryptodome in /usr/local/lib/python3.10/dist-packages (from tuya-connector-python) (3.19.0)\n",
            "Requirement already satisfied: websocket-client in /usr/local/lib/python3.10/dist-packages (from tuya-connector-python) (1.6.4)\n",
            "Requirement already satisfied: charset-normalizer<4,>=2 in /usr/local/lib/python3.10/dist-packages (from requests->tuya-connector-python) (3.3.1)\n",
            "Requirement already satisfied: idna<4,>=2.5 in /usr/local/lib/python3.10/dist-packages (from requests->tuya-connector-python) (3.4)\n",
            "Requirement already satisfied: urllib3<3,>=1.21.1 in /usr/local/lib/python3.10/dist-packages (from requests->tuya-connector-python) (2.0.7)\n",
            "Requirement already satisfied: certifi>=2017.4.17 in /usr/local/lib/python3.10/dist-packages (from requests->tuya-connector-python) (2023.7.22)\n"
          ]
        }
      ],
      "source": [
        "pip install tuya-connector-python"
      ]
    },
    {
      "cell_type": "code",
      "execution_count": 1,
      "metadata": {
        "id": "3RDUViFA0Phv"
      },
      "outputs": [],
      "source": [
        "ACCESS_ID = \"vtj3ft7hadfea5y3yvs7\"\n",
        "ACCESS_SECRET = \"16347a3b50984ae696e6887e4d503fa2\"\n",
        "API_ENDPOINT = \"https://openapi.tuyaus.com\"\n",
        "DEVICE_ID = \"bf0867de0cbdec04744czw\""
      ]
    },
    {
      "cell_type": "code",
      "execution_count": 4,
      "metadata": {
        "colab": {
          "base_uri": "https://localhost:8080/"
        },
        "id": "RGJgBmriebxV",
        "outputId": "442c04ab-5ccf-4af8-da78-198bc42a9c0f"
      },
      "outputs": [
        {
          "name": "stderr",
          "output_type": "stream",
          "text": [
            "[2023-11-03 13:49:43,987] [tuya-openapi] Request: method = GET,                 url = https://openapi.tuyaus.com/v1.0/token,                params = {'grant_type': 1},                body = None,                t = 1699019383987\n",
            "DEBUG:tuya iot:Request: method = GET,                 url = https://openapi.tuyaus.com/v1.0/token,                params = {'grant_type': 1},                body = None,                t = 1699019383987\n",
            "DEBUG:urllib3.connectionpool:Starting new HTTPS connection (1): openapi.tuyaus.com:443\n",
            "DEBUG:urllib3.connectionpool:https://openapi.tuyaus.com:443 \"GET /v1.0/token?grant_type=1 HTTP/1.1\" 200 235\n",
            "[2023-11-03 13:49:44,842] [tuya-openapi] Response: {\n",
            "  \"result\": {\n",
            "    \"access_token\": \"***\",\n",
            "    \"expire_time\": 3385,\n",
            "    \"refresh_token\": \"***\",\n",
            "    \"uid\": \"***\"\n",
            "  },\n",
            "  \"success\": true,\n",
            "  \"t\": 1699019384752,\n",
            "  \"tid\": \"d872aa5f7a4f11eea89ae2fd993f75a4\"\n",
            "}\n",
            "DEBUG:tuya iot:Response: {\n",
            "  \"result\": {\n",
            "    \"access_token\": \"***\",\n",
            "    \"expire_time\": 3385,\n",
            "    \"refresh_token\": \"***\",\n",
            "    \"uid\": \"***\"\n",
            "  },\n",
            "  \"success\": true,\n",
            "  \"t\": 1699019384752,\n",
            "  \"tid\": \"d872aa5f7a4f11eea89ae2fd993f75a4\"\n",
            "}\n",
            "[2023-11-03 13:49:44,843] [tuya-openapi] Request: method = GET,                 url = https://openapi.tuyaus.com/v1.0/devices/bf0867de0cbdec04744czw,                params = None,                body = None,                t = 1699019384843\n",
            "DEBUG:tuya iot:Request: method = GET,                 url = https://openapi.tuyaus.com/v1.0/devices/bf0867de0cbdec04744czw,                params = None,                body = None,                t = 1699019384843\n",
            "DEBUG:urllib3.connectionpool:https://openapi.tuyaus.com:443 \"GET /v1.0/devices/bf0867de0cbdec04744czw HTTP/1.1\" 200 112\n",
            "[2023-11-03 13:49:45,078] [tuya-openapi] Response: {\n",
            "  \"code\": 1106,\n",
            "  \"msg\": \"permission deny\",\n",
            "  \"success\": false,\n",
            "  \"t\": 1699019384986,\n",
            "  \"tid\": \"d892ddb07a4f11eea89ae2fd993f75a4\"\n",
            "}\n",
            "DEBUG:tuya iot:Response: {\n",
            "  \"code\": 1106,\n",
            "  \"msg\": \"permission deny\",\n",
            "  \"success\": false,\n",
            "  \"t\": 1699019384986,\n",
            "  \"tid\": \"d892ddb07a4f11eea89ae2fd993f75a4\"\n",
            "}\n"
          ]
        },
        {
          "name": "stdout",
          "output_type": "stream",
          "text": [
            "{'code': 1106, 'msg': 'permission deny', 'success': False, 't': 1699019384986, 'tid': 'd892ddb07a4f11eea89ae2fd993f75a4'}\n"
          ]
        }
      ],
      "source": [
        "from tuya_connector import TuyaOpenAPI, TUYA_LOGGER\n",
        "import logging\n",
        "\n",
        "# Enable DEBUG log\n",
        "logging.basicConfig(level=logging.DEBUG)\n",
        "TUYA_LOGGER.setLevel(logging.DEBUG)\n",
        "\n",
        "# Tuya Developer portal Access ID and Access Secret\n",
        "ACCESS_ID = \"vtj3ft7hadfea5y3yvs7\"\n",
        "ACCESS_SECRET = \"16347a3b50984ae696e6887e4d503fa2\"\n",
        "API_ENDPOINT = \"https://openapi.tuyaus.com\"  # Change this according to your region\n",
        "\n",
        "# Device ID of the Smart Gateway Hub\n",
        "DEVICE_ID = \"bf0867de0cbdec04744czw\"\n",
        "\n",
        "# Initialize Tuya Open API and connect\n",
        "openapi = TuyaOpenAPI(API_ENDPOINT, ACCESS_ID, ACCESS_SECRET)\n",
        "openapi.connect()\n",
        "\n",
        "# Example: Get device status\n",
        "result = openapi.get(f\"/v1.0/devices/{DEVICE_ID}\")\n",
        "print(result)\n",
        "\n",
        "# TODO: Add your code to interact with the Smart Gateway Hub here\n",
        "\n",
        "# Disconnect\n",
        "# openapi.disconnect()\n"
      ]
    },
    {
      "cell_type": "code",
      "execution_count": 5,
      "metadata": {
        "colab": {
          "base_uri": "https://localhost:8080/"
        },
        "id": "-1wx0U8Ygqwy",
        "outputId": "97d57f9c-d89b-4322-b678-e7c5fc0a9877"
      },
      "outputs": [
        {
          "name": "stderr",
          "output_type": "stream",
          "text": [
            "[2023-11-03 13:49:55,147] [tuya-openapi] Request: method = GET,                 url = https://openapi.tuyaus.com/v1.0/token,                params = {'grant_type': 1},                body = None,                t = 1699019395147\n",
            "DEBUG:tuya iot:Request: method = GET,                 url = https://openapi.tuyaus.com/v1.0/token,                params = {'grant_type': 1},                body = None,                t = 1699019395147\n",
            "DEBUG:urllib3.connectionpool:Starting new HTTPS connection (1): openapi.tuyaus.com:443\n",
            "DEBUG:urllib3.connectionpool:https://openapi.tuyaus.com:443 \"GET /v1.0/token?grant_type=1 HTTP/1.1\" 200 235\n",
            "[2023-11-03 13:49:56,097] [tuya-openapi] Response: {\n",
            "  \"result\": {\n",
            "    \"access_token\": \"***\",\n",
            "    \"expire_time\": 3871,\n",
            "    \"refresh_token\": \"***\",\n",
            "    \"uid\": \"***\"\n",
            "  },\n",
            "  \"success\": true,\n",
            "  \"t\": 1699019396003,\n",
            "  \"tid\": \"df27c4577a4f11ee9ec64614895ffb03\"\n",
            "}\n",
            "DEBUG:tuya iot:Response: {\n",
            "  \"result\": {\n",
            "    \"access_token\": \"***\",\n",
            "    \"expire_time\": 3871,\n",
            "    \"refresh_token\": \"***\",\n",
            "    \"uid\": \"***\"\n",
            "  },\n",
            "  \"success\": true,\n",
            "  \"t\": 1699019396003,\n",
            "  \"tid\": \"df27c4577a4f11ee9ec64614895ffb03\"\n",
            "}\n",
            "[2023-11-03 13:49:56,097] [tuya-openapi] Request: method = GET,                 url = https://openapi.tuyaus.com/v1.0/devices/bf0867de0cbdec04744czw/sub-devices,                params = None,                body = None,                t = 1699019396097\n",
            "DEBUG:tuya iot:Request: method = GET,                 url = https://openapi.tuyaus.com/v1.0/devices/bf0867de0cbdec04744czw/sub-devices,                params = None,                body = None,                t = 1699019396097\n",
            "DEBUG:urllib3.connectionpool:https://openapi.tuyaus.com:443 \"GET /v1.0/devices/bf0867de0cbdec04744czw/sub-devices HTTP/1.1\" 200 112\n",
            "[2023-11-03 13:49:56,403] [tuya-openapi] Response: {\n",
            "  \"code\": 1106,\n",
            "  \"msg\": \"permission deny\",\n",
            "  \"success\": false,\n",
            "  \"t\": 1699019396232,\n",
            "  \"tid\": \"df47bcd37a4f11ee9ec64614895ffb03\"\n",
            "}\n",
            "DEBUG:tuya iot:Response: {\n",
            "  \"code\": 1106,\n",
            "  \"msg\": \"permission deny\",\n",
            "  \"success\": false,\n",
            "  \"t\": 1699019396232,\n",
            "  \"tid\": \"df47bcd37a4f11ee9ec64614895ffb03\"\n",
            "}\n"
          ]
        },
        {
          "data": {
            "text/plain": [
              "[]"
            ]
          },
          "execution_count": 5,
          "metadata": {},
          "output_type": "execute_result"
        }
      ],
      "source": [
        "from tuya_connector import TuyaOpenAPI, TUYA_LOGGER\n",
        "import logging\n",
        "\n",
        "# Enable DEBUG log\n",
        "logging.basicConfig(level=logging.DEBUG)\n",
        "TUYA_LOGGER.setLevel(logging.DEBUG)\n",
        "\n",
        "# Tuya Developer portal Access ID, Access Secret, and API endpoint\n",
        "ACCESS_ID = \"4gt99hcmc5te7wp5u5pk\"\n",
        "ACCESS_SECRET = \"790fd5ab99ec441daf36846e694bc691\"\n",
        "API_ENDPOINT = \"https://openapi.tuyaus.com\"  # Change this according to your region\n",
        "\n",
        "# Device ID of the Smart Gateway Hub\n",
        "GATEWAY_HUB_ID = \"bf0867de0cbdec04744czw\"\n",
        "\n",
        "# Initialize Tuya Open API and connect\n",
        "openapi = TuyaOpenAPI(API_ENDPOINT, ACCESS_ID, ACCESS_SECRET)\n",
        "openapi.connect()\n",
        "\n",
        "# Function to get the list of connected devices to the Smart Gateway Hub\n",
        "def get_connected_devices(gateway_id):\n",
        "    result = openapi.get(f\"/v1.0/devices/{gateway_id}/sub-devices\")\n",
        "    return result.get('result', [])\n",
        "\n",
        "# Function to get the current temperature from a TRV\n",
        "def get_temperature(trv_id):\n",
        "    result = openapi.get(f\"/v1.0/devices/{trv_id}/status\")\n",
        "    # Assuming 'temperature' is the correct status code. This might be different for your device.\n",
        "    temperature = next((d['value'] for d in result.get('result', []) if d['code'] == 'temperature'), None)\n",
        "    return temperature\n",
        "\n",
        "# Function to set the temperature of a TRV\n",
        "def set_temperature(trv_id, temperature):\n",
        "    commands = [{\"code\": \"temperature_set\", \"value\": temperature}]\n",
        "    result = openapi.post(f\"/v1.0/devices/{trv_id}/commands\", {\"commands\": commands})\n",
        "    return result\n",
        "\n",
        "# Get connected TRVs\n",
        "connected_devices = get_connected_devices(GATEWAY_HUB_ID)\n",
        "connected_devices\n",
        "# trvs = [device for device in connected_devices if device['category'] == 'thermostat']  # Assuming 'thermostat' is the category for TRVs. This might be different for your devices.\n",
        "\n",
        "# # Print connected TRVs\n",
        "# print(\"Connected TRVs:\")\n",
        "# for trv in trvs:\n",
        "#     print(f\"ID: {trv['id']}, Name: {trv['name']}\")\n",
        "\n",
        "# # Get and set temperature for each connected TRV\n",
        "# for trv in trvs:\n",
        "#     temperature = get_temperature(trv['id'])\n",
        "#     print(f\"Current temperature of {trv['name']}: {temperature}°C\")\n",
        "\n",
        "#     new_temperature = temperature + 1  # Increase temperature by 1°C as an example\n",
        "#     set_result = set_temperature(trv['id'], new_temperature)\n",
        "#     print(f\"Setting new temperature of {trv['name']} to: {new_temperature}°C, Result: {set_result}\")\n",
        "\n",
        "# Disconnect\n",
        "# openapi.disconnect()\n"
      ]
    },
    {
      "cell_type": "code",
      "execution_count": 1,
      "metadata": {},
      "outputs": [
        {
          "name": "stderr",
          "output_type": "stream",
          "text": [
            "[2023-11-03 14:02:39,913] [tuya-openapi] Request: method = GET,                 url = https://openapi.tuyaus.com/v1.0/token,                params = {'grant_type': 1},                body = None,                t = 1699020159913\n",
            "DEBUG:tuya iot:Request: method = GET,                 url = https://openapi.tuyaus.com/v1.0/token,                params = {'grant_type': 1},                body = None,                t = 1699020159913\n",
            "DEBUG:urllib3.connectionpool:Starting new HTTPS connection (1): openapi.tuyaus.com:443\n",
            "DEBUG:urllib3.connectionpool:https://openapi.tuyaus.com:443 \"GET /v1.0/token?grant_type=1 HTTP/1.1\" 200 235\n",
            "[2023-11-03 14:02:40,849] [tuya-openapi] Response: {\n",
            "  \"result\": {\n",
            "    \"access_token\": \"***\",\n",
            "    \"expire_time\": 2609,\n",
            "    \"refresh_token\": \"***\",\n",
            "    \"uid\": \"***\"\n",
            "  },\n",
            "  \"success\": true,\n",
            "  \"t\": 1699020160763,\n",
            "  \"tid\": \"a6fca9f97a5111ee946f2e28f447d5d3\"\n",
            "}\n",
            "DEBUG:tuya iot:Response: {\n",
            "  \"result\": {\n",
            "    \"access_token\": \"***\",\n",
            "    \"expire_time\": 2609,\n",
            "    \"refresh_token\": \"***\",\n",
            "    \"uid\": \"***\"\n",
            "  },\n",
            "  \"success\": true,\n",
            "  \"t\": 1699020160763,\n",
            "  \"tid\": \"a6fca9f97a5111ee946f2e28f447d5d3\"\n",
            "}\n"
          ]
        }
      ],
      "source": [
        "from tuya_connector import TuyaOpenAPI, TUYA_LOGGER\n",
        "import logging\n",
        "\n",
        "logging.basicConfig(level=logging.DEBUG)\n",
        "TUYA_LOGGER.setLevel(logging.DEBUG)\n",
        "\n",
        "# Constants for Tuya API\n",
        "ACCESS_ID = 'vtj3ft7hadfea5y3yvs7'\n",
        "ACCESS_KEY = '16347a3b50984ae696e6887e4d503fa2'\n",
        "\n",
        "# Endpoint depending on your account region\n",
        "ENDPOINT = f\"https://openapi.tuyaus.com\"\n",
        "\n",
        "# Initialize the Tuya Open API\n",
        "openapi = TuyaOpenAPI(ENDPOINT, ACCESS_ID, ACCESS_KEY)\n",
        "\n",
        "\n",
        "# Login with your Tuya account credentials\n",
        "response = openapi.connect()\n",
        "if not response.get('success', False):\n",
        "    print(\"Failed to connect to Tuya API\")\n",
        "    exit()"
      ]
    },
    {
      "cell_type": "code",
      "execution_count": 2,
      "metadata": {},
      "outputs": [
        {
          "name": "stderr",
          "output_type": "stream",
          "text": [
            "[2023-11-03 14:02:47,478] [tuya-openapi] Request: method = GET,                 url = https://openapi.tuyaus.com/v1.0/iot-03/devices/status?device_ids=bfe22383bb69caf809simm,bf247826822493b7052aya,                params = None,                body = None,                t = 1699020167478\n",
            "DEBUG:tuya iot:Request: method = GET,                 url = https://openapi.tuyaus.com/v1.0/iot-03/devices/status?device_ids=bfe22383bb69caf809simm,bf247826822493b7052aya,                params = None,                body = None,                t = 1699020167478\n",
            "DEBUG:urllib3.connectionpool:https://openapi.tuyaus.com:443 \"GET /v1.0/iot-03/devices/status?device_ids=bfe22383bb69caf809simm,bf247826822493b7052aya HTTP/1.1\" 200 112\n",
            "[2023-11-03 14:02:47,711] [tuya-openapi] Response: {\n",
            "  \"code\": 1106,\n",
            "  \"msg\": \"permission deny\",\n",
            "  \"success\": false,\n",
            "  \"t\": 1699020167622,\n",
            "  \"tid\": \"ab0fbc537a5111ee9ec64614895ffb03\"\n",
            "}\n",
            "DEBUG:tuya iot:Response: {\n",
            "  \"code\": 1106,\n",
            "  \"msg\": \"permission deny\",\n",
            "  \"success\": false,\n",
            "  \"t\": 1699020167622,\n",
            "  \"tid\": \"ab0fbc537a5111ee9ec64614895ffb03\"\n",
            "}\n"
          ]
        },
        {
          "data": {
            "text/plain": [
              "[]"
            ]
          },
          "execution_count": 2,
          "metadata": {},
          "output_type": "execute_result"
        }
      ],
      "source": [
        "# response = openapi.get('/v1.0/iot-01/associated-users/devices/')\n",
        "# response = openapi.get('/v1.0/iot-03/devices/bf0867de0cbdec04744czw/status')\n",
        "# response = openapi.get('/v2.0/cloud/thing/bf0867de0cbdec04744czw')\n",
        "response = openapi.get('/v1.0/iot-03/devices/status?device_ids=bfe22383bb69caf809simm,bf247826822493b7052aya')\n",
        "devices = response.get('result', [])\n",
        "devices"
      ]
    },
    {
      "cell_type": "markdown",
      "metadata": {},
      "source": [
        "c;]F)QV5P6+s;Op6\n",
        "bf0867de0cbdec04744czw\n",
        "37.228.227.141"
      ]
    },
    {
      "cell_type": "code",
      "execution_count": 2,
      "metadata": {},
      "outputs": [
        {
          "name": "stdout",
          "output_type": "stream",
          "text": [
            "set_status() result {'Error': 'Network Error: Device Unreachable', 'Err': '905', 'Payload': None}\n"
          ]
        }
      ],
      "source": [
        "import tinytuya\n",
        "\n",
        "# Connect to Device\n",
        "d = tinytuya.OutletDevice(\n",
        "    dev_id='bf0867de0cbdec04744czw',\n",
        "    address='37.228.227.141',      # Or set to 'Auto' to auto-discover IP address\n",
        "    local_key='c;]F)QV5P6+s;Op6', \n",
        "    version=3.3)\n",
        "\n",
        "# Get Status\n",
        "data = d.status() \n",
        "print('set_status() result %r' % data)"
      ]
    },
    {
      "cell_type": "code",
      "execution_count": 4,
      "metadata": {},
      "outputs": [],
      "source": [
        "import tinytuya\n",
        "\n",
        "# Set up the device - you need the Device ID, IP Address, and Local KEY.\n",
        "device_id = \"bf0867de0cbdec04744czw\"\n",
        "ip_address = \"37.228.227.141\"\n",
        "local_key = \"c;]F)QV5P6+s;Op6\"\n",
        "\n",
        "# Create a device dictionary - replace with your device details.\n",
        "device = {\n",
        "    'device_id': device_id,\n",
        "    'ip': ip_address,\n",
        "    'local_key': local_key,\n",
        "    'protocol_version': '3.3'  # or '3.1' based on your device spec\n",
        "}\n",
        "\n",
        "# Initialize the device\n",
        "d = tinytuya.OutletDevice(device['device_id'], device['ip'], device['local_key'])\n",
        "d.set_version(device['protocol_version'])\n"
      ]
    },
    {
      "cell_type": "code",
      "execution_count": 5,
      "metadata": {},
      "outputs": [
        {
          "name": "stdout",
          "output_type": "stream",
          "text": [
            "Device status: {'Error': 'Network Error: Device Unreachable', 'Err': '905', 'Payload': None}\n"
          ]
        }
      ],
      "source": [
        "def get_device_status(d):\n",
        "    # Get status of Tuya device\n",
        "    data = d.status()  # NOTE this does NOT require an internet connection\n",
        "    print('Device status:', data)\n",
        "    \n",
        "    return data\n",
        "\n",
        "# Fetch the device status\n",
        "status = get_device_status(d)\n"
      ]
    }
  ],
  "metadata": {
    "colab": {
      "provenance": []
    },
    "kernelspec": {
      "display_name": "Python 3",
      "name": "python3"
    },
    "language_info": {
      "codemirror_mode": {
        "name": "ipython",
        "version": 3
      },
      "file_extension": ".py",
      "mimetype": "text/x-python",
      "name": "python",
      "nbconvert_exporter": "python",
      "pygments_lexer": "ipython3",
      "version": "3.10.8"
    }
  },
  "nbformat": 4,
  "nbformat_minor": 0
}
