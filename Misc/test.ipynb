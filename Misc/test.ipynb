{
 "cells": [
  {
   "cell_type": "code",
   "execution_count": 1,
   "metadata": {},
   "outputs": [
    {
     "name": "stdout",
     "output_type": "stream",
     "text": [
      "Function triggered!\n",
      "Function triggered!\n",
      "Function triggered!\n",
      "Function triggered!\n",
      "Function triggered!\n",
      "Function triggered!\n",
      "Function triggered!\n",
      "Function triggered!\n",
      "Function triggered!\n",
      "Function triggered!\n",
      "Function triggered!\n",
      "Function triggered!\n",
      "Function triggered!\n",
      "Function triggered!\n",
      "Function triggered!\n",
      "Function triggered!\n",
      "Function triggered!\n",
      "Function triggered!\n",
      "Function triggered!\n",
      "Function triggered!\n",
      "Function triggered!\n",
      "Function triggered!\n",
      "Function triggered!\n",
      "Function triggered!\n",
      "Function triggered!\n",
      "Function triggered!\n",
      "Function triggered!\n",
      "Function triggered!\n"
     ]
    },
    {
     "ename": "KeyboardInterrupt",
     "evalue": "",
     "output_type": "error",
     "traceback": [
      "\u001b[1;31m---------------------------------------------------------------------------\u001b[0m",
      "\u001b[1;31mKeyboardInterrupt\u001b[0m                         Traceback (most recent call last)",
      "Cell \u001b[1;32mIn[1], line 12\u001b[0m\n\u001b[0;32m      9\u001b[0m         my_function()\n\u001b[0;32m     10\u001b[0m         time\u001b[39m.\u001b[39msleep(\u001b[39m4\u001b[39m)  \u001b[39m# Sleep for one hour (3600 seconds)\u001b[39;00m\n\u001b[1;32m---> 12\u001b[0m trigger_function()\n",
      "Cell \u001b[1;32mIn[1], line 10\u001b[0m, in \u001b[0;36mtrigger_function\u001b[1;34m()\u001b[0m\n\u001b[0;32m      8\u001b[0m \u001b[39mwhile\u001b[39;00m \u001b[39mTrue\u001b[39;00m:\n\u001b[0;32m      9\u001b[0m     my_function()\n\u001b[1;32m---> 10\u001b[0m     time\u001b[39m.\u001b[39;49msleep(\u001b[39m4\u001b[39;49m)\n",
      "\u001b[1;31mKeyboardInterrupt\u001b[0m: "
     ]
    }
   ],
   "source": [
    "import time\n",
    "\n",
    "def my_function():\n",
    "    # Replace this with the code for your function\n",
    "    print(\"Function triggered!\")\n",
    "\n",
    "def trigger_function():\n",
    "    while True:\n",
    "        my_function()\n",
    "        time.sleep(4)  # Sleep for one hour (3600 seconds)\n",
    "\n",
    "trigger_function()"
   ]
  }
 ],
 "metadata": {
  "kernelspec": {
   "display_name": "Python 3",
   "language": "python",
   "name": "python3"
  },
  "language_info": {
   "codemirror_mode": {
    "name": "ipython",
    "version": 3
   },
   "file_extension": ".py",
   "mimetype": "text/x-python",
   "name": "python",
   "nbconvert_exporter": "python",
   "pygments_lexer": "ipython3",
   "version": "3.10.9"
  },
  "orig_nbformat": 4
 },
 "nbformat": 4,
 "nbformat_minor": 2
}
