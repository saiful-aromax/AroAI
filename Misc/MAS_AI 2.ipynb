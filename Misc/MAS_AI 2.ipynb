{
  "cells": [
    {
      "cell_type": "code",
      "execution_count": null,
      "metadata": {},
      "outputs": [],
      "source": [
        "import sys\n",
        "import hashlib\n",
        "import hmac\n",
        "import json\n",
        "import urllib\n",
        "import urllib.parse\n",
        "import logging\n",
        "from urllib.request import urlopen, Request\n",
        "from datetime import datetime\n",
        "\n",
        "\n",
        "BASE_URL       = \"https://openapi.tuyaus.com\"\n",
        "LOGIN_URL      = \"/v1.0/token?grant_type=1\"\n",
        "ATTRIBUTES_URL = \"/v2.0/cloud/thing/{device_id}/shadow/properties\"\n",
        "\n",
        "\n",
        "def make_request(url, params=None, headers=None):\n",
        "    if params:\n",
        "        url = url + \"?\" + urllib.parse.urlencode(params)\n",
        "    request = Request(url, headers=headers or {})\n",
        "\n",
        "    try:\n",
        "        with urlopen(request, timeout=10) as response:\n",
        "            return response, response.read().decode(\"utf-8\")\n",
        "\n",
        "    except Exception as error:\n",
        "        return error, \"\"\n",
        "\n",
        "def get_timestamp(now = datetime.now()):\n",
        "    return str(int(datetime.timestamp(now)*1000))\n",
        "\n",
        "def get_sign(payload, key):\n",
        "    byte_key = bytes(key, 'UTF-8')\n",
        "    message = payload.encode()\n",
        "    sign = hmac.new(byte_key, message, hashlib.sha256).hexdigest()\n",
        "    return sign.upper()\n",
        "\n",
        "def get_access_token():\n",
        "    now = datetime.now()\n",
        "\n",
        "    timestamp = get_timestamp(now)\n",
        "    string_to_sign = client_id + timestamp + \"GET\\n\" + \\\n",
        "        \"e3b0c44298fc1c149afbf4c8996fb92427ae41e4649b934ca495991b7852b855\\n\" + \\\n",
        "        \"\\n\" + \\\n",
        "        LOGIN_URL\n",
        "    signed_string = get_sign(string_to_sign, client_secret)\n",
        "\n",
        "    headers = {\n",
        "            \"client_id\": client_id,\n",
        "            \"sign\": signed_string,\n",
        "            \"t\": timestamp,\n",
        "            \"mode\": \"cors\",\n",
        "            \"sign_method\": \"HMAC-SHA256\",\n",
        "            \"Content-Type\": \"application/json\"\n",
        "            }\n",
        "\n",
        "    response, body = make_request(BASE_URL + LOGIN_URL, headers = headers)\n",
        "\n",
        "    json_result = json.loads(body)[\"result\"]\n",
        "    access_token = json_result[\"access_token\"]\n",
        "    return access_token\n",
        "\n",
        "\n",
        "\n",
        "\n",
        "client_id     = \"tuya_client_id\"\n",
        "client_secret = \"tuya_client_secret\"\n",
        "access_token  = get_access_token()"
      ]
    },
    {
      "cell_type": "code",
      "execution_count": 5,
      "metadata": {},
      "outputs": [
        {
          "name": "stdout",
          "output_type": "stream",
          "text": [
            "{'result': {'properties': [{'code': 'mode', 'custom_name': '', 'dp_id': 1, 'time': 1699037296012, 'value': 'manual'}, {'code': 'temp_set', 'custom_name': '', 'dp_id': 2, 'time': 1699037295704, 'value': 22}, {'code': 'temp_current', 'custom_name': '', 'dp_id': 3, 'time': 1699224858539, 'value': 180}, {'code': 'switch_rapid', 'custom_name': '', 'dp_id': 4, 'time': 1699201465879, 'value': False}, {'code': 'countdown_rapid', 'custom_name': '', 'dp_id': 5, 'time': 1699037025013, 'value': 0}, {'code': 'work_state', 'custom_name': '', 'dp_id': 7, 'time': 1698890747737, 'value': 'opened'}, {'code': 'window_check', 'custom_name': '', 'dp_id': 8, 'time': 1698883961662, 'value': False}, {'code': 'window_state', 'custom_name': '', 'dp_id': 9, 'time': 1699201465709, 'value': 'closed'}, {'code': 'child_lock', 'custom_name': '', 'dp_id': 13, 'time': 1698883960500, 'value': False}, {'code': 'battery_percentage', 'custom_name': '', 'dp_id': 14, 'time': 1699214838310, 'value': 69}, {'code': 'week_program11', 'custom_name': '', 'dp_id': 101, 'time': 1698883960708, 'value': 'BgAoCx4qDR4sER4uBgAwDAAuDh4sER4qBgAmDB4oDh4qEh4o'}, {'code': 'BoostTime', 'custom_name': '', 'dp_id': 103, 'time': 1698883961318, 'value': 300}, {'code': 'Valve_Ratio', 'custom_name': '', 'dp_id': 104, 'time': 1699224858745, 'value': 100}, {'code': 'FillTemp', 'custom_name': '', 'dp_id': 105, 'time': 1698883960856, 'value': -3}, {'code': 'Eco_Mode', 'custom_name': '', 'dp_id': 106, 'time': 1698883961422, 'value': False}, {'code': 'Eco_Temp', 'custom_name': '', 'dp_id': 107, 'time': 1698883961534, 'value': 20}, {'code': 'MaxSettemp', 'custom_name': '', 'dp_id': 108, 'time': 1698883961013, 'value': 45}, {'code': 'MinSetTEMP', 'custom_name': '', 'dp_id': 109, 'time': 1698883961114, 'value': 5}]}, 'success': True, 't': 1699225710555, 'tid': '3c3184347c3011ee837e2261b7a5ced3'}\n"
          ]
        }
      ],
      "source": [
        "import requests\n",
        "\n",
        "# Set up the endpoint and headers based on the cURL command\n",
        "url = \"https://openapi.tuyaeu.com/v2.0/cloud/thing/bfe22383bb69caf809simm/shadow/properties\"\n",
        "headers = {\n",
        "    \"sign_method\": \"HMAC-SHA256\",\n",
        "    \"client_id\": \"vtj3ft7hadfea5y3yvs7\",\n",
        "    \"t\": \"1699225656039\",\n",
        "    \"mode\": \"cors\",\n",
        "    \"Content-Type\": \"application/json\",\n",
        "    \"sign\": \"66621B9CF6EBB6A6D1A2DCDD63432D951F613E9B8D35AFA90632F3B6FB223A8F\",\n",
        "    \"access_token\": \"6a7f11dab51faecae86abc551626dc31\"\n",
        "}\n",
        "\n",
        "# Make the GET request\n",
        "response = requests.get(url, headers=headers)\n",
        "\n",
        "# Check if the request was successful\n",
        "if response.status_code == 200:\n",
        "    # Parse the response JSON if needed\n",
        "    data = response.json()\n",
        "    print(data)\n",
        "else:\n",
        "    print(\"Error:\", response.status_code, response.text)\n",
        "\n"
      ]
    }
  ],
  "metadata": {
    "colab": {
      "provenance": []
    },
    "kernelspec": {
      "display_name": "Python 3",
      "name": "python3"
    },
    "language_info": {
      "codemirror_mode": {
        "name": "ipython",
        "version": 3
      },
      "file_extension": ".py",
      "mimetype": "text/x-python",
      "name": "python",
      "nbconvert_exporter": "python",
      "pygments_lexer": "ipython3",
      "version": "3.10.8"
    }
  },
  "nbformat": 4,
  "nbformat_minor": 0
}
